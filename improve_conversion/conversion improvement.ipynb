{
 "cells": [
  {
   "cell_type": "markdown",
   "id": "3a03420f-ed06-49be-a403-bd65ec177da6",
   "metadata": {},
   "source": [
    "# Q: recz to improve cvr"
   ]
  },
  {
   "cell_type": "code",
   "execution_count": 4,
   "id": "9366d3bd-bb36-4dc4-a800-2310ec025199",
   "metadata": {},
   "outputs": [],
   "source": [
    "import pandas as pd\n",
    "import numpy as np\n",
    "import seaborn as sns\n",
    "import matplotlib.pyplot as plt"
   ]
  },
  {
   "cell_type": "code",
   "execution_count": 153,
   "id": "f1bc69c7-88bd-438e-96a3-73bcf5a97984",
   "metadata": {},
   "outputs": [],
   "source": [
    "import statsmodels.api as sms\n",
    "from sklearn.metrics import confusion_matrix,classification_report\n",
    "from sklearn.model_selection import train_test_split"
   ]
  },
  {
   "cell_type": "code",
   "execution_count": 6,
   "id": "434a8610-f74f-4cf9-9a34-e5d656cb0d48",
   "metadata": {},
   "outputs": [
    {
     "data": {
      "text/html": [
       "<div>\n",
       "<style scoped>\n",
       "    .dataframe tbody tr th:only-of-type {\n",
       "        vertical-align: middle;\n",
       "    }\n",
       "\n",
       "    .dataframe tbody tr th {\n",
       "        vertical-align: top;\n",
       "    }\n",
       "\n",
       "    .dataframe thead th {\n",
       "        text-align: right;\n",
       "    }\n",
       "</style>\n",
       "<table border=\"1\" class=\"dataframe\">\n",
       "  <thead>\n",
       "    <tr style=\"text-align: right;\">\n",
       "      <th></th>\n",
       "      <th>country</th>\n",
       "      <th>age</th>\n",
       "      <th>new_user</th>\n",
       "      <th>source</th>\n",
       "      <th>total_pages_visited</th>\n",
       "      <th>converted</th>\n",
       "    </tr>\n",
       "  </thead>\n",
       "  <tbody>\n",
       "    <tr>\n",
       "      <th>0</th>\n",
       "      <td>UK</td>\n",
       "      <td>25</td>\n",
       "      <td>1</td>\n",
       "      <td>Ads</td>\n",
       "      <td>1</td>\n",
       "      <td>0</td>\n",
       "    </tr>\n",
       "    <tr>\n",
       "      <th>1</th>\n",
       "      <td>US</td>\n",
       "      <td>23</td>\n",
       "      <td>1</td>\n",
       "      <td>Seo</td>\n",
       "      <td>5</td>\n",
       "      <td>0</td>\n",
       "    </tr>\n",
       "    <tr>\n",
       "      <th>2</th>\n",
       "      <td>US</td>\n",
       "      <td>28</td>\n",
       "      <td>1</td>\n",
       "      <td>Seo</td>\n",
       "      <td>4</td>\n",
       "      <td>0</td>\n",
       "    </tr>\n",
       "    <tr>\n",
       "      <th>3</th>\n",
       "      <td>China</td>\n",
       "      <td>39</td>\n",
       "      <td>1</td>\n",
       "      <td>Seo</td>\n",
       "      <td>5</td>\n",
       "      <td>0</td>\n",
       "    </tr>\n",
       "    <tr>\n",
       "      <th>4</th>\n",
       "      <td>US</td>\n",
       "      <td>30</td>\n",
       "      <td>1</td>\n",
       "      <td>Seo</td>\n",
       "      <td>6</td>\n",
       "      <td>0</td>\n",
       "    </tr>\n",
       "  </tbody>\n",
       "</table>\n",
       "</div>"
      ],
      "text/plain": [
       "  country  age  new_user source  total_pages_visited  converted\n",
       "0      UK   25         1    Ads                    1          0\n",
       "1      US   23         1    Seo                    5          0\n",
       "2      US   28         1    Seo                    4          0\n",
       "3   China   39         1    Seo                    5          0\n",
       "4      US   30         1    Seo                    6          0"
      ]
     },
     "execution_count": 6,
     "metadata": {},
     "output_type": "execute_result"
    }
   ],
   "source": [
    "df = pd.read_csv('conversion_project.csv')\n",
    "df.head()"
   ]
  },
  {
   "cell_type": "code",
   "execution_count": 8,
   "id": "a55100f7-a11e-4799-b256-5dc9c91e7cc4",
   "metadata": {},
   "outputs": [
    {
     "data": {
      "text/plain": [
       "(316200, 6)"
      ]
     },
     "execution_count": 8,
     "metadata": {},
     "output_type": "execute_result"
    }
   ],
   "source": [
    "df.shape"
   ]
  },
  {
   "cell_type": "markdown",
   "id": "af661170-643b-45fd-a969-15d52668152c",
   "metadata": {},
   "source": [
    "## EDA"
   ]
  },
  {
   "cell_type": "code",
   "execution_count": 65,
   "id": "df80ab68-9f8c-4224-b441-9134c5410285",
   "metadata": {},
   "outputs": [
    {
     "data": {
      "text/plain": [
       "country                object\n",
       "age                     int64\n",
       "new_user                int64\n",
       "source                 object\n",
       "total_pages_visited     int64\n",
       "converted               int64\n",
       "dtype: object"
      ]
     },
     "execution_count": 65,
     "metadata": {},
     "output_type": "execute_result"
    }
   ],
   "source": [
    "df.dtypes"
   ]
  },
  {
   "cell_type": "code",
   "execution_count": 7,
   "id": "9eb4ad71-ffa3-448f-8bab-3a4a8f6e41b9",
   "metadata": {},
   "outputs": [
    {
     "data": {
      "text/html": [
       "<div>\n",
       "<style scoped>\n",
       "    .dataframe tbody tr th:only-of-type {\n",
       "        vertical-align: middle;\n",
       "    }\n",
       "\n",
       "    .dataframe tbody tr th {\n",
       "        vertical-align: top;\n",
       "    }\n",
       "\n",
       "    .dataframe thead th {\n",
       "        text-align: right;\n",
       "    }\n",
       "</style>\n",
       "<table border=\"1\" class=\"dataframe\">\n",
       "  <thead>\n",
       "    <tr style=\"text-align: right;\">\n",
       "      <th></th>\n",
       "      <th>country</th>\n",
       "      <th>age</th>\n",
       "      <th>new_user</th>\n",
       "      <th>source</th>\n",
       "      <th>total_pages_visited</th>\n",
       "      <th>converted</th>\n",
       "    </tr>\n",
       "  </thead>\n",
       "  <tbody>\n",
       "    <tr>\n",
       "      <th>count</th>\n",
       "      <td>316200</td>\n",
       "      <td>316200.000000</td>\n",
       "      <td>316200.000000</td>\n",
       "      <td>316200</td>\n",
       "      <td>316200.000000</td>\n",
       "      <td>316200.000000</td>\n",
       "    </tr>\n",
       "    <tr>\n",
       "      <th>unique</th>\n",
       "      <td>4</td>\n",
       "      <td>NaN</td>\n",
       "      <td>NaN</td>\n",
       "      <td>3</td>\n",
       "      <td>NaN</td>\n",
       "      <td>NaN</td>\n",
       "    </tr>\n",
       "    <tr>\n",
       "      <th>top</th>\n",
       "      <td>US</td>\n",
       "      <td>NaN</td>\n",
       "      <td>NaN</td>\n",
       "      <td>Seo</td>\n",
       "      <td>NaN</td>\n",
       "      <td>NaN</td>\n",
       "    </tr>\n",
       "    <tr>\n",
       "      <th>freq</th>\n",
       "      <td>178092</td>\n",
       "      <td>NaN</td>\n",
       "      <td>NaN</td>\n",
       "      <td>155040</td>\n",
       "      <td>NaN</td>\n",
       "      <td>NaN</td>\n",
       "    </tr>\n",
       "    <tr>\n",
       "      <th>mean</th>\n",
       "      <td>NaN</td>\n",
       "      <td>30.569858</td>\n",
       "      <td>0.685465</td>\n",
       "      <td>NaN</td>\n",
       "      <td>4.872966</td>\n",
       "      <td>0.032258</td>\n",
       "    </tr>\n",
       "    <tr>\n",
       "      <th>std</th>\n",
       "      <td>NaN</td>\n",
       "      <td>8.271802</td>\n",
       "      <td>0.464331</td>\n",
       "      <td>NaN</td>\n",
       "      <td>3.341104</td>\n",
       "      <td>0.176685</td>\n",
       "    </tr>\n",
       "    <tr>\n",
       "      <th>min</th>\n",
       "      <td>NaN</td>\n",
       "      <td>17.000000</td>\n",
       "      <td>0.000000</td>\n",
       "      <td>NaN</td>\n",
       "      <td>1.000000</td>\n",
       "      <td>0.000000</td>\n",
       "    </tr>\n",
       "    <tr>\n",
       "      <th>25%</th>\n",
       "      <td>NaN</td>\n",
       "      <td>24.000000</td>\n",
       "      <td>0.000000</td>\n",
       "      <td>NaN</td>\n",
       "      <td>2.000000</td>\n",
       "      <td>0.000000</td>\n",
       "    </tr>\n",
       "    <tr>\n",
       "      <th>50%</th>\n",
       "      <td>NaN</td>\n",
       "      <td>30.000000</td>\n",
       "      <td>1.000000</td>\n",
       "      <td>NaN</td>\n",
       "      <td>4.000000</td>\n",
       "      <td>0.000000</td>\n",
       "    </tr>\n",
       "    <tr>\n",
       "      <th>75%</th>\n",
       "      <td>NaN</td>\n",
       "      <td>36.000000</td>\n",
       "      <td>1.000000</td>\n",
       "      <td>NaN</td>\n",
       "      <td>7.000000</td>\n",
       "      <td>0.000000</td>\n",
       "    </tr>\n",
       "    <tr>\n",
       "      <th>max</th>\n",
       "      <td>NaN</td>\n",
       "      <td>123.000000</td>\n",
       "      <td>1.000000</td>\n",
       "      <td>NaN</td>\n",
       "      <td>29.000000</td>\n",
       "      <td>1.000000</td>\n",
       "    </tr>\n",
       "  </tbody>\n",
       "</table>\n",
       "</div>"
      ],
      "text/plain": [
       "       country            age       new_user  source  total_pages_visited  \\\n",
       "count   316200  316200.000000  316200.000000  316200        316200.000000   \n",
       "unique       4            NaN            NaN       3                  NaN   \n",
       "top         US            NaN            NaN     Seo                  NaN   \n",
       "freq    178092            NaN            NaN  155040                  NaN   \n",
       "mean       NaN      30.569858       0.685465     NaN             4.872966   \n",
       "std        NaN       8.271802       0.464331     NaN             3.341104   \n",
       "min        NaN      17.000000       0.000000     NaN             1.000000   \n",
       "25%        NaN      24.000000       0.000000     NaN             2.000000   \n",
       "50%        NaN      30.000000       1.000000     NaN             4.000000   \n",
       "75%        NaN      36.000000       1.000000     NaN             7.000000   \n",
       "max        NaN     123.000000       1.000000     NaN            29.000000   \n",
       "\n",
       "            converted  \n",
       "count   316200.000000  \n",
       "unique            NaN  \n",
       "top               NaN  \n",
       "freq              NaN  \n",
       "mean         0.032258  \n",
       "std          0.176685  \n",
       "min          0.000000  \n",
       "25%          0.000000  \n",
       "50%          0.000000  \n",
       "75%          0.000000  \n",
       "max          1.000000  "
      ]
     },
     "execution_count": 7,
     "metadata": {},
     "output_type": "execute_result"
    }
   ],
   "source": [
    "df.describe(include='all')\n",
    "# Missing valuesare automatically excluded from count, mean, std, min, etc.\n",
    "# count shows the number of non-missing values.\n",
    "# findings:\n",
    "# no missing values \n",
    "# age has erros as max age is 123"
   ]
  },
  {
   "cell_type": "code",
   "execution_count": 10,
   "id": "c0184c47-7936-4643-aa59-1ec54dd4570f",
   "metadata": {},
   "outputs": [
    {
     "data": {
      "text/plain": [
       "<Axes: xlabel='age'>"
      ]
     },
     "execution_count": 10,
     "metadata": {},
     "output_type": "execute_result"
    },
    {
     "data": {
      "image/png": "[encoded data removed]",
      "text/plain": [
       "<Figure size 640x480 with 1 Axes>"
      ]
     },
     "metadata": {},
     "output_type": "display_data"
    }
   ],
   "source": [
    "# look at age col\n",
    "sns.boxplot(df, x='age')"
   ]
  },
  {
   "cell_type": "code",
   "execution_count": 13,
   "id": "4a7db898-6f52-46a6-8452-e65b0ca18222",
   "metadata": {},
   "outputs": [],
   "source": [
    "# A boxplot applies the IQR rule to flag and visualize outliers.\n",
    "# write a function to identify outliers:\n",
    "def get_outliers(df,col):\n",
    "    q1=df[col].quantile(0.25)\n",
    "    q3=df[col].quantile(0.75)\n",
    "    iqr = q3-q1\n",
    "    lower_bound = q1-1.5*iqr\n",
    "    upper_bound = q3+1.5*iqr\n",
    "    outliers = df[(df[col]<lower_bound)|(df[col]>upper_bound)]\n",
    "    return outliers"
   ]
  },
  {
   "cell_type": "code",
   "execution_count": 20,
   "id": "f2c33011-d873-4f1d-a707-15e215c2291f",
   "metadata": {},
   "outputs": [],
   "source": [
    "outlier_age = get_outliers(df,'age').sort_values(by='age',ascending=False)"
   ]
  },
  {
   "cell_type": "code",
   "execution_count": 22,
   "id": "ce109dd9-7e3f-437e-9fe5-2e86385ea766",
   "metadata": {},
   "outputs": [
    {
     "data": {
      "text/html": [
       "<div>\n",
       "<style scoped>\n",
       "    .dataframe tbody tr th:only-of-type {\n",
       "        vertical-align: middle;\n",
       "    }\n",
       "\n",
       "    .dataframe tbody tr th {\n",
       "        vertical-align: top;\n",
       "    }\n",
       "\n",
       "    .dataframe thead th {\n",
       "        text-align: right;\n",
       "    }\n",
       "</style>\n",
       "<table border=\"1\" class=\"dataframe\">\n",
       "  <thead>\n",
       "    <tr style=\"text-align: right;\">\n",
       "      <th></th>\n",
       "      <th>country</th>\n",
       "      <th>age</th>\n",
       "      <th>new_user</th>\n",
       "      <th>source</th>\n",
       "      <th>total_pages_visited</th>\n",
       "      <th>converted</th>\n",
       "    </tr>\n",
       "  </thead>\n",
       "  <tbody>\n",
       "    <tr>\n",
       "      <th>90928</th>\n",
       "      <td>Germany</td>\n",
       "      <td>123</td>\n",
       "      <td>0</td>\n",
       "      <td>Seo</td>\n",
       "      <td>15</td>\n",
       "      <td>1</td>\n",
       "    </tr>\n",
       "    <tr>\n",
       "      <th>295581</th>\n",
       "      <td>UK</td>\n",
       "      <td>111</td>\n",
       "      <td>0</td>\n",
       "      <td>Ads</td>\n",
       "      <td>10</td>\n",
       "      <td>1</td>\n",
       "    </tr>\n",
       "    <tr>\n",
       "      <th>265167</th>\n",
       "      <td>US</td>\n",
       "      <td>79</td>\n",
       "      <td>1</td>\n",
       "      <td>Direct</td>\n",
       "      <td>1</td>\n",
       "      <td>0</td>\n",
       "    </tr>\n",
       "    <tr>\n",
       "      <th>192644</th>\n",
       "      <td>US</td>\n",
       "      <td>77</td>\n",
       "      <td>0</td>\n",
       "      <td>Direct</td>\n",
       "      <td>4</td>\n",
       "      <td>0</td>\n",
       "    </tr>\n",
       "    <tr>\n",
       "      <th>154217</th>\n",
       "      <td>US</td>\n",
       "      <td>73</td>\n",
       "      <td>1</td>\n",
       "      <td>Seo</td>\n",
       "      <td>5</td>\n",
       "      <td>0</td>\n",
       "    </tr>\n",
       "    <tr>\n",
       "      <th>208969</th>\n",
       "      <td>US</td>\n",
       "      <td>72</td>\n",
       "      <td>1</td>\n",
       "      <td>Direct</td>\n",
       "      <td>4</td>\n",
       "      <td>0</td>\n",
       "    </tr>\n",
       "    <tr>\n",
       "      <th>114485</th>\n",
       "      <td>US</td>\n",
       "      <td>70</td>\n",
       "      <td>1</td>\n",
       "      <td>Ads</td>\n",
       "      <td>9</td>\n",
       "      <td>0</td>\n",
       "    </tr>\n",
       "    <tr>\n",
       "      <th>301366</th>\n",
       "      <td>UK</td>\n",
       "      <td>70</td>\n",
       "      <td>0</td>\n",
       "      <td>Ads</td>\n",
       "      <td>5</td>\n",
       "      <td>0</td>\n",
       "    </tr>\n",
       "    <tr>\n",
       "      <th>57122</th>\n",
       "      <td>UK</td>\n",
       "      <td>69</td>\n",
       "      <td>1</td>\n",
       "      <td>Direct</td>\n",
       "      <td>4</td>\n",
       "      <td>0</td>\n",
       "    </tr>\n",
       "    <tr>\n",
       "      <th>290142</th>\n",
       "      <td>US</td>\n",
       "      <td>69</td>\n",
       "      <td>1</td>\n",
       "      <td>Seo</td>\n",
       "      <td>6</td>\n",
       "      <td>0</td>\n",
       "    </tr>\n",
       "    <tr>\n",
       "      <th>168374</th>\n",
       "      <td>China</td>\n",
       "      <td>69</td>\n",
       "      <td>1</td>\n",
       "      <td>Ads</td>\n",
       "      <td>4</td>\n",
       "      <td>0</td>\n",
       "    </tr>\n",
       "    <tr>\n",
       "      <th>209080</th>\n",
       "      <td>China</td>\n",
       "      <td>68</td>\n",
       "      <td>0</td>\n",
       "      <td>Seo</td>\n",
       "      <td>5</td>\n",
       "      <td>0</td>\n",
       "    </tr>\n",
       "    <tr>\n",
       "      <th>255159</th>\n",
       "      <td>US</td>\n",
       "      <td>68</td>\n",
       "      <td>1</td>\n",
       "      <td>Ads</td>\n",
       "      <td>4</td>\n",
       "      <td>0</td>\n",
       "    </tr>\n",
       "    <tr>\n",
       "      <th>139000</th>\n",
       "      <td>US</td>\n",
       "      <td>68</td>\n",
       "      <td>0</td>\n",
       "      <td>Seo</td>\n",
       "      <td>2</td>\n",
       "      <td>0</td>\n",
       "    </tr>\n",
       "    <tr>\n",
       "      <th>17718</th>\n",
       "      <td>US</td>\n",
       "      <td>68</td>\n",
       "      <td>1</td>\n",
       "      <td>Seo</td>\n",
       "      <td>7</td>\n",
       "      <td>0</td>\n",
       "    </tr>\n",
       "    <tr>\n",
       "      <th>262344</th>\n",
       "      <td>US</td>\n",
       "      <td>68</td>\n",
       "      <td>1</td>\n",
       "      <td>Direct</td>\n",
       "      <td>5</td>\n",
       "      <td>0</td>\n",
       "    </tr>\n",
       "    <tr>\n",
       "      <th>216102</th>\n",
       "      <td>US</td>\n",
       "      <td>67</td>\n",
       "      <td>1</td>\n",
       "      <td>Seo</td>\n",
       "      <td>2</td>\n",
       "      <td>0</td>\n",
       "    </tr>\n",
       "    <tr>\n",
       "      <th>253056</th>\n",
       "      <td>US</td>\n",
       "      <td>67</td>\n",
       "      <td>1</td>\n",
       "      <td>Ads</td>\n",
       "      <td>8</td>\n",
       "      <td>0</td>\n",
       "    </tr>\n",
       "    <tr>\n",
       "      <th>10620</th>\n",
       "      <td>US</td>\n",
       "      <td>67</td>\n",
       "      <td>1</td>\n",
       "      <td>Seo</td>\n",
       "      <td>3</td>\n",
       "      <td>0</td>\n",
       "    </tr>\n",
       "    <tr>\n",
       "      <th>31654</th>\n",
       "      <td>China</td>\n",
       "      <td>67</td>\n",
       "      <td>0</td>\n",
       "      <td>Seo</td>\n",
       "      <td>3</td>\n",
       "      <td>0</td>\n",
       "    </tr>\n",
       "  </tbody>\n",
       "</table>\n",
       "</div>"
      ],
      "text/plain": [
       "        country  age  new_user  source  total_pages_visited  converted\n",
       "90928   Germany  123         0     Seo                   15          1\n",
       "295581       UK  111         0     Ads                   10          1\n",
       "265167       US   79         1  Direct                    1          0\n",
       "192644       US   77         0  Direct                    4          0\n",
       "154217       US   73         1     Seo                    5          0\n",
       "208969       US   72         1  Direct                    4          0\n",
       "114485       US   70         1     Ads                    9          0\n",
       "301366       UK   70         0     Ads                    5          0\n",
       "57122        UK   69         1  Direct                    4          0\n",
       "290142       US   69         1     Seo                    6          0\n",
       "168374    China   69         1     Ads                    4          0\n",
       "209080    China   68         0     Seo                    5          0\n",
       "255159       US   68         1     Ads                    4          0\n",
       "139000       US   68         0     Seo                    2          0\n",
       "17718        US   68         1     Seo                    7          0\n",
       "262344       US   68         1  Direct                    5          0\n",
       "216102       US   67         1     Seo                    2          0\n",
       "253056       US   67         1     Ads                    8          0\n",
       "10620        US   67         1     Seo                    3          0\n",
       "31654     China   67         0     Seo                    3          0"
      ]
     },
     "execution_count": 22,
     "metadata": {},
     "output_type": "execute_result"
    }
   ],
   "source": [
    "outlier_age.head(20)"
   ]
  },
  {
   "cell_type": "code",
   "execution_count": 18,
   "id": "9f2b8ce0-3177-43b9-a633-40a44c9d0a18",
   "metadata": {},
   "outputs": [
    {
     "data": {
      "text/plain": [
       "converted\n",
       "0    1540\n",
       "1      10\n",
       "Name: count, dtype: int64"
      ]
     },
     "execution_count": 18,
     "metadata": {},
     "output_type": "execute_result"
    }
   ],
   "source": [
    "outlier_age['converted'].value_counts()"
   ]
  },
  {
   "cell_type": "code",
   "execution_count": 23,
   "id": "23f3ee1b-fbca-405f-bcac-a06ec02fa516",
   "metadata": {},
   "outputs": [
    {
     "data": {
      "text/html": [
       "<div>\n",
       "<style scoped>\n",
       "    .dataframe tbody tr th:only-of-type {\n",
       "        vertical-align: middle;\n",
       "    }\n",
       "\n",
       "    .dataframe tbody tr th {\n",
       "        vertical-align: top;\n",
       "    }\n",
       "\n",
       "    .dataframe thead th {\n",
       "        text-align: right;\n",
       "    }\n",
       "</style>\n",
       "<table border=\"1\" class=\"dataframe\">\n",
       "  <thead>\n",
       "    <tr style=\"text-align: right;\">\n",
       "      <th></th>\n",
       "      <th>country</th>\n",
       "      <th>age</th>\n",
       "      <th>new_user</th>\n",
       "      <th>source</th>\n",
       "      <th>total_pages_visited</th>\n",
       "      <th>converted</th>\n",
       "    </tr>\n",
       "  </thead>\n",
       "  <tbody>\n",
       "    <tr>\n",
       "      <th>90928</th>\n",
       "      <td>Germany</td>\n",
       "      <td>123</td>\n",
       "      <td>0</td>\n",
       "      <td>Seo</td>\n",
       "      <td>15</td>\n",
       "      <td>1</td>\n",
       "    </tr>\n",
       "    <tr>\n",
       "      <th>295581</th>\n",
       "      <td>UK</td>\n",
       "      <td>111</td>\n",
       "      <td>0</td>\n",
       "      <td>Ads</td>\n",
       "      <td>10</td>\n",
       "      <td>1</td>\n",
       "    </tr>\n",
       "    <tr>\n",
       "      <th>242085</th>\n",
       "      <td>US</td>\n",
       "      <td>61</td>\n",
       "      <td>0</td>\n",
       "      <td>Seo</td>\n",
       "      <td>9</td>\n",
       "      <td>1</td>\n",
       "    </tr>\n",
       "    <tr>\n",
       "      <th>165865</th>\n",
       "      <td>US</td>\n",
       "      <td>60</td>\n",
       "      <td>0</td>\n",
       "      <td>Ads</td>\n",
       "      <td>21</td>\n",
       "      <td>1</td>\n",
       "    </tr>\n",
       "    <tr>\n",
       "      <th>45718</th>\n",
       "      <td>US</td>\n",
       "      <td>60</td>\n",
       "      <td>1</td>\n",
       "      <td>Seo</td>\n",
       "      <td>9</td>\n",
       "      <td>1</td>\n",
       "    </tr>\n",
       "    <tr>\n",
       "      <th>240940</th>\n",
       "      <td>US</td>\n",
       "      <td>58</td>\n",
       "      <td>1</td>\n",
       "      <td>Seo</td>\n",
       "      <td>13</td>\n",
       "      <td>1</td>\n",
       "    </tr>\n",
       "    <tr>\n",
       "      <th>245868</th>\n",
       "      <td>UK</td>\n",
       "      <td>58</td>\n",
       "      <td>1</td>\n",
       "      <td>Seo</td>\n",
       "      <td>14</td>\n",
       "      <td>1</td>\n",
       "    </tr>\n",
       "    <tr>\n",
       "      <th>121466</th>\n",
       "      <td>US</td>\n",
       "      <td>55</td>\n",
       "      <td>1</td>\n",
       "      <td>Seo</td>\n",
       "      <td>16</td>\n",
       "      <td>1</td>\n",
       "    </tr>\n",
       "    <tr>\n",
       "      <th>234275</th>\n",
       "      <td>US</td>\n",
       "      <td>55</td>\n",
       "      <td>0</td>\n",
       "      <td>Seo</td>\n",
       "      <td>10</td>\n",
       "      <td>1</td>\n",
       "    </tr>\n",
       "    <tr>\n",
       "      <th>238937</th>\n",
       "      <td>US</td>\n",
       "      <td>55</td>\n",
       "      <td>0</td>\n",
       "      <td>Seo</td>\n",
       "      <td>16</td>\n",
       "      <td>1</td>\n",
       "    </tr>\n",
       "  </tbody>\n",
       "</table>\n",
       "</div>"
      ],
      "text/plain": [
       "        country  age  new_user source  total_pages_visited  converted\n",
       "90928   Germany  123         0    Seo                   15          1\n",
       "295581       UK  111         0    Ads                   10          1\n",
       "242085       US   61         0    Seo                    9          1\n",
       "165865       US   60         0    Ads                   21          1\n",
       "45718        US   60         1    Seo                    9          1\n",
       "240940       US   58         1    Seo                   13          1\n",
       "245868       UK   58         1    Seo                   14          1\n",
       "121466       US   55         1    Seo                   16          1\n",
       "234275       US   55         0    Seo                   10          1\n",
       "238937       US   55         0    Seo                   16          1"
      ]
     },
     "execution_count": 23,
     "metadata": {},
     "output_type": "execute_result"
    }
   ],
   "source": [
    "outlier_age.query('converted==1') #needs to exclude top two rows"
   ]
  },
  {
   "cell_type": "code",
   "execution_count": 26,
   "id": "6424afdc-7081-4d17-a27d-06c92889dd28",
   "metadata": {},
   "outputs": [
    {
     "data": {
      "text/plain": [
       "(5663, 6)"
      ]
     },
     "execution_count": 26,
     "metadata": {},
     "output_type": "execute_result"
    }
   ],
   "source": [
    "outlier_page_visited = get_outliers(df,'total_pages_visited').sort_values(by='total_pages_visited',ascending=False)\n",
    "outlier_page_visited.shape"
   ]
  },
  {
   "cell_type": "code",
   "execution_count": 27,
   "id": "0959788b-1336-48ee-a7a7-406984e18efe",
   "metadata": {},
   "outputs": [
    {
     "data": {
      "text/html": [
       "<div>\n",
       "<style scoped>\n",
       "    .dataframe tbody tr th:only-of-type {\n",
       "        vertical-align: middle;\n",
       "    }\n",
       "\n",
       "    .dataframe tbody tr th {\n",
       "        vertical-align: top;\n",
       "    }\n",
       "\n",
       "    .dataframe thead th {\n",
       "        text-align: right;\n",
       "    }\n",
       "</style>\n",
       "<table border=\"1\" class=\"dataframe\">\n",
       "  <thead>\n",
       "    <tr style=\"text-align: right;\">\n",
       "      <th></th>\n",
       "      <th>country</th>\n",
       "      <th>age</th>\n",
       "      <th>new_user</th>\n",
       "      <th>source</th>\n",
       "      <th>total_pages_visited</th>\n",
       "      <th>converted</th>\n",
       "    </tr>\n",
       "  </thead>\n",
       "  <tbody>\n",
       "    <tr>\n",
       "      <th>302291</th>\n",
       "      <td>US</td>\n",
       "      <td>31</td>\n",
       "      <td>0</td>\n",
       "      <td>Ads</td>\n",
       "      <td>29</td>\n",
       "      <td>1</td>\n",
       "    </tr>\n",
       "    <tr>\n",
       "      <th>258074</th>\n",
       "      <td>US</td>\n",
       "      <td>33</td>\n",
       "      <td>0</td>\n",
       "      <td>Direct</td>\n",
       "      <td>29</td>\n",
       "      <td>1</td>\n",
       "    </tr>\n",
       "    <tr>\n",
       "      <th>90314</th>\n",
       "      <td>US</td>\n",
       "      <td>17</td>\n",
       "      <td>1</td>\n",
       "      <td>Direct</td>\n",
       "      <td>28</td>\n",
       "      <td>1</td>\n",
       "    </tr>\n",
       "    <tr>\n",
       "      <th>11167</th>\n",
       "      <td>US</td>\n",
       "      <td>24</td>\n",
       "      <td>0</td>\n",
       "      <td>Seo</td>\n",
       "      <td>27</td>\n",
       "      <td>1</td>\n",
       "    </tr>\n",
       "    <tr>\n",
       "      <th>105440</th>\n",
       "      <td>US</td>\n",
       "      <td>25</td>\n",
       "      <td>0</td>\n",
       "      <td>Ads</td>\n",
       "      <td>27</td>\n",
       "      <td>1</td>\n",
       "    </tr>\n",
       "    <tr>\n",
       "      <th>21665</th>\n",
       "      <td>UK</td>\n",
       "      <td>21</td>\n",
       "      <td>1</td>\n",
       "      <td>Direct</td>\n",
       "      <td>27</td>\n",
       "      <td>1</td>\n",
       "    </tr>\n",
       "    <tr>\n",
       "      <th>287990</th>\n",
       "      <td>Germany</td>\n",
       "      <td>22</td>\n",
       "      <td>1</td>\n",
       "      <td>Seo</td>\n",
       "      <td>27</td>\n",
       "      <td>1</td>\n",
       "    </tr>\n",
       "    <tr>\n",
       "      <th>67115</th>\n",
       "      <td>UK</td>\n",
       "      <td>17</td>\n",
       "      <td>1</td>\n",
       "      <td>Seo</td>\n",
       "      <td>27</td>\n",
       "      <td>1</td>\n",
       "    </tr>\n",
       "    <tr>\n",
       "      <th>73199</th>\n",
       "      <td>UK</td>\n",
       "      <td>27</td>\n",
       "      <td>0</td>\n",
       "      <td>Seo</td>\n",
       "      <td>27</td>\n",
       "      <td>1</td>\n",
       "    </tr>\n",
       "    <tr>\n",
       "      <th>253351</th>\n",
       "      <td>US</td>\n",
       "      <td>22</td>\n",
       "      <td>0</td>\n",
       "      <td>Ads</td>\n",
       "      <td>27</td>\n",
       "      <td>1</td>\n",
       "    </tr>\n",
       "  </tbody>\n",
       "</table>\n",
       "</div>"
      ],
      "text/plain": [
       "        country  age  new_user  source  total_pages_visited  converted\n",
       "302291       US   31         0     Ads                   29          1\n",
       "258074       US   33         0  Direct                   29          1\n",
       "90314        US   17         1  Direct                   28          1\n",
       "11167        US   24         0     Seo                   27          1\n",
       "105440       US   25         0     Ads                   27          1\n",
       "21665        UK   21         1  Direct                   27          1\n",
       "287990  Germany   22         1     Seo                   27          1\n",
       "67115        UK   17         1     Seo                   27          1\n",
       "73199        UK   27         0     Seo                   27          1\n",
       "253351       US   22         0     Ads                   27          1"
      ]
     },
     "execution_count": 27,
     "metadata": {},
     "output_type": "execute_result"
    }
   ],
   "source": [
    "outlier_page_visited.head(10)"
   ]
  },
  {
   "cell_type": "code",
   "execution_count": 28,
   "id": "66eee205-b1f6-466e-8448-71cce5055a24",
   "metadata": {},
   "outputs": [
    {
     "data": {
      "text/plain": [
       "(316198, 6)"
      ]
     },
     "execution_count": 28,
     "metadata": {},
     "output_type": "execute_result"
    }
   ],
   "source": [
    "clean_df=df.query('age<100')\n",
    "clean_df.shape"
   ]
  },
  {
   "cell_type": "code",
   "execution_count": 30,
   "id": "413b2fd7-9fe6-4a21-b266-850eb3e58e14",
   "metadata": {},
   "outputs": [
    {
     "data": {
      "text/html": [
       "<div>\n",
       "<style scoped>\n",
       "    .dataframe tbody tr th:only-of-type {\n",
       "        vertical-align: middle;\n",
       "    }\n",
       "\n",
       "    .dataframe tbody tr th {\n",
       "        vertical-align: top;\n",
       "    }\n",
       "\n",
       "    .dataframe thead th {\n",
       "        text-align: right;\n",
       "    }\n",
       "</style>\n",
       "<table border=\"1\" class=\"dataframe\">\n",
       "  <thead>\n",
       "    <tr style=\"text-align: right;\">\n",
       "      <th></th>\n",
       "      <th>age</th>\n",
       "      <th>total_pages_visited</th>\n",
       "    </tr>\n",
       "  </thead>\n",
       "  <tbody>\n",
       "    <tr>\n",
       "      <th>age</th>\n",
       "      <td>1.000000</td>\n",
       "      <td>-0.046093</td>\n",
       "    </tr>\n",
       "    <tr>\n",
       "      <th>total_pages_visited</th>\n",
       "      <td>-0.046093</td>\n",
       "      <td>1.000000</td>\n",
       "    </tr>\n",
       "  </tbody>\n",
       "</table>\n",
       "</div>"
      ],
      "text/plain": [
       "                          age  total_pages_visited\n",
       "age                  1.000000            -0.046093\n",
       "total_pages_visited -0.046093             1.000000"
      ]
     },
     "execution_count": 30,
     "metadata": {},
     "output_type": "execute_result"
    }
   ],
   "source": [
    "clean_df[['age','total_pages_visited']].corr() "
   ]
  },
  {
   "cell_type": "code",
   "execution_count": 32,
   "id": "b12909c9-e210-4697-96bf-6f41c5603303",
   "metadata": {},
   "outputs": [
    {
     "data": {
      "text/plain": [
       "country\n",
       "US         178092\n",
       "China       76602\n",
       "UK          48449\n",
       "Germany     13055\n",
       "Name: count, dtype: int64"
      ]
     },
     "execution_count": 32,
     "metadata": {},
     "output_type": "execute_result"
    }
   ],
   "source": [
    "clean_df['country'].value_counts()"
   ]
  },
  {
   "cell_type": "code",
   "execution_count": 33,
   "id": "78e881e6-890e-4b57-ba96-9ccbeb756c31",
   "metadata": {},
   "outputs": [
    {
     "data": {
      "text/plain": [
       "source\n",
       "Seo       155039\n",
       "Ads        88739\n",
       "Direct     72420\n",
       "Name: count, dtype: int64"
      ]
     },
     "execution_count": 33,
     "metadata": {},
     "output_type": "execute_result"
    }
   ],
   "source": [
    "clean_df['source'].value_counts()"
   ]
  },
  {
   "cell_type": "code",
   "execution_count": 34,
   "id": "5e2177d2-4605-455f-a7d6-e73b4fab2b37",
   "metadata": {},
   "outputs": [
    {
     "data": {
      "text/plain": [
       "converted\n",
       "0    306000\n",
       "1     10198\n",
       "Name: count, dtype: int64"
      ]
     },
     "execution_count": 34,
     "metadata": {},
     "output_type": "execute_result"
    }
   ],
   "source": [
    "clean_df['converted'].value_counts() # unbalanced class"
   ]
  },
  {
   "cell_type": "code",
   "execution_count": 39,
   "id": "e54fd985-df7c-4a18-bdd7-e2799501696f",
   "metadata": {},
   "outputs": [
    {
     "data": {
      "text/plain": [
       "Text(0.5, 1.0, 'avg cvr by country & user type')"
      ]
     },
     "execution_count": 39,
     "metadata": {},
     "output_type": "execute_result"
    },
    {
     "data": {
      "image/png": "[encoded data removed]",
      "text/plain": [
       "<Figure size 640x480 with 1 Axes>"
      ]
     },
     "metadata": {},
     "output_type": "display_data"
    }
   ],
   "source": [
    "sns.barplot(clean_df, x='country',y='converted',hue ='new_user')\n",
    "plt.title('avg cvr by country & user type')"
   ]
  },
  {
   "cell_type": "code",
   "execution_count": 93,
   "id": "3539a51b-bc1c-4a51-be8f-fbccd0db854e",
   "metadata": {},
   "outputs": [
    {
     "data": {
      "text/plain": [
       "Text(0.5, 1.0, 'avg cvr by source & user type')"
      ]
     },
     "execution_count": 93,
     "metadata": {},
     "output_type": "execute_result"
    },
    {
     "data": {
      "image/png": "[encoded data removed]",
      "text/plain": [
       "<Figure size 640x480 with 1 Axes>"
      ]
     },
     "metadata": {},
     "output_type": "display_data"
    }
   ],
   "source": [
    "sns.barplot(clean_df, x='source',y='converted',hue ='new_user')\n",
    "plt.title('avg cvr by source & user type')"
   ]
  },
  {
   "cell_type": "code",
   "execution_count": 42,
   "id": "feb46a86-bf0b-4a00-988c-a565ff7964f6",
   "metadata": {
    "scrolled": true
   },
   "outputs": [
    {
     "data": {
      "text/plain": [
       "Text(0.5, 1.0, 'cvr by age')"
      ]
     },
     "execution_count": 42,
     "metadata": {},
     "output_type": "execute_result"
    },
    {
     "data": {
      "image/png": "[encoded data removed]",
      "text/plain": [
       "<Figure size 640x480 with 1 Axes>"
      ]
     },
     "metadata": {},
     "output_type": "display_data"
    }
   ],
   "source": [
    "sns.lineplot(clean_df, x='age',y='converted',hue ='new_user')\n",
    "plt.title('cvr by age & user type')"
   ]
  },
  {
   "cell_type": "code",
   "execution_count": 44,
   "id": "b3dd65c5-120f-4f6a-b4a8-3943bfffb719",
   "metadata": {},
   "outputs": [
    {
     "data": {
      "text/plain": [
       "Text(0.5, 1.0, 'cvr by page visited & user type')"
      ]
     },
     "execution_count": 44,
     "metadata": {},
     "output_type": "execute_result"
    },
    {
     "data": {
      "image/png": "[encoded data removed]",
      "text/plain": [
       "<Figure size 640x480 with 1 Axes>"
      ]
     },
     "metadata": {},
     "output_type": "display_data"
    }
   ],
   "source": [
    "sns.lineplot(clean_df, x='total_pages_visited',y='converted',hue ='new_user')\n",
    "plt.title('cvr by page visited & user type')"
   ]
  },
  {
   "cell_type": "code",
   "execution_count": 45,
   "id": "210772d9-3cf2-4f10-9c0a-7261f28757ce",
   "metadata": {},
   "outputs": [],
   "source": [
    "# EDA summary: old user more willing to purchase compared with old user"
   ]
  },
  {
   "cell_type": "markdown",
   "id": "b1922958-54b9-45c9-aeec-69749b325e04",
   "metadata": {},
   "source": [
    "## build model"
   ]
  },
  {
   "cell_type": "code",
   "execution_count": 66,
   "id": "6457bd32-a6fc-4ea1-add0-cba5bd9ea7be",
   "metadata": {},
   "outputs": [],
   "source": [
    "cat_cols = clean_df.select_dtypes(include='object').columns"
   ]
  },
  {
   "cell_type": "code",
   "execution_count": 67,
   "id": "3e147580-a024-4326-8cb7-738cf07ac892",
   "metadata": {},
   "outputs": [],
   "source": [
    "reference_levels = {}"
   ]
  },
  {
   "cell_type": "code",
   "execution_count": 68,
   "id": "227689c8-8554-43ff-8d99-d8bb9c39848f",
   "metadata": {},
   "outputs": [],
   "source": [
    "for col in cat_cols:\n",
    "    reference_levels[col]=sorted(clean_df[col].unique())[0]"
   ]
  },
  {
   "cell_type": "code",
   "execution_count": 69,
   "id": "7fc13853-3955-465f-b4ca-c20718645ff1",
   "metadata": {},
   "outputs": [
    {
     "data": {
      "text/plain": [
       "{'country': 'China', 'source': 'Ads'}"
      ]
     },
     "execution_count": 69,
     "metadata": {},
     "output_type": "execute_result"
    }
   ],
   "source": [
    "reference_levels"
   ]
  },
  {
   "cell_type": "code",
   "execution_count": 70,
   "id": "d5c61541-89a3-4123-a525-6b9eb3b64817",
   "metadata": {},
   "outputs": [],
   "source": [
    "df_dummy = pd.get_dummies(clean_df, dtype=float, drop_first=True)"
   ]
  },
  {
   "cell_type": "code",
   "execution_count": 71,
   "id": "fc4e0b5f-2fe7-4b2d-8ce3-b017fa5795a9",
   "metadata": {},
   "outputs": [
    {
     "data": {
      "text/html": [
       "<div>\n",
       "<style scoped>\n",
       "    .dataframe tbody tr th:only-of-type {\n",
       "        vertical-align: middle;\n",
       "    }\n",
       "\n",
       "    .dataframe tbody tr th {\n",
       "        vertical-align: top;\n",
       "    }\n",
       "\n",
       "    .dataframe thead th {\n",
       "        text-align: right;\n",
       "    }\n",
       "</style>\n",
       "<table border=\"1\" class=\"dataframe\">\n",
       "  <thead>\n",
       "    <tr style=\"text-align: right;\">\n",
       "      <th></th>\n",
       "      <th>age</th>\n",
       "      <th>new_user</th>\n",
       "      <th>total_pages_visited</th>\n",
       "      <th>converted</th>\n",
       "      <th>country_Germany</th>\n",
       "      <th>country_UK</th>\n",
       "      <th>country_US</th>\n",
       "      <th>source_Direct</th>\n",
       "      <th>source_Seo</th>\n",
       "    </tr>\n",
       "  </thead>\n",
       "  <tbody>\n",
       "    <tr>\n",
       "      <th>0</th>\n",
       "      <td>25</td>\n",
       "      <td>1</td>\n",
       "      <td>1</td>\n",
       "      <td>0</td>\n",
       "      <td>0.0</td>\n",
       "      <td>1.0</td>\n",
       "      <td>0.0</td>\n",
       "      <td>0.0</td>\n",
       "      <td>0.0</td>\n",
       "    </tr>\n",
       "    <tr>\n",
       "      <th>1</th>\n",
       "      <td>23</td>\n",
       "      <td>1</td>\n",
       "      <td>5</td>\n",
       "      <td>0</td>\n",
       "      <td>0.0</td>\n",
       "      <td>0.0</td>\n",
       "      <td>1.0</td>\n",
       "      <td>0.0</td>\n",
       "      <td>1.0</td>\n",
       "    </tr>\n",
       "    <tr>\n",
       "      <th>2</th>\n",
       "      <td>28</td>\n",
       "      <td>1</td>\n",
       "      <td>4</td>\n",
       "      <td>0</td>\n",
       "      <td>0.0</td>\n",
       "      <td>0.0</td>\n",
       "      <td>1.0</td>\n",
       "      <td>0.0</td>\n",
       "      <td>1.0</td>\n",
       "    </tr>\n",
       "    <tr>\n",
       "      <th>3</th>\n",
       "      <td>39</td>\n",
       "      <td>1</td>\n",
       "      <td>5</td>\n",
       "      <td>0</td>\n",
       "      <td>0.0</td>\n",
       "      <td>0.0</td>\n",
       "      <td>0.0</td>\n",
       "      <td>0.0</td>\n",
       "      <td>1.0</td>\n",
       "    </tr>\n",
       "    <tr>\n",
       "      <th>4</th>\n",
       "      <td>30</td>\n",
       "      <td>1</td>\n",
       "      <td>6</td>\n",
       "      <td>0</td>\n",
       "      <td>0.0</td>\n",
       "      <td>0.0</td>\n",
       "      <td>1.0</td>\n",
       "      <td>0.0</td>\n",
       "      <td>1.0</td>\n",
       "    </tr>\n",
       "  </tbody>\n",
       "</table>\n",
       "</div>"
      ],
      "text/plain": [
       "   age  new_user  total_pages_visited  converted  country_Germany  country_UK  \\\n",
       "0   25         1                    1          0              0.0         1.0   \n",
       "1   23         1                    5          0              0.0         0.0   \n",
       "2   28         1                    4          0              0.0         0.0   \n",
       "3   39         1                    5          0              0.0         0.0   \n",
       "4   30         1                    6          0              0.0         0.0   \n",
       "\n",
       "   country_US  source_Direct  source_Seo  \n",
       "0         0.0            0.0         0.0  \n",
       "1         1.0            0.0         1.0  \n",
       "2         1.0            0.0         1.0  \n",
       "3         0.0            0.0         1.0  \n",
       "4         1.0            0.0         1.0  "
      ]
     },
     "execution_count": 71,
     "metadata": {},
     "output_type": "execute_result"
    }
   ],
   "source": [
    "df_dummy.head()"
   ]
  },
  {
   "cell_type": "code",
   "execution_count": 72,
   "id": "010854ff-52d6-424e-ac7d-9dd7771e2fe3",
   "metadata": {},
   "outputs": [],
   "source": [
    "df_dummy=sms.add_constant(df_dummy)"
   ]
  },
  {
   "cell_type": "code",
   "execution_count": 73,
   "id": "f8d21ee2-a195-44c7-974f-eabcd57462db",
   "metadata": {},
   "outputs": [
    {
     "data": {
      "text/html": [
       "<div>\n",
       "<style scoped>\n",
       "    .dataframe tbody tr th:only-of-type {\n",
       "        vertical-align: middle;\n",
       "    }\n",
       "\n",
       "    .dataframe tbody tr th {\n",
       "        vertical-align: top;\n",
       "    }\n",
       "\n",
       "    .dataframe thead th {\n",
       "        text-align: right;\n",
       "    }\n",
       "</style>\n",
       "<table border=\"1\" class=\"dataframe\">\n",
       "  <thead>\n",
       "    <tr style=\"text-align: right;\">\n",
       "      <th></th>\n",
       "      <th>const</th>\n",
       "      <th>age</th>\n",
       "      <th>new_user</th>\n",
       "      <th>total_pages_visited</th>\n",
       "      <th>converted</th>\n",
       "      <th>country_Germany</th>\n",
       "      <th>country_UK</th>\n",
       "      <th>country_US</th>\n",
       "      <th>source_Direct</th>\n",
       "      <th>source_Seo</th>\n",
       "    </tr>\n",
       "  </thead>\n",
       "  <tbody>\n",
       "    <tr>\n",
       "      <th>0</th>\n",
       "      <td>1.0</td>\n",
       "      <td>25</td>\n",
       "      <td>1</td>\n",
       "      <td>1</td>\n",
       "      <td>0</td>\n",
       "      <td>0.0</td>\n",
       "      <td>1.0</td>\n",
       "      <td>0.0</td>\n",
       "      <td>0.0</td>\n",
       "      <td>0.0</td>\n",
       "    </tr>\n",
       "    <tr>\n",
       "      <th>1</th>\n",
       "      <td>1.0</td>\n",
       "      <td>23</td>\n",
       "      <td>1</td>\n",
       "      <td>5</td>\n",
       "      <td>0</td>\n",
       "      <td>0.0</td>\n",
       "      <td>0.0</td>\n",
       "      <td>1.0</td>\n",
       "      <td>0.0</td>\n",
       "      <td>1.0</td>\n",
       "    </tr>\n",
       "    <tr>\n",
       "      <th>2</th>\n",
       "      <td>1.0</td>\n",
       "      <td>28</td>\n",
       "      <td>1</td>\n",
       "      <td>4</td>\n",
       "      <td>0</td>\n",
       "      <td>0.0</td>\n",
       "      <td>0.0</td>\n",
       "      <td>1.0</td>\n",
       "      <td>0.0</td>\n",
       "      <td>1.0</td>\n",
       "    </tr>\n",
       "    <tr>\n",
       "      <th>3</th>\n",
       "      <td>1.0</td>\n",
       "      <td>39</td>\n",
       "      <td>1</td>\n",
       "      <td>5</td>\n",
       "      <td>0</td>\n",
       "      <td>0.0</td>\n",
       "      <td>0.0</td>\n",
       "      <td>0.0</td>\n",
       "      <td>0.0</td>\n",
       "      <td>1.0</td>\n",
       "    </tr>\n",
       "    <tr>\n",
       "      <th>4</th>\n",
       "      <td>1.0</td>\n",
       "      <td>30</td>\n",
       "      <td>1</td>\n",
       "      <td>6</td>\n",
       "      <td>0</td>\n",
       "      <td>0.0</td>\n",
       "      <td>0.0</td>\n",
       "      <td>1.0</td>\n",
       "      <td>0.0</td>\n",
       "      <td>1.0</td>\n",
       "    </tr>\n",
       "  </tbody>\n",
       "</table>\n",
       "</div>"
      ],
      "text/plain": [
       "   const  age  new_user  total_pages_visited  converted  country_Germany  \\\n",
       "0    1.0   25         1                    1          0              0.0   \n",
       "1    1.0   23         1                    5          0              0.0   \n",
       "2    1.0   28         1                    4          0              0.0   \n",
       "3    1.0   39         1                    5          0              0.0   \n",
       "4    1.0   30         1                    6          0              0.0   \n",
       "\n",
       "   country_UK  country_US  source_Direct  source_Seo  \n",
       "0         1.0         0.0            0.0         0.0  \n",
       "1         0.0         1.0            0.0         1.0  \n",
       "2         0.0         1.0            0.0         1.0  \n",
       "3         0.0         0.0            0.0         1.0  \n",
       "4         0.0         1.0            0.0         1.0  "
      ]
     },
     "execution_count": 73,
     "metadata": {},
     "output_type": "execute_result"
    }
   ],
   "source": [
    "df_dummy.head()"
   ]
  },
  {
   "cell_type": "code",
   "execution_count": 92,
   "id": "05bd12ad-699f-4f57-abc5-b9465f89e3dd",
   "metadata": {},
   "outputs": [],
   "source": [
    "# no need to scale features for logistic since we use log odds\n",
    "# TODO: explain why I pick logistic regression"
   ]
  },
  {
   "cell_type": "code",
   "execution_count": 131,
   "id": "74637816-faae-4bc6-bdb2-739fc28c4f5c",
   "metadata": {},
   "outputs": [],
   "source": [
    "y=df_dummy['converted']\n",
    "X = df_dummy.drop(columns = ['converted'])"
   ]
  },
  {
   "cell_type": "code",
   "execution_count": null,
   "id": "8df8facb-b4f8-4f79-89ca-47add5033e81",
   "metadata": {},
   "outputs": [],
   "source": []
  },
  {
   "cell_type": "code",
   "execution_count": 132,
   "id": "dda87f8a-53e4-413b-bde1-563b8021e3e6",
   "metadata": {},
   "outputs": [],
   "source": [
    "# Logit doesn't support class_weights, need to manually overwight minoriaty class\n",
    "# y.map() is a fast, clean way to assign new values (like weights) to each class label.\n",
    "weights = y.map({0: 1, 1:(len(y)-y.sum())/y.sum()})"
   ]
  },
  {
   "cell_type": "code",
   "execution_count": 138,
   "id": "cd42be5b-5abb-443d-9aa0-4aafc8dbfb23",
   "metadata": {},
   "outputs": [],
   "source": [
    "X_train,X_test,y_train, y_test = train_test_split(X,y, test_size=0.2, random_state = 42)"
   ]
  },
  {
   "cell_type": "code",
   "execution_count": 139,
   "id": "98e0b697-09c3-4d9d-87f4-67fe59a56d39",
   "metadata": {},
   "outputs": [],
   "source": [
    "lr = sms.GLM(y_train, X_train, family=sms.families.Binomial()).fit(weights = weights)"
   ]
  },
  {
   "cell_type": "code",
   "execution_count": 149,
   "id": "dc711e50-d665-4b5f-89b9-525a68a00bca",
   "metadata": {},
   "outputs": [
    {
     "data": {
      "text/plain": [
       "105624    0.000428\n",
       "55853     0.000002\n",
       "150261    0.000537\n",
       "226667    0.000021\n",
       "206696    0.000018\n",
       "            ...   \n",
       "119880    0.002283\n",
       "259179    0.001557\n",
       "131933    0.001469\n",
       "146868    0.000458\n",
       "121959    0.000052\n",
       "Length: 252958, dtype: float64"
      ]
     },
     "execution_count": 149,
     "metadata": {},
     "output_type": "execute_result"
    }
   ],
   "source": [
    "y_prob_train = lr.predict(X_train)\n",
    "y_prob_train"
   ]
  },
  {
   "cell_type": "code",
   "execution_count": 150,
   "id": "1f79e480-4b5f-415b-b097-b0579aabe4c9",
   "metadata": {},
   "outputs": [],
   "source": [
    "y_pred_train = [1 if i >0.5 else 0 for i in y_prob_train]"
   ]
  },
  {
   "cell_type": "code",
   "execution_count": 151,
   "id": "b3b99a27-10b4-486d-8049-70de91ad5962",
   "metadata": {},
   "outputs": [
    {
     "data": {
      "text/plain": [
       "array([[243835,    960],\n",
       "       [  2559,   5604]])"
      ]
     },
     "execution_count": 151,
     "metadata": {},
     "output_type": "execute_result"
    }
   ],
   "source": [
    "confusion_matrix(y_true=y_train, y_pred=y_pred_train)"
   ]
  },
  {
   "cell_type": "code",
   "execution_count": 158,
   "id": "6938fb80-df0b-4b73-81dd-75df2e0c3eef",
   "metadata": {},
   "outputs": [
    {
     "name": "stdout",
     "output_type": "stream",
     "text": [
      "              precision    recall  f1-score   support\n",
      "\n",
      "           0       0.99      1.00      0.99    244795\n",
      "           1       0.85      0.69      0.76      8163\n",
      "\n",
      "    accuracy                           0.99    252958\n",
      "   macro avg       0.92      0.84      0.88    252958\n",
      "weighted avg       0.99      0.99      0.99    252958\n",
      "\n"
     ]
    }
   ],
   "source": [
    "print(classification_report(y_train,y_pred_train))"
   ]
  },
  {
   "cell_type": "code",
   "execution_count": 156,
   "id": "24146814-dc5d-404c-8d63-46bd65e5aead",
   "metadata": {},
   "outputs": [
    {
     "data": {
      "text/plain": [
       "array([[60983,   222],\n",
       "       [  627,  1408]])"
      ]
     },
     "execution_count": 156,
     "metadata": {},
     "output_type": "execute_result"
    }
   ],
   "source": [
    "# use test set to validate\n",
    "y_prob_test = lr.predict(X_test)\n",
    "y_pred_test = [1 if i >0.5 else 0 for i in y_prob_test]\n",
    "confusion_matrix(y_true=y_test, y_pred=y_pred_test)"
   ]
  },
  {
   "cell_type": "code",
   "execution_count": 159,
   "id": "f03857a4-1452-48cd-bf61-dbb73b635d2c",
   "metadata": {},
   "outputs": [
    {
     "name": "stdout",
     "output_type": "stream",
     "text": [
      "              precision    recall  f1-score   support\n",
      "\n",
      "           0       0.99      1.00      0.99     61205\n",
      "           1       0.86      0.69      0.77      2035\n",
      "\n",
      "    accuracy                           0.99     63240\n",
      "   macro avg       0.93      0.84      0.88     63240\n",
      "weighted avg       0.99      0.99      0.99     63240\n",
      "\n"
     ]
    }
   ],
   "source": [
    "print(classification_report(y_test,y_pred_test)) # not bad"
   ]
  },
  {
   "cell_type": "code",
   "execution_count": 160,
   "id": "345d3576-c177-41e4-a120-593d84839a8d",
   "metadata": {},
   "outputs": [
    {
     "data": {
      "text/html": [
       "<table class=\"simpletable\">\n",
       "<caption>Generalized Linear Model Regression Results</caption>\n",
       "<tr>\n",
       "  <th>Dep. Variable:</th>       <td>converted</td>    <th>  No. Observations:  </th>  <td>252958</td> \n",
       "</tr>\n",
       "<tr>\n",
       "  <th>Model:</th>                  <td>GLM</td>       <th>  Df Residuals:      </th>  <td>252949</td> \n",
       "</tr>\n",
       "<tr>\n",
       "  <th>Model Family:</th>        <td>Binomial</td>     <th>  Df Model:          </th>  <td>     8</td> \n",
       "</tr>\n",
       "<tr>\n",
       "  <th>Link Function:</th>         <td>Logit</td>      <th>  Scale:             </th> <td>  1.0000</td>\n",
       "</tr>\n",
       "<tr>\n",
       "  <th>Method:</th>                <td>IRLS</td>       <th>  Log-Likelihood:    </th> <td> -10276.</td>\n",
       "</tr>\n",
       "<tr>\n",
       "  <th>Date:</th>            <td>Sat, 07 Jun 2025</td> <th>  Deviance:          </th> <td>  20553.</td>\n",
       "</tr>\n",
       "<tr>\n",
       "  <th>Time:</th>                <td>11:43:18</td>     <th>  Pearson chi2:      </th> <td>2.11e+05</td>\n",
       "</tr>\n",
       "<tr>\n",
       "  <th>No. Iterations:</th>         <td>10</td>        <th>  Pseudo R-squ. (CS):</th>  <td>0.1844</td> \n",
       "</tr>\n",
       "<tr>\n",
       "  <th>Covariance Type:</th>     <td>nonrobust</td>    <th>                     </th>     <td> </td>   \n",
       "</tr>\n",
       "</table>\n",
       "<table class=\"simpletable\">\n",
       "<tr>\n",
       "           <td></td>              <th>coef</th>     <th>std err</th>      <th>z</th>      <th>P>|z|</th>  <th>[0.025</th>    <th>0.975]</th>  \n",
       "</tr>\n",
       "<tr>\n",
       "  <th>const</th>               <td>  -10.3160</td> <td>    0.167</td> <td>  -61.616</td> <td> 0.000</td> <td>  -10.644</td> <td>   -9.988</td>\n",
       "</tr>\n",
       "<tr>\n",
       "  <th>age</th>                 <td>   -0.0744</td> <td>    0.003</td> <td>  -28.022</td> <td> 0.000</td> <td>   -0.080</td> <td>   -0.069</td>\n",
       "</tr>\n",
       "<tr>\n",
       "  <th>new_user</th>            <td>   -1.7428</td> <td>    0.040</td> <td>  -43.804</td> <td> 0.000</td> <td>   -1.821</td> <td>   -1.665</td>\n",
       "</tr>\n",
       "<tr>\n",
       "  <th>total_pages_visited</th> <td>    0.7591</td> <td>    0.007</td> <td>  109.095</td> <td> 0.000</td> <td>    0.745</td> <td>    0.773</td>\n",
       "</tr>\n",
       "<tr>\n",
       "  <th>country_Germany</th>     <td>    3.7763</td> <td>    0.147</td> <td>   25.693</td> <td> 0.000</td> <td>    3.488</td> <td>    4.064</td>\n",
       "</tr>\n",
       "<tr>\n",
       "  <th>country_UK</th>          <td>    3.5819</td> <td>    0.134</td> <td>   26.777</td> <td> 0.000</td> <td>    3.320</td> <td>    3.844</td>\n",
       "</tr>\n",
       "<tr>\n",
       "  <th>country_US</th>          <td>    3.2010</td> <td>    0.130</td> <td>   24.671</td> <td> 0.000</td> <td>    2.947</td> <td>    3.455</td>\n",
       "</tr>\n",
       "<tr>\n",
       "  <th>source_Direct</th>       <td>   -0.1600</td> <td>    0.055</td> <td>   -2.935</td> <td> 0.003</td> <td>   -0.267</td> <td>   -0.053</td>\n",
       "</tr>\n",
       "<tr>\n",
       "  <th>source_Seo</th>          <td>   -0.0011</td> <td>    0.045</td> <td>   -0.024</td> <td> 0.981</td> <td>   -0.088</td> <td>    0.086</td>\n",
       "</tr>\n",
       "</table>"
      ],
      "text/latex": [
       "\\begin{center}\n",
       "\\begin{tabular}{lclc}\n",
       "\\toprule\n",
       "\\textbf{Dep. Variable:}        &    converted     & \\textbf{  No. Observations:  } &   252958    \\\\\n",
       "\\textbf{Model:}                &       GLM        & \\textbf{  Df Residuals:      } &   252949    \\\\\n",
       "\\textbf{Model Family:}         &     Binomial     & \\textbf{  Df Model:          } &        8    \\\\\n",
       "\\textbf{Link Function:}        &      Logit       & \\textbf{  Scale:             } &    1.0000   \\\\\n",
       "\\textbf{Method:}               &       IRLS       & \\textbf{  Log-Likelihood:    } &   -10276.   \\\\\n",
       "\\textbf{Date:}                 & Sat, 07 Jun 2025 & \\textbf{  Deviance:          } &    20553.   \\\\\n",
       "\\textbf{Time:}                 &     11:43:18     & \\textbf{  Pearson chi2:      } &  2.11e+05   \\\\\n",
       "\\textbf{No. Iterations:}       &        10        & \\textbf{  Pseudo R-squ. (CS):} &   0.1844    \\\\\n",
       "\\textbf{Covariance Type:}      &    nonrobust     & \\textbf{                     } &             \\\\\n",
       "\\bottomrule\n",
       "\\end{tabular}\n",
       "\\begin{tabular}{lcccccc}\n",
       "                               & \\textbf{coef} & \\textbf{std err} & \\textbf{z} & \\textbf{P$> |$z$|$} & \\textbf{[0.025} & \\textbf{0.975]}  \\\\\n",
       "\\midrule\n",
       "\\textbf{const}                 &     -10.3160  &        0.167     &   -61.616  &         0.000        &      -10.644    &       -9.988     \\\\\n",
       "\\textbf{age}                   &      -0.0744  &        0.003     &   -28.022  &         0.000        &       -0.080    &       -0.069     \\\\\n",
       "\\textbf{new\\_user}             &      -1.7428  &        0.040     &   -43.804  &         0.000        &       -1.821    &       -1.665     \\\\\n",
       "\\textbf{total\\_pages\\_visited} &       0.7591  &        0.007     &   109.095  &         0.000        &        0.745    &        0.773     \\\\\n",
       "\\textbf{country\\_Germany}      &       3.7763  &        0.147     &    25.693  &         0.000        &        3.488    &        4.064     \\\\\n",
       "\\textbf{country\\_UK}           &       3.5819  &        0.134     &    26.777  &         0.000        &        3.320    &        3.844     \\\\\n",
       "\\textbf{country\\_US}           &       3.2010  &        0.130     &    24.671  &         0.000        &        2.947    &        3.455     \\\\\n",
       "\\textbf{source\\_Direct}        &      -0.1600  &        0.055     &    -2.935  &         0.003        &       -0.267    &       -0.053     \\\\\n",
       "\\textbf{source\\_Seo}           &      -0.0011  &        0.045     &    -0.024  &         0.981        &       -0.088    &        0.086     \\\\\n",
       "\\bottomrule\n",
       "\\end{tabular}\n",
       "%\\caption{Generalized Linear Model Regression Results}\n",
       "\\end{center}"
      ],
      "text/plain": [
       "<class 'statsmodels.iolib.summary.Summary'>\n",
       "\"\"\"\n",
       "                 Generalized Linear Model Regression Results                  \n",
       "==============================================================================\n",
       "Dep. Variable:              converted   No. Observations:               252958\n",
       "Model:                            GLM   Df Residuals:                   252949\n",
       "Model Family:                Binomial   Df Model:                            8\n",
       "Link Function:                  Logit   Scale:                          1.0000\n",
       "Method:                          IRLS   Log-Likelihood:                -10276.\n",
       "Date:                Sat, 07 Jun 2025   Deviance:                       20553.\n",
       "Time:                        11:43:18   Pearson chi2:                 2.11e+05\n",
       "No. Iterations:                    10   Pseudo R-squ. (CS):             0.1844\n",
       "Covariance Type:            nonrobust                                         \n",
       "=======================================================================================\n",
       "                          coef    std err          z      P>|z|      [0.025      0.975]\n",
       "---------------------------------------------------------------------------------------\n",
       "const                 -10.3160      0.167    -61.616      0.000     -10.644      -9.988\n",
       "age                    -0.0744      0.003    -28.022      0.000      -0.080      -0.069\n",
       "new_user               -1.7428      0.040    -43.804      0.000      -1.821      -1.665\n",
       "total_pages_visited     0.7591      0.007    109.095      0.000       0.745       0.773\n",
       "country_Germany         3.7763      0.147     25.693      0.000       3.488       4.064\n",
       "country_UK              3.5819      0.134     26.777      0.000       3.320       3.844\n",
       "country_US              3.2010      0.130     24.671      0.000       2.947       3.455\n",
       "source_Direct          -0.1600      0.055     -2.935      0.003      -0.267      -0.053\n",
       "source_Seo             -0.0011      0.045     -0.024      0.981      -0.088       0.086\n",
       "=======================================================================================\n",
       "\"\"\""
      ]
     },
     "execution_count": 160,
     "metadata": {},
     "output_type": "execute_result"
    }
   ],
   "source": [
    "lr.summary()"
   ]
  },
  {
   "cell_type": "code",
   "execution_count": 161,
   "id": "93b08e75-3218-4780-a9af-d466c2b95640",
   "metadata": {},
   "outputs": [
    {
     "data": {
      "text/html": [
       "<div>\n",
       "<style scoped>\n",
       "    .dataframe tbody tr th:only-of-type {\n",
       "        vertical-align: middle;\n",
       "    }\n",
       "\n",
       "    .dataframe tbody tr th {\n",
       "        vertical-align: top;\n",
       "    }\n",
       "\n",
       "    .dataframe thead th {\n",
       "        text-align: right;\n",
       "    }\n",
       "</style>\n",
       "<table border=\"1\" class=\"dataframe\">\n",
       "  <thead>\n",
       "    <tr style=\"text-align: right;\">\n",
       "      <th></th>\n",
       "      <th>Coef.</th>\n",
       "      <th>P&gt;|z|</th>\n",
       "    </tr>\n",
       "  </thead>\n",
       "  <tbody>\n",
       "    <tr>\n",
       "      <th>const</th>\n",
       "      <td>-10.315950</td>\n",
       "      <td>0.000000e+00</td>\n",
       "    </tr>\n",
       "    <tr>\n",
       "      <th>age</th>\n",
       "      <td>-0.074443</td>\n",
       "      <td>8.843220e-173</td>\n",
       "    </tr>\n",
       "    <tr>\n",
       "      <th>new_user</th>\n",
       "      <td>-1.742815</td>\n",
       "      <td>0.000000e+00</td>\n",
       "    </tr>\n",
       "    <tr>\n",
       "      <th>total_pages_visited</th>\n",
       "      <td>0.759084</td>\n",
       "      <td>0.000000e+00</td>\n",
       "    </tr>\n",
       "    <tr>\n",
       "      <th>country_Germany</th>\n",
       "      <td>3.776296</td>\n",
       "      <td>1.394667e-145</td>\n",
       "    </tr>\n",
       "    <tr>\n",
       "      <th>country_UK</th>\n",
       "      <td>3.581894</td>\n",
       "      <td>5.920039e-158</td>\n",
       "    </tr>\n",
       "    <tr>\n",
       "      <th>country_US</th>\n",
       "      <td>3.201039</td>\n",
       "      <td>2.182416e-134</td>\n",
       "    </tr>\n",
       "    <tr>\n",
       "      <th>source_Direct</th>\n",
       "      <td>-0.159960</td>\n",
       "      <td>3.336384e-03</td>\n",
       "    </tr>\n",
       "    <tr>\n",
       "      <th>source_Seo</th>\n",
       "      <td>-0.001075</td>\n",
       "      <td>9.807501e-01</td>\n",
       "    </tr>\n",
       "  </tbody>\n",
       "</table>\n",
       "</div>"
      ],
      "text/plain": [
       "                         Coef.          P>|z|\n",
       "const               -10.315950   0.000000e+00\n",
       "age                  -0.074443  8.843220e-173\n",
       "new_user             -1.742815   0.000000e+00\n",
       "total_pages_visited   0.759084   0.000000e+00\n",
       "country_Germany       3.776296  1.394667e-145\n",
       "country_UK            3.581894  5.920039e-158\n",
       "country_US            3.201039  2.182416e-134\n",
       "source_Direct        -0.159960   3.336384e-03\n",
       "source_Seo           -0.001075   9.807501e-01"
      ]
     },
     "execution_count": 161,
     "metadata": {},
     "output_type": "execute_result"
    }
   ],
   "source": [
    "coef = lr.summary2().tables[1][['Coef.','P>|z|']]\n",
    "coef"
   ]
  },
  {
   "cell_type": "code",
   "execution_count": 162,
   "id": "10774011-736d-4f3d-968e-a44de3ff58d7",
   "metadata": {},
   "outputs": [
    {
     "data": {
      "text/plain": [
       "Coef.   -10.31595\n",
       "P>|z|     0.00000\n",
       "Name: const, dtype: float64"
      ]
     },
     "execution_count": 162,
     "metadata": {},
     "output_type": "execute_result"
    }
   ],
   "source": [
    "coef.loc['const']"
   ]
  },
  {
   "cell_type": "code",
   "execution_count": 163,
   "id": "faa60f4a-25aa-4ffb-a738-2e340b39bdb6",
   "metadata": {},
   "outputs": [
    {
     "data": {
      "text/plain": [
       "Index(['const', 'age', 'new_user', 'total_pages_visited', 'country_Germany',\n",
       "       'country_UK', 'country_US', 'source_Direct', 'source_Seo'],\n",
       "      dtype='object')"
      ]
     },
     "execution_count": 163,
     "metadata": {},
     "output_type": "execute_result"
    }
   ],
   "source": [
    "coef.index"
   ]
  },
  {
   "cell_type": "code",
   "execution_count": 164,
   "id": "adb258c2-2f8a-4143-b8c2-36db2b6109cb",
   "metadata": {},
   "outputs": [],
   "source": [
    "# country has biggest impact - german, UK, US\n"
   ]
  },
  {
   "cell_type": "code",
   "execution_count": 167,
   "id": "92ee2ac2-d5ce-48f1-a084-27c2909280c7",
   "metadata": {},
   "outputs": [
    {
     "data": {
      "text/plain": [
       "np.float64(0.03225194340255157)"
      ]
     },
     "execution_count": 167,
     "metadata": {},
     "output_type": "execute_result"
    }
   ],
   "source": [
    "# compute the change using the logistic (sigmoid) function. Take age as example\n",
    "# log odds p0: logit(p0) = log(p0/(1-p0))\n",
    "# new log odds = logit(p0)+beta\n",
    "# prob p1 = /(1+exp(-new log odds))\n",
    "P0 = clean_df['converted'].mean()\n",
    "P0"
   ]
  },
  {
   "cell_type": "code",
   "execution_count": 113,
   "id": "bb881363-870f-48f3-b2e0-69fa3d28af4a",
   "metadata": {},
   "outputs": [
    {
     "name": "stdout",
     "output_type": "stream",
     "text": [
      "Baseline cvr(%): 3.225, New cvr (%) after +1 year: 3.002, Relative % Change: -6.925\n"
     ]
    }
   ],
   "source": [
    "P1 = 1 / (1 + np.exp(-logit_P1))\n",
    "print(f\"Baseline cvr(%): {P0*100:.3f}, New cvr (%) after +1 year: {P1*100:.3f}, Relative % Change: {(P1 - P0)/P0*100:.3f}\")"
   ]
  },
  {
   "cell_type": "code",
   "execution_count": 170,
   "id": "af42dbb5-f16a-4923-b034-2e3676776670",
   "metadata": {},
   "outputs": [],
   "source": [
    "def get_rel_change(baseline,coef_pvalue_df):\n",
    "    print(f\"Baseline cvr(%): {baseline*100:.3f}\")\n",
    "    logit_P0 = np.log(baseline / (1 - baseline))\n",
    "    sub_df = coef_pvalue_df[(coef_pvalue_df['P>|z|']<0.05)&(coef_pvalue_df.index != 'const')]\n",
    "    sub_df.sort_values(by=['Coef.'],ascending=False, inplace=True)\n",
    "    features = list(sub_df.index)\n",
    "    for feature in features:\n",
    "        logit_P1 = logit_P0 + sub_df.loc[feature,'Coef.']\n",
    "        P1 = 1 / (1 + np.exp(-logit_P1))\n",
    "        print(f\" New cvr (%) after +1 unit in {feature} is: {P1*100:.3f}, Relative % Change: {(P1 - baseline)/baseline*100:.3f}\")\n",
    "                \n",
    "    return True\n",
    "    \n",
    "    "
   ]
  },
  {
   "cell_type": "code",
   "execution_count": 171,
   "id": "a285a92f-76a6-45d7-854a-cd2eeab0628a",
   "metadata": {},
   "outputs": [
    {
     "name": "stdout",
     "output_type": "stream",
     "text": [
      "Baseline cvr(%): 3.225\n",
      " New cvr (%) after +1 unit in country_Germany is: 59.264, Relative % Change: 1737.542\n",
      " New cvr (%) after +1 unit in country_UK is: 54.500, Relative % Change: 1589.830\n",
      " New cvr (%) after +1 unit in country_US is: 45.008, Relative % Change: 1295.507\n",
      " New cvr (%) after +1 unit in total_pages_visited is: 6.646, Relative % Change: 106.079\n",
      " New cvr (%) after +1 unit in age is: 3.001, Relative % Change: -6.959\n",
      " New cvr (%) after +1 unit in source_Direct is: 2.762, Relative % Change: -14.374\n",
      " New cvr (%) after +1 unit in new_user is: 0.580, Relative % Change: -82.019\n"
     ]
    },
    {
     "name": "stderr",
     "output_type": "stream",
     "text": [
      "/var/folders/zq/hqq8b43s3fj4rb11sgc943bw0000gn/T/ipykernel_2709/3673506780.py:5: SettingWithCopyWarning: \n",
      "A value is trying to be set on a copy of a slice from a DataFrame\n",
      "\n",
      "See the caveats in the documentation: https://pandas.pydata.org/pandas-docs/stable/user_guide/indexing.html#returning-a-view-versus-a-copy\n",
      "  sub_df.sort_values(by=['Coef.'],ascending=False, inplace=True)\n"
     ]
    },
    {
     "data": {
      "text/plain": [
       "True"
      ]
     },
     "execution_count": 171,
     "metadata": {},
     "output_type": "execute_result"
    }
   ],
   "source": [
    "get_rel_change(P0,coef)"
   ]
  },
  {
   "cell_type": "code",
   "execution_count": null,
   "id": "db5a8566-befd-4365-8f02-50f473153648",
   "metadata": {},
   "outputs": [],
   "source": []
  }
 ],
 "metadata": {
  "kernelspec": {
   "display_name": "myenv",
   "language": "python",
   "name": "myenv"
  },
  "language_info": {
   "codemirror_mode": {
    "name": "ipython",
    "version": 3
   },
   "file_extension": ".py",
   "mimetype": "text/x-python",
   "name": "python",
   "nbconvert_exporter": "python",
   "pygments_lexer": "ipython3",
   "version": "3.12.4"
  }
 },
 "nbformat": 4,
 "nbformat_minor": 5
}
