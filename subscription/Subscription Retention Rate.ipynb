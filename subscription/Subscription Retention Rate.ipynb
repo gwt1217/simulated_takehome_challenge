{
 "cells": [
  {
   "cell_type": "code",
   "execution_count": 124,
   "id": "e0005f5e-4f32-4e3c-a61f-bbefbe3c8d1f",
   "metadata": {},
   "outputs": [],
   "source": [
    "import pandas as pd\n",
    "import seaborn as sns\n",
    "import matplotlib.pyplot as plt\n",
    "# from prophet import Prophet\n",
    "# import xgboost as xgb\n",
    "import numpy as np\n",
    "# from sklearn.model_selection import train_test_split\n",
    "# from sklearn.metrics import accuracy_score\n",
    "# from sklearn.metrics import confusion_matrix\n",
    "# from sklearn.ensemble import RandomForestClassifier\n",
    "import statsmodels.api as sm"
   ]
  },
  {
   "cell_type": "code",
   "execution_count": 2,
   "id": "1f8a2d51-f0ae-4a87-9dc9-e09f35564230",
   "metadata": {},
   "outputs": [
    {
     "data": {
      "text/html": [
       "<div>\n",
       "<style scoped>\n",
       "    .dataframe tbody tr th:only-of-type {\n",
       "        vertical-align: middle;\n",
       "    }\n",
       "\n",
       "    .dataframe tbody tr th {\n",
       "        vertical-align: top;\n",
       "    }\n",
       "\n",
       "    .dataframe thead th {\n",
       "        text-align: right;\n",
       "    }\n",
       "</style>\n",
       "<table border=\"1\" class=\"dataframe\">\n",
       "  <thead>\n",
       "    <tr style=\"text-align: right;\">\n",
       "      <th></th>\n",
       "      <th>user_id</th>\n",
       "      <th>subscription_signup_date</th>\n",
       "      <th>subscription_monthly_cost</th>\n",
       "      <th>country</th>\n",
       "      <th>source</th>\n",
       "      <th>billing_cycles</th>\n",
       "      <th>is_active</th>\n",
       "    </tr>\n",
       "  </thead>\n",
       "  <tbody>\n",
       "    <tr>\n",
       "      <th>0</th>\n",
       "      <td>1459</td>\n",
       "      <td>January, 2015</td>\n",
       "      <td>29</td>\n",
       "      <td>Spain</td>\n",
       "      <td>ads</td>\n",
       "      <td>4</td>\n",
       "      <td>0</td>\n",
       "    </tr>\n",
       "    <tr>\n",
       "      <th>1</th>\n",
       "      <td>12474</td>\n",
       "      <td>January, 2015</td>\n",
       "      <td>49</td>\n",
       "      <td>France</td>\n",
       "      <td>ads</td>\n",
       "      <td>5</td>\n",
       "      <td>0</td>\n",
       "    </tr>\n",
       "    <tr>\n",
       "      <th>2</th>\n",
       "      <td>12294</td>\n",
       "      <td>January, 2015</td>\n",
       "      <td>49</td>\n",
       "      <td>Germany</td>\n",
       "      <td>ads</td>\n",
       "      <td>2</td>\n",
       "      <td>0</td>\n",
       "    </tr>\n",
       "    <tr>\n",
       "      <th>3</th>\n",
       "      <td>3878</td>\n",
       "      <td>January, 2015</td>\n",
       "      <td>49</td>\n",
       "      <td>China</td>\n",
       "      <td>ads</td>\n",
       "      <td>1</td>\n",
       "      <td>0</td>\n",
       "    </tr>\n",
       "    <tr>\n",
       "      <th>4</th>\n",
       "      <td>9567</td>\n",
       "      <td>January, 2015</td>\n",
       "      <td>49</td>\n",
       "      <td>UK</td>\n",
       "      <td>ads</td>\n",
       "      <td>5</td>\n",
       "      <td>0</td>\n",
       "    </tr>\n",
       "  </tbody>\n",
       "</table>\n",
       "</div>"
      ],
      "text/plain": [
       "   user_id subscription_signup_date  subscription_monthly_cost  country  \\\n",
       "0     1459            January, 2015                         29    Spain   \n",
       "1    12474            January, 2015                         49   France   \n",
       "2    12294            January, 2015                         49  Germany   \n",
       "3     3878            January, 2015                         49    China   \n",
       "4     9567            January, 2015                         49       UK   \n",
       "\n",
       "  source  billing_cycles  is_active  \n",
       "0    ads               4          0  \n",
       "1    ads               5          0  \n",
       "2    ads               2          0  \n",
       "3    ads               1          0  \n",
       "4    ads               5          0  "
      ]
     },
     "execution_count": 2,
     "metadata": {},
     "output_type": "execute_result"
    }
   ],
   "source": [
    "raw_df = pd.read_csv('subscription.csv')\n",
    "raw_df.head()"
   ]
  },
  {
   "cell_type": "code",
   "execution_count": 4,
   "id": "7399e82b-86af-4b57-be7f-bf7bb2dcb348",
   "metadata": {},
   "outputs": [
    {
     "data": {
      "text/html": [
       "<div>\n",
       "<style scoped>\n",
       "    .dataframe tbody tr th:only-of-type {\n",
       "        vertical-align: middle;\n",
       "    }\n",
       "\n",
       "    .dataframe tbody tr th {\n",
       "        vertical-align: top;\n",
       "    }\n",
       "\n",
       "    .dataframe thead th {\n",
       "        text-align: right;\n",
       "    }\n",
       "</style>\n",
       "<table border=\"1\" class=\"dataframe\">\n",
       "  <thead>\n",
       "    <tr style=\"text-align: right;\">\n",
       "      <th></th>\n",
       "      <th>user_id</th>\n",
       "      <th>subscription_signup_date</th>\n",
       "      <th>subscription_monthly_cost</th>\n",
       "      <th>country</th>\n",
       "      <th>source</th>\n",
       "      <th>billing_cycles</th>\n",
       "      <th>is_active</th>\n",
       "    </tr>\n",
       "  </thead>\n",
       "  <tbody>\n",
       "    <tr>\n",
       "      <th>count</th>\n",
       "      <td>500000.000000</td>\n",
       "      <td>500000</td>\n",
       "      <td>500000.000000</td>\n",
       "      <td>500000</td>\n",
       "      <td>500000</td>\n",
       "      <td>500000.000000</td>\n",
       "      <td>500000.000000</td>\n",
       "    </tr>\n",
       "    <tr>\n",
       "      <th>unique</th>\n",
       "      <td>NaN</td>\n",
       "      <td>1</td>\n",
       "      <td>NaN</td>\n",
       "      <td>8</td>\n",
       "      <td>3</td>\n",
       "      <td>NaN</td>\n",
       "      <td>NaN</td>\n",
       "    </tr>\n",
       "    <tr>\n",
       "      <th>top</th>\n",
       "      <td>NaN</td>\n",
       "      <td>January, 2015</td>\n",
       "      <td>NaN</td>\n",
       "      <td>US</td>\n",
       "      <td>ads</td>\n",
       "      <td>NaN</td>\n",
       "      <td>NaN</td>\n",
       "    </tr>\n",
       "    <tr>\n",
       "      <th>freq</th>\n",
       "      <td>NaN</td>\n",
       "      <td>500000</td>\n",
       "      <td>NaN</td>\n",
       "      <td>91731</td>\n",
       "      <td>414469</td>\n",
       "      <td>NaN</td>\n",
       "      <td>NaN</td>\n",
       "    </tr>\n",
       "    <tr>\n",
       "      <th>mean</th>\n",
       "      <td>250000.500000</td>\n",
       "      <td>NaN</td>\n",
       "      <td>48.469620</td>\n",
       "      <td>NaN</td>\n",
       "      <td>NaN</td>\n",
       "      <td>2.384970</td>\n",
       "      <td>0.099998</td>\n",
       "    </tr>\n",
       "    <tr>\n",
       "      <th>std</th>\n",
       "      <td>144337.711635</td>\n",
       "      <td>NaN</td>\n",
       "      <td>19.570745</td>\n",
       "      <td>NaN</td>\n",
       "      <td>NaN</td>\n",
       "      <td>2.254952</td>\n",
       "      <td>0.299998</td>\n",
       "    </tr>\n",
       "    <tr>\n",
       "      <th>min</th>\n",
       "      <td>1.000000</td>\n",
       "      <td>NaN</td>\n",
       "      <td>29.000000</td>\n",
       "      <td>NaN</td>\n",
       "      <td>NaN</td>\n",
       "      <td>1.000000</td>\n",
       "      <td>0.000000</td>\n",
       "    </tr>\n",
       "    <tr>\n",
       "      <th>25%</th>\n",
       "      <td>125000.750000</td>\n",
       "      <td>NaN</td>\n",
       "      <td>29.000000</td>\n",
       "      <td>NaN</td>\n",
       "      <td>NaN</td>\n",
       "      <td>1.000000</td>\n",
       "      <td>0.000000</td>\n",
       "    </tr>\n",
       "    <tr>\n",
       "      <th>50%</th>\n",
       "      <td>250000.500000</td>\n",
       "      <td>NaN</td>\n",
       "      <td>49.000000</td>\n",
       "      <td>NaN</td>\n",
       "      <td>NaN</td>\n",
       "      <td>1.000000</td>\n",
       "      <td>0.000000</td>\n",
       "    </tr>\n",
       "    <tr>\n",
       "      <th>75%</th>\n",
       "      <td>375000.250000</td>\n",
       "      <td>NaN</td>\n",
       "      <td>49.000000</td>\n",
       "      <td>NaN</td>\n",
       "      <td>NaN</td>\n",
       "      <td>3.000000</td>\n",
       "      <td>0.000000</td>\n",
       "    </tr>\n",
       "    <tr>\n",
       "      <th>max</th>\n",
       "      <td>500000.000000</td>\n",
       "      <td>NaN</td>\n",
       "      <td>99.000000</td>\n",
       "      <td>NaN</td>\n",
       "      <td>NaN</td>\n",
       "      <td>8.000000</td>\n",
       "      <td>1.000000</td>\n",
       "    </tr>\n",
       "  </tbody>\n",
       "</table>\n",
       "</div>"
      ],
      "text/plain": [
       "              user_id subscription_signup_date  subscription_monthly_cost  \\\n",
       "count   500000.000000                   500000              500000.000000   \n",
       "unique            NaN                        1                        NaN   \n",
       "top               NaN            January, 2015                        NaN   \n",
       "freq              NaN                   500000                        NaN   \n",
       "mean    250000.500000                      NaN                  48.469620   \n",
       "std     144337.711635                      NaN                  19.570745   \n",
       "min          1.000000                      NaN                  29.000000   \n",
       "25%     125000.750000                      NaN                  29.000000   \n",
       "50%     250000.500000                      NaN                  49.000000   \n",
       "75%     375000.250000                      NaN                  49.000000   \n",
       "max     500000.000000                      NaN                  99.000000   \n",
       "\n",
       "       country  source  billing_cycles      is_active  \n",
       "count   500000  500000   500000.000000  500000.000000  \n",
       "unique       8       3             NaN            NaN  \n",
       "top         US     ads             NaN            NaN  \n",
       "freq     91731  414469             NaN            NaN  \n",
       "mean       NaN     NaN        2.384970       0.099998  \n",
       "std        NaN     NaN        2.254952       0.299998  \n",
       "min        NaN     NaN        1.000000       0.000000  \n",
       "25%        NaN     NaN        1.000000       0.000000  \n",
       "50%        NaN     NaN        1.000000       0.000000  \n",
       "75%        NaN     NaN        3.000000       0.000000  \n",
       "max        NaN     NaN        8.000000       1.000000  "
      ]
     },
     "execution_count": 4,
     "metadata": {},
     "output_type": "execute_result"
    }
   ],
   "source": [
    "raw_df.describe(include='all')"
   ]
  },
  {
   "cell_type": "code",
   "execution_count": 5,
   "id": "c5d8d307-248d-4ec2-9f41-5bc22bb32a27",
   "metadata": {},
   "outputs": [
    {
     "data": {
      "text/plain": [
       "500000"
      ]
     },
     "execution_count": 5,
     "metadata": {},
     "output_type": "execute_result"
    }
   ],
   "source": [
    "raw_df.user_id.nunique()"
   ]
  },
  {
   "cell_type": "markdown",
   "id": "3a3f6aa2-13e4-4edf-8cc1-79bc2ab5f243",
   "metadata": {},
   "source": [
    "# EDA"
   ]
  },
  {
   "cell_type": "code",
   "execution_count": 8,
   "id": "5c00c047-b2be-4cd4-9c08-e3fdc49629a3",
   "metadata": {},
   "outputs": [
    {
     "data": {
      "text/html": [
       "<div>\n",
       "<style scoped>\n",
       "    .dataframe tbody tr th:only-of-type {\n",
       "        vertical-align: middle;\n",
       "    }\n",
       "\n",
       "    .dataframe tbody tr th {\n",
       "        vertical-align: top;\n",
       "    }\n",
       "\n",
       "    .dataframe thead th {\n",
       "        text-align: right;\n",
       "    }\n",
       "</style>\n",
       "<table border=\"1\" class=\"dataframe\">\n",
       "  <thead>\n",
       "    <tr style=\"text-align: right;\">\n",
       "      <th></th>\n",
       "      <th>billing_cycles</th>\n",
       "      <th>user_cnts</th>\n",
       "    </tr>\n",
       "  </thead>\n",
       "  <tbody>\n",
       "    <tr>\n",
       "      <th>0</th>\n",
       "      <td>1</td>\n",
       "      <td>0</td>\n",
       "    </tr>\n",
       "    <tr>\n",
       "      <th>1</th>\n",
       "      <td>2</td>\n",
       "      <td>0</td>\n",
       "    </tr>\n",
       "    <tr>\n",
       "      <th>2</th>\n",
       "      <td>3</td>\n",
       "      <td>0</td>\n",
       "    </tr>\n",
       "    <tr>\n",
       "      <th>3</th>\n",
       "      <td>4</td>\n",
       "      <td>0</td>\n",
       "    </tr>\n",
       "    <tr>\n",
       "      <th>4</th>\n",
       "      <td>5</td>\n",
       "      <td>0</td>\n",
       "    </tr>\n",
       "    <tr>\n",
       "      <th>5</th>\n",
       "      <td>6</td>\n",
       "      <td>0</td>\n",
       "    </tr>\n",
       "    <tr>\n",
       "      <th>6</th>\n",
       "      <td>7</td>\n",
       "      <td>0</td>\n",
       "    </tr>\n",
       "    <tr>\n",
       "      <th>7</th>\n",
       "      <td>8</td>\n",
       "      <td>49999</td>\n",
       "    </tr>\n",
       "  </tbody>\n",
       "</table>\n",
       "</div>"
      ],
      "text/plain": [
       "   billing_cycles  user_cnts\n",
       "0               1          0\n",
       "1               2          0\n",
       "2               3          0\n",
       "3               4          0\n",
       "4               5          0\n",
       "5               6          0\n",
       "6               7          0\n",
       "7               8      49999"
      ]
     },
     "execution_count": 8,
     "metadata": {},
     "output_type": "execute_result"
    }
   ],
   "source": [
    "raw_df.groupby('billing_cycles')['is_active'].sum().reset_index(name='user_cnts')\n",
    "# billing_cycles and is_active saved the same info"
   ]
  },
  {
   "cell_type": "code",
   "execution_count": 13,
   "id": "f5f361e3-3604-462d-8869-d523b2dcd608",
   "metadata": {},
   "outputs": [
    {
     "data": {
      "text/html": [
       "<div>\n",
       "<style scoped>\n",
       "    .dataframe tbody tr th:only-of-type {\n",
       "        vertical-align: middle;\n",
       "    }\n",
       "\n",
       "    .dataframe tbody tr th {\n",
       "        vertical-align: top;\n",
       "    }\n",
       "\n",
       "    .dataframe thead th {\n",
       "        text-align: right;\n",
       "    }\n",
       "</style>\n",
       "<table border=\"1\" class=\"dataframe\">\n",
       "  <thead>\n",
       "    <tr style=\"text-align: right;\">\n",
       "      <th></th>\n",
       "      <th>user_id</th>\n",
       "      <th>subscription_signup_date</th>\n",
       "      <th>subscription_monthly_cost</th>\n",
       "      <th>country</th>\n",
       "      <th>source</th>\n",
       "      <th>billing_cycles</th>\n",
       "      <th>is_active</th>\n",
       "    </tr>\n",
       "  </thead>\n",
       "  <tbody>\n",
       "    <tr>\n",
       "      <th>0</th>\n",
       "      <td>1459</td>\n",
       "      <td>January, 2015</td>\n",
       "      <td>29</td>\n",
       "      <td>Spain</td>\n",
       "      <td>ads</td>\n",
       "      <td>4</td>\n",
       "      <td>0</td>\n",
       "    </tr>\n",
       "    <tr>\n",
       "      <th>1</th>\n",
       "      <td>12474</td>\n",
       "      <td>January, 2015</td>\n",
       "      <td>49</td>\n",
       "      <td>France</td>\n",
       "      <td>ads</td>\n",
       "      <td>5</td>\n",
       "      <td>0</td>\n",
       "    </tr>\n",
       "    <tr>\n",
       "      <th>2</th>\n",
       "      <td>12294</td>\n",
       "      <td>January, 2015</td>\n",
       "      <td>49</td>\n",
       "      <td>Germany</td>\n",
       "      <td>ads</td>\n",
       "      <td>2</td>\n",
       "      <td>0</td>\n",
       "    </tr>\n",
       "    <tr>\n",
       "      <th>3</th>\n",
       "      <td>3878</td>\n",
       "      <td>January, 2015</td>\n",
       "      <td>49</td>\n",
       "      <td>China</td>\n",
       "      <td>ads</td>\n",
       "      <td>1</td>\n",
       "      <td>0</td>\n",
       "    </tr>\n",
       "    <tr>\n",
       "      <th>4</th>\n",
       "      <td>9567</td>\n",
       "      <td>January, 2015</td>\n",
       "      <td>49</td>\n",
       "      <td>UK</td>\n",
       "      <td>ads</td>\n",
       "      <td>5</td>\n",
       "      <td>0</td>\n",
       "    </tr>\n",
       "  </tbody>\n",
       "</table>\n",
       "</div>"
      ],
      "text/plain": [
       "   user_id subscription_signup_date  subscription_monthly_cost  country  \\\n",
       "0     1459            January, 2015                         29    Spain   \n",
       "1    12474            January, 2015                         49   France   \n",
       "2    12294            January, 2015                         49  Germany   \n",
       "3     3878            January, 2015                         49    China   \n",
       "4     9567            January, 2015                         49       UK   \n",
       "\n",
       "  source  billing_cycles  is_active  \n",
       "0    ads               4          0  \n",
       "1    ads               5          0  \n",
       "2    ads               2          0  \n",
       "3    ads               1          0  \n",
       "4    ads               5          0  "
      ]
     },
     "execution_count": 13,
     "metadata": {},
     "output_type": "execute_result"
    }
   ],
   "source": [
    "raw_df.head()"
   ]
  },
  {
   "cell_type": "code",
   "execution_count": 199,
   "id": "7d75e0f7-d95f-4dd6-8f23-535c2159b9ae",
   "metadata": {},
   "outputs": [],
   "source": [
    "raw_df['revenue'] = raw_df['subscription_monthly_cost']*raw_df['billing_cycles']"
   ]
  },
  {
   "cell_type": "code",
   "execution_count": 215,
   "id": "3129ff09-0403-4da6-990d-03136d9e99df",
   "metadata": {},
   "outputs": [
    {
     "data": {
      "text/html": [
       "<div>\n",
       "<style scoped>\n",
       "    .dataframe tbody tr th:only-of-type {\n",
       "        vertical-align: middle;\n",
       "    }\n",
       "\n",
       "    .dataframe tbody tr th {\n",
       "        vertical-align: top;\n",
       "    }\n",
       "\n",
       "    .dataframe thead th {\n",
       "        text-align: right;\n",
       "    }\n",
       "</style>\n",
       "<table border=\"1\" class=\"dataframe\">\n",
       "  <thead>\n",
       "    <tr style=\"text-align: right;\">\n",
       "      <th></th>\n",
       "      <th>subscription_monthly_cost</th>\n",
       "      <th>country</th>\n",
       "      <th>retention_mon8</th>\n",
       "      <th>revenue</th>\n",
       "      <th>user_cnt</th>\n",
       "    </tr>\n",
       "  </thead>\n",
       "  <tbody>\n",
       "    <tr>\n",
       "      <th>0</th>\n",
       "      <td>29</td>\n",
       "      <td>China</td>\n",
       "      <td>0.611194</td>\n",
       "      <td>168.266173</td>\n",
       "      <td>16741</td>\n",
       "    </tr>\n",
       "    <tr>\n",
       "      <th>1</th>\n",
       "      <td>29</td>\n",
       "      <td>France</td>\n",
       "      <td>0.132290</td>\n",
       "      <td>84.166959</td>\n",
       "      <td>14249</td>\n",
       "    </tr>\n",
       "    <tr>\n",
       "      <th>2</th>\n",
       "      <td>29</td>\n",
       "      <td>Germany</td>\n",
       "      <td>0.125172</td>\n",
       "      <td>83.057309</td>\n",
       "      <td>21794</td>\n",
       "    </tr>\n",
       "    <tr>\n",
       "      <th>3</th>\n",
       "      <td>29</td>\n",
       "      <td>India</td>\n",
       "      <td>0.605556</td>\n",
       "      <td>167.610402</td>\n",
       "      <td>16920</td>\n",
       "    </tr>\n",
       "    <tr>\n",
       "      <th>4</th>\n",
       "      <td>29</td>\n",
       "      <td>Italy</td>\n",
       "      <td>0.123350</td>\n",
       "      <td>82.974880</td>\n",
       "      <td>13336</td>\n",
       "    </tr>\n",
       "  </tbody>\n",
       "</table>\n",
       "</div>"
      ],
      "text/plain": [
       "   subscription_monthly_cost  country  retention_mon8     revenue  user_cnt\n",
       "0                         29    China        0.611194  168.266173     16741\n",
       "1                         29   France        0.132290   84.166959     14249\n",
       "2                         29  Germany        0.125172   83.057309     21794\n",
       "3                         29    India        0.605556  167.610402     16920\n",
       "4                         29    Italy        0.123350   82.974880     13336"
      ]
     },
     "execution_count": 215,
     "metadata": {},
     "output_type": "execute_result"
    }
   ],
   "source": [
    "agg_df_country = raw_df.groupby(['subscription_monthly_cost','country']).agg({'is_active':'mean','revenue':'mean','user_id':'count'}).reset_index()\n",
    "agg_df_country.columns = ['subscription_monthly_cost','country','retention_mon8','revenue','user_cnt']\n",
    "agg_df_country.head()"
   ]
  },
  {
   "cell_type": "code",
   "execution_count": 216,
   "id": "0f4c74f8-55b0-41d1-abee-30ec7d81371a",
   "metadata": {},
   "outputs": [
    {
     "data": {
      "text/html": [
       "<div>\n",
       "<style scoped>\n",
       "    .dataframe tbody tr th:only-of-type {\n",
       "        vertical-align: middle;\n",
       "    }\n",
       "\n",
       "    .dataframe tbody tr th {\n",
       "        vertical-align: top;\n",
       "    }\n",
       "\n",
       "    .dataframe thead th {\n",
       "        text-align: right;\n",
       "    }\n",
       "</style>\n",
       "<table border=\"1\" class=\"dataframe\">\n",
       "  <thead>\n",
       "    <tr style=\"text-align: right;\">\n",
       "      <th></th>\n",
       "      <th>subscription_monthly_cost</th>\n",
       "      <th>source</th>\n",
       "      <th>retention_mon8</th>\n",
       "      <th>revenue</th>\n",
       "      <th>user_cnt</th>\n",
       "    </tr>\n",
       "  </thead>\n",
       "  <tbody>\n",
       "    <tr>\n",
       "      <th>0</th>\n",
       "      <td>29</td>\n",
       "      <td>ads</td>\n",
       "      <td>0.191041</td>\n",
       "      <td>11452999</td>\n",
       "      <td>121246</td>\n",
       "    </tr>\n",
       "    <tr>\n",
       "      <th>1</th>\n",
       "      <td>29</td>\n",
       "      <td>friend_referral</td>\n",
       "      <td>0.618289</td>\n",
       "      <td>1198106</td>\n",
       "      <td>7097</td>\n",
       "    </tr>\n",
       "    <tr>\n",
       "      <th>2</th>\n",
       "      <td>29</td>\n",
       "      <td>seo</td>\n",
       "      <td>0.387147</td>\n",
       "      <td>2390325</td>\n",
       "      <td>18019</td>\n",
       "    </tr>\n",
       "    <tr>\n",
       "      <th>3</th>\n",
       "      <td>49</td>\n",
       "      <td>ads</td>\n",
       "      <td>0.016791</td>\n",
       "      <td>20948774</td>\n",
       "      <td>249177</td>\n",
       "    </tr>\n",
       "    <tr>\n",
       "      <th>4</th>\n",
       "      <td>49</td>\n",
       "      <td>friend_referral</td>\n",
       "      <td>0.399548</td>\n",
       "      <td>3329942</td>\n",
       "      <td>14589</td>\n",
       "    </tr>\n",
       "  </tbody>\n",
       "</table>\n",
       "</div>"
      ],
      "text/plain": [
       "   subscription_monthly_cost           source  retention_mon8   revenue  \\\n",
       "0                         29              ads        0.191041  11452999   \n",
       "1                         29  friend_referral        0.618289   1198106   \n",
       "2                         29              seo        0.387147   2390325   \n",
       "3                         49              ads        0.016791  20948774   \n",
       "4                         49  friend_referral        0.399548   3329942   \n",
       "\n",
       "   user_cnt  \n",
       "0    121246  \n",
       "1      7097  \n",
       "2     18019  \n",
       "3    249177  \n",
       "4     14589  "
      ]
     },
     "execution_count": 216,
     "metadata": {},
     "output_type": "execute_result"
    }
   ],
   "source": [
    "agg_df_source = raw_df.groupby(['subscription_monthly_cost','source']).agg({'is_active':'mean','revenue':'sum','user_id':'count'}).reset_index()\n",
    "agg_df_source.columns = ['subscription_monthly_cost','source','retention_mon8','revenue','user_cnt']\n",
    "agg_df_source.head()"
   ]
  },
  {
   "cell_type": "code",
   "execution_count": 219,
   "id": "b697b236-727e-4227-a5a7-1f80679108a9",
   "metadata": {},
   "outputs": [
    {
     "data": {
      "image/png": "[encoded data removed]",
      "text/plain": [
       "<Figure size 1800x500 with 3 Axes>"
      ]
     },
     "metadata": {},
     "output_type": "display_data"
    }
   ],
   "source": [
    "fig, axes = plt.subplots(1, 3, figsize=(18, 5))\n",
    "sns.barplot(agg_df_country,x='country',y='retention_mon8',hue = 'subscription_monthly_cost', ax=axes[0])\n",
    "axes[0].set_title('retention rate at month 8 by plan & country')\n",
    "\n",
    "sns.barplot(agg_df_country,x='country',y='revenue',hue = 'subscription_monthly_cost', ax=axes[1])\n",
    "axes[1].set_title('avg revenue at month 8 by plan & country')\n",
    "\n",
    "sns.barplot(agg_df_country,x='country',y='user_cnt',hue = 'subscription_monthly_cost', ax=axes[2])\n",
    "axes[2].set_title('avg user cnt at month 8 by plan & country')\n",
    "\n",
    "plt.show()"
   ]
  },
  {
   "cell_type": "code",
   "execution_count": 220,
   "id": "9253089c-0cf6-41b3-bdf1-2af6197cb34e",
   "metadata": {},
   "outputs": [
    {
     "data": {
      "image/png": "[encoded data removed]",
      "text/plain": [
       "<Figure size 1800x500 with 3 Axes>"
      ]
     },
     "metadata": {},
     "output_type": "display_data"
    }
   ],
   "source": [
    "fig, axes = plt.subplots(1, 3, figsize=(18, 5))\n",
    "sns.barplot(agg_df_source,x='source',y='retention_mon8',hue = 'subscription_monthly_cost', ax=axes[0])\n",
    "axes[0].set_title('retention rate at month 8 by plan & source')\n",
    "\n",
    "sns.barplot(agg_df_source,x='source',y='revenue',hue = 'subscription_monthly_cost', ax=axes[1])\n",
    "axes[1].set_title('avg revenue at month 8 by plan & source')\n",
    "\n",
    "sns.barplot(agg_df_source,x='source',y='user_cnt',hue = 'subscription_monthly_cost', ax=axes[2])\n",
    "axes[2].set_title('avg user cnt at month 8 by plan & source')\n",
    "\n",
    "plt.show()"
   ]
  },
  {
   "cell_type": "code",
   "execution_count": null,
   "id": "67931993-58b7-45b8-9d5b-98d2c79ed099",
   "metadata": {},
   "outputs": [],
   "source": []
  },
  {
   "cell_type": "markdown",
   "id": "2f45e5a2-3241-4b3c-b11a-bccd8398fbf7",
   "metadata": {},
   "source": [
    "# Build a model that predicts monthly retention rate for the different subscription price points"
   ]
  },
  {
   "cell_type": "code",
   "execution_count": 98,
   "id": "4440fd03-0aed-4f20-8ad3-037548e8193f",
   "metadata": {},
   "outputs": [
    {
     "data": {
      "text/html": [
       "<div>\n",
       "<style scoped>\n",
       "    .dataframe tbody tr th:only-of-type {\n",
       "        vertical-align: middle;\n",
       "    }\n",
       "\n",
       "    .dataframe tbody tr th {\n",
       "        vertical-align: top;\n",
       "    }\n",
       "\n",
       "    .dataframe thead th {\n",
       "        text-align: right;\n",
       "    }\n",
       "</style>\n",
       "<table border=\"1\" class=\"dataframe\">\n",
       "  <thead>\n",
       "    <tr style=\"text-align: right;\">\n",
       "      <th></th>\n",
       "      <th>billing_cycles</th>\n",
       "      <th>subscription_monthly_cost</th>\n",
       "      <th>churned_cnt</th>\n",
       "    </tr>\n",
       "  </thead>\n",
       "  <tbody>\n",
       "    <tr>\n",
       "      <th>0</th>\n",
       "      <td>1</td>\n",
       "      <td>29</td>\n",
       "      <td>57441</td>\n",
       "    </tr>\n",
       "    <tr>\n",
       "      <th>3</th>\n",
       "      <td>2</td>\n",
       "      <td>29</td>\n",
       "      <td>21818</td>\n",
       "    </tr>\n",
       "    <tr>\n",
       "      <th>6</th>\n",
       "      <td>3</td>\n",
       "      <td>29</td>\n",
       "      <td>12037</td>\n",
       "    </tr>\n",
       "    <tr>\n",
       "      <th>9</th>\n",
       "      <td>4</td>\n",
       "      <td>29</td>\n",
       "      <td>7787</td>\n",
       "    </tr>\n",
       "    <tr>\n",
       "      <th>12</th>\n",
       "      <td>5</td>\n",
       "      <td>29</td>\n",
       "      <td>5505</td>\n",
       "    </tr>\n",
       "  </tbody>\n",
       "</table>\n",
       "</div>"
      ],
      "text/plain": [
       "    billing_cycles  subscription_monthly_cost  churned_cnt\n",
       "0                1                         29        57441\n",
       "3                2                         29        21818\n",
       "6                3                         29        12037\n",
       "9                4                         29         7787\n",
       "12               5                         29         5505"
      ]
     },
     "execution_count": 98,
     "metadata": {},
     "output_type": "execute_result"
    }
   ],
   "source": [
    "combo_df = raw_df.groupby(['billing_cycles','subscription_monthly_cost']).size()\\\n",
    ".reset_index(name='churned_cnt').sort_values(by=['subscription_monthly_cost','billing_cycles'])\n",
    "# size(): Counts how many rows exist for each group (i.e., how many times each combo appears).\n",
    "#  churned_cnt: users who churned up to that point.\n",
    "combo_df.head()"
   ]
  },
  {
   "cell_type": "code",
   "execution_count": 105,
   "id": "11ee9383-a45b-4e2a-ab59-a3348ce30eae",
   "metadata": {},
   "outputs": [
    {
     "data": {
      "text/plain": [
       "subscription_monthly_cost\n",
       "29    146362\n",
       "49    300397\n",
       "99     53241\n",
       "Name: churned_cnt, dtype: int64"
      ]
     },
     "execution_count": 105,
     "metadata": {},
     "output_type": "execute_result"
    }
   ],
   "source": [
    "total_users = combo_df.groupby('subscription_monthly_cost')['churned_cnt'].sum()\n",
    "total_users"
   ]
  },
  {
   "cell_type": "code",
   "execution_count": 109,
   "id": "b16d450b-c2c5-469f-8b69-9eb4e735d258",
   "metadata": {},
   "outputs": [],
   "source": [
    "total_sum = combo_df.groupby('subscription_monthly_cost')['churned_cnt'].transform('sum')"
   ]
  },
  {
   "cell_type": "code",
   "execution_count": 110,
   "id": "853985ad-5eb6-4c0f-86df-d3026b432bf0",
   "metadata": {},
   "outputs": [],
   "source": [
    "cumsum_cnt = combo_df.groupby('subscription_monthly_cost')['churned_cnt'].cumsum()"
   ]
  },
  {
   "cell_type": "code",
   "execution_count": 113,
   "id": "482ffe07-889a-4cf3-926e-d21b264c0ff2",
   "metadata": {},
   "outputs": [],
   "source": [
    "combo_df['retention_rate'] = 1- cumsum_cnt/total_sum"
   ]
  },
  {
   "cell_type": "code",
   "execution_count": 114,
   "id": "5feb5b28-cdac-45a8-87a9-7a82c23c31d7",
   "metadata": {},
   "outputs": [
    {
     "data": {
      "text/html": [
       "<div>\n",
       "<style scoped>\n",
       "    .dataframe tbody tr th:only-of-type {\n",
       "        vertical-align: middle;\n",
       "    }\n",
       "\n",
       "    .dataframe tbody tr th {\n",
       "        vertical-align: top;\n",
       "    }\n",
       "\n",
       "    .dataframe thead th {\n",
       "        text-align: right;\n",
       "    }\n",
       "</style>\n",
       "<table border=\"1\" class=\"dataframe\">\n",
       "  <thead>\n",
       "    <tr style=\"text-align: right;\">\n",
       "      <th></th>\n",
       "      <th>billing_cycles</th>\n",
       "      <th>subscription_monthly_cost</th>\n",
       "      <th>churned_cnt</th>\n",
       "      <th>retention_rate</th>\n",
       "    </tr>\n",
       "  </thead>\n",
       "  <tbody>\n",
       "    <tr>\n",
       "      <th>0</th>\n",
       "      <td>1</td>\n",
       "      <td>29</td>\n",
       "      <td>57441</td>\n",
       "      <td>0.607542</td>\n",
       "    </tr>\n",
       "    <tr>\n",
       "      <th>3</th>\n",
       "      <td>2</td>\n",
       "      <td>29</td>\n",
       "      <td>21818</td>\n",
       "      <td>0.458473</td>\n",
       "    </tr>\n",
       "    <tr>\n",
       "      <th>6</th>\n",
       "      <td>3</td>\n",
       "      <td>29</td>\n",
       "      <td>12037</td>\n",
       "      <td>0.376232</td>\n",
       "    </tr>\n",
       "    <tr>\n",
       "      <th>9</th>\n",
       "      <td>4</td>\n",
       "      <td>29</td>\n",
       "      <td>7787</td>\n",
       "      <td>0.323028</td>\n",
       "    </tr>\n",
       "    <tr>\n",
       "      <th>12</th>\n",
       "      <td>5</td>\n",
       "      <td>29</td>\n",
       "      <td>5505</td>\n",
       "      <td>0.285416</td>\n",
       "    </tr>\n",
       "    <tr>\n",
       "      <th>15</th>\n",
       "      <td>6</td>\n",
       "      <td>29</td>\n",
       "      <td>4136</td>\n",
       "      <td>0.257157</td>\n",
       "    </tr>\n",
       "    <tr>\n",
       "      <th>18</th>\n",
       "      <td>7</td>\n",
       "      <td>29</td>\n",
       "      <td>3111</td>\n",
       "      <td>0.235901</td>\n",
       "    </tr>\n",
       "    <tr>\n",
       "      <th>21</th>\n",
       "      <td>8</td>\n",
       "      <td>29</td>\n",
       "      <td>34527</td>\n",
       "      <td>0.000000</td>\n",
       "    </tr>\n",
       "    <tr>\n",
       "      <th>1</th>\n",
       "      <td>1</td>\n",
       "      <td>49</td>\n",
       "      <td>185145</td>\n",
       "      <td>0.383666</td>\n",
       "    </tr>\n",
       "    <tr>\n",
       "      <th>4</th>\n",
       "      <td>2</td>\n",
       "      <td>49</td>\n",
       "      <td>53296</td>\n",
       "      <td>0.206247</td>\n",
       "    </tr>\n",
       "    <tr>\n",
       "      <th>7</th>\n",
       "      <td>3</td>\n",
       "      <td>49</td>\n",
       "      <td>21690</td>\n",
       "      <td>0.134043</td>\n",
       "    </tr>\n",
       "    <tr>\n",
       "      <th>10</th>\n",
       "      <td>4</td>\n",
       "      <td>49</td>\n",
       "      <td>11288</td>\n",
       "      <td>0.096466</td>\n",
       "    </tr>\n",
       "    <tr>\n",
       "      <th>13</th>\n",
       "      <td>5</td>\n",
       "      <td>49</td>\n",
       "      <td>6727</td>\n",
       "      <td>0.074072</td>\n",
       "    </tr>\n",
       "    <tr>\n",
       "      <th>16</th>\n",
       "      <td>6</td>\n",
       "      <td>49</td>\n",
       "      <td>4405</td>\n",
       "      <td>0.059408</td>\n",
       "    </tr>\n",
       "    <tr>\n",
       "      <th>19</th>\n",
       "      <td>7</td>\n",
       "      <td>49</td>\n",
       "      <td>3173</td>\n",
       "      <td>0.048845</td>\n",
       "    </tr>\n",
       "    <tr>\n",
       "      <th>22</th>\n",
       "      <td>8</td>\n",
       "      <td>49</td>\n",
       "      <td>14673</td>\n",
       "      <td>0.000000</td>\n",
       "    </tr>\n",
       "    <tr>\n",
       "      <th>2</th>\n",
       "      <td>1</td>\n",
       "      <td>99</td>\n",
       "      <td>44788</td>\n",
       "      <td>0.158769</td>\n",
       "    </tr>\n",
       "    <tr>\n",
       "      <th>5</th>\n",
       "      <td>2</td>\n",
       "      <td>99</td>\n",
       "      <td>4724</td>\n",
       "      <td>0.070040</td>\n",
       "    </tr>\n",
       "    <tr>\n",
       "      <th>8</th>\n",
       "      <td>3</td>\n",
       "      <td>99</td>\n",
       "      <td>1471</td>\n",
       "      <td>0.042411</td>\n",
       "    </tr>\n",
       "    <tr>\n",
       "      <th>11</th>\n",
       "      <td>4</td>\n",
       "      <td>99</td>\n",
       "      <td>678</td>\n",
       "      <td>0.029676</td>\n",
       "    </tr>\n",
       "    <tr>\n",
       "      <th>14</th>\n",
       "      <td>5</td>\n",
       "      <td>99</td>\n",
       "      <td>399</td>\n",
       "      <td>0.022182</td>\n",
       "    </tr>\n",
       "    <tr>\n",
       "      <th>17</th>\n",
       "      <td>6</td>\n",
       "      <td>99</td>\n",
       "      <td>226</td>\n",
       "      <td>0.017937</td>\n",
       "    </tr>\n",
       "    <tr>\n",
       "      <th>20</th>\n",
       "      <td>7</td>\n",
       "      <td>99</td>\n",
       "      <td>156</td>\n",
       "      <td>0.015007</td>\n",
       "    </tr>\n",
       "    <tr>\n",
       "      <th>23</th>\n",
       "      <td>8</td>\n",
       "      <td>99</td>\n",
       "      <td>799</td>\n",
       "      <td>0.000000</td>\n",
       "    </tr>\n",
       "  </tbody>\n",
       "</table>\n",
       "</div>"
      ],
      "text/plain": [
       "    billing_cycles  subscription_monthly_cost  churned_cnt  retention_rate\n",
       "0                1                         29        57441        0.607542\n",
       "3                2                         29        21818        0.458473\n",
       "6                3                         29        12037        0.376232\n",
       "9                4                         29         7787        0.323028\n",
       "12               5                         29         5505        0.285416\n",
       "15               6                         29         4136        0.257157\n",
       "18               7                         29         3111        0.235901\n",
       "21               8                         29        34527        0.000000\n",
       "1                1                         49       185145        0.383666\n",
       "4                2                         49        53296        0.206247\n",
       "7                3                         49        21690        0.134043\n",
       "10               4                         49        11288        0.096466\n",
       "13               5                         49         6727        0.074072\n",
       "16               6                         49         4405        0.059408\n",
       "19               7                         49         3173        0.048845\n",
       "22               8                         49        14673        0.000000\n",
       "2                1                         99        44788        0.158769\n",
       "5                2                         99         4724        0.070040\n",
       "8                3                         99         1471        0.042411\n",
       "11               4                         99          678        0.029676\n",
       "14               5                         99          399        0.022182\n",
       "17               6                         99          226        0.017937\n",
       "20               7                         99          156        0.015007\n",
       "23               8                         99          799        0.000000"
      ]
     },
     "execution_count": 114,
     "metadata": {},
     "output_type": "execute_result"
    }
   ],
   "source": [
    "combo_df"
   ]
  },
  {
   "cell_type": "code",
   "execution_count": 115,
   "id": "fd19c08e-4a27-4ab9-a7fc-cbd0bc88c09a",
   "metadata": {},
   "outputs": [],
   "source": [
    "# compute retention rate - i.e. 1- churn rate \n",
    "# alternative: one line of code\n",
    "# combo_df['retention_rate'] = combo_df.groupby('subscription_monthly_cost')['churned_cnt'].transform(\n",
    "#                                                lambda x: 1-x.cumsum()/x.sum()\n",
    "#                                                )\n",
    "  \n"
   ]
  },
  {
   "cell_type": "code",
   "execution_count": 118,
   "id": "429f8efe-8056-46ab-897c-eb4257b70974",
   "metadata": {},
   "outputs": [
    {
     "data": {
      "image/png": "[encoded data removed]",
      "text/plain": [
       "<Figure size 640x480 with 1 Axes>"
      ]
     },
     "metadata": {},
     "output_type": "display_data"
    }
   ],
   "source": [
    "sns.lineplot(data = combo_df.query('billing_cycles !=8'), x='billing_cycles',y='retention_rate',hue='subscription_monthly_cost')\n",
    "plt.title('retention by billing_cycles & subscription_monthly_cost')\n",
    "plt.show()"
   ]
  },
  {
   "cell_type": "code",
   "execution_count": 122,
   "id": "11ea46d9-cf87-4b89-bdb7-f1b149a20c0a",
   "metadata": {},
   "outputs": [
    {
     "name": "stderr",
     "output_type": "stream",
     "text": [
      "/Users/wentinggao/myenv/lib/python3.12/site-packages/pandas/core/arraylike.py:399: RuntimeWarning: divide by zero encountered in log\n",
      "  result = getattr(ufunc, method)(*inputs, **kwargs)\n"
     ]
    }
   ],
   "source": [
    "# eyeball check: since the relationship is not linear, try some non-linear transformation of the variables to see if it lead to linear relationship\n",
    "\n",
    "combo_df['billing_log']=np.log(combo_df['billing_cycles'])\n",
    "combo_df['retention_log']=np.log(combo_df['retention_rate'])"
   ]
  },
  {
   "cell_type": "code",
   "execution_count": 123,
   "id": "9b068cc7-6b9d-4b87-9730-5e861c2d566e",
   "metadata": {},
   "outputs": [
    {
     "data": {
      "image/png": "[encoded data removed]",
      "text/plain": [
       "<Figure size 640x480 with 1 Axes>"
      ]
     },
     "metadata": {},
     "output_type": "display_data"
    }
   ],
   "source": [
    "sns.lineplot(data = combo_df.query('billing_cycles !=8'), x='billing_log',y='retention_log',hue='subscription_monthly_cost')\n",
    "plt.title('logged retention by billing_cycles & subscription_monthly_cost')\n",
    "plt.show()"
   ]
  },
  {
   "cell_type": "code",
   "execution_count": 146,
   "id": "9895ea61-ab0b-4c12-a045-789075a73089",
   "metadata": {},
   "outputs": [],
   "source": [
    "# build linear model\n",
    "def build_lm(tier_plan,data):\n",
    "    sub_df= data[data['subscription_monthly_cost']==tier_plan].query('billing_cycles !=8')\n",
    "    X = sub_df['billing_log']\n",
    "    y= sub_df['retention_log']\n",
    "    X=sm.add_constant(X)\n",
    "    lm= sm.OLS(y,X)\n",
    "    result=lm.fit()\n",
    "    return result"
   ]
  },
  {
   "cell_type": "code",
   "execution_count": 147,
   "id": "3be77f0e-d095-4ebe-a264-3d8f07f4ba1c",
   "metadata": {},
   "outputs": [],
   "source": [
    "# output r square for each tier plan"
   ]
  },
  {
   "cell_type": "code",
   "execution_count": 148,
   "id": "6294a3b1-e191-4835-bf1a-2287eff10d65",
   "metadata": {},
   "outputs": [
    {
     "data": {
      "text/plain": [
       "np.float64(0.9948859386881674)"
      ]
     },
     "execution_count": 148,
     "metadata": {},
     "output_type": "execute_result"
    }
   ],
   "source": [
    "result29 = build_lm(29,combo_df)\n",
    "result29.rsquared"
   ]
  },
  {
   "cell_type": "code",
   "execution_count": 149,
   "id": "68258d05-4e5a-4601-af98-05abd235a931",
   "metadata": {},
   "outputs": [
    {
     "data": {
      "text/plain": [
       "np.float64(0.9955764927616965)"
      ]
     },
     "execution_count": 149,
     "metadata": {},
     "output_type": "execute_result"
    }
   ],
   "source": [
    "result49 = build_lm(49,combo_df)\n",
    "result49.rsquared"
   ]
  },
  {
   "cell_type": "code",
   "execution_count": 150,
   "id": "018b5de5-ebac-4c27-9d0b-b36e0b899013",
   "metadata": {},
   "outputs": [
    {
     "data": {
      "text/plain": [
       "np.float64(0.9998157222301572)"
      ]
     },
     "execution_count": 150,
     "metadata": {},
     "output_type": "execute_result"
    }
   ],
   "source": [
    "result99 = build_lm(99,combo_df)\n",
    "result99.rsquared"
   ]
  },
  {
   "cell_type": "markdown",
   "id": "97407b10-3257-4871-a4a9-9a64ff90ba9a",
   "metadata": {},
   "source": [
    "# for each price point, output percentage of users is still subscribed after at least 12 months"
   ]
  },
  {
   "cell_type": "code",
   "execution_count": 168,
   "id": "9a01da46-b837-453e-b2eb-6bf0510b6c48",
   "metadata": {},
   "outputs": [],
   "source": [
    "X_pred = np.log(range(8,13))\n",
    "X_pred=sm.add_constant(X_pred)"
   ]
  },
  {
   "cell_type": "code",
   "execution_count": 179,
   "id": "6b9e8433-6c5b-4549-bc7f-724d1213a04e",
   "metadata": {},
   "outputs": [
    {
     "name": "stdout",
     "output_type": "stream",
     "text": [
      "for $29 subscription plan,  18.6 % of users still subscribed after at least 12 months\n"
     ]
    }
   ],
   "source": [
    "print(\"for $29 subscription plan, \", round(np.exp(result29.predict(X_pred))[4]*100,1), \"% of users still subscribed after at least 12 months\")"
   ]
  },
  {
   "cell_type": "code",
   "execution_count": 180,
   "id": "9de46163-656e-4c14-9f44-a8bc0212f9a5",
   "metadata": {},
   "outputs": [
    {
     "name": "stdout",
     "output_type": "stream",
     "text": [
      "for $49 subscription plan,  2.9 % of users still subscribed after at least 12 months\n"
     ]
    }
   ],
   "source": [
    "print(\"for $49 subscription plan, \", round(np.exp(result49.predict(X_pred))[4]*100,1), \"% of users still subscribed after at least 12 months\")"
   ]
  },
  {
   "cell_type": "code",
   "execution_count": 181,
   "id": "29283efe-b313-40c4-89a8-f089f774dd6e",
   "metadata": {},
   "outputs": [
    {
     "name": "stdout",
     "output_type": "stream",
     "text": [
      "for $99 subscription plan,  0.8 % of users still subscribed after at least 12 months\n"
     ]
    }
   ],
   "source": [
    "print(\"for $99 subscription plan, \", round(np.exp(result99.predict(X_pred))[4]*100,1), \"% of users still subscribed after at least 12 months\")"
   ]
  },
  {
   "cell_type": "markdown",
   "id": "edffea42-6a83-44c9-a5a8-0f4bf1820e9f",
   "metadata": {},
   "source": [
    "# calculate LTV "
   ]
  },
  {
   "cell_type": "code",
   "execution_count": null,
   "id": "5c5fa86d-b7e0-496c-832c-5c4ee1d50a67",
   "metadata": {},
   "outputs": [],
   "source": [
    "# As a rule of thumb, use 12 months if you offer only monthly subscriptions and 13 months if you also have yearly plans. \n",
    "# https://blog.logrocket.com/product-management/calculate-lifetime-value-ltv-saas/"
   ]
  },
  {
   "cell_type": "code",
   "execution_count": 183,
   "id": "e524b698-d75c-4f42-ad15-8bf2b449efc9",
   "metadata": {},
   "outputs": [],
   "source": [
    "X_pred = np.log(range(1,13))\n",
    "X_pred = sm.add_constant(X_pred)"
   ]
  },
  {
   "cell_type": "code",
   "execution_count": 185,
   "id": "134838c5-0315-45da-98ee-fdc5dcc65ca3",
   "metadata": {},
   "outputs": [
    {
     "data": {
      "text/plain": [
       "array([0.62744329, 0.44668519, 0.36616507, 0.3180011 , 0.2850498 ,\n",
       "       0.26067776, 0.24170458, 0.22638919, 0.21368762, 0.20293073,\n",
       "       0.19366717, 0.18557995])"
      ]
     },
     "execution_count": 185,
     "metadata": {},
     "output_type": "execute_result"
    }
   ],
   "source": [
    "retention_29 = np.exp(result29.predict(X_pred))\n",
    "retention_29"
   ]
  },
  {
   "cell_type": "code",
   "execution_count": 190,
   "id": "921f7e1d-bbe5-41c1-ab92-e77343118141",
   "metadata": {},
   "outputs": [
    {
     "name": "stdout",
     "output_type": "stream",
     "text": [
      "LTV for tier $29 is $ 132.47\n"
     ]
    }
   ],
   "source": [
    "LTV_29 = sum(retention_29*29)+29\n",
    "print('LTV for tier $29 is $',round(LTV_29,2))"
   ]
  },
  {
   "cell_type": "code",
   "execution_count": 191,
   "id": "71a04cbe-2bed-4ce5-8d44-a8b306850578",
   "metadata": {},
   "outputs": [
    {
     "name": "stdout",
     "output_type": "stream",
     "text": [
      "LTV for tier $49 is $ 107.41\n"
     ]
    }
   ],
   "source": [
    "retention_49 = np.exp(result49.predict(X_pred))\n",
    "LTV_49 = sum(retention_49*49)+49\n",
    "print('LTV for tier $49 is $',round(LTV_49,2))"
   ]
  },
  {
   "cell_type": "code",
   "execution_count": 192,
   "id": "a8ac352c-59db-4937-8ae3-57ae3b2ed5d5",
   "metadata": {},
   "outputs": [
    {
     "name": "stdout",
     "output_type": "stream",
     "text": [
      "LTV for tier $99 is $ 139.24\n"
     ]
    }
   ],
   "source": [
    "retention_99 = np.exp(result99.predict(X_pred))\n",
    "LTV_99 = sum(retention_99*99)+99\n",
    "print('LTV for tier $99 is $',round(LTV_99,2))"
   ]
  },
  {
   "cell_type": "code",
   "execution_count": null,
   "id": "21ea7c78-bf00-4d9b-9bb5-54b46f47de47",
   "metadata": {},
   "outputs": [],
   "source": []
  }
 ],
 "metadata": {
  "kernelspec": {
   "display_name": "myenv",
   "language": "python",
   "name": "myenv"
  },
  "language_info": {
   "codemirror_mode": {
    "name": "ipython",
    "version": 3
   },
   "file_extension": ".py",
   "mimetype": "text/x-python",
   "name": "python",
   "nbconvert_exporter": "python",
   "pygments_lexer": "ipython3",
   "version": "3.12.4"
  }
 },
 "nbformat": 4,
 "nbformat_minor": 5
}
