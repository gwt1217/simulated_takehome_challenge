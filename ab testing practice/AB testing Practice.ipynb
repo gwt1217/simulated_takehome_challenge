{
 "cells": [
  {
   "cell_type": "code",
   "execution_count": 1,
   "id": "c0ade1ae-cf8a-4326-a2ad-1c5c8719beb0",
   "metadata": {},
   "outputs": [],
   "source": [
    "import pandas as pd\n",
    "import numpy as np\n",
    "from scipy import stats\n",
    "import matplotlib.pyplot as plt\n",
    "import seaborn as sns \n",
    "import statsmodels.stats.api as sms\n",
    "from sklearn.tree import DecisionTreeClassifier, plot_tree"
   ]
  },
  {
   "cell_type": "code",
   "execution_count": 2,
   "id": "cae014a8-7b85-47e5-8aa3-278210c26811",
   "metadata": {},
   "outputs": [
    {
     "data": {
      "text/html": [
       "<div>\n",
       "<style scoped>\n",
       "    .dataframe tbody tr th:only-of-type {\n",
       "        vertical-align: middle;\n",
       "    }\n",
       "\n",
       "    .dataframe tbody tr th {\n",
       "        vertical-align: top;\n",
       "    }\n",
       "\n",
       "    .dataframe thead th {\n",
       "        text-align: right;\n",
       "    }\n",
       "</style>\n",
       "<table border=\"1\" class=\"dataframe\">\n",
       "  <thead>\n",
       "    <tr style=\"text-align: right;\">\n",
       "      <th></th>\n",
       "      <th>user_id</th>\n",
       "      <th>conversion</th>\n",
       "      <th>test</th>\n",
       "    </tr>\n",
       "  </thead>\n",
       "  <tbody>\n",
       "    <tr>\n",
       "      <th>0</th>\n",
       "      <td>860955</td>\n",
       "      <td>0</td>\n",
       "      <td>0</td>\n",
       "    </tr>\n",
       "    <tr>\n",
       "      <th>1</th>\n",
       "      <td>911569</td>\n",
       "      <td>0</td>\n",
       "      <td>1</td>\n",
       "    </tr>\n",
       "    <tr>\n",
       "      <th>2</th>\n",
       "      <td>673989</td>\n",
       "      <td>0</td>\n",
       "      <td>0</td>\n",
       "    </tr>\n",
       "    <tr>\n",
       "      <th>3</th>\n",
       "      <td>562761</td>\n",
       "      <td>0</td>\n",
       "      <td>0</td>\n",
       "    </tr>\n",
       "    <tr>\n",
       "      <th>4</th>\n",
       "      <td>64288</td>\n",
       "      <td>0</td>\n",
       "      <td>0</td>\n",
       "    </tr>\n",
       "  </tbody>\n",
       "</table>\n",
       "</div>"
      ],
      "text/plain": [
       "   user_id  conversion  test\n",
       "0   860955           0     0\n",
       "1   911569           0     1\n",
       "2   673989           0     0\n",
       "3   562761           0     0\n",
       "4    64288           0     0"
      ]
     },
     "execution_count": 2,
     "metadata": {},
     "output_type": "execute_result"
    }
   ],
   "source": [
    "df = pd.read_csv('test_basic.csv')\n",
    "df.head()"
   ]
  },
  {
   "cell_type": "code",
   "execution_count": 3,
   "id": "88a6bf7c-f211-4088-963b-d4d6dcc0aa4c",
   "metadata": {},
   "outputs": [
    {
     "data": {
      "text/html": [
       "<div>\n",
       "<style scoped>\n",
       "    .dataframe tbody tr th:only-of-type {\n",
       "        vertical-align: middle;\n",
       "    }\n",
       "\n",
       "    .dataframe tbody tr th {\n",
       "        vertical-align: top;\n",
       "    }\n",
       "\n",
       "    .dataframe thead th {\n",
       "        text-align: right;\n",
       "    }\n",
       "</style>\n",
       "<table border=\"1\" class=\"dataframe\">\n",
       "  <thead>\n",
       "    <tr style=\"text-align: right;\">\n",
       "      <th></th>\n",
       "      <th>variant</th>\n",
       "      <th>volume</th>\n",
       "      <th>conversions</th>\n",
       "    </tr>\n",
       "  </thead>\n",
       "  <tbody>\n",
       "    <tr>\n",
       "      <th>0</th>\n",
       "      <td>0</td>\n",
       "      <td>37431</td>\n",
       "      <td>1636</td>\n",
       "    </tr>\n",
       "    <tr>\n",
       "      <th>1</th>\n",
       "      <td>1</td>\n",
       "      <td>41512</td>\n",
       "      <td>2308</td>\n",
       "    </tr>\n",
       "  </tbody>\n",
       "</table>\n",
       "</div>"
      ],
      "text/plain": [
       "   variant  volume  conversions\n",
       "0        0   37431         1636\n",
       "1        1   41512         2308"
      ]
     },
     "execution_count": 3,
     "metadata": {},
     "output_type": "execute_result"
    }
   ],
   "source": [
    "agg_df = df.groupby('test')['conversion'].agg(['count', 'sum']).reset_index()\n",
    "agg_df.columns\n",
    "agg_df.columns = ['variant', 'volume', 'conversions']\n",
    "agg_df"
   ]
  },
  {
   "cell_type": "code",
   "execution_count": 4,
   "id": "b6bcc56b-1011-4269-89c3-960a6f7a36ab",
   "metadata": {},
   "outputs": [
    {
     "data": {
      "text/plain": [
       "1636"
      ]
     },
     "execution_count": 4,
     "metadata": {},
     "output_type": "execute_result"
    }
   ],
   "source": [
    "agg_df.iloc[0,2]"
   ]
  },
  {
   "cell_type": "code",
   "execution_count": 6,
   "id": "784c23be-d1c6-417b-a4e9-0f7616597bf5",
   "metadata": {},
   "outputs": [
    {
     "name": "stdout",
     "output_type": "stream",
     "text": [
      "CVR_for variant 0 is: 0.04370708770804948\n",
      "CVR_for variant 1 is: 0.05559838119098092\n"
     ]
    }
   ],
   "source": [
    "# assume CLT holds\n",
    "p_0 = agg_df.iloc[0,2]/agg_df.iloc[0,1]\n",
    "p_1 = agg_df.iloc[1,2]/agg_df.iloc[1,1]\n",
    "print(\"CVR_for variant 0 is:\", p_0)\n",
    "print(\"CVR_for variant 1 is:\", p_1)"
   ]
  },
  {
   "cell_type": "code",
   "execution_count": 7,
   "id": "c364fbc4-9156-4bb3-8dff-6208d91f7788",
   "metadata": {},
   "outputs": [
    {
     "data": {
      "text/plain": [
       "0.04996009779207783"
      ]
     },
     "execution_count": 7,
     "metadata": {},
     "output_type": "execute_result"
    }
   ],
   "source": [
    "p_hat= (agg_df.iloc[0,2]+agg_df.iloc[1,2])/(agg_df.iloc[0,1]+agg_df.iloc[1,1])\n",
    "p_hat"
   ]
  },
  {
   "cell_type": "code",
   "execution_count": 8,
   "id": "8b9449ed-c7aa-4c99-847f-336c791f5564",
   "metadata": {},
   "outputs": [
    {
     "data": {
      "text/plain": [
       "0.04746408642068385"
      ]
     },
     "execution_count": 8,
     "metadata": {},
     "output_type": "execute_result"
    }
   ],
   "source": [
    "var_p_hat = p_hat*(1-p_hat) \n",
    "var_p_hat"
   ]
  },
  {
   "cell_type": "code",
   "execution_count": 26,
   "id": "4ec779dd-f9cd-476b-847f-31b02d94c76b",
   "metadata": {},
   "outputs": [
    {
     "data": {
      "text/plain": [
       "-7.657592742200931"
      ]
     },
     "execution_count": 26,
     "metadata": {},
     "output_type": "execute_result"
    }
   ],
   "source": [
    "# z = (p_0-p_1)/(var*(1/n_1)+1/n_2)\n",
    "z = (p_0-p_1)/np.sqrt(var_p_hat*(1/agg_df.iloc[0,1]+1/agg_df.iloc[1,1]))\n",
    "z"
   ]
  },
  {
   "cell_type": "code",
   "execution_count": 10,
   "id": "0de3432b-3dd3-473f-87c9-127711a9c3ec",
   "metadata": {},
   "outputs": [],
   "source": [
    "import statsmodels.stats.api as sms"
   ]
  },
  {
   "cell_type": "code",
   "execution_count": 11,
   "id": "dfd29969-83e7-4c3f-acec-3b308e6369f9",
   "metadata": {},
   "outputs": [],
   "source": [
    "import scipy as stats"
   ]
  },
  {
   "cell_type": "code",
   "execution_count": 29,
   "id": "6b7faa84-99b2-4fe7-ac41-a8bbc8fed673",
   "metadata": {},
   "outputs": [
    {
     "data": {
      "text/plain": [
       "1.887379141862766e-14"
      ]
     },
     "execution_count": 29,
     "metadata": {},
     "output_type": "execute_result"
    }
   ],
   "source": [
    "p_value = 2*(1-stats.norm.cdf(abs(z))) # two-sided test\n",
    "p_value "
   ]
  },
  {
   "cell_type": "code",
   "execution_count": 30,
   "id": "cf6a9105-9dc5-4040-87e8-ee727c3efbff",
   "metadata": {},
   "outputs": [
    {
     "data": {
      "text/plain": [
       "0        0\n",
       "2        0\n",
       "3        0\n",
       "4        0\n",
       "5        0\n",
       "        ..\n",
       "78938    0\n",
       "78939    0\n",
       "78940    0\n",
       "78941    0\n",
       "78942    0\n",
       "Name: conversion, Length: 37431, dtype: int64"
      ]
     },
     "execution_count": 30,
     "metadata": {},
     "output_type": "execute_result"
    }
   ],
   "source": [
    "df.loc[df['test']==0]['conversion']"
   ]
  },
  {
   "cell_type": "code",
   "execution_count": 33,
   "id": "bfae7460-a174-4ec6-a18f-a336fe9b78af",
   "metadata": {},
   "outputs": [],
   "source": [
    "test = stats.ttest_ind(df.loc[df['test']==0]['conversion'], df.loc[df['test']==1]['conversion'], equal_var=False )"
   ]
  },
  {
   "cell_type": "code",
   "execution_count": 34,
   "id": "a2ffcbd3-528f-451f-939d-3641ff4b81a7",
   "metadata": {},
   "outputs": [
    {
     "data": {
      "text/plain": [
       "TtestResult(statistic=-7.705449851546837, pvalue=1.3189559402908635e-14, df=78932.19917546153)"
      ]
     },
     "execution_count": 34,
     "metadata": {},
     "output_type": "execute_result"
    }
   ],
   "source": [
    "test"
   ]
  },
  {
   "cell_type": "code",
   "execution_count": 37,
   "id": "9fa6de14-603c-47d4-a2b0-c2e6f00280b7",
   "metadata": {},
   "outputs": [
    {
     "data": {
      "text/plain": [
       "-7.705449851546837"
      ]
     },
     "execution_count": 37,
     "metadata": {},
     "output_type": "execute_result"
    }
   ],
   "source": [
    "test.statistic"
   ]
  },
  {
   "cell_type": "code",
   "execution_count": 38,
   "id": "9e1704a1-1f15-4429-b5ef-09cf06e11451",
   "metadata": {},
   "outputs": [
    {
     "data": {
      "text/plain": [
       "1.3189559402908635e-14"
      ]
     },
     "execution_count": 38,
     "metadata": {},
     "output_type": "execute_result"
    }
   ],
   "source": [
    "test.pvalue"
   ]
  },
  {
   "cell_type": "code",
   "execution_count": 42,
   "id": "bbf9e24b-b226-4811-b382-1a331e8262c8",
   "metadata": {},
   "outputs": [
    {
     "data": {
      "text/plain": [
       "-0.03262940076737697"
      ]
     },
     "execution_count": 42,
     "metadata": {},
     "output_type": "execute_result"
    }
   ],
   "source": [
    "# sample size\n",
    "p1_and_p2 = sms.proportion_effectsize(0.1, 0.11)\n",
    "p1_and_p2"
   ]
  },
  {
   "cell_type": "code",
   "execution_count": 51,
   "id": "7a071e82-6549-4aa7-b387-179d076c9669",
   "metadata": {},
   "outputs": [
    {
     "data": {
      "text/plain": [
       "680.3526619127882"
      ]
     },
     "execution_count": 51,
     "metadata": {},
     "output_type": "execute_result"
    }
   ],
   "source": [
    "sms.NormalIndPower().solve_power(p1_and_p2, power=0.8, alpha = 0.05)\n",
    "# solve for any one parameter of the power of a two sample z-test\n",
    "\n",
    "# for z-test the keywords are:\n",
    "# effect_size, nobs1, alpha, power, ratio\n",
    "\n",
    "# exactly one needs to be None, all others need numeric values"
   ]
  },
  {
   "cell_type": "code",
   "execution_count": 47,
   "id": "f472c5c9-380d-4db4-bb48-723d4ead46ea",
   "metadata": {},
   "outputs": [
    {
     "name": "stdout",
     "output_type": "stream",
     "text": [
      "[0.105 0.11  0.115 0.12  0.125 0.13  0.135 0.14  0.145 0.15 ]\n"
     ]
    }
   ],
   "source": [
    "possible_p2 = np.arange(0.105, 0.155, 0.005)\n",
    "print(possible_p2)"
   ]
  },
  {
   "cell_type": "code",
   "execution_count": 48,
   "id": "92dfe585-ee36-4d08-8f08-483bbfa68ed4",
   "metadata": {},
   "outputs": [],
   "source": [
    "sample_size = []\n",
    "for i in possible_p2:\n",
    "    p1_and_p2 = sms.proportion_effectsize(0.1, i)\n",
    "    ss = sms.NormalIndPower().solve_power(p1_and_p2,power=0.8, alpha = 0.05)\n",
    "    sample_size.append(ss)"
   ]
  },
  {
   "cell_type": "code",
   "execution_count": 49,
   "id": "fa87d8d3-70dc-4ff7-adf1-4215cf4ef03d",
   "metadata": {},
   "outputs": [
    {
     "data": {
      "text/plain": [
       "[57755.63900543422,\n",
       " 14744.104836925611,\n",
       " 6686.150491784501,\n",
       " 3834.5957398840183,\n",
       " 2500.4771063548874,\n",
       " 1768.0950485742067,\n",
       " 1321.8940896247254,\n",
       " 1029.3252690344636,\n",
       " 826.7173018829511,\n",
       " 680.3526619127882]"
      ]
     },
     "execution_count": 49,
     "metadata": {},
     "output_type": "execute_result"
    }
   ],
   "source": [
    "sample_size"
   ]
  },
  {
   "cell_type": "code",
   "execution_count": 50,
   "id": "263a26bd-cf43-4964-95d9-ff0ef5984829",
   "metadata": {},
   "outputs": [
    {
     "data": {
      "image/png": "[encoded data removed]",
      "text/plain": [
       "<Figure size 640x480 with 1 Axes>"
      ]
     },
     "metadata": {},
     "output_type": "display_data"
    }
   ],
   "source": [
    "plt.plot(sample_size, possible_p2)\n",
    "plt.title('sample size vs mde')\n",
    "plt.xlabel('Sample Size')\n",
    "plt.ylabel('MIN CVR')\n",
    "plt.show()"
   ]
  },
  {
   "cell_type": "code",
   "execution_count": 53,
   "id": "adc20353-402c-431a-9504-6b0ef405745f",
   "metadata": {
    "scrolled": true
   },
   "outputs": [
    {
     "data": {
      "text/html": [
       "<div>\n",
       "<style scoped>\n",
       "    .dataframe tbody tr th:only-of-type {\n",
       "        vertical-align: middle;\n",
       "    }\n",
       "\n",
       "    .dataframe tbody tr th {\n",
       "        vertical-align: top;\n",
       "    }\n",
       "\n",
       "    .dataframe thead th {\n",
       "        text-align: right;\n",
       "    }\n",
       "</style>\n",
       "<table border=\"1\" class=\"dataframe\">\n",
       "  <thead>\n",
       "    <tr style=\"text-align: right;\">\n",
       "      <th></th>\n",
       "      <th>user_id</th>\n",
       "      <th>source</th>\n",
       "      <th>device</th>\n",
       "      <th>browser_language</th>\n",
       "      <th>browser</th>\n",
       "      <th>sex</th>\n",
       "      <th>age</th>\n",
       "      <th>country</th>\n",
       "      <th>test</th>\n",
       "      <th>conversion</th>\n",
       "    </tr>\n",
       "  </thead>\n",
       "  <tbody>\n",
       "    <tr>\n",
       "      <th>0</th>\n",
       "      <td>1</td>\n",
       "      <td>SEO</td>\n",
       "      <td>Web</td>\n",
       "      <td>EN</td>\n",
       "      <td>Chrome</td>\n",
       "      <td>M</td>\n",
       "      <td>38</td>\n",
       "      <td>Chile</td>\n",
       "      <td>0</td>\n",
       "      <td>0</td>\n",
       "    </tr>\n",
       "    <tr>\n",
       "      <th>1</th>\n",
       "      <td>2</td>\n",
       "      <td>SEO</td>\n",
       "      <td>Mobile</td>\n",
       "      <td>ES</td>\n",
       "      <td>Android_App</td>\n",
       "      <td>M</td>\n",
       "      <td>27</td>\n",
       "      <td>Colombia</td>\n",
       "      <td>0</td>\n",
       "      <td>0</td>\n",
       "    </tr>\n",
       "    <tr>\n",
       "      <th>2</th>\n",
       "      <td>3</td>\n",
       "      <td>SEO</td>\n",
       "      <td>Mobile</td>\n",
       "      <td>ES</td>\n",
       "      <td>Iphone_App</td>\n",
       "      <td>M</td>\n",
       "      <td>18</td>\n",
       "      <td>Guatemala</td>\n",
       "      <td>1</td>\n",
       "      <td>0</td>\n",
       "    </tr>\n",
       "    <tr>\n",
       "      <th>3</th>\n",
       "      <td>5</td>\n",
       "      <td>Ads</td>\n",
       "      <td>Web</td>\n",
       "      <td>ES</td>\n",
       "      <td>Chrome</td>\n",
       "      <td>M</td>\n",
       "      <td>22</td>\n",
       "      <td>Argentina</td>\n",
       "      <td>1</td>\n",
       "      <td>0</td>\n",
       "    </tr>\n",
       "    <tr>\n",
       "      <th>4</th>\n",
       "      <td>8</td>\n",
       "      <td>Ads</td>\n",
       "      <td>Mobile</td>\n",
       "      <td>ES</td>\n",
       "      <td>Android_App</td>\n",
       "      <td>M</td>\n",
       "      <td>19</td>\n",
       "      <td>Venezuela</td>\n",
       "      <td>1</td>\n",
       "      <td>0</td>\n",
       "    </tr>\n",
       "  </tbody>\n",
       "</table>\n",
       "</div>"
      ],
      "text/plain": [
       "   user_id source  device browser_language      browser sex  age    country  \\\n",
       "0        1    SEO     Web               EN       Chrome   M   38      Chile   \n",
       "1        2    SEO  Mobile               ES  Android_App   M   27   Colombia   \n",
       "2        3    SEO  Mobile               ES   Iphone_App   M   18  Guatemala   \n",
       "3        5    Ads     Web               ES       Chrome   M   22  Argentina   \n",
       "4        8    Ads  Mobile               ES  Android_App   M   19  Venezuela   \n",
       "\n",
       "   test  conversion  \n",
       "0     0           0  \n",
       "1     0           0  \n",
       "2     1           0  \n",
       "3     1           0  \n",
       "4     1           0  "
      ]
     },
     "execution_count": 53,
     "metadata": {},
     "output_type": "execute_result"
    }
   ],
   "source": [
    "rand = pd.read_csv('randomization.csv')\n",
    "rand.head()"
   ]
  },
  {
   "cell_type": "code",
   "execution_count": 63,
   "id": "6cbd978e-e34e-4ac3-a41b-2f805025d810",
   "metadata": {},
   "outputs": [
    {
     "data": {
      "text/plain": [
       "Index(['user_id', 'source', 'device', 'browser_language', 'browser', 'sex',\n",
       "       'age', 'country', 'test', 'conversion'],\n",
       "      dtype='object')"
      ]
     },
     "execution_count": 63,
     "metadata": {},
     "output_type": "execute_result"
    }
   ],
   "source": [
    "rand.columns"
   ]
  },
  {
   "cell_type": "code",
   "execution_count": 86,
   "id": "aefea377-d557-44f1-a44f-2115cd110bad",
   "metadata": {},
   "outputs": [
    {
     "data": {
      "text/html": [
       "<div>\n",
       "<style scoped>\n",
       "    .dataframe tbody tr th:only-of-type {\n",
       "        vertical-align: middle;\n",
       "    }\n",
       "\n",
       "    .dataframe tbody tr th {\n",
       "        vertical-align: top;\n",
       "    }\n",
       "\n",
       "    .dataframe thead th {\n",
       "        text-align: right;\n",
       "    }\n",
       "</style>\n",
       "<table border=\"1\" class=\"dataframe\">\n",
       "  <thead>\n",
       "    <tr style=\"text-align: right;\">\n",
       "      <th></th>\n",
       "      <th>test</th>\n",
       "      <th>count</th>\n",
       "    </tr>\n",
       "  </thead>\n",
       "  <tbody>\n",
       "    <tr>\n",
       "      <th>0</th>\n",
       "      <td>0</td>\n",
       "      <td>185311</td>\n",
       "    </tr>\n",
       "    <tr>\n",
       "      <th>1</th>\n",
       "      <td>1</td>\n",
       "      <td>215774</td>\n",
       "    </tr>\n",
       "  </tbody>\n",
       "</table>\n",
       "</div>"
      ],
      "text/plain": [
       "   test   count\n",
       "0     0  185311\n",
       "1     1  215774"
      ]
     },
     "execution_count": 86,
     "metadata": {},
     "output_type": "execute_result"
    }
   ],
   "source": [
    "rand.groupby('test')['test'].agg(['count']).reset_index()"
   ]
  },
  {
   "cell_type": "code",
   "execution_count": null,
   "id": "6e3e3687-1686-4e59-b2e0-da475635da5a",
   "metadata": {},
   "outputs": [],
   "source": []
  },
  {
   "cell_type": "markdown",
   "id": "885c0d4c-3a75-4ba8-8c3f-3c8e6e90683b",
   "metadata": {},
   "source": [
    "# Checking that randomization worked well simply means making sure that all variables have the same distribution in test and control. So, taking for instance the first variable, source, it would mean checking that proportion of users coming from ads, SEO, and direct is the same."
   ]
  },
  {
   "cell_type": "code",
   "execution_count": 58,
   "id": "70687752-c100-4863-9d3b-53810fa0b908",
   "metadata": {},
   "outputs": [
    {
     "data": {
      "text/html": [
       "<div>\n",
       "<style scoped>\n",
       "    .dataframe tbody tr th:only-of-type {\n",
       "        vertical-align: middle;\n",
       "    }\n",
       "\n",
       "    .dataframe tbody tr th {\n",
       "        vertical-align: top;\n",
       "    }\n",
       "\n",
       "    .dataframe thead th {\n",
       "        text-align: right;\n",
       "    }\n",
       "</style>\n",
       "<table border=\"1\" class=\"dataframe\">\n",
       "  <thead>\n",
       "    <tr style=\"text-align: right;\">\n",
       "      <th>source</th>\n",
       "      <th>Ads</th>\n",
       "      <th>Direct</th>\n",
       "      <th>SEO</th>\n",
       "    </tr>\n",
       "    <tr>\n",
       "      <th>test</th>\n",
       "      <th></th>\n",
       "      <th></th>\n",
       "      <th></th>\n",
       "    </tr>\n",
       "  </thead>\n",
       "  <tbody>\n",
       "    <tr>\n",
       "      <th>0</th>\n",
       "      <td>74352</td>\n",
       "      <td>37238</td>\n",
       "      <td>73721</td>\n",
       "    </tr>\n",
       "    <tr>\n",
       "      <th>1</th>\n",
       "      <td>86448</td>\n",
       "      <td>43047</td>\n",
       "      <td>86279</td>\n",
       "    </tr>\n",
       "  </tbody>\n",
       "</table>\n",
       "</div>"
      ],
      "text/plain": [
       "source    Ads  Direct    SEO\n",
       "test                        \n",
       "0       74352   37238  73721\n",
       "1       86448   43047  86279"
      ]
     },
     "execution_count": 58,
     "metadata": {},
     "output_type": "execute_result"
    }
   ],
   "source": [
    "freq_table = pd.crosstab(rand['test'], rand['source'])\n",
    "freq_table"
   ]
  },
  {
   "cell_type": "code",
   "execution_count": 62,
   "id": "c379e934-2fb3-4405-8aa5-1cc0aeaadf2b",
   "metadata": {},
   "outputs": [
    {
     "name": "stdout",
     "output_type": "stream",
     "text": [
      " P_value:0.3387045847778523\n"
     ]
    }
   ],
   "source": [
    "chi2, p_value, _,_ = stats.chi2_contingency(freq_table)\n",
    "print(f\" P_value:{p_value}\")"
   ]
  },
  {
   "cell_type": "code",
   "execution_count": 64,
   "id": "d6cbdb34-c365-48d0-8318-fc402f394ed5",
   "metadata": {},
   "outputs": [],
   "source": [
    "cols = ['source', 'device', 'browser_language', 'browser', 'sex', 'country']"
   ]
  },
  {
   "cell_type": "code",
   "execution_count": 65,
   "id": "838ff1b1-106b-4e5b-9233-bc8a2350967b",
   "metadata": {},
   "outputs": [
    {
     "name": "stdout",
     "output_type": "stream",
     "text": [
      "P_value of source:0.3387045847778523\n",
      "P_value of device:0.3387045847778523\n",
      "P_value of browser_language:0.3387045847778523\n",
      "P_value of browser:0.3387045847778523\n",
      "P_value of sex:0.3387045847778523\n",
      "P_value of country:0.3387045847778523\n"
     ]
    }
   ],
   "source": [
    "for col in cols: \n",
    "    df = pd.crosstab(rand['test'], rand[col])\n",
    "    chi2, p_value, _,_ = stats.chi2_contingency(freq_table)\n",
    "    print(f\"P_value of {col}:{p_value}\")"
   ]
  },
  {
   "cell_type": "code",
   "execution_count": 76,
   "id": "2518f907-1c49-4756-90db-159d11074bdf",
   "metadata": {},
   "outputs": [
    {
     "data": {
      "text/html": [
       "<div>\n",
       "<style scoped>\n",
       "    .dataframe tbody tr th:only-of-type {\n",
       "        vertical-align: middle;\n",
       "    }\n",
       "\n",
       "    .dataframe tbody tr th {\n",
       "        vertical-align: top;\n",
       "    }\n",
       "\n",
       "    .dataframe thead th {\n",
       "        text-align: right;\n",
       "    }\n",
       "</style>\n",
       "<table border=\"1\" class=\"dataframe\">\n",
       "  <thead>\n",
       "    <tr style=\"text-align: right;\">\n",
       "      <th>country</th>\n",
       "      <th>Argentina</th>\n",
       "      <th>Bolivia</th>\n",
       "      <th>Chile</th>\n",
       "      <th>Colombia</th>\n",
       "      <th>Costa Rica</th>\n",
       "      <th>Ecuador</th>\n",
       "      <th>El Salvador</th>\n",
       "      <th>Guatemala</th>\n",
       "      <th>Honduras</th>\n",
       "      <th>Mexico</th>\n",
       "      <th>Nicaragua</th>\n",
       "      <th>Panama</th>\n",
       "      <th>Paraguay</th>\n",
       "      <th>Peru</th>\n",
       "      <th>Uruguay</th>\n",
       "      <th>Venezuela</th>\n",
       "    </tr>\n",
       "    <tr>\n",
       "      <th>test</th>\n",
       "      <th></th>\n",
       "      <th></th>\n",
       "      <th></th>\n",
       "      <th></th>\n",
       "      <th></th>\n",
       "      <th></th>\n",
       "      <th></th>\n",
       "      <th></th>\n",
       "      <th></th>\n",
       "      <th></th>\n",
       "      <th></th>\n",
       "      <th></th>\n",
       "      <th></th>\n",
       "      <th></th>\n",
       "      <th></th>\n",
       "      <th></th>\n",
       "    </tr>\n",
       "  </thead>\n",
       "  <tbody>\n",
       "    <tr>\n",
       "      <th>0</th>\n",
       "      <td>9356</td>\n",
       "      <td>5550</td>\n",
       "      <td>9853</td>\n",
       "      <td>27088</td>\n",
       "      <td>2660</td>\n",
       "      <td>8036</td>\n",
       "      <td>4108</td>\n",
       "      <td>7622</td>\n",
       "      <td>4361</td>\n",
       "      <td>64209</td>\n",
       "      <td>3419</td>\n",
       "      <td>1966</td>\n",
       "      <td>3650</td>\n",
       "      <td>16869</td>\n",
       "      <td>415</td>\n",
       "      <td>16149</td>\n",
       "    </tr>\n",
       "    <tr>\n",
       "      <th>1</th>\n",
       "      <td>37377</td>\n",
       "      <td>5574</td>\n",
       "      <td>9884</td>\n",
       "      <td>26972</td>\n",
       "      <td>2649</td>\n",
       "      <td>7859</td>\n",
       "      <td>4067</td>\n",
       "      <td>7503</td>\n",
       "      <td>4207</td>\n",
       "      <td>64275</td>\n",
       "      <td>3304</td>\n",
       "      <td>1985</td>\n",
       "      <td>3697</td>\n",
       "      <td>16797</td>\n",
       "      <td>3719</td>\n",
       "      <td>15905</td>\n",
       "    </tr>\n",
       "  </tbody>\n",
       "</table>\n",
       "</div>"
      ],
      "text/plain": [
       "country  Argentina  Bolivia  Chile  Colombia  Costa Rica  Ecuador  \\\n",
       "test                                                                \n",
       "0             9356     5550   9853     27088        2660     8036   \n",
       "1            37377     5574   9884     26972        2649     7859   \n",
       "\n",
       "country  El Salvador  Guatemala  Honduras  Mexico  Nicaragua  Panama  \\\n",
       "test                                                                   \n",
       "0               4108       7622      4361   64209       3419    1966   \n",
       "1               4067       7503      4207   64275       3304    1985   \n",
       "\n",
       "country  Paraguay   Peru  Uruguay  Venezuela  \n",
       "test                                          \n",
       "0            3650  16869      415      16149  \n",
       "1            3697  16797     3719      15905  "
      ]
     },
     "execution_count": 76,
     "metadata": {},
     "output_type": "execute_result"
    }
   ],
   "source": [
    "pd.crosstab(rand['test'], rand['country'])"
   ]
  },
  {
   "cell_type": "code",
   "execution_count": 73,
   "id": "c9c124bc-495b-4218-8a8a-19312c7e07d5",
   "metadata": {},
   "outputs": [
    {
     "data": {
      "text/html": [
       "<div>\n",
       "<style scoped>\n",
       "    .dataframe tbody tr th:only-of-type {\n",
       "        vertical-align: middle;\n",
       "    }\n",
       "\n",
       "    .dataframe tbody tr th {\n",
       "        vertical-align: top;\n",
       "    }\n",
       "\n",
       "    .dataframe thead th {\n",
       "        text-align: right;\n",
       "    }\n",
       "</style>\n",
       "<table border=\"1\" class=\"dataframe\">\n",
       "  <thead>\n",
       "    <tr style=\"text-align: right;\">\n",
       "      <th></th>\n",
       "      <th>freq_test_0</th>\n",
       "      <th>freq_test_1</th>\n",
       "    </tr>\n",
       "    <tr>\n",
       "      <th>country</th>\n",
       "      <th></th>\n",
       "      <th></th>\n",
       "    </tr>\n",
       "  </thead>\n",
       "  <tbody>\n",
       "    <tr>\n",
       "      <th>Argentina</th>\n",
       "      <td>9356</td>\n",
       "      <td>37377</td>\n",
       "    </tr>\n",
       "    <tr>\n",
       "      <th>Bolivia</th>\n",
       "      <td>5550</td>\n",
       "      <td>5574</td>\n",
       "    </tr>\n",
       "    <tr>\n",
       "      <th>Chile</th>\n",
       "      <td>9853</td>\n",
       "      <td>9884</td>\n",
       "    </tr>\n",
       "    <tr>\n",
       "      <th>Colombia</th>\n",
       "      <td>27088</td>\n",
       "      <td>26972</td>\n",
       "    </tr>\n",
       "    <tr>\n",
       "      <th>Costa Rica</th>\n",
       "      <td>2660</td>\n",
       "      <td>2649</td>\n",
       "    </tr>\n",
       "    <tr>\n",
       "      <th>Ecuador</th>\n",
       "      <td>8036</td>\n",
       "      <td>7859</td>\n",
       "    </tr>\n",
       "    <tr>\n",
       "      <th>El Salvador</th>\n",
       "      <td>4108</td>\n",
       "      <td>4067</td>\n",
       "    </tr>\n",
       "    <tr>\n",
       "      <th>Guatemala</th>\n",
       "      <td>7622</td>\n",
       "      <td>7503</td>\n",
       "    </tr>\n",
       "    <tr>\n",
       "      <th>Honduras</th>\n",
       "      <td>4361</td>\n",
       "      <td>4207</td>\n",
       "    </tr>\n",
       "    <tr>\n",
       "      <th>Mexico</th>\n",
       "      <td>64209</td>\n",
       "      <td>64275</td>\n",
       "    </tr>\n",
       "    <tr>\n",
       "      <th>Nicaragua</th>\n",
       "      <td>3419</td>\n",
       "      <td>3304</td>\n",
       "    </tr>\n",
       "    <tr>\n",
       "      <th>Panama</th>\n",
       "      <td>1966</td>\n",
       "      <td>1985</td>\n",
       "    </tr>\n",
       "    <tr>\n",
       "      <th>Paraguay</th>\n",
       "      <td>3650</td>\n",
       "      <td>3697</td>\n",
       "    </tr>\n",
       "    <tr>\n",
       "      <th>Peru</th>\n",
       "      <td>16869</td>\n",
       "      <td>16797</td>\n",
       "    </tr>\n",
       "    <tr>\n",
       "      <th>Uruguay</th>\n",
       "      <td>415</td>\n",
       "      <td>3719</td>\n",
       "    </tr>\n",
       "    <tr>\n",
       "      <th>Venezuela</th>\n",
       "      <td>16149</td>\n",
       "      <td>15905</td>\n",
       "    </tr>\n",
       "  </tbody>\n",
       "</table>\n",
       "</div>"
      ],
      "text/plain": [
       "             freq_test_0  freq_test_1\n",
       "country                              \n",
       "Argentina           9356        37377\n",
       "Bolivia             5550         5574\n",
       "Chile               9853         9884\n",
       "Colombia           27088        26972\n",
       "Costa Rica          2660         2649\n",
       "Ecuador             8036         7859\n",
       "El Salvador         4108         4067\n",
       "Guatemala           7622         7503\n",
       "Honduras            4361         4207\n",
       "Mexico             64209        64275\n",
       "Nicaragua           3419         3304\n",
       "Panama              1966         1985\n",
       "Paraguay            3650         3697\n",
       "Peru               16869        16797\n",
       "Uruguay              415         3719\n",
       "Venezuela          16149        15905"
      ]
     },
     "execution_count": 73,
     "metadata": {},
     "output_type": "execute_result"
    }
   ],
   "source": [
    "agg_df = rand.groupby('country')['test'].agg([(\"freq_test_0\", lambda x:len(x[x==0])), (\"freq_test_1\", lambda x:len(x[x==1]))])\n",
    "agg_df"
   ]
  },
  {
   "cell_type": "code",
   "execution_count": 75,
   "id": "edc2ea1c-3bfe-4fbe-9c8e-62526d277c8c",
   "metadata": {},
   "outputs": [
    {
     "name": "stdout",
     "output_type": "stream",
     "text": [
      "             freq_test_0  freq_test_1\n",
      "country                              \n",
      "Argentina       0.050488     0.173223\n",
      "Bolivia         0.029950     0.025833\n",
      "Chile           0.053170     0.045807\n",
      "Colombia        0.146176     0.125001\n",
      "Costa Rica      0.014354     0.012277\n",
      "Ecuador         0.043365     0.036422\n",
      "El Salvador     0.022168     0.018848\n",
      "Guatemala       0.041131     0.034772\n",
      "Honduras        0.023533     0.019497\n",
      "Mexico          0.346493     0.297881\n",
      "Nicaragua       0.018450     0.015312\n",
      "Panama          0.010609     0.009199\n",
      "Paraguay        0.019697     0.017134\n",
      "Peru            0.091031     0.077845\n",
      "Uruguay         0.002239     0.017236\n",
      "Venezuela       0.087145     0.073711\n"
     ]
    }
   ],
   "source": [
    "print(agg_df/agg_df.sum())"
   ]
  },
  {
   "cell_type": "code",
   "execution_count": 81,
   "id": "d9387799-a4c3-4c73-8d04-6a9c3641810e",
   "metadata": {},
   "outputs": [
    {
     "data": {
      "text/html": [
       "<div>\n",
       "<style scoped>\n",
       "    .dataframe tbody tr th:only-of-type {\n",
       "        vertical-align: middle;\n",
       "    }\n",
       "\n",
       "    .dataframe tbody tr th {\n",
       "        vertical-align: top;\n",
       "    }\n",
       "\n",
       "    .dataframe thead th {\n",
       "        text-align: right;\n",
       "    }\n",
       "</style>\n",
       "<table border=\"1\" class=\"dataframe\">\n",
       "  <thead>\n",
       "    <tr style=\"text-align: right;\">\n",
       "      <th></th>\n",
       "      <th>source</th>\n",
       "      <th>device</th>\n",
       "      <th>browser_language</th>\n",
       "      <th>browser</th>\n",
       "      <th>sex</th>\n",
       "      <th>age</th>\n",
       "      <th>country</th>\n",
       "      <th>test</th>\n",
       "      <th>conversion</th>\n",
       "    </tr>\n",
       "  </thead>\n",
       "  <tbody>\n",
       "    <tr>\n",
       "      <th>0</th>\n",
       "      <td>SEO</td>\n",
       "      <td>Web</td>\n",
       "      <td>EN</td>\n",
       "      <td>Chrome</td>\n",
       "      <td>M</td>\n",
       "      <td>38</td>\n",
       "      <td>Chile</td>\n",
       "      <td>0</td>\n",
       "      <td>0</td>\n",
       "    </tr>\n",
       "    <tr>\n",
       "      <th>1</th>\n",
       "      <td>SEO</td>\n",
       "      <td>Mobile</td>\n",
       "      <td>ES</td>\n",
       "      <td>Android_App</td>\n",
       "      <td>M</td>\n",
       "      <td>27</td>\n",
       "      <td>Colombia</td>\n",
       "      <td>0</td>\n",
       "      <td>0</td>\n",
       "    </tr>\n",
       "    <tr>\n",
       "      <th>2</th>\n",
       "      <td>SEO</td>\n",
       "      <td>Mobile</td>\n",
       "      <td>ES</td>\n",
       "      <td>Iphone_App</td>\n",
       "      <td>M</td>\n",
       "      <td>18</td>\n",
       "      <td>Guatemala</td>\n",
       "      <td>1</td>\n",
       "      <td>0</td>\n",
       "    </tr>\n",
       "    <tr>\n",
       "      <th>3</th>\n",
       "      <td>Ads</td>\n",
       "      <td>Web</td>\n",
       "      <td>ES</td>\n",
       "      <td>Chrome</td>\n",
       "      <td>M</td>\n",
       "      <td>22</td>\n",
       "      <td>Argentina</td>\n",
       "      <td>1</td>\n",
       "      <td>0</td>\n",
       "    </tr>\n",
       "    <tr>\n",
       "      <th>4</th>\n",
       "      <td>Ads</td>\n",
       "      <td>Mobile</td>\n",
       "      <td>ES</td>\n",
       "      <td>Android_App</td>\n",
       "      <td>M</td>\n",
       "      <td>19</td>\n",
       "      <td>Venezuela</td>\n",
       "      <td>1</td>\n",
       "      <td>0</td>\n",
       "    </tr>\n",
       "  </tbody>\n",
       "</table>\n",
       "</div>"
      ],
      "text/plain": [
       "  source  device browser_language      browser sex  age    country  test  \\\n",
       "0    SEO     Web               EN       Chrome   M   38      Chile     0   \n",
       "1    SEO  Mobile               ES  Android_App   M   27   Colombia     0   \n",
       "2    SEO  Mobile               ES   Iphone_App   M   18  Guatemala     1   \n",
       "3    Ads     Web               ES       Chrome   M   22  Argentina     1   \n",
       "4    Ads  Mobile               ES  Android_App   M   19  Venezuela     1   \n",
       "\n",
       "   conversion  \n",
       "0           0  \n",
       "1           0  \n",
       "2           0  \n",
       "3           0  \n",
       "4           0  "
      ]
     },
     "execution_count": 81,
     "metadata": {},
     "output_type": "execute_result"
    }
   ],
   "source": [
    "drop_df = rand.drop(['user_id'], axis = 1)\n",
    "drop_df.head()"
   ]
  },
  {
   "cell_type": "code",
   "execution_count": 83,
   "id": "7e775d82-4ea2-43d0-b825-5afd482f3977",
   "metadata": {},
   "outputs": [
    {
     "data": {
      "text/plain": [
       "(401085, 36)"
      ]
     },
     "execution_count": 83,
     "metadata": {},
     "output_type": "execute_result"
    }
   ],
   "source": [
    "dummy_df = pd.get_dummies(drop_df)\n",
    "dummy_df.shape"
   ]
  },
  {
   "cell_type": "code",
   "execution_count": 87,
   "id": "52e7c25a-72fb-40c7-a97a-b9cd47f246ca",
   "metadata": {},
   "outputs": [],
   "source": [
    "train_cols = dummy_df.drop(columns = ['test','conversion'])"
   ]
  },
  {
   "cell_type": "code",
   "execution_count": 89,
   "id": "c9b7dff9-e185-401c-a287-698f933f7b00",
   "metadata": {},
   "outputs": [
    {
     "data": {
      "text/html": [
       "<style>#sk-container-id-1 {\n",
       "  /* Definition of color scheme common for light and dark mode */\n",
       "  --sklearn-color-text: #000;\n",
       "  --sklearn-color-text-muted: #666;\n",
       "  --sklearn-color-line: gray;\n",
       "  /* Definition of color scheme for unfitted estimators */\n",
       "  --sklearn-color-unfitted-level-0: #fff5e6;\n",
       "  --sklearn-color-unfitted-level-1: #f6e4d2;\n",
       "  --sklearn-color-unfitted-level-2: #ffe0b3;\n",
       "  --sklearn-color-unfitted-level-3: chocolate;\n",
       "  /* Definition of color scheme for fitted estimators */\n",
       "  --sklearn-color-fitted-level-0: #f0f8ff;\n",
       "  --sklearn-color-fitted-level-1: #d4ebff;\n",
       "  --sklearn-color-fitted-level-2: #b3dbfd;\n",
       "  --sklearn-color-fitted-level-3: cornflowerblue;\n",
       "\n",
       "  /* Specific color for light theme */\n",
       "  --sklearn-color-text-on-default-background: var(--sg-text-color, var(--theme-code-foreground, var(--jp-content-font-color1, black)));\n",
       "  --sklearn-color-background: var(--sg-background-color, var(--theme-background, var(--jp-layout-color0, white)));\n",
       "  --sklearn-color-border-box: var(--sg-text-color, var(--theme-code-foreground, var(--jp-content-font-color1, black)));\n",
       "  --sklearn-color-icon: #696969;\n",
       "\n",
       "  @media (prefers-color-scheme: dark) {\n",
       "    /* Redefinition of color scheme for dark theme */\n",
       "    --sklearn-color-text-on-default-background: var(--sg-text-color, var(--theme-code-foreground, var(--jp-content-font-color1, white)));\n",
       "    --sklearn-color-background: var(--sg-background-color, var(--theme-background, var(--jp-layout-color0, #111)));\n",
       "    --sklearn-color-border-box: var(--sg-text-color, var(--theme-code-foreground, var(--jp-content-font-color1, white)));\n",
       "    --sklearn-color-icon: #878787;\n",
       "  }\n",
       "}\n",
       "\n",
       "#sk-container-id-1 {\n",
       "  color: var(--sklearn-color-text);\n",
       "}\n",
       "\n",
       "#sk-container-id-1 pre {\n",
       "  padding: 0;\n",
       "}\n",
       "\n",
       "#sk-container-id-1 input.sk-hidden--visually {\n",
       "  border: 0;\n",
       "  clip: rect(1px 1px 1px 1px);\n",
       "  clip: rect(1px, 1px, 1px, 1px);\n",
       "  height: 1px;\n",
       "  margin: -1px;\n",
       "  overflow: hidden;\n",
       "  padding: 0;\n",
       "  position: absolute;\n",
       "  width: 1px;\n",
       "}\n",
       "\n",
       "#sk-container-id-1 div.sk-dashed-wrapped {\n",
       "  border: 1px dashed var(--sklearn-color-line);\n",
       "  margin: 0 0.4em 0.5em 0.4em;\n",
       "  box-sizing: border-box;\n",
       "  padding-bottom: 0.4em;\n",
       "  background-color: var(--sklearn-color-background);\n",
       "}\n",
       "\n",
       "#sk-container-id-1 div.sk-container {\n",
       "  /* jupyter's `normalize.less` sets `[hidden] { display: none; }`\n",
       "     but bootstrap.min.css set `[hidden] { display: none !important; }`\n",
       "     so we also need the `!important` here to be able to override the\n",
       "     default hidden behavior on the sphinx rendered scikit-learn.org.\n",
       "     See: https://github.com/scikit-learn/scikit-learn/issues/21755 */\n",
       "  display: inline-block !important;\n",
       "  position: relative;\n",
       "}\n",
       "\n",
       "#sk-container-id-1 div.sk-text-repr-fallback {\n",
       "  display: none;\n",
       "}\n",
       "\n",
       "div.sk-parallel-item,\n",
       "div.sk-serial,\n",
       "div.sk-item {\n",
       "  /* draw centered vertical line to link estimators */\n",
       "  background-image: linear-gradient(var(--sklearn-color-text-on-default-background), var(--sklearn-color-text-on-default-background));\n",
       "  background-size: 2px 100%;\n",
       "  background-repeat: no-repeat;\n",
       "  background-position: center center;\n",
       "}\n",
       "\n",
       "/* Parallel-specific style estimator block */\n",
       "\n",
       "#sk-container-id-1 div.sk-parallel-item::after {\n",
       "  content: \"\";\n",
       "  width: 100%;\n",
       "  border-bottom: 2px solid var(--sklearn-color-text-on-default-background);\n",
       "  flex-grow: 1;\n",
       "}\n",
       "\n",
       "#sk-container-id-1 div.sk-parallel {\n",
       "  display: flex;\n",
       "  align-items: stretch;\n",
       "  justify-content: center;\n",
       "  background-color: var(--sklearn-color-background);\n",
       "  position: relative;\n",
       "}\n",
       "\n",
       "#sk-container-id-1 div.sk-parallel-item {\n",
       "  display: flex;\n",
       "  flex-direction: column;\n",
       "}\n",
       "\n",
       "#sk-container-id-1 div.sk-parallel-item:first-child::after {\n",
       "  align-self: flex-end;\n",
       "  width: 50%;\n",
       "}\n",
       "\n",
       "#sk-container-id-1 div.sk-parallel-item:last-child::after {\n",
       "  align-self: flex-start;\n",
       "  width: 50%;\n",
       "}\n",
       "\n",
       "#sk-container-id-1 div.sk-parallel-item:only-child::after {\n",
       "  width: 0;\n",
       "}\n",
       "\n",
       "/* Serial-specific style estimator block */\n",
       "\n",
       "#sk-container-id-1 div.sk-serial {\n",
       "  display: flex;\n",
       "  flex-direction: column;\n",
       "  align-items: center;\n",
       "  background-color: var(--sklearn-color-background);\n",
       "  padding-right: 1em;\n",
       "  padding-left: 1em;\n",
       "}\n",
       "\n",
       "\n",
       "/* Toggleable style: style used for estimator/Pipeline/ColumnTransformer box that is\n",
       "clickable and can be expanded/collapsed.\n",
       "- Pipeline and ColumnTransformer use this feature and define the default style\n",
       "- Estimators will overwrite some part of the style using the `sk-estimator` class\n",
       "*/\n",
       "\n",
       "/* Pipeline and ColumnTransformer style (default) */\n",
       "\n",
       "#sk-container-id-1 div.sk-toggleable {\n",
       "  /* Default theme specific background. It is overwritten whether we have a\n",
       "  specific estimator or a Pipeline/ColumnTransformer */\n",
       "  background-color: var(--sklearn-color-background);\n",
       "}\n",
       "\n",
       "/* Toggleable label */\n",
       "#sk-container-id-1 label.sk-toggleable__label {\n",
       "  cursor: pointer;\n",
       "  display: flex;\n",
       "  width: 100%;\n",
       "  margin-bottom: 0;\n",
       "  padding: 0.5em;\n",
       "  box-sizing: border-box;\n",
       "  text-align: center;\n",
       "  align-items: start;\n",
       "  justify-content: space-between;\n",
       "  gap: 0.5em;\n",
       "}\n",
       "\n",
       "#sk-container-id-1 label.sk-toggleable__label .caption {\n",
       "  font-size: 0.6rem;\n",
       "  font-weight: lighter;\n",
       "  color: var(--sklearn-color-text-muted);\n",
       "}\n",
       "\n",
       "#sk-container-id-1 label.sk-toggleable__label-arrow:before {\n",
       "  /* Arrow on the left of the label */\n",
       "  content: \"▸\";\n",
       "  float: left;\n",
       "  margin-right: 0.25em;\n",
       "  color: var(--sklearn-color-icon);\n",
       "}\n",
       "\n",
       "#sk-container-id-1 label.sk-toggleable__label-arrow:hover:before {\n",
       "  color: var(--sklearn-color-text);\n",
       "}\n",
       "\n",
       "/* Toggleable content - dropdown */\n",
       "\n",
       "#sk-container-id-1 div.sk-toggleable__content {\n",
       "  max-height: 0;\n",
       "  max-width: 0;\n",
       "  overflow: hidden;\n",
       "  text-align: left;\n",
       "  /* unfitted */\n",
       "  background-color: var(--sklearn-color-unfitted-level-0);\n",
       "}\n",
       "\n",
       "#sk-container-id-1 div.sk-toggleable__content.fitted {\n",
       "  /* fitted */\n",
       "  background-color: var(--sklearn-color-fitted-level-0);\n",
       "}\n",
       "\n",
       "#sk-container-id-1 div.sk-toggleable__content pre {\n",
       "  margin: 0.2em;\n",
       "  border-radius: 0.25em;\n",
       "  color: var(--sklearn-color-text);\n",
       "  /* unfitted */\n",
       "  background-color: var(--sklearn-color-unfitted-level-0);\n",
       "}\n",
       "\n",
       "#sk-container-id-1 div.sk-toggleable__content.fitted pre {\n",
       "  /* unfitted */\n",
       "  background-color: var(--sklearn-color-fitted-level-0);\n",
       "}\n",
       "\n",
       "#sk-container-id-1 input.sk-toggleable__control:checked~div.sk-toggleable__content {\n",
       "  /* Expand drop-down */\n",
       "  max-height: 200px;\n",
       "  max-width: 100%;\n",
       "  overflow: auto;\n",
       "}\n",
       "\n",
       "#sk-container-id-1 input.sk-toggleable__control:checked~label.sk-toggleable__label-arrow:before {\n",
       "  content: \"▾\";\n",
       "}\n",
       "\n",
       "/* Pipeline/ColumnTransformer-specific style */\n",
       "\n",
       "#sk-container-id-1 div.sk-label input.sk-toggleable__control:checked~label.sk-toggleable__label {\n",
       "  color: var(--sklearn-color-text);\n",
       "  background-color: var(--sklearn-color-unfitted-level-2);\n",
       "}\n",
       "\n",
       "#sk-container-id-1 div.sk-label.fitted input.sk-toggleable__control:checked~label.sk-toggleable__label {\n",
       "  background-color: var(--sklearn-color-fitted-level-2);\n",
       "}\n",
       "\n",
       "/* Estimator-specific style */\n",
       "\n",
       "/* Colorize estimator box */\n",
       "#sk-container-id-1 div.sk-estimator input.sk-toggleable__control:checked~label.sk-toggleable__label {\n",
       "  /* unfitted */\n",
       "  background-color: var(--sklearn-color-unfitted-level-2);\n",
       "}\n",
       "\n",
       "#sk-container-id-1 div.sk-estimator.fitted input.sk-toggleable__control:checked~label.sk-toggleable__label {\n",
       "  /* fitted */\n",
       "  background-color: var(--sklearn-color-fitted-level-2);\n",
       "}\n",
       "\n",
       "#sk-container-id-1 div.sk-label label.sk-toggleable__label,\n",
       "#sk-container-id-1 div.sk-label label {\n",
       "  /* The background is the default theme color */\n",
       "  color: var(--sklearn-color-text-on-default-background);\n",
       "}\n",
       "\n",
       "/* On hover, darken the color of the background */\n",
       "#sk-container-id-1 div.sk-label:hover label.sk-toggleable__label {\n",
       "  color: var(--sklearn-color-text);\n",
       "  background-color: var(--sklearn-color-unfitted-level-2);\n",
       "}\n",
       "\n",
       "/* Label box, darken color on hover, fitted */\n",
       "#sk-container-id-1 div.sk-label.fitted:hover label.sk-toggleable__label.fitted {\n",
       "  color: var(--sklearn-color-text);\n",
       "  background-color: var(--sklearn-color-fitted-level-2);\n",
       "}\n",
       "\n",
       "/* Estimator label */\n",
       "\n",
       "#sk-container-id-1 div.sk-label label {\n",
       "  font-family: monospace;\n",
       "  font-weight: bold;\n",
       "  display: inline-block;\n",
       "  line-height: 1.2em;\n",
       "}\n",
       "\n",
       "#sk-container-id-1 div.sk-label-container {\n",
       "  text-align: center;\n",
       "}\n",
       "\n",
       "/* Estimator-specific */\n",
       "#sk-container-id-1 div.sk-estimator {\n",
       "  font-family: monospace;\n",
       "  border: 1px dotted var(--sklearn-color-border-box);\n",
       "  border-radius: 0.25em;\n",
       "  box-sizing: border-box;\n",
       "  margin-bottom: 0.5em;\n",
       "  /* unfitted */\n",
       "  background-color: var(--sklearn-color-unfitted-level-0);\n",
       "}\n",
       "\n",
       "#sk-container-id-1 div.sk-estimator.fitted {\n",
       "  /* fitted */\n",
       "  background-color: var(--sklearn-color-fitted-level-0);\n",
       "}\n",
       "\n",
       "/* on hover */\n",
       "#sk-container-id-1 div.sk-estimator:hover {\n",
       "  /* unfitted */\n",
       "  background-color: var(--sklearn-color-unfitted-level-2);\n",
       "}\n",
       "\n",
       "#sk-container-id-1 div.sk-estimator.fitted:hover {\n",
       "  /* fitted */\n",
       "  background-color: var(--sklearn-color-fitted-level-2);\n",
       "}\n",
       "\n",
       "/* Specification for estimator info (e.g. \"i\" and \"?\") */\n",
       "\n",
       "/* Common style for \"i\" and \"?\" */\n",
       "\n",
       ".sk-estimator-doc-link,\n",
       "a:link.sk-estimator-doc-link,\n",
       "a:visited.sk-estimator-doc-link {\n",
       "  float: right;\n",
       "  font-size: smaller;\n",
       "  line-height: 1em;\n",
       "  font-family: monospace;\n",
       "  background-color: var(--sklearn-color-background);\n",
       "  border-radius: 1em;\n",
       "  height: 1em;\n",
       "  width: 1em;\n",
       "  text-decoration: none !important;\n",
       "  margin-left: 0.5em;\n",
       "  text-align: center;\n",
       "  /* unfitted */\n",
       "  border: var(--sklearn-color-unfitted-level-1) 1pt solid;\n",
       "  color: var(--sklearn-color-unfitted-level-1);\n",
       "}\n",
       "\n",
       ".sk-estimator-doc-link.fitted,\n",
       "a:link.sk-estimator-doc-link.fitted,\n",
       "a:visited.sk-estimator-doc-link.fitted {\n",
       "  /* fitted */\n",
       "  border: var(--sklearn-color-fitted-level-1) 1pt solid;\n",
       "  color: var(--sklearn-color-fitted-level-1);\n",
       "}\n",
       "\n",
       "/* On hover */\n",
       "div.sk-estimator:hover .sk-estimator-doc-link:hover,\n",
       ".sk-estimator-doc-link:hover,\n",
       "div.sk-label-container:hover .sk-estimator-doc-link:hover,\n",
       ".sk-estimator-doc-link:hover {\n",
       "  /* unfitted */\n",
       "  background-color: var(--sklearn-color-unfitted-level-3);\n",
       "  color: var(--sklearn-color-background);\n",
       "  text-decoration: none;\n",
       "}\n",
       "\n",
       "div.sk-estimator.fitted:hover .sk-estimator-doc-link.fitted:hover,\n",
       ".sk-estimator-doc-link.fitted:hover,\n",
       "div.sk-label-container:hover .sk-estimator-doc-link.fitted:hover,\n",
       ".sk-estimator-doc-link.fitted:hover {\n",
       "  /* fitted */\n",
       "  background-color: var(--sklearn-color-fitted-level-3);\n",
       "  color: var(--sklearn-color-background);\n",
       "  text-decoration: none;\n",
       "}\n",
       "\n",
       "/* Span, style for the box shown on hovering the info icon */\n",
       ".sk-estimator-doc-link span {\n",
       "  display: none;\n",
       "  z-index: 9999;\n",
       "  position: relative;\n",
       "  font-weight: normal;\n",
       "  right: .2ex;\n",
       "  padding: .5ex;\n",
       "  margin: .5ex;\n",
       "  width: min-content;\n",
       "  min-width: 20ex;\n",
       "  max-width: 50ex;\n",
       "  color: var(--sklearn-color-text);\n",
       "  box-shadow: 2pt 2pt 4pt #999;\n",
       "  /* unfitted */\n",
       "  background: var(--sklearn-color-unfitted-level-0);\n",
       "  border: .5pt solid var(--sklearn-color-unfitted-level-3);\n",
       "}\n",
       "\n",
       ".sk-estimator-doc-link.fitted span {\n",
       "  /* fitted */\n",
       "  background: var(--sklearn-color-fitted-level-0);\n",
       "  border: var(--sklearn-color-fitted-level-3);\n",
       "}\n",
       "\n",
       ".sk-estimator-doc-link:hover span {\n",
       "  display: block;\n",
       "}\n",
       "\n",
       "/* \"?\"-specific style due to the `<a>` HTML tag */\n",
       "\n",
       "#sk-container-id-1 a.estimator_doc_link {\n",
       "  float: right;\n",
       "  font-size: 1rem;\n",
       "  line-height: 1em;\n",
       "  font-family: monospace;\n",
       "  background-color: var(--sklearn-color-background);\n",
       "  border-radius: 1rem;\n",
       "  height: 1rem;\n",
       "  width: 1rem;\n",
       "  text-decoration: none;\n",
       "  /* unfitted */\n",
       "  color: var(--sklearn-color-unfitted-level-1);\n",
       "  border: var(--sklearn-color-unfitted-level-1) 1pt solid;\n",
       "}\n",
       "\n",
       "#sk-container-id-1 a.estimator_doc_link.fitted {\n",
       "  /* fitted */\n",
       "  border: var(--sklearn-color-fitted-level-1) 1pt solid;\n",
       "  color: var(--sklearn-color-fitted-level-1);\n",
       "}\n",
       "\n",
       "/* On hover */\n",
       "#sk-container-id-1 a.estimator_doc_link:hover {\n",
       "  /* unfitted */\n",
       "  background-color: var(--sklearn-color-unfitted-level-3);\n",
       "  color: var(--sklearn-color-background);\n",
       "  text-decoration: none;\n",
       "}\n",
       "\n",
       "#sk-container-id-1 a.estimator_doc_link.fitted:hover {\n",
       "  /* fitted */\n",
       "  background-color: var(--sklearn-color-fitted-level-3);\n",
       "}\n",
       "</style><div id=\"sk-container-id-1\" class=\"sk-top-container\"><div class=\"sk-text-repr-fallback\"><pre>DecisionTreeClassifier(class_weight=&#x27;balanced&#x27;, min_impurity_decrease=0.001)</pre><b>In a Jupyter environment, please rerun this cell to show the HTML representation or trust the notebook. <br />On GitHub, the HTML representation is unable to render, please try loading this page with nbviewer.org.</b></div><div class=\"sk-container\" hidden><div class=\"sk-item\"><div class=\"sk-estimator fitted sk-toggleable\"><input class=\"sk-toggleable__control sk-hidden--visually\" id=\"sk-estimator-id-1\" type=\"checkbox\" checked><label for=\"sk-estimator-id-1\" class=\"sk-toggleable__label fitted sk-toggleable__label-arrow\"><div><div>DecisionTreeClassifier</div></div><div><a class=\"sk-estimator-doc-link fitted\" rel=\"noreferrer\" target=\"_blank\" href=\"https://scikit-learn.org/1.6/modules/generated/sklearn.tree.DecisionTreeClassifier.html\">?<span>Documentation for DecisionTreeClassifier</span></a><span class=\"sk-estimator-doc-link fitted\">i<span>Fitted</span></span></div></label><div class=\"sk-toggleable__content fitted\"><pre>DecisionTreeClassifier(class_weight=&#x27;balanced&#x27;, min_impurity_decrease=0.001)</pre></div> </div></div></div></div>"
      ],
      "text/plain": [
       "DecisionTreeClassifier(class_weight='balanced', min_impurity_decrease=0.001)"
      ]
     },
     "execution_count": 89,
     "metadata": {},
     "output_type": "execute_result"
    }
   ],
   "source": [
    "tree=DecisionTreeClassifier(\n",
    "    #change weights. Our data set is now perfectly balanced. It makes easier to look at tree output\n",
    "    class_weight=\"balanced\",\n",
    "    #only split if if it's worthwhile. The default value of 0 means always split no matter what if you can increase overall performance, which creates tons of noisy and irrelevant splits\n",
    "    min_impurity_decrease = 0.001\n",
    "    )\n",
    "tree.fit(train_cols,dummy_df['test'])\n",
    "  "
   ]
  },
  {
   "cell_type": "code",
   "execution_count": 95,
   "id": "12e8a2cd-db40-410d-ad92-c7348133e624",
   "metadata": {},
   "outputs": [
    {
     "data": {
      "text/plain": [
       "[Text(0.6, 0.8333333333333334, 'country_Argentina <= 0.5\\nsamples = 100.0%\\nvalue = [0.5, 0.5]'),\n",
       " Text(0.4, 0.5, 'country_Uruguay <= 0.5\\nsamples = 88.3%\\nvalue = [0.535, 0.465]'),\n",
       " Text(0.5, 0.6666666666666667, 'True  '),\n",
       " Text(0.2, 0.16666666666666666, 'samples = 87.3%\\nvalue = [0.539, 0.461]'),\n",
       " Text(0.6, 0.16666666666666666, 'samples = 1.0%\\nvalue = [0.115, 0.885]'),\n",
       " Text(0.8, 0.5, 'samples = 11.7%\\nvalue = [0.226, 0.774]'),\n",
       " Text(0.7, 0.6666666666666667, '  False')]"
      ]
     },
     "execution_count": 95,
     "metadata": {},
     "output_type": "execute_result"
    },
    {
     "data": {
      "image/png": "[encoded data removed]",
      "text/plain": [
       "<Figure size 640x480 with 1 Axes>"
      ]
     },
     "metadata": {},
     "output_type": "display_data"
    }
   ],
   "source": [
    "# fig = plt.figure(figsize=(50,30))\n",
    "plot_tree(tree, feature_names=train_cols.columns, filled=True,\n",
    "    rounded=True,\n",
    "    fontsize=10,  # Increase font size\n",
    "    proportion=True,  # Ensures nodes are proportionate to the number of samples\n",
    "    impurity=False  # Hides impurity values for a cleaner look\n",
    ")\n"
   ]
  },
  {
   "cell_type": "code",
   "execution_count": 97,
   "id": "c6014804-d51d-4bd8-a842-ae5f6e992fbc",
   "metadata": {},
   "outputs": [
    {
     "data": {
      "text/plain": [
       "Index(['age', 'test', 'conversion', 'source_Ads', 'source_Direct',\n",
       "       'source_SEO', 'device_Mobile', 'device_Web', 'browser_language_EN',\n",
       "       'browser_language_ES', 'browser_language_Other', 'browser_Android_App',\n",
       "       'browser_Chrome', 'browser_FireFox', 'browser_IE', 'browser_Iphone_App',\n",
       "       'browser_Opera', 'browser_Safari', 'sex_F', 'sex_M',\n",
       "       'country_Argentina', 'country_Bolivia', 'country_Chile',\n",
       "       'country_Colombia', 'country_Costa Rica', 'country_Ecuador',\n",
       "       'country_El Salvador', 'country_Guatemala', 'country_Honduras',\n",
       "       'country_Mexico', 'country_Nicaragua', 'country_Panama',\n",
       "       'country_Paraguay', 'country_Peru', 'country_Uruguay',\n",
       "       'country_Venezuela'],\n",
       "      dtype='object')"
      ]
     },
     "execution_count": 97,
     "metadata": {},
     "output_type": "execute_result"
    }
   ],
   "source": [
    "dummy_df.columns"
   ]
  },
  {
   "cell_type": "code",
   "execution_count": 99,
   "id": "1858096b-aa7b-4313-a95e-6a8916e616ed",
   "metadata": {},
   "outputs": [
    {
     "data": {
      "text/html": [
       "<div>\n",
       "<style scoped>\n",
       "    .dataframe tbody tr th:only-of-type {\n",
       "        vertical-align: middle;\n",
       "    }\n",
       "\n",
       "    .dataframe tbody tr th {\n",
       "        vertical-align: top;\n",
       "    }\n",
       "\n",
       "    .dataframe thead th {\n",
       "        text-align: right;\n",
       "    }\n",
       "</style>\n",
       "<table border=\"1\" class=\"dataframe\">\n",
       "  <thead>\n",
       "    <tr style=\"text-align: right;\">\n",
       "      <th></th>\n",
       "      <th>test</th>\n",
       "      <th>country_Uruguay</th>\n",
       "      <th>country_Argentina</th>\n",
       "    </tr>\n",
       "  </thead>\n",
       "  <tbody>\n",
       "    <tr>\n",
       "      <th>0</th>\n",
       "      <td>0</td>\n",
       "      <td>0.002239</td>\n",
       "      <td>0.050488</td>\n",
       "    </tr>\n",
       "    <tr>\n",
       "      <th>1</th>\n",
       "      <td>1</td>\n",
       "      <td>0.017236</td>\n",
       "      <td>0.173223</td>\n",
       "    </tr>\n",
       "  </tbody>\n",
       "</table>\n",
       "</div>"
      ],
      "text/plain": [
       "   test  country_Uruguay  country_Argentina\n",
       "0     0         0.002239           0.050488\n",
       "1     1         0.017236           0.173223"
      ]
     },
     "execution_count": 99,
     "metadata": {},
     "output_type": "execute_result"
    }
   ],
   "source": [
    "dummy_df.groupby('test')[['country_Uruguay','country_Argentina']].mean().reset_index()"
   ]
  },
  {
   "cell_type": "code",
   "execution_count": 100,
   "id": "2ce8217a-759b-4152-87d2-a8b60c5cd6cf",
   "metadata": {},
   "outputs": [
    {
     "data": {
      "text/html": [
       "<div>\n",
       "<style scoped>\n",
       "    .dataframe tbody tr th:only-of-type {\n",
       "        vertical-align: middle;\n",
       "    }\n",
       "\n",
       "    .dataframe tbody tr th {\n",
       "        vertical-align: top;\n",
       "    }\n",
       "\n",
       "    .dataframe thead th {\n",
       "        text-align: right;\n",
       "    }\n",
       "</style>\n",
       "<table border=\"1\" class=\"dataframe\">\n",
       "  <thead>\n",
       "    <tr style=\"text-align: right;\">\n",
       "      <th></th>\n",
       "      <th>user_id</th>\n",
       "      <th>source</th>\n",
       "      <th>device</th>\n",
       "      <th>browser_language</th>\n",
       "      <th>browser</th>\n",
       "      <th>sex</th>\n",
       "      <th>age</th>\n",
       "      <th>country</th>\n",
       "      <th>test</th>\n",
       "      <th>conversion</th>\n",
       "    </tr>\n",
       "  </thead>\n",
       "  <tbody>\n",
       "    <tr>\n",
       "      <th>0</th>\n",
       "      <td>1</td>\n",
       "      <td>SEO</td>\n",
       "      <td>Web</td>\n",
       "      <td>EN</td>\n",
       "      <td>Chrome</td>\n",
       "      <td>M</td>\n",
       "      <td>38</td>\n",
       "      <td>Chile</td>\n",
       "      <td>0</td>\n",
       "      <td>0</td>\n",
       "    </tr>\n",
       "    <tr>\n",
       "      <th>1</th>\n",
       "      <td>2</td>\n",
       "      <td>SEO</td>\n",
       "      <td>Mobile</td>\n",
       "      <td>ES</td>\n",
       "      <td>Android_App</td>\n",
       "      <td>M</td>\n",
       "      <td>27</td>\n",
       "      <td>Colombia</td>\n",
       "      <td>0</td>\n",
       "      <td>0</td>\n",
       "    </tr>\n",
       "    <tr>\n",
       "      <th>2</th>\n",
       "      <td>3</td>\n",
       "      <td>SEO</td>\n",
       "      <td>Mobile</td>\n",
       "      <td>ES</td>\n",
       "      <td>Iphone_App</td>\n",
       "      <td>M</td>\n",
       "      <td>18</td>\n",
       "      <td>Guatemala</td>\n",
       "      <td>1</td>\n",
       "      <td>0</td>\n",
       "    </tr>\n",
       "    <tr>\n",
       "      <th>3</th>\n",
       "      <td>5</td>\n",
       "      <td>Ads</td>\n",
       "      <td>Web</td>\n",
       "      <td>ES</td>\n",
       "      <td>Chrome</td>\n",
       "      <td>M</td>\n",
       "      <td>22</td>\n",
       "      <td>Argentina</td>\n",
       "      <td>1</td>\n",
       "      <td>0</td>\n",
       "    </tr>\n",
       "    <tr>\n",
       "      <th>4</th>\n",
       "      <td>8</td>\n",
       "      <td>Ads</td>\n",
       "      <td>Mobile</td>\n",
       "      <td>ES</td>\n",
       "      <td>Android_App</td>\n",
       "      <td>M</td>\n",
       "      <td>19</td>\n",
       "      <td>Venezuela</td>\n",
       "      <td>1</td>\n",
       "      <td>0</td>\n",
       "    </tr>\n",
       "  </tbody>\n",
       "</table>\n",
       "</div>"
      ],
      "text/plain": [
       "   user_id source  device browser_language      browser sex  age    country  \\\n",
       "0        1    SEO     Web               EN       Chrome   M   38      Chile   \n",
       "1        2    SEO  Mobile               ES  Android_App   M   27   Colombia   \n",
       "2        3    SEO  Mobile               ES   Iphone_App   M   18  Guatemala   \n",
       "3        5    Ads     Web               ES       Chrome   M   22  Argentina   \n",
       "4        8    Ads  Mobile               ES  Android_App   M   19  Venezuela   \n",
       "\n",
       "   test  conversion  \n",
       "0     0           0  \n",
       "1     0           0  \n",
       "2     1           0  \n",
       "3     1           0  \n",
       "4     1           0  "
      ]
     },
     "execution_count": 100,
     "metadata": {},
     "output_type": "execute_result"
    }
   ],
   "source": [
    "rand.head()"
   ]
  },
  {
   "cell_type": "code",
   "execution_count": 350,
   "id": "d078d483-cf50-4f4a-bb32-50186f812209",
   "metadata": {},
   "outputs": [],
   "source": [
    "t_test = stats.ttest_ind(rand.query('test==0')['conversion'],rand.query('test==1')['conversion'], equal_var= False)"
   ]
  },
  {
   "cell_type": "code",
   "execution_count": 351,
   "id": "8f8910c4-eca1-428b-a23f-b939523c417f",
   "metadata": {},
   "outputs": [
    {
     "data": {
      "text/plain": [
       "ConfidenceInterval(low=0.0035798370383018055, high=0.006181420719843084)"
      ]
     },
     "execution_count": 351,
     "metadata": {},
     "output_type": "execute_result"
    }
   ],
   "source": [
    "t_test.confidence_interval(confidence_level=0.95)"
   ]
  },
  {
   "cell_type": "code",
   "execution_count": 104,
   "id": "d31f5a29-4c9a-4fed-8f46-57441e6f1be3",
   "metadata": {},
   "outputs": [
    {
     "data": {
      "text/html": [
       "<div>\n",
       "<style scoped>\n",
       "    .dataframe tbody tr th:only-of-type {\n",
       "        vertical-align: middle;\n",
       "    }\n",
       "\n",
       "    .dataframe tbody tr th {\n",
       "        vertical-align: top;\n",
       "    }\n",
       "\n",
       "    .dataframe thead th {\n",
       "        text-align: right;\n",
       "    }\n",
       "</style>\n",
       "<table border=\"1\" class=\"dataframe\">\n",
       "  <thead>\n",
       "    <tr style=\"text-align: right;\">\n",
       "      <th></th>\n",
       "      <th>user_id</th>\n",
       "      <th>source</th>\n",
       "      <th>device</th>\n",
       "      <th>browser_language</th>\n",
       "      <th>browser</th>\n",
       "      <th>sex</th>\n",
       "      <th>age</th>\n",
       "      <th>country</th>\n",
       "      <th>test</th>\n",
       "      <th>conversion</th>\n",
       "    </tr>\n",
       "  </thead>\n",
       "  <tbody>\n",
       "    <tr>\n",
       "      <th>0</th>\n",
       "      <td>1</td>\n",
       "      <td>SEO</td>\n",
       "      <td>Web</td>\n",
       "      <td>EN</td>\n",
       "      <td>Chrome</td>\n",
       "      <td>M</td>\n",
       "      <td>38</td>\n",
       "      <td>Chile</td>\n",
       "      <td>0</td>\n",
       "      <td>0</td>\n",
       "    </tr>\n",
       "    <tr>\n",
       "      <th>1</th>\n",
       "      <td>2</td>\n",
       "      <td>SEO</td>\n",
       "      <td>Mobile</td>\n",
       "      <td>ES</td>\n",
       "      <td>Android_App</td>\n",
       "      <td>M</td>\n",
       "      <td>27</td>\n",
       "      <td>Colombia</td>\n",
       "      <td>0</td>\n",
       "      <td>0</td>\n",
       "    </tr>\n",
       "    <tr>\n",
       "      <th>2</th>\n",
       "      <td>3</td>\n",
       "      <td>SEO</td>\n",
       "      <td>Mobile</td>\n",
       "      <td>ES</td>\n",
       "      <td>Iphone_App</td>\n",
       "      <td>M</td>\n",
       "      <td>18</td>\n",
       "      <td>Guatemala</td>\n",
       "      <td>1</td>\n",
       "      <td>0</td>\n",
       "    </tr>\n",
       "    <tr>\n",
       "      <th>4</th>\n",
       "      <td>8</td>\n",
       "      <td>Ads</td>\n",
       "      <td>Mobile</td>\n",
       "      <td>ES</td>\n",
       "      <td>Android_App</td>\n",
       "      <td>M</td>\n",
       "      <td>19</td>\n",
       "      <td>Venezuela</td>\n",
       "      <td>1</td>\n",
       "      <td>0</td>\n",
       "    </tr>\n",
       "    <tr>\n",
       "      <th>5</th>\n",
       "      <td>11</td>\n",
       "      <td>Ads</td>\n",
       "      <td>Web</td>\n",
       "      <td>ES</td>\n",
       "      <td>Chrome</td>\n",
       "      <td>F</td>\n",
       "      <td>28</td>\n",
       "      <td>Colombia</td>\n",
       "      <td>1</td>\n",
       "      <td>0</td>\n",
       "    </tr>\n",
       "    <tr>\n",
       "      <th>...</th>\n",
       "      <td>...</td>\n",
       "      <td>...</td>\n",
       "      <td>...</td>\n",
       "      <td>...</td>\n",
       "      <td>...</td>\n",
       "      <td>...</td>\n",
       "      <td>...</td>\n",
       "      <td>...</td>\n",
       "      <td>...</td>\n",
       "      <td>...</td>\n",
       "    </tr>\n",
       "    <tr>\n",
       "      <th>401079</th>\n",
       "      <td>999989</td>\n",
       "      <td>SEO</td>\n",
       "      <td>Mobile</td>\n",
       "      <td>ES</td>\n",
       "      <td>Android_App</td>\n",
       "      <td>M</td>\n",
       "      <td>18</td>\n",
       "      <td>Guatemala</td>\n",
       "      <td>0</td>\n",
       "      <td>1</td>\n",
       "    </tr>\n",
       "    <tr>\n",
       "      <th>401080</th>\n",
       "      <td>999993</td>\n",
       "      <td>Ads</td>\n",
       "      <td>Web</td>\n",
       "      <td>ES</td>\n",
       "      <td>Chrome</td>\n",
       "      <td>M</td>\n",
       "      <td>30</td>\n",
       "      <td>Venezuela</td>\n",
       "      <td>0</td>\n",
       "      <td>0</td>\n",
       "    </tr>\n",
       "    <tr>\n",
       "      <th>401081</th>\n",
       "      <td>999996</td>\n",
       "      <td>Direct</td>\n",
       "      <td>Mobile</td>\n",
       "      <td>EN</td>\n",
       "      <td>Iphone_App</td>\n",
       "      <td>M</td>\n",
       "      <td>28</td>\n",
       "      <td>Costa Rica</td>\n",
       "      <td>0</td>\n",
       "      <td>0</td>\n",
       "    </tr>\n",
       "    <tr>\n",
       "      <th>401083</th>\n",
       "      <td>999999</td>\n",
       "      <td>Ads</td>\n",
       "      <td>Mobile</td>\n",
       "      <td>EN</td>\n",
       "      <td>Android_App</td>\n",
       "      <td>M</td>\n",
       "      <td>23</td>\n",
       "      <td>Venezuela</td>\n",
       "      <td>1</td>\n",
       "      <td>0</td>\n",
       "    </tr>\n",
       "    <tr>\n",
       "      <th>401084</th>\n",
       "      <td>1000000</td>\n",
       "      <td>Ads</td>\n",
       "      <td>Mobile</td>\n",
       "      <td>ES</td>\n",
       "      <td>Android_App</td>\n",
       "      <td>F</td>\n",
       "      <td>22</td>\n",
       "      <td>Colombia</td>\n",
       "      <td>0</td>\n",
       "      <td>0</td>\n",
       "    </tr>\n",
       "  </tbody>\n",
       "</table>\n",
       "<p>350218 rows × 10 columns</p>\n",
       "</div>"
      ],
      "text/plain": [
       "        user_id  source  device browser_language      browser sex  age  \\\n",
       "0             1     SEO     Web               EN       Chrome   M   38   \n",
       "1             2     SEO  Mobile               ES  Android_App   M   27   \n",
       "2             3     SEO  Mobile               ES   Iphone_App   M   18   \n",
       "4             8     Ads  Mobile               ES  Android_App   M   19   \n",
       "5            11     Ads     Web               ES       Chrome   F   28   \n",
       "...         ...     ...     ...              ...          ...  ..  ...   \n",
       "401079   999989     SEO  Mobile               ES  Android_App   M   18   \n",
       "401080   999993     Ads     Web               ES       Chrome   M   30   \n",
       "401081   999996  Direct  Mobile               EN   Iphone_App   M   28   \n",
       "401083   999999     Ads  Mobile               EN  Android_App   M   23   \n",
       "401084  1000000     Ads  Mobile               ES  Android_App   F   22   \n",
       "\n",
       "           country  test  conversion  \n",
       "0            Chile     0           0  \n",
       "1         Colombia     0           0  \n",
       "2        Guatemala     1           0  \n",
       "4        Venezuela     1           0  \n",
       "5         Colombia     1           0  \n",
       "...            ...   ...         ...  \n",
       "401079   Guatemala     0           1  \n",
       "401080   Venezuela     0           0  \n",
       "401081  Costa Rica     0           0  \n",
       "401083   Venezuela     1           0  \n",
       "401084    Colombia     0           0  \n",
       "\n",
       "[350218 rows x 10 columns]"
      ]
     },
     "execution_count": 104,
     "metadata": {},
     "output_type": "execute_result"
    }
   ],
   "source": [
    "clean_df = rand.loc[~rand['country'].isin(['Uruguay','Argentina'])]\n",
    "clean_df"
   ]
  },
  {
   "cell_type": "code",
   "execution_count": 105,
   "id": "93cf2fa8-70ba-4adb-8fa9-33dcc8c8f407",
   "metadata": {},
   "outputs": [
    {
     "data": {
      "text/plain": [
       "(401085, 10)"
      ]
     },
     "execution_count": 105,
     "metadata": {},
     "output_type": "execute_result"
    }
   ],
   "source": [
    "rand.shape"
   ]
  },
  {
   "cell_type": "code",
   "execution_count": 106,
   "id": "09a7754d-d15b-4462-989c-cefe24e83053",
   "metadata": {},
   "outputs": [
    {
     "data": {
      "text/plain": [
       "TtestResult(statistic=-0.3583455794481447, pvalue=0.7200849282884503, df=350196.74523927376)"
      ]
     },
     "execution_count": 106,
     "metadata": {},
     "output_type": "execute_result"
    }
   ],
   "source": [
    "stats.ttest_ind(clean_df.query('test==0')['conversion'],clean_df.query('test==1')['conversion'], equal_var= False)"
   ]
  },
  {
   "cell_type": "code",
   "execution_count": 107,
   "id": "06c7296a-b732-4fe0-b331-019d75615502",
   "metadata": {},
   "outputs": [],
   "source": [
    "# exerise"
   ]
  },
  {
   "cell_type": "code",
   "execution_count": 109,
   "id": "cb10e81a-ec64-4bc4-a96e-a1a657af427e",
   "metadata": {},
   "outputs": [],
   "source": [
    "sub_df = rand.loc[rand['country'].isin(['Uruguay','Argentina'])]"
   ]
  },
  {
   "cell_type": "code",
   "execution_count": 114,
   "id": "440039ac-aba7-4f9d-8ded-7a6cab20e6d0",
   "metadata": {},
   "outputs": [
    {
     "data": {
      "text/html": [
       "<div>\n",
       "<style scoped>\n",
       "    .dataframe tbody tr th:only-of-type {\n",
       "        vertical-align: middle;\n",
       "    }\n",
       "\n",
       "    .dataframe tbody tr th {\n",
       "        vertical-align: top;\n",
       "    }\n",
       "\n",
       "    .dataframe thead th {\n",
       "        text-align: right;\n",
       "    }\n",
       "</style>\n",
       "<table border=\"1\" class=\"dataframe\">\n",
       "  <thead>\n",
       "    <tr style=\"text-align: right;\">\n",
       "      <th></th>\n",
       "      <th>test</th>\n",
       "      <th>country</th>\n",
       "      <th>tot_users</th>\n",
       "    </tr>\n",
       "  </thead>\n",
       "  <tbody>\n",
       "    <tr>\n",
       "      <th>0</th>\n",
       "      <td>0</td>\n",
       "      <td>Argentina</td>\n",
       "      <td>9356</td>\n",
       "    </tr>\n",
       "    <tr>\n",
       "      <th>1</th>\n",
       "      <td>0</td>\n",
       "      <td>Uruguay</td>\n",
       "      <td>415</td>\n",
       "    </tr>\n",
       "    <tr>\n",
       "      <th>2</th>\n",
       "      <td>1</td>\n",
       "      <td>Argentina</td>\n",
       "      <td>37377</td>\n",
       "    </tr>\n",
       "    <tr>\n",
       "      <th>3</th>\n",
       "      <td>1</td>\n",
       "      <td>Uruguay</td>\n",
       "      <td>3719</td>\n",
       "    </tr>\n",
       "  </tbody>\n",
       "</table>\n",
       "</div>"
      ],
      "text/plain": [
       "   test    country  tot_users\n",
       "0     0  Argentina       9356\n",
       "1     0    Uruguay        415\n",
       "2     1  Argentina      37377\n",
       "3     1    Uruguay       3719"
      ]
     },
     "execution_count": 114,
     "metadata": {},
     "output_type": "execute_result"
    }
   ],
   "source": [
    "country_counts = sub_df.groupby(['test', 'country']).size().reset_index(name = 'tot_users')\n",
    "country_counts "
   ]
  },
  {
   "cell_type": "code",
   "execution_count": 124,
   "id": "05370554-ecc8-45a5-bac9-68c17a1d20c9",
   "metadata": {},
   "outputs": [
    {
     "data": {
      "text/html": [
       "<div>\n",
       "<style scoped>\n",
       "    .dataframe tbody tr th:only-of-type {\n",
       "        vertical-align: middle;\n",
       "    }\n",
       "\n",
       "    .dataframe tbody tr th {\n",
       "        vertical-align: top;\n",
       "    }\n",
       "\n",
       "    .dataframe thead th {\n",
       "        text-align: right;\n",
       "    }\n",
       "</style>\n",
       "<table border=\"1\" class=\"dataframe\">\n",
       "  <thead>\n",
       "    <tr style=\"text-align: right;\">\n",
       "      <th></th>\n",
       "      <th>Argentina</th>\n",
       "      <th>Uruguay</th>\n",
       "    </tr>\n",
       "    <tr>\n",
       "      <th>test</th>\n",
       "      <th></th>\n",
       "      <th></th>\n",
       "    </tr>\n",
       "  </thead>\n",
       "  <tbody>\n",
       "    <tr>\n",
       "      <th>0</th>\n",
       "      <td>9356</td>\n",
       "      <td>415</td>\n",
       "    </tr>\n",
       "    <tr>\n",
       "      <th>1</th>\n",
       "      <td>37377</td>\n",
       "      <td>3719</td>\n",
       "    </tr>\n",
       "  </tbody>\n",
       "</table>\n",
       "</div>"
      ],
      "text/plain": [
       "      Argentina  Uruguay\n",
       "test                    \n",
       "0          9356      415\n",
       "1         37377     3719"
      ]
     },
     "execution_count": 124,
     "metadata": {},
     "output_type": "execute_result"
    }
   ],
   "source": [
    "sub_df.groupby('test')['country'].agg([('Argentina', lambda x :len(x[x=='Argentina'])),\\\n",
    "('Uruguay', lambda x: len(x[x=='Uruguay']))])"
   ]
  },
  {
   "cell_type": "code",
   "execution_count": 126,
   "id": "22405c9d-b000-40e1-b64b-8dacc2b86b3f",
   "metadata": {},
   "outputs": [
    {
     "data": {
      "text/plain": [
       "401085"
      ]
     },
     "execution_count": 126,
     "metadata": {},
     "output_type": "execute_result"
    }
   ],
   "source": [
    "country_counts = rand.groupby(['test', 'country']).size().unstack(fill_value=0)\n",
    "total_users = rand.shape[0]\n",
    "total_users"
   ]
  },
  {
   "cell_type": "code",
   "execution_count": 128,
   "id": "2744b4f4-a225-479e-8625-12cb060d32e7",
   "metadata": {},
   "outputs": [
    {
     "data": {
      "text/plain": [
       "Index(['Argentina', 'Bolivia', 'Chile', 'Colombia', 'Costa Rica', 'Ecuador',\n",
       "       'El Salvador', 'Guatemala', 'Honduras', 'Mexico', 'Nicaragua', 'Panama',\n",
       "       'Paraguay', 'Peru', 'Uruguay', 'Venezuela'],\n",
       "      dtype='object', name='country')"
      ]
     },
     "execution_count": 128,
     "metadata": {},
     "output_type": "execute_result"
    }
   ],
   "source": [
    "country_counts.columns"
   ]
  },
  {
   "cell_type": "code",
   "execution_count": 130,
   "id": "2fc5dc42-20c4-4565-ad6a-207b1c284a6f",
   "metadata": {},
   "outputs": [
    {
     "data": {
      "text/plain": [
       "test\n",
       "0     9356\n",
       "1    37377\n",
       "Name: Argentina, dtype: int64"
      ]
     },
     "execution_count": 130,
     "metadata": {},
     "output_type": "execute_result"
    }
   ],
   "source": [
    "country_counts['Argentina']"
   ]
  },
  {
   "cell_type": "code",
   "execution_count": 134,
   "id": "5e0ec224-bf21-4101-8836-2b03da54973e",
   "metadata": {},
   "outputs": [
    {
     "data": {
      "text/plain": [
       "185311"
      ]
     },
     "execution_count": 134,
     "metadata": {},
     "output_type": "execute_result"
    }
   ],
   "source": [
    "country_counts.loc[0].sum()"
   ]
  },
  {
   "cell_type": "code",
   "execution_count": 135,
   "id": "da027d09-acd5-427f-af6d-08298a78bb4d",
   "metadata": {},
   "outputs": [
    {
     "data": {
      "text/plain": [
       "215774"
      ]
     },
     "execution_count": 135,
     "metadata": {},
     "output_type": "execute_result"
    }
   ],
   "source": [
    "country_counts.loc[1].sum()"
   ]
  },
  {
   "cell_type": "code",
   "execution_count": 131,
   "id": "1f7c5c28-92df-41cd-ba3a-d16f8101fd3f",
   "metadata": {},
   "outputs": [
    {
     "data": {
      "text/plain": [
       "9356"
      ]
     },
     "execution_count": 131,
     "metadata": {},
     "output_type": "execute_result"
    }
   ],
   "source": [
    "(len(country_counts.loc[0,'Argentina']) + x)/(x+country_counts.loc[0].sum()) = "
   ]
  },
  {
   "cell_type": "markdown",
   "id": "8f180c72-f44f-40f8-9433-5563ba61f383",
   "metadata": {},
   "source": [
    "# Novelty Effect"
   ]
  },
  {
   "cell_type": "code",
   "execution_count": 12,
   "id": "57cbcf52-b920-4cc2-8ca3-e31a0c72d35a",
   "metadata": {},
   "outputs": [
    {
     "data": {
      "text/html": [
       "<div>\n",
       "<style scoped>\n",
       "    .dataframe tbody tr th:only-of-type {\n",
       "        vertical-align: middle;\n",
       "    }\n",
       "\n",
       "    .dataframe tbody tr th {\n",
       "        vertical-align: top;\n",
       "    }\n",
       "\n",
       "    .dataframe thead th {\n",
       "        text-align: right;\n",
       "    }\n",
       "</style>\n",
       "<table border=\"1\" class=\"dataframe\">\n",
       "  <thead>\n",
       "    <tr style=\"text-align: right;\">\n",
       "      <th></th>\n",
       "      <th>user_id</th>\n",
       "      <th>signup_date</th>\n",
       "      <th>test_date</th>\n",
       "      <th>browser</th>\n",
       "      <th>test</th>\n",
       "      <th>pages_visited</th>\n",
       "    </tr>\n",
       "  </thead>\n",
       "  <tbody>\n",
       "    <tr>\n",
       "      <th>0</th>\n",
       "      <td>34</td>\n",
       "      <td>2015-01-01</td>\n",
       "      <td>2015-08-15</td>\n",
       "      <td>Chrome</td>\n",
       "      <td>0</td>\n",
       "      <td>6</td>\n",
       "    </tr>\n",
       "    <tr>\n",
       "      <th>1</th>\n",
       "      <td>59</td>\n",
       "      <td>2015-01-01</td>\n",
       "      <td>2015-08-12</td>\n",
       "      <td>Chrome</td>\n",
       "      <td>1</td>\n",
       "      <td>6</td>\n",
       "    </tr>\n",
       "    <tr>\n",
       "      <th>2</th>\n",
       "      <td>178</td>\n",
       "      <td>2015-01-01</td>\n",
       "      <td>2015-08-10</td>\n",
       "      <td>Safari</td>\n",
       "      <td>1</td>\n",
       "      <td>3</td>\n",
       "    </tr>\n",
       "    <tr>\n",
       "      <th>3</th>\n",
       "      <td>383</td>\n",
       "      <td>2015-01-01</td>\n",
       "      <td>2015-08-05</td>\n",
       "      <td>Firefox</td>\n",
       "      <td>1</td>\n",
       "      <td>9</td>\n",
       "    </tr>\n",
       "    <tr>\n",
       "      <th>4</th>\n",
       "      <td>397</td>\n",
       "      <td>2015-01-01</td>\n",
       "      <td>2015-08-27</td>\n",
       "      <td>IE</td>\n",
       "      <td>0</td>\n",
       "      <td>1</td>\n",
       "    </tr>\n",
       "  </tbody>\n",
       "</table>\n",
       "</div>"
      ],
      "text/plain": [
       "   user_id signup_date   test_date  browser  test  pages_visited\n",
       "0       34  2015-01-01  2015-08-15   Chrome     0              6\n",
       "1       59  2015-01-01  2015-08-12   Chrome     1              6\n",
       "2      178  2015-01-01  2015-08-10   Safari     1              3\n",
       "3      383  2015-01-01  2015-08-05  Firefox     1              9\n",
       "4      397  2015-01-01  2015-08-27       IE     0              1"
      ]
     },
     "execution_count": 12,
     "metadata": {},
     "output_type": "execute_result"
    }
   ],
   "source": [
    "df = pd.read_csv('novelty_effect.csv')\n",
    "df.head()"
   ]
  },
  {
   "cell_type": "code",
   "execution_count": 13,
   "id": "2c12e571-77e5-474d-b010-d6258e7fa5f8",
   "metadata": {},
   "outputs": [
    {
     "data": {
      "text/html": [
       "<div>\n",
       "<style scoped>\n",
       "    .dataframe tbody tr th:only-of-type {\n",
       "        vertical-align: middle;\n",
       "    }\n",
       "\n",
       "    .dataframe tbody tr th {\n",
       "        vertical-align: top;\n",
       "    }\n",
       "\n",
       "    .dataframe thead th {\n",
       "        text-align: right;\n",
       "    }\n",
       "</style>\n",
       "<table border=\"1\" class=\"dataframe\">\n",
       "  <thead>\n",
       "    <tr style=\"text-align: right;\">\n",
       "      <th></th>\n",
       "      <th>count</th>\n",
       "      <th>nunique</th>\n",
       "    </tr>\n",
       "    <tr>\n",
       "      <th>test</th>\n",
       "      <th></th>\n",
       "      <th></th>\n",
       "    </tr>\n",
       "  </thead>\n",
       "  <tbody>\n",
       "    <tr>\n",
       "      <th>0</th>\n",
       "      <td>48737</td>\n",
       "      <td>48737</td>\n",
       "    </tr>\n",
       "    <tr>\n",
       "      <th>1</th>\n",
       "      <td>49136</td>\n",
       "      <td>49136</td>\n",
       "    </tr>\n",
       "  </tbody>\n",
       "</table>\n",
       "</div>"
      ],
      "text/plain": [
       "      count  nunique\n",
       "test                \n",
       "0     48737    48737\n",
       "1     49136    49136"
      ]
     },
     "execution_count": 13,
     "metadata": {},
     "output_type": "execute_result"
    }
   ],
   "source": [
    "df.groupby('test')['user_id'].agg({'count','nunique'})"
   ]
  },
  {
   "cell_type": "code",
   "execution_count": 31,
   "id": "b335f311-407e-408a-8f08-c91889d12ba9",
   "metadata": {},
   "outputs": [],
   "source": [
    "# method 1\n",
    "result = stats.ttest_ind(df.query('test==0')['pages_visited'], df.query('test==1')['pages_visited'],equal_var = False)"
   ]
  },
  {
   "cell_type": "code",
   "execution_count": 34,
   "id": "325f126e-dbb9-4ef9-b66b-181997aaa919",
   "metadata": {},
   "outputs": [
    {
     "data": {
      "text/plain": [
       "ConfidenceInterval(low=-0.11568527137057465, high=-0.05468628299534502)"
      ]
     },
     "execution_count": 34,
     "metadata": {},
     "output_type": "execute_result"
    }
   ],
   "source": [
    "result.confidence_interval(confidence_level=0.95)"
   ]
  },
  {
   "cell_type": "code",
   "execution_count": 15,
   "id": "f277efc9-3e47-407a-b647-ec4a53a631b1",
   "metadata": {},
   "outputs": [
    {
     "data": {
      "text/html": [
       "<div>\n",
       "<style scoped>\n",
       "    .dataframe tbody tr th:only-of-type {\n",
       "        vertical-align: middle;\n",
       "    }\n",
       "\n",
       "    .dataframe tbody tr th {\n",
       "        vertical-align: top;\n",
       "    }\n",
       "\n",
       "    .dataframe thead th {\n",
       "        text-align: right;\n",
       "    }\n",
       "</style>\n",
       "<table border=\"1\" class=\"dataframe\">\n",
       "  <thead>\n",
       "    <tr style=\"text-align: right;\">\n",
       "      <th></th>\n",
       "      <th>test</th>\n",
       "      <th>avg_page_visited</th>\n",
       "    </tr>\n",
       "  </thead>\n",
       "  <tbody>\n",
       "    <tr>\n",
       "      <th>0</th>\n",
       "      <td>0</td>\n",
       "      <td>4.609804</td>\n",
       "    </tr>\n",
       "    <tr>\n",
       "      <th>1</th>\n",
       "      <td>1</td>\n",
       "      <td>4.694989</td>\n",
       "    </tr>\n",
       "  </tbody>\n",
       "</table>\n",
       "</div>"
      ],
      "text/plain": [
       "   test  avg_page_visited\n",
       "0     0          4.609804\n",
       "1     1          4.694989"
      ]
     },
     "execution_count": 15,
     "metadata": {},
     "output_type": "execute_result"
    }
   ],
   "source": [
    "# method 2\n",
    "agg_df = df.groupby(['test'])['pages_visited'].mean().reset_index(name ='avg_page_visited')\n",
    "agg_df"
   ]
  },
  {
   "cell_type": "code",
   "execution_count": 17,
   "id": "7e46e182-509e-4f7b-90fb-c81e7386b6f0",
   "metadata": {},
   "outputs": [
    {
     "data": {
      "text/plain": [
       "2.124610027820732"
      ]
     },
     "execution_count": 17,
     "metadata": {},
     "output_type": "execute_result"
    }
   ],
   "source": [
    "s_1 = np.std(df.query('test==1')['pages_visited'],ddof =1)\n",
    "s_1"
   ]
  },
  {
   "cell_type": "code",
   "execution_count": 18,
   "id": "a09c94b2-64ed-41d5-ba90-4e8301a27a15",
   "metadata": {},
   "outputs": [
    {
     "data": {
      "text/plain": [
       "2.706319950642741"
      ]
     },
     "execution_count": 18,
     "metadata": {},
     "output_type": "execute_result"
    }
   ],
   "source": [
    "s_0 = np.std(df.query('test==0')['pages_visited'],ddof =1)\n",
    "s_0"
   ]
  },
  {
   "cell_type": "code",
   "execution_count": 19,
   "id": "475e21f5-69b2-48c3-84a2-0b9a5594d2f8",
   "metadata": {},
   "outputs": [
    {
     "data": {
      "text/plain": [
       "49136"
      ]
     },
     "execution_count": 19,
     "metadata": {},
     "output_type": "execute_result"
    }
   ],
   "source": [
    "n_1 = df.query('test==1').shape[0]\n",
    "n_1"
   ]
  },
  {
   "cell_type": "code",
   "execution_count": 20,
   "id": "bd6da2cc-f951-43a1-94a0-7ad3b18de8fb",
   "metadata": {},
   "outputs": [
    {
     "data": {
      "text/plain": [
       "48737"
      ]
     },
     "execution_count": 20,
     "metadata": {},
     "output_type": "execute_result"
    }
   ],
   "source": [
    "n_0 = df.query('test==0').shape[0]\n",
    "n_0"
   ]
  },
  {
   "cell_type": "code",
   "execution_count": 21,
   "id": "07d4828c-150b-482f-9bfc-f476240ff113",
   "metadata": {},
   "outputs": [
    {
     "name": "stderr",
     "output_type": "stream",
     "text": [
      "/var/folders/zq/hqq8b43s3fj4rb11sgc943bw0000gn/T/ipykernel_80219/627517656.py:1: FutureWarning: Series.__getitem__ treating keys as positions is deprecated. In a future version, integer keys will always be treated as labels (consistent with DataFrame behavior). To access a value by position, use `ser.iloc[pos]`\n",
      "  t = (agg_df.iloc[0][1]-agg_df.iloc[1][1])/np.sqrt(s_1**2/n_1+s_0**2/n_0)\n"
     ]
    },
    {
     "data": {
      "text/plain": [
       "-5.474295518566027"
      ]
     },
     "execution_count": 21,
     "metadata": {},
     "output_type": "execute_result"
    }
   ],
   "source": [
    "t = (agg_df.iloc[0][1]-agg_df.iloc[1][1])/np.sqrt(s_1**2/n_1+s_0**2/n_0)\n",
    "t"
   ]
  },
  {
   "cell_type": "code",
   "execution_count": 23,
   "id": "23f700ec-b926-4e43-9750-d02007da1490",
   "metadata": {},
   "outputs": [],
   "source": [
    "import scipy.stats as stats"
   ]
  },
  {
   "cell_type": "code",
   "execution_count": 28,
   "id": "5f859cd4-e364-44ed-94db-e7f05197c83a",
   "metadata": {},
   "outputs": [
    {
     "data": {
      "text/plain": [
       "4.392555164045575e-08"
      ]
     },
     "execution_count": 28,
     "metadata": {},
     "output_type": "execute_result"
    }
   ],
   "source": [
    "2*(1-stats.norm.cdf(abs(t)))"
   ]
  },
  {
   "cell_type": "code",
   "execution_count": 142,
   "id": "f23747e6-9a49-45f8-ae9a-958fd82300d4",
   "metadata": {},
   "outputs": [],
   "source": [
    "# for old users\n",
    "ab_test_old = stats.ttest_ind(df.query('test==0 and test_date != signup_date')['pages_visited'], df.query('test==1 and test_date != signup_date')['pages_visited'],equal_var = False)"
   ]
  },
  {
   "cell_type": "code",
   "execution_count": 141,
   "id": "aececc3b-b8f3-4612-95af-30f82e455eb7",
   "metadata": {},
   "outputs": [
    {
     "data": {
      "text/plain": [
       "TtestResult(statistic=1.0809363577979878, pvalue=0.27973874896130424, df=19563.34110900016)"
      ]
     },
     "execution_count": 141,
     "metadata": {},
     "output_type": "execute_result"
    }
   ],
   "source": [
    "# for new users\n",
    "stats.ttest_ind(df.query('test==0 and test_date == signup_date')['pages_visited'], df.query('test==1 and test_date == signup_date')['pages_visited'],equal_var = False)"
   ]
  },
  {
   "cell_type": "code",
   "execution_count": null,
   "id": "ba765dc1-b7ce-4c1c-910d-036f04feb32b",
   "metadata": {},
   "outputs": [],
   "source": []
  },
  {
   "cell_type": "code",
   "execution_count": 30,
   "id": "5bf15c09-857c-4056-822e-81f4c1b3edec",
   "metadata": {},
   "outputs": [
    {
     "data": {
      "text/plain": [
       "1.959963984540054"
      ]
     },
     "execution_count": 30,
     "metadata": {},
     "output_type": "execute_result"
    }
   ],
   "source": [
    "stats.norm.ppf(1-0.05/2)"
   ]
  },
  {
   "cell_type": "code",
   "execution_count": null,
   "id": "04ec9f98-9f8e-49a5-9cbe-90aa7ed07e4e",
   "metadata": {},
   "outputs": [],
   "source": []
  },
  {
   "cell_type": "code",
   "execution_count": 144,
   "id": "32ff5530-fc8b-4afa-9635-cda8d16a2338",
   "metadata": {},
   "outputs": [
    {
     "name": "stdout",
     "output_type": "stream",
     "text": [
      "Returning users: Statistically worse results\n"
     ]
    }
   ],
   "source": [
    "if (ab_test_old.pvalue>0.05/2):\n",
    "  print (\"Returning users: Non-significant results\")\n",
    "elif (ab_test_old.statistic>0):\n",
    "  print (\"Returning users: Statistically better results\")\n",
    "else:\n",
    "  print (\"Returning users: Statistically worse results\")"
   ]
  },
  {
   "cell_type": "code",
   "execution_count": 145,
   "id": "df0fdde1-2b34-4791-aa92-f8bd94cd9baa",
   "metadata": {},
   "outputs": [],
   "source": [
    "# right tail or left tail?"
   ]
  },
  {
   "cell_type": "markdown",
   "id": "efe09d9b-ecfb-41bc-8f92-6c46d36f0296",
   "metadata": {},
   "source": [
    "# A/B Testing: User Referral Program"
   ]
  },
  {
   "cell_type": "code",
   "execution_count": 147,
   "id": "a4d539f5-600a-493e-94a8-00ee6ce18122",
   "metadata": {},
   "outputs": [
    {
     "data": {
      "text/html": [
       "<div>\n",
       "<style scoped>\n",
       "    .dataframe tbody tr th:only-of-type {\n",
       "        vertical-align: middle;\n",
       "    }\n",
       "\n",
       "    .dataframe tbody tr th {\n",
       "        vertical-align: top;\n",
       "    }\n",
       "\n",
       "    .dataframe thead th {\n",
       "        text-align: right;\n",
       "    }\n",
       "</style>\n",
       "<table border=\"1\" class=\"dataframe\">\n",
       "  <thead>\n",
       "    <tr style=\"text-align: right;\">\n",
       "      <th></th>\n",
       "      <th>user_id</th>\n",
       "      <th>date</th>\n",
       "      <th>country</th>\n",
       "      <th>money_spent</th>\n",
       "      <th>is_referral</th>\n",
       "      <th>device_id</th>\n",
       "    </tr>\n",
       "  </thead>\n",
       "  <tbody>\n",
       "    <tr>\n",
       "      <th>0</th>\n",
       "      <td>2</td>\n",
       "      <td>2015-10-03</td>\n",
       "      <td>FR</td>\n",
       "      <td>65</td>\n",
       "      <td>0</td>\n",
       "      <td>EVDCJTZMVMJDG</td>\n",
       "    </tr>\n",
       "    <tr>\n",
       "      <th>1</th>\n",
       "      <td>3</td>\n",
       "      <td>2015-10-03</td>\n",
       "      <td>CA</td>\n",
       "      <td>54</td>\n",
       "      <td>0</td>\n",
       "      <td>WUBZFTVKXGQQX</td>\n",
       "    </tr>\n",
       "    <tr>\n",
       "      <th>2</th>\n",
       "      <td>6</td>\n",
       "      <td>2015-10-03</td>\n",
       "      <td>FR</td>\n",
       "      <td>35</td>\n",
       "      <td>0</td>\n",
       "      <td>CBAPCJRTFNUJG</td>\n",
       "    </tr>\n",
       "    <tr>\n",
       "      <th>3</th>\n",
       "      <td>7</td>\n",
       "      <td>2015-10-03</td>\n",
       "      <td>UK</td>\n",
       "      <td>73</td>\n",
       "      <td>0</td>\n",
       "      <td>PRGXJZAJKMXRH</td>\n",
       "    </tr>\n",
       "    <tr>\n",
       "      <th>4</th>\n",
       "      <td>7</td>\n",
       "      <td>2015-10-03</td>\n",
       "      <td>MX</td>\n",
       "      <td>35</td>\n",
       "      <td>0</td>\n",
       "      <td>PRGXJZAJKMXRH</td>\n",
       "    </tr>\n",
       "  </tbody>\n",
       "</table>\n",
       "</div>"
      ],
      "text/plain": [
       "   user_id        date country  money_spent  is_referral      device_id\n",
       "0        2  2015-10-03      FR           65            0  EVDCJTZMVMJDG\n",
       "1        3  2015-10-03      CA           54            0  WUBZFTVKXGQQX\n",
       "2        6  2015-10-03      FR           35            0  CBAPCJRTFNUJG\n",
       "3        7  2015-10-03      UK           73            0  PRGXJZAJKMXRH\n",
       "4        7  2015-10-03      MX           35            0  PRGXJZAJKMXRH"
      ]
     },
     "execution_count": 147,
     "metadata": {},
     "output_type": "execute_result"
    }
   ],
   "source": [
    "df = pd.read_csv('referral.csv')\n",
    "df.head()"
   ]
  },
  {
   "cell_type": "code",
   "execution_count": 150,
   "id": "57a89b8e-e238-4d2a-8668-6381e8049671",
   "metadata": {},
   "outputs": [
    {
     "data": {
      "text/plain": [
       "18809"
      ]
     },
     "execution_count": 150,
     "metadata": {},
     "output_type": "execute_result"
    }
   ],
   "source": [
    "df['user_id'].nunique()"
   ]
  },
  {
   "cell_type": "code",
   "execution_count": 151,
   "id": "a8c549ce-dc0c-4038-a18b-61264c039b82",
   "metadata": {},
   "outputs": [
    {
     "data": {
      "text/plain": [
       "(97341, 6)"
      ]
     },
     "execution_count": 151,
     "metadata": {},
     "output_type": "execute_result"
    }
   ],
   "source": [
    "df.shape"
   ]
  },
  {
   "cell_type": "code",
   "execution_count": 152,
   "id": "fafdb699-3b62-478f-ab70-75aa1ea09d46",
   "metadata": {},
   "outputs": [
    {
     "data": {
      "text/html": [
       "<div>\n",
       "<style scoped>\n",
       "    .dataframe tbody tr th:only-of-type {\n",
       "        vertical-align: middle;\n",
       "    }\n",
       "\n",
       "    .dataframe tbody tr th {\n",
       "        vertical-align: top;\n",
       "    }\n",
       "\n",
       "    .dataframe thead th {\n",
       "        text-align: right;\n",
       "    }\n",
       "</style>\n",
       "<table border=\"1\" class=\"dataframe\">\n",
       "  <thead>\n",
       "    <tr style=\"text-align: right;\">\n",
       "      <th></th>\n",
       "      <th>nunique</th>\n",
       "      <th>count</th>\n",
       "    </tr>\n",
       "    <tr>\n",
       "      <th>is_referral</th>\n",
       "      <th></th>\n",
       "      <th></th>\n",
       "    </tr>\n",
       "  </thead>\n",
       "  <tbody>\n",
       "    <tr>\n",
       "      <th>0</th>\n",
       "      <td>11951</td>\n",
       "      <td>69324</td>\n",
       "    </tr>\n",
       "    <tr>\n",
       "      <th>1</th>\n",
       "      <td>12715</td>\n",
       "      <td>28017</td>\n",
       "    </tr>\n",
       "  </tbody>\n",
       "</table>\n",
       "</div>"
      ],
      "text/plain": [
       "             nunique  count\n",
       "is_referral                \n",
       "0              11951  69324\n",
       "1              12715  28017"
      ]
     },
     "execution_count": 152,
     "metadata": {},
     "output_type": "execute_result"
    }
   ],
   "source": [
    "df.groupby(['is_referral'])['user_id'].agg({'count','nunique'})"
   ]
  },
  {
   "cell_type": "code",
   "execution_count": 156,
   "id": "02c97aae-c814-4579-a16a-97cb6fbd8e0b",
   "metadata": {},
   "outputs": [
    {
     "data": {
      "text/plain": [
       "'2015-11-27'"
      ]
     },
     "execution_count": 156,
     "metadata": {},
     "output_type": "execute_result"
    }
   ],
   "source": [
    "df.query('is_referral==0').date.max()"
   ]
  },
  {
   "cell_type": "code",
   "execution_count": 157,
   "id": "7bf62082-4c33-446a-ba3c-a13ce3c2091a",
   "metadata": {},
   "outputs": [
    {
     "data": {
      "text/html": [
       "<div>\n",
       "<style scoped>\n",
       "    .dataframe tbody tr th:only-of-type {\n",
       "        vertical-align: middle;\n",
       "    }\n",
       "\n",
       "    .dataframe tbody tr th {\n",
       "        vertical-align: top;\n",
       "    }\n",
       "\n",
       "    .dataframe thead th {\n",
       "        text-align: right;\n",
       "    }\n",
       "</style>\n",
       "<table border=\"1\" class=\"dataframe\">\n",
       "  <thead>\n",
       "    <tr style=\"text-align: right;\">\n",
       "      <th></th>\n",
       "      <th>nunique</th>\n",
       "      <th>count</th>\n",
       "    </tr>\n",
       "    <tr>\n",
       "      <th>user_id</th>\n",
       "      <th></th>\n",
       "      <th></th>\n",
       "    </tr>\n",
       "  </thead>\n",
       "  <tbody>\n",
       "    <tr>\n",
       "      <th>1</th>\n",
       "      <td>1</td>\n",
       "      <td>9</td>\n",
       "    </tr>\n",
       "    <tr>\n",
       "      <th>2</th>\n",
       "      <td>1</td>\n",
       "      <td>14</td>\n",
       "    </tr>\n",
       "    <tr>\n",
       "      <th>3</th>\n",
       "      <td>1</td>\n",
       "      <td>15</td>\n",
       "    </tr>\n",
       "    <tr>\n",
       "      <th>4</th>\n",
       "      <td>1</td>\n",
       "      <td>13</td>\n",
       "    </tr>\n",
       "    <tr>\n",
       "      <th>5</th>\n",
       "      <td>1</td>\n",
       "      <td>6</td>\n",
       "    </tr>\n",
       "    <tr>\n",
       "      <th>...</th>\n",
       "      <td>...</td>\n",
       "      <td>...</td>\n",
       "    </tr>\n",
       "    <tr>\n",
       "      <th>19996</th>\n",
       "      <td>2</td>\n",
       "      <td>2</td>\n",
       "    </tr>\n",
       "    <tr>\n",
       "      <th>19997</th>\n",
       "      <td>2</td>\n",
       "      <td>2</td>\n",
       "    </tr>\n",
       "    <tr>\n",
       "      <th>19998</th>\n",
       "      <td>1</td>\n",
       "      <td>2</td>\n",
       "    </tr>\n",
       "    <tr>\n",
       "      <th>19999</th>\n",
       "      <td>2</td>\n",
       "      <td>5</td>\n",
       "    </tr>\n",
       "    <tr>\n",
       "      <th>20000</th>\n",
       "      <td>1</td>\n",
       "      <td>2</td>\n",
       "    </tr>\n",
       "  </tbody>\n",
       "</table>\n",
       "<p>18809 rows × 2 columns</p>\n",
       "</div>"
      ],
      "text/plain": [
       "         nunique  count\n",
       "user_id                \n",
       "1              1      9\n",
       "2              1     14\n",
       "3              1     15\n",
       "4              1     13\n",
       "5              1      6\n",
       "...          ...    ...\n",
       "19996          2      2\n",
       "19997          2      2\n",
       "19998          1      2\n",
       "19999          2      5\n",
       "20000          1      2\n",
       "\n",
       "[18809 rows x 2 columns]"
      ]
     },
     "execution_count": 157,
     "metadata": {},
     "output_type": "execute_result"
    }
   ],
   "source": [
    "df.groupby(['user_id'])['is_referral'].agg({'count','nunique'})"
   ]
  },
  {
   "cell_type": "code",
   "execution_count": 159,
   "id": "bc4982c2-4d57-4202-8abf-433f0e0ec58c",
   "metadata": {},
   "outputs": [
    {
     "data": {
      "text/html": [
       "<div>\n",
       "<style scoped>\n",
       "    .dataframe tbody tr th:only-of-type {\n",
       "        vertical-align: middle;\n",
       "    }\n",
       "\n",
       "    .dataframe tbody tr th {\n",
       "        vertical-align: top;\n",
       "    }\n",
       "\n",
       "    .dataframe thead th {\n",
       "        text-align: right;\n",
       "    }\n",
       "</style>\n",
       "<table border=\"1\" class=\"dataframe\">\n",
       "  <thead>\n",
       "    <tr style=\"text-align: right;\">\n",
       "      <th></th>\n",
       "      <th>is_referral</th>\n",
       "      <th>money_spent</th>\n",
       "    </tr>\n",
       "  </thead>\n",
       "  <tbody>\n",
       "    <tr>\n",
       "      <th>0</th>\n",
       "      <td>0</td>\n",
       "      <td>3034612</td>\n",
       "    </tr>\n",
       "    <tr>\n",
       "      <th>1</th>\n",
       "      <td>1</td>\n",
       "      <td>1315787</td>\n",
       "    </tr>\n",
       "  </tbody>\n",
       "</table>\n",
       "</div>"
      ],
      "text/plain": [
       "   is_referral  money_spent\n",
       "0            0      3034612\n",
       "1            1      1315787"
      ]
     },
     "execution_count": 159,
     "metadata": {},
     "output_type": "execute_result"
    }
   ],
   "source": [
    "df.groupby(['is_referral'])['money_spent'].sum().reset_index()"
   ]
  },
  {
   "cell_type": "code",
   "execution_count": 160,
   "id": "55c029c8-c50c-486b-b768-d9990a28538f",
   "metadata": {},
   "outputs": [
    {
     "data": {
      "text/plain": [
       "Index(['user_id', 'date', 'country', 'money_spent', 'is_referral',\n",
       "       'device_id'],\n",
       "      dtype='object')"
      ]
     },
     "execution_count": 160,
     "metadata": {},
     "output_type": "execute_result"
    }
   ],
   "source": [
    "df.columns"
   ]
  },
  {
   "cell_type": "code",
   "execution_count": 181,
   "id": "acf3f016-1fe4-4029-83da-cd08554a4fe2",
   "metadata": {},
   "outputs": [],
   "source": [
    "df['date'] = pd.to_datetime(df['date'])"
   ]
  },
  {
   "cell_type": "code",
   "execution_count": 182,
   "id": "d323151e-4c43-4216-8520-61c57ca3f6d3",
   "metadata": {},
   "outputs": [
    {
     "data": {
      "text/html": [
       "<div>\n",
       "<style scoped>\n",
       "    .dataframe tbody tr th:only-of-type {\n",
       "        vertical-align: middle;\n",
       "    }\n",
       "\n",
       "    .dataframe tbody tr th {\n",
       "        vertical-align: top;\n",
       "    }\n",
       "\n",
       "    .dataframe thead th {\n",
       "        text-align: right;\n",
       "    }\n",
       "</style>\n",
       "<table border=\"1\" class=\"dataframe\">\n",
       "  <thead>\n",
       "    <tr style=\"text-align: right;\">\n",
       "      <th></th>\n",
       "      <th>date</th>\n",
       "      <th>user_id</th>\n",
       "      <th>money_spent</th>\n",
       "    </tr>\n",
       "  </thead>\n",
       "  <tbody>\n",
       "    <tr>\n",
       "      <th>0</th>\n",
       "      <td>2015-10-03</td>\n",
       "      <td>2</td>\n",
       "      <td>65</td>\n",
       "    </tr>\n",
       "    <tr>\n",
       "      <th>1</th>\n",
       "      <td>2015-10-03</td>\n",
       "      <td>3</td>\n",
       "      <td>54</td>\n",
       "    </tr>\n",
       "    <tr>\n",
       "      <th>2</th>\n",
       "      <td>2015-10-03</td>\n",
       "      <td>6</td>\n",
       "      <td>35</td>\n",
       "    </tr>\n",
       "    <tr>\n",
       "      <th>3</th>\n",
       "      <td>2015-10-03</td>\n",
       "      <td>7</td>\n",
       "      <td>108</td>\n",
       "    </tr>\n",
       "    <tr>\n",
       "      <th>4</th>\n",
       "      <td>2015-10-03</td>\n",
       "      <td>10</td>\n",
       "      <td>36</td>\n",
       "    </tr>\n",
       "  </tbody>\n",
       "</table>\n",
       "</div>"
      ],
      "text/plain": [
       "        date  user_id  money_spent\n",
       "0 2015-10-03        2           65\n",
       "1 2015-10-03        3           54\n",
       "2 2015-10-03        6           35\n",
       "3 2015-10-03        7          108\n",
       "4 2015-10-03       10           36"
      ]
     },
     "execution_count": 182,
     "metadata": {},
     "output_type": "execute_result"
    }
   ],
   "source": [
    "df_by_user = df.groupby(['date','user_id'])['money_spent'].sum().reset_index()\n",
    "df_by_user.head()"
   ]
  },
  {
   "cell_type": "code",
   "execution_count": 163,
   "id": "f35ffb9f-bdbc-41b0-bc36-acaeceedfe2a",
   "metadata": {},
   "outputs": [
    {
     "data": {
      "text/plain": [
       "(86000, 3)"
      ]
     },
     "execution_count": 163,
     "metadata": {},
     "output_type": "execute_result"
    }
   ],
   "source": [
    "df_by_user.shape"
   ]
  },
  {
   "cell_type": "code",
   "execution_count": 183,
   "id": "88673f90-25a8-48ba-a7c0-1a605f90c0a7",
   "metadata": {},
   "outputs": [
    {
     "data": {
      "text/html": [
       "<div>\n",
       "<style scoped>\n",
       "    .dataframe tbody tr th:only-of-type {\n",
       "        vertical-align: middle;\n",
       "    }\n",
       "\n",
       "    .dataframe tbody tr th {\n",
       "        vertical-align: top;\n",
       "    }\n",
       "\n",
       "    .dataframe thead th {\n",
       "        text-align: right;\n",
       "    }\n",
       "</style>\n",
       "<table border=\"1\" class=\"dataframe\">\n",
       "  <thead>\n",
       "    <tr style=\"text-align: right;\">\n",
       "      <th></th>\n",
       "      <th>date</th>\n",
       "      <th>is_referral</th>\n",
       "      <th>money_spent</th>\n",
       "    </tr>\n",
       "  </thead>\n",
       "  <tbody>\n",
       "    <tr>\n",
       "      <th>0</th>\n",
       "      <td>2015-10-03</td>\n",
       "      <td>0</td>\n",
       "      <td>128475</td>\n",
       "    </tr>\n",
       "    <tr>\n",
       "      <th>1</th>\n",
       "      <td>2015-10-04</td>\n",
       "      <td>0</td>\n",
       "      <td>130772</td>\n",
       "    </tr>\n",
       "    <tr>\n",
       "      <th>2</th>\n",
       "      <td>2015-10-05</td>\n",
       "      <td>0</td>\n",
       "      <td>46946</td>\n",
       "    </tr>\n",
       "    <tr>\n",
       "      <th>3</th>\n",
       "      <td>2015-10-06</td>\n",
       "      <td>0</td>\n",
       "      <td>49711</td>\n",
       "    </tr>\n",
       "    <tr>\n",
       "      <th>4</th>\n",
       "      <td>2015-10-07</td>\n",
       "      <td>0</td>\n",
       "      <td>45242</td>\n",
       "    </tr>\n",
       "  </tbody>\n",
       "</table>\n",
       "</div>"
      ],
      "text/plain": [
       "        date  is_referral  money_spent\n",
       "0 2015-10-03            0       128475\n",
       "1 2015-10-04            0       130772\n",
       "2 2015-10-05            0        46946\n",
       "3 2015-10-06            0        49711\n",
       "4 2015-10-07            0        45242"
      ]
     },
     "execution_count": 183,
     "metadata": {},
     "output_type": "execute_result"
    }
   ],
   "source": []
  },
  {
   "cell_type": "code",
   "execution_count": null,
   "id": "328c762b-25fb-4a06-918b-6de62bb1f3a2",
   "metadata": {
    "scrolled": true
   },
   "outputs": [],
   "source": []
  },
  {
   "cell_type": "code",
   "execution_count": 176,
   "id": "ab121451-f638-4806-8f9c-5d9d10341d0a",
   "metadata": {},
   "outputs": [],
   "source": [
    "df.sort_values(by = ['user_id', 'date'],inplace = True)"
   ]
  },
  {
   "cell_type": "code",
   "execution_count": 178,
   "id": "26d9ed3b-0d08-4b41-9e31-133a975dc68d",
   "metadata": {},
   "outputs": [
    {
     "name": "stdout",
     "output_type": "stream",
     "text": [
      "1\n"
     ]
    }
   ],
   "source": [
    "#fix is_referral putting the first value\n",
    "df['is_referral'] = df.groupby('user_id')['is_referral'].transform('first')\n",
    "print(df.groupby('user_id').is_referral.nunique().max())"
   ]
  },
  {
   "cell_type": "code",
   "execution_count": 186,
   "id": "306e8a72-3725-4720-bb1a-f322c6e48104",
   "metadata": {},
   "outputs": [
    {
     "data": {
      "text/html": [
       "<div>\n",
       "<style scoped>\n",
       "    .dataframe tbody tr th:only-of-type {\n",
       "        vertical-align: middle;\n",
       "    }\n",
       "\n",
       "    .dataframe tbody tr th {\n",
       "        vertical-align: top;\n",
       "    }\n",
       "\n",
       "    .dataframe thead th {\n",
       "        text-align: right;\n",
       "    }\n",
       "</style>\n",
       "<table border=\"1\" class=\"dataframe\">\n",
       "  <thead>\n",
       "    <tr style=\"text-align: right;\">\n",
       "      <th></th>\n",
       "      <th>date</th>\n",
       "      <th>is_referral</th>\n",
       "      <th>money_spent</th>\n",
       "    </tr>\n",
       "  </thead>\n",
       "  <tbody>\n",
       "    <tr>\n",
       "      <th>0</th>\n",
       "      <td>2015-10-03</td>\n",
       "      <td>0</td>\n",
       "      <td>128475</td>\n",
       "    </tr>\n",
       "    <tr>\n",
       "      <th>1</th>\n",
       "      <td>2015-10-04</td>\n",
       "      <td>0</td>\n",
       "      <td>130772</td>\n",
       "    </tr>\n",
       "    <tr>\n",
       "      <th>2</th>\n",
       "      <td>2015-10-05</td>\n",
       "      <td>0</td>\n",
       "      <td>46946</td>\n",
       "    </tr>\n",
       "    <tr>\n",
       "      <th>3</th>\n",
       "      <td>2015-10-06</td>\n",
       "      <td>0</td>\n",
       "      <td>49711</td>\n",
       "    </tr>\n",
       "    <tr>\n",
       "      <th>4</th>\n",
       "      <td>2015-10-07</td>\n",
       "      <td>0</td>\n",
       "      <td>45242</td>\n",
       "    </tr>\n",
       "  </tbody>\n",
       "</table>\n",
       "</div>"
      ],
      "text/plain": [
       "        date  is_referral  money_spent\n",
       "0 2015-10-03            0       128475\n",
       "1 2015-10-04            0       130772\n",
       "2 2015-10-05            0        46946\n",
       "3 2015-10-06            0        49711\n",
       "4 2015-10-07            0        45242"
      ]
     },
     "execution_count": 186,
     "metadata": {},
     "output_type": "execute_result"
    }
   ],
   "source": [
    "df_by_referral = df.groupby(['date','is_referral'])['money_spent'].sum().reset_index()\n",
    "df_by_referral.head()"
   ]
  },
  {
   "cell_type": "code",
   "execution_count": 187,
   "id": "28a84832-7734-43d7-96d4-7bd794f7a645",
   "metadata": {},
   "outputs": [
    {
     "name": "stderr",
     "output_type": "stream",
     "text": [
      "/var/folders/zq/hqq8b43s3fj4rb11sgc943bw0000gn/T/ipykernel_14340/276932208.py:5: UserWarning: No artists with labels found to put in legend.  Note that artists whose label start with an underscore are ignored when legend() is called with no argument.\n",
      "  plt.legend()\n"
     ]
    },
    {
     "data": {
      "image/png": "[encoded data removed]",
      "text/plain": [
       "<Figure size 1000x600 with 1 Axes>"
      ]
     },
     "metadata": {},
     "output_type": "display_data"
    }
   ],
   "source": [
    "plt.figure(figsize=(10, 6))\n",
    "plt.plot(df_by_referral.query('is_referral==0')['date'], df_by_referral.query('is_referral==0')['money_spent'], color = 'blue')\n",
    "plt.plot(df_by_referral.query('is_referral==1')['date'], df_by_referral.query('is_referral==1')['money_spent'], color = 'red')\n",
    "plt.title('total money by referral')\n",
    "plt.legend()\n",
    "plt.show()"
   ]
  },
  {
   "cell_type": "code",
   "execution_count": 198,
   "id": "83f094b5-af24-4892-95f2-02e92a0be50a",
   "metadata": {},
   "outputs": [
    {
     "data": {
      "text/html": [
       "<div>\n",
       "<style scoped>\n",
       "    .dataframe tbody tr th:only-of-type {\n",
       "        vertical-align: middle;\n",
       "    }\n",
       "\n",
       "    .dataframe tbody tr th {\n",
       "        vertical-align: top;\n",
       "    }\n",
       "\n",
       "    .dataframe thead th {\n",
       "        text-align: right;\n",
       "    }\n",
       "</style>\n",
       "<table border=\"1\" class=\"dataframe\">\n",
       "  <thead>\n",
       "    <tr style=\"text-align: right;\">\n",
       "      <th></th>\n",
       "      <th>date</th>\n",
       "      <th>is_referral</th>\n",
       "      <th>money_spent</th>\n",
       "      <th>user_cnts</th>\n",
       "    </tr>\n",
       "  </thead>\n",
       "  <tbody>\n",
       "    <tr>\n",
       "      <th>0</th>\n",
       "      <td>2015-10-03</td>\n",
       "      <td>0</td>\n",
       "      <td>128475</td>\n",
       "      <td>2283</td>\n",
       "    </tr>\n",
       "    <tr>\n",
       "      <th>1</th>\n",
       "      <td>2015-10-04</td>\n",
       "      <td>0</td>\n",
       "      <td>130772</td>\n",
       "      <td>2274</td>\n",
       "    </tr>\n",
       "    <tr>\n",
       "      <th>2</th>\n",
       "      <td>2015-10-05</td>\n",
       "      <td>0</td>\n",
       "      <td>46946</td>\n",
       "      <td>1030</td>\n",
       "    </tr>\n",
       "    <tr>\n",
       "      <th>3</th>\n",
       "      <td>2015-10-06</td>\n",
       "      <td>0</td>\n",
       "      <td>49711</td>\n",
       "      <td>1020</td>\n",
       "    </tr>\n",
       "    <tr>\n",
       "      <th>4</th>\n",
       "      <td>2015-10-07</td>\n",
       "      <td>0</td>\n",
       "      <td>45242</td>\n",
       "      <td>966</td>\n",
       "    </tr>\n",
       "  </tbody>\n",
       "</table>\n",
       "</div>"
      ],
      "text/plain": [
       "        date  is_referral  money_spent  user_cnts\n",
       "0 2015-10-03            0       128475       2283\n",
       "1 2015-10-04            0       130772       2274\n",
       "2 2015-10-05            0        46946       1030\n",
       "3 2015-10-06            0        49711       1020\n",
       "4 2015-10-07            0        45242        966"
      ]
     },
     "execution_count": 198,
     "metadata": {},
     "output_type": "execute_result"
    }
   ],
   "source": [
    "df_by_referral = df.groupby(['date','is_referral']).agg({'money_spent':'sum','user_id':'nunique' }).reset_index()\n",
    "df_by_referral.columns = ['date','is_referral','money_spent','user_cnts']\n",
    "df_by_referral.head()"
   ]
  },
  {
   "cell_type": "code",
   "execution_count": 199,
   "id": "3533b811-41ec-4a4c-8bb8-48673112990f",
   "metadata": {},
   "outputs": [
    {
     "name": "stderr",
     "output_type": "stream",
     "text": [
      "/var/folders/zq/hqq8b43s3fj4rb11sgc943bw0000gn/T/ipykernel_14340/3507984852.py:5: UserWarning: No artists with labels found to put in legend.  Note that artists whose label start with an underscore are ignored when legend() is called with no argument.\n",
      "  plt.legend()\n"
     ]
    },
    {
     "data": {
      "image/png": "[encoded data removed]",
      "text/plain": [
       "<Figure size 1000x600 with 1 Axes>"
      ]
     },
     "metadata": {},
     "output_type": "display_data"
    }
   ],
   "source": [
    "plt.figure(figsize=(10, 6))\n",
    "plt.plot(df_by_referral.query('is_referral==0')['date'], df_by_referral.query('is_referral==0')['user_cnts'], color = 'blue')\n",
    "plt.plot(df_by_referral.query('is_referral==1')['date'], df_by_referral.query('is_referral==1')['user_cnts'], color = 'red')\n",
    "plt.title('user_cnts by referral')\n",
    "plt.legend()\n",
    "plt.show()\n",
    "# The number of users not going through the referral program dropped. \n",
    "# This is a huge sign of cannibalization. The new feature is taking away existing customers from another source. \n",
    "# Other common examples of cannibalization are when marketing campaigns, such as paid ads, \n",
    "# take away users from free channels such as SEO."
   ]
  },
  {
   "cell_type": "code",
   "execution_count": 204,
   "id": "22c6849f-49d5-445c-8a7e-d7e301e262e1",
   "metadata": {},
   "outputs": [
    {
     "name": "stderr",
     "output_type": "stream",
     "text": [
      "/var/folders/zq/hqq8b43s3fj4rb11sgc943bw0000gn/T/ipykernel_14340/1642026520.py:6: UserWarning: No artists with labels found to put in legend.  Note that artists whose label start with an underscore are ignored when legend() is called with no argument.\n",
      "  plt.legend()\n"
     ]
    },
    {
     "data": {
      "image/png": "[encoded data removed]",
      "text/plain": [
       "<Figure size 1000x600 with 1 Axes>"
      ]
     },
     "metadata": {},
     "output_type": "display_data"
    }
   ],
   "source": [
    "plt.figure(figsize=(10, 6))\n",
    "plt.xticks(rotation=45)\n",
    "plt.plot(df.groupby('date')['device_id'].nunique(), color='blue')\n",
    "plt.plot(df.groupby('date')['user_id'].nunique(), color='red')\n",
    "plt.title('The total number of unique devices vs unique users')\n",
    "plt.legend()\n",
    "plt.show()\n",
    "# Before the test, we had more unique devices than users, which makes sense. \n",
    "# The same user could be using different devices. \n",
    "# After the test, we have more users than devices!\n",
    "# Meaning different users are sharing the same device! There is definitely some fraud going on.\n"
   ]
  },
  {
   "cell_type": "code",
   "execution_count": 205,
   "id": "645d9d13-c915-466e-b1e2-57c8ff6e7e67",
   "metadata": {},
   "outputs": [
    {
     "ename": "ModuleNotFoundError",
     "evalue": "No module named 'fbprophet'",
     "output_type": "error",
     "traceback": [
      "\u001b[0;31m---------------------------------------------------------------------------\u001b[0m",
      "\u001b[0;31mModuleNotFoundError\u001b[0m                       Traceback (most recent call last)",
      "Cell \u001b[0;32mIn[205], line 1\u001b[0m\n\u001b[0;32m----> 1\u001b[0m \u001b[38;5;28;01mimport\u001b[39;00m \u001b[38;5;21;01mfbprophet\u001b[39;00m\n\u001b[1;32m      3\u001b[0m \u001b[38;5;66;03m#prepare the before the change dataset. We use total transaction value as main metric\u001b[39;00m\n\u001b[1;32m      4\u001b[0m data_prediction \u001b[38;5;241m=\u001b[39m data\u001b[38;5;241m.\u001b[39mquery(\u001b[38;5;124m'\u001b[39m\u001b[38;5;124mdate<\u001b[39m\u001b[38;5;130;01m\\'\u001b[39;00m\u001b[38;5;124m2015-10-31\u001b[39m\u001b[38;5;130;01m\\'\u001b[39;00m\u001b[38;5;124m'\u001b[39m)\u001b[38;5;241m.\u001b[39mgroupby(\u001b[38;5;124m'\u001b[39m\u001b[38;5;124mdate\u001b[39m\u001b[38;5;124m'\u001b[39m)[\u001b[38;5;124m'\u001b[39m\u001b[38;5;124mmoney_spent\u001b[39m\u001b[38;5;124m'\u001b[39m]\u001b[38;5;241m.\u001b[39msum()\u001b[38;5;241m.\u001b[39mreset_index()\n",
      "\u001b[0;31mModuleNotFoundError\u001b[0m: No module named 'fbprophet'"
     ]
    }
   ],
   "source": [
    "import fbprophet\n",
    "  \n",
    "#prepare the before the change dataset. We use total transaction value as main metric\n",
    "data_prediction = data.query('date<\\'2015-10-31\\'').groupby('date')['money_spent'].sum().reset_index()\n",
    "#change column names and index\n",
    "data_prediction['ds'] = data_prediction['date']\n",
    "data_prediction.rename({'money_spent': 'y'}, axis=1, inplace=True)\n",
    "data_prediction.set_index('date', inplace=True)\n",
    "  \n",
    "#Let's build the model using prophet. From previous plots, time series appear pretty straightforward and flattish. Default values should do fine\n",
    "ts = fbprophet.Prophet(interval_width=0.95)\n",
    "ts.fit(data_prediction)"
   ]
  },
  {
   "cell_type": "markdown",
   "id": "ee19e08d-16d6-4cac-97e5-318b23181a2b",
   "metadata": {},
   "source": [
    "# A/B TESTING: Pricing Test"
   ]
  },
  {
   "cell_type": "code",
   "execution_count": 4,
   "id": "5c7f1dbb-7a07-4a10-9eb2-34cf06996870",
   "metadata": {},
   "outputs": [
    {
     "data": {
      "text/html": [
       "<div>\n",
       "<style scoped>\n",
       "    .dataframe tbody tr th:only-of-type {\n",
       "        vertical-align: middle;\n",
       "    }\n",
       "\n",
       "    .dataframe tbody tr th {\n",
       "        vertical-align: top;\n",
       "    }\n",
       "\n",
       "    .dataframe thead th {\n",
       "        text-align: right;\n",
       "    }\n",
       "</style>\n",
       "<table border=\"1\" class=\"dataframe\">\n",
       "  <thead>\n",
       "    <tr style=\"text-align: right;\">\n",
       "      <th></th>\n",
       "      <th>user_id</th>\n",
       "      <th>timestamp</th>\n",
       "      <th>source</th>\n",
       "      <th>device</th>\n",
       "      <th>operative_system</th>\n",
       "      <th>test</th>\n",
       "      <th>price</th>\n",
       "      <th>converted</th>\n",
       "    </tr>\n",
       "  </thead>\n",
       "  <tbody>\n",
       "    <tr>\n",
       "      <th>0</th>\n",
       "      <td>604839</td>\n",
       "      <td>2015-05-08 03:38:34</td>\n",
       "      <td>ads_facebook</td>\n",
       "      <td>mobile</td>\n",
       "      <td>iOS</td>\n",
       "      <td>0</td>\n",
       "      <td>39</td>\n",
       "      <td>0</td>\n",
       "    </tr>\n",
       "    <tr>\n",
       "      <th>1</th>\n",
       "      <td>624057</td>\n",
       "      <td>2015-05-10 21:08:46</td>\n",
       "      <td>seo-google</td>\n",
       "      <td>mobile</td>\n",
       "      <td>android</td>\n",
       "      <td>0</td>\n",
       "      <td>39</td>\n",
       "      <td>0</td>\n",
       "    </tr>\n",
       "    <tr>\n",
       "      <th>2</th>\n",
       "      <td>317970</td>\n",
       "      <td>2015-04-04 15:01:23</td>\n",
       "      <td>ads-bing</td>\n",
       "      <td>mobile</td>\n",
       "      <td>android</td>\n",
       "      <td>0</td>\n",
       "      <td>39</td>\n",
       "      <td>0</td>\n",
       "    </tr>\n",
       "    <tr>\n",
       "      <th>3</th>\n",
       "      <td>685636</td>\n",
       "      <td>2015-05-07 07:26:01</td>\n",
       "      <td>direct_traffic</td>\n",
       "      <td>mobile</td>\n",
       "      <td>iOS</td>\n",
       "      <td>1</td>\n",
       "      <td>59</td>\n",
       "      <td>0</td>\n",
       "    </tr>\n",
       "    <tr>\n",
       "      <th>4</th>\n",
       "      <td>820854</td>\n",
       "      <td>2015-05-24 11:04:40</td>\n",
       "      <td>ads_facebook</td>\n",
       "      <td>web</td>\n",
       "      <td>mac</td>\n",
       "      <td>0</td>\n",
       "      <td>39</td>\n",
       "      <td>0</td>\n",
       "    </tr>\n",
       "    <tr>\n",
       "      <th>...</th>\n",
       "      <td>...</td>\n",
       "      <td>...</td>\n",
       "      <td>...</td>\n",
       "      <td>...</td>\n",
       "      <td>...</td>\n",
       "      <td>...</td>\n",
       "      <td>...</td>\n",
       "      <td>...</td>\n",
       "    </tr>\n",
       "    <tr>\n",
       "      <th>316795</th>\n",
       "      <td>17427</td>\n",
       "      <td>2015-04-11 09:29:15</td>\n",
       "      <td>ads_facebook</td>\n",
       "      <td>web</td>\n",
       "      <td>windows</td>\n",
       "      <td>0</td>\n",
       "      <td>39</td>\n",
       "      <td>0</td>\n",
       "    </tr>\n",
       "    <tr>\n",
       "      <th>316796</th>\n",
       "      <td>687787</td>\n",
       "      <td>2015-03-16 23:31:55</td>\n",
       "      <td>direct_traffic</td>\n",
       "      <td>web</td>\n",
       "      <td>windows</td>\n",
       "      <td>0</td>\n",
       "      <td>39</td>\n",
       "      <td>0</td>\n",
       "    </tr>\n",
       "    <tr>\n",
       "      <th>316797</th>\n",
       "      <td>618863</td>\n",
       "      <td>2015-04-11 01:35:19</td>\n",
       "      <td>ads-google</td>\n",
       "      <td>web</td>\n",
       "      <td>mac</td>\n",
       "      <td>0</td>\n",
       "      <td>39</td>\n",
       "      <td>0</td>\n",
       "    </tr>\n",
       "    <tr>\n",
       "      <th>316798</th>\n",
       "      <td>154636</td>\n",
       "      <td>2015-05-14 05:46:42</td>\n",
       "      <td>friend_referral</td>\n",
       "      <td>mobile</td>\n",
       "      <td>android</td>\n",
       "      <td>0</td>\n",
       "      <td>39</td>\n",
       "      <td>0</td>\n",
       "    </tr>\n",
       "    <tr>\n",
       "      <th>316799</th>\n",
       "      <td>832372</td>\n",
       "      <td>2015-03-08 17:12:33</td>\n",
       "      <td>ads_facebook</td>\n",
       "      <td>mobile</td>\n",
       "      <td>android</td>\n",
       "      <td>1</td>\n",
       "      <td>59</td>\n",
       "      <td>0</td>\n",
       "    </tr>\n",
       "  </tbody>\n",
       "</table>\n",
       "<p>316800 rows × 8 columns</p>\n",
       "</div>"
      ],
      "text/plain": [
       "        user_id            timestamp           source  device  \\\n",
       "0        604839  2015-05-08 03:38:34     ads_facebook  mobile   \n",
       "1        624057  2015-05-10 21:08:46       seo-google  mobile   \n",
       "2        317970  2015-04-04 15:01:23         ads-bing  mobile   \n",
       "3        685636  2015-05-07 07:26:01   direct_traffic  mobile   \n",
       "4        820854  2015-05-24 11:04:40     ads_facebook     web   \n",
       "...         ...                  ...              ...     ...   \n",
       "316795    17427  2015-04-11 09:29:15     ads_facebook     web   \n",
       "316796   687787  2015-03-16 23:31:55   direct_traffic     web   \n",
       "316797   618863  2015-04-11 01:35:19       ads-google     web   \n",
       "316798   154636  2015-05-14 05:46:42  friend_referral  mobile   \n",
       "316799   832372  2015-03-08 17:12:33     ads_facebook  mobile   \n",
       "\n",
       "       operative_system  test  price  converted  \n",
       "0                   iOS     0     39          0  \n",
       "1               android     0     39          0  \n",
       "2               android     0     39          0  \n",
       "3                   iOS     1     59          0  \n",
       "4                   mac     0     39          0  \n",
       "...                 ...   ...    ...        ...  \n",
       "316795          windows     0     39          0  \n",
       "316796          windows     0     39          0  \n",
       "316797              mac     0     39          0  \n",
       "316798          android     0     39          0  \n",
       "316799          android     1     59          0  \n",
       "\n",
       "[316800 rows x 8 columns]"
      ]
     },
     "execution_count": 4,
     "metadata": {},
     "output_type": "execute_result"
    }
   ],
   "source": [
    "test_df = pd.read_csv('Pricing_Test/test_results.csv')\n",
    "test_df"
   ]
  },
  {
   "cell_type": "code",
   "execution_count": 213,
   "id": "6cdedf75-7fe4-4b9c-9c89-0c715345f12c",
   "metadata": {},
   "outputs": [
    {
     "data": {
      "text/plain": [
       "316800"
      ]
     },
     "execution_count": 213,
     "metadata": {},
     "output_type": "execute_result"
    }
   ],
   "source": [
    "test_df['user_id'].nunique()"
   ]
  },
  {
   "cell_type": "code",
   "execution_count": 207,
   "id": "a8a830e3-4e81-45b0-a1a5-d81ea14e5d13",
   "metadata": {},
   "outputs": [
    {
     "data": {
      "text/html": [
       "<div>\n",
       "<style scoped>\n",
       "    .dataframe tbody tr th:only-of-type {\n",
       "        vertical-align: middle;\n",
       "    }\n",
       "\n",
       "    .dataframe tbody tr th {\n",
       "        vertical-align: top;\n",
       "    }\n",
       "\n",
       "    .dataframe thead th {\n",
       "        text-align: right;\n",
       "    }\n",
       "</style>\n",
       "<table border=\"1\" class=\"dataframe\">\n",
       "  <thead>\n",
       "    <tr style=\"text-align: right;\">\n",
       "      <th></th>\n",
       "      <th>user_id</th>\n",
       "      <th>city</th>\n",
       "      <th>country</th>\n",
       "      <th>lat</th>\n",
       "      <th>long</th>\n",
       "    </tr>\n",
       "  </thead>\n",
       "  <tbody>\n",
       "    <tr>\n",
       "      <th>0</th>\n",
       "      <td>510335</td>\n",
       "      <td>Peabody</td>\n",
       "      <td>USA</td>\n",
       "      <td>42.53</td>\n",
       "      <td>-70.97</td>\n",
       "    </tr>\n",
       "    <tr>\n",
       "      <th>1</th>\n",
       "      <td>89568</td>\n",
       "      <td>Reno</td>\n",
       "      <td>USA</td>\n",
       "      <td>39.54</td>\n",
       "      <td>-119.82</td>\n",
       "    </tr>\n",
       "    <tr>\n",
       "      <th>2</th>\n",
       "      <td>434134</td>\n",
       "      <td>Rialto</td>\n",
       "      <td>USA</td>\n",
       "      <td>34.11</td>\n",
       "      <td>-117.39</td>\n",
       "    </tr>\n",
       "    <tr>\n",
       "      <th>3</th>\n",
       "      <td>289769</td>\n",
       "      <td>Carson City</td>\n",
       "      <td>USA</td>\n",
       "      <td>39.15</td>\n",
       "      <td>-119.74</td>\n",
       "    </tr>\n",
       "    <tr>\n",
       "      <th>4</th>\n",
       "      <td>939586</td>\n",
       "      <td>Chicago</td>\n",
       "      <td>USA</td>\n",
       "      <td>41.84</td>\n",
       "      <td>-87.68</td>\n",
       "    </tr>\n",
       "  </tbody>\n",
       "</table>\n",
       "</div>"
      ],
      "text/plain": [
       "   user_id         city country    lat    long\n",
       "0   510335      Peabody     USA  42.53  -70.97\n",
       "1    89568         Reno     USA  39.54 -119.82\n",
       "2   434134       Rialto     USA  34.11 -117.39\n",
       "3   289769  Carson City     USA  39.15 -119.74\n",
       "4   939586      Chicago     USA  41.84  -87.68"
      ]
     },
     "execution_count": 207,
     "metadata": {},
     "output_type": "execute_result"
    }
   ],
   "source": [
    "user_df = pd.read_csv('Pricing_Test/user_table.csv')\n",
    "user_df.head()"
   ]
  },
  {
   "cell_type": "code",
   "execution_count": 210,
   "id": "768f6416-d8cb-45f4-8346-2ce01383d06f",
   "metadata": {},
   "outputs": [
    {
     "data": {
      "text/plain": [
       "Index(['user_id', 'timestamp', 'source', 'device', 'operative_system', 'test',\n",
       "       'price', 'converted'],\n",
       "      dtype='object')"
      ]
     },
     "execution_count": 210,
     "metadata": {},
     "output_type": "execute_result"
    }
   ],
   "source": [
    "test_df.columns"
   ]
  },
  {
   "cell_type": "code",
   "execution_count": 212,
   "id": "24cc30f4-8c24-495b-8802-0e38e6663989",
   "metadata": {},
   "outputs": [
    {
     "data": {
      "text/html": [
       "<div>\n",
       "<style scoped>\n",
       "    .dataframe tbody tr th:only-of-type {\n",
       "        vertical-align: middle;\n",
       "    }\n",
       "\n",
       "    .dataframe tbody tr th {\n",
       "        vertical-align: top;\n",
       "    }\n",
       "\n",
       "    .dataframe thead th {\n",
       "        text-align: right;\n",
       "    }\n",
       "</style>\n",
       "<table border=\"1\" class=\"dataframe\">\n",
       "  <thead>\n",
       "    <tr style=\"text-align: right;\">\n",
       "      <th></th>\n",
       "      <th>test</th>\n",
       "      <th>price</th>\n",
       "    </tr>\n",
       "  </thead>\n",
       "  <tbody>\n",
       "    <tr>\n",
       "      <th>0</th>\n",
       "      <td>0</td>\n",
       "      <td>39</td>\n",
       "    </tr>\n",
       "    <tr>\n",
       "      <th>3</th>\n",
       "      <td>1</td>\n",
       "      <td>59</td>\n",
       "    </tr>\n",
       "    <tr>\n",
       "      <th>1457</th>\n",
       "      <td>1</td>\n",
       "      <td>39</td>\n",
       "    </tr>\n",
       "    <tr>\n",
       "      <th>8238</th>\n",
       "      <td>0</td>\n",
       "      <td>59</td>\n",
       "    </tr>\n",
       "  </tbody>\n",
       "</table>\n",
       "</div>"
      ],
      "text/plain": [
       "      test  price\n",
       "0        0     39\n",
       "3        1     59\n",
       "1457     1     39\n",
       "8238     0     59"
      ]
     },
     "execution_count": 212,
     "metadata": {},
     "output_type": "execute_result"
    }
   ],
   "source": [
    "test_df[['test','price']].drop_duplicates()"
   ]
  },
  {
   "cell_type": "code",
   "execution_count": 221,
   "id": "0381fe45-e7ee-4fdd-9465-fcba66664b7e",
   "metadata": {},
   "outputs": [
    {
     "data": {
      "text/html": [
       "<div>\n",
       "<style scoped>\n",
       "    .dataframe tbody tr th:only-of-type {\n",
       "        vertical-align: middle;\n",
       "    }\n",
       "\n",
       "    .dataframe tbody tr th {\n",
       "        vertical-align: top;\n",
       "    }\n",
       "\n",
       "    .dataframe thead th {\n",
       "        text-align: right;\n",
       "    }\n",
       "</style>\n",
       "<table border=\"1\" class=\"dataframe\">\n",
       "  <thead>\n",
       "    <tr style=\"text-align: right;\">\n",
       "      <th></th>\n",
       "      <th>user_id</th>\n",
       "      <th>timestamp</th>\n",
       "      <th>source</th>\n",
       "      <th>device</th>\n",
       "      <th>operative_system</th>\n",
       "      <th>test</th>\n",
       "      <th>price</th>\n",
       "      <th>converted</th>\n",
       "    </tr>\n",
       "  </thead>\n",
       "  <tbody>\n",
       "    <tr>\n",
       "      <th>0</th>\n",
       "      <td>604839</td>\n",
       "      <td>2015-05-08 03:38:34</td>\n",
       "      <td>ads_facebook</td>\n",
       "      <td>mobile</td>\n",
       "      <td>iOS</td>\n",
       "      <td>0</td>\n",
       "      <td>39</td>\n",
       "      <td>0</td>\n",
       "    </tr>\n",
       "    <tr>\n",
       "      <th>1</th>\n",
       "      <td>624057</td>\n",
       "      <td>2015-05-10 21:08:46</td>\n",
       "      <td>seo-google</td>\n",
       "      <td>mobile</td>\n",
       "      <td>android</td>\n",
       "      <td>0</td>\n",
       "      <td>39</td>\n",
       "      <td>0</td>\n",
       "    </tr>\n",
       "    <tr>\n",
       "      <th>2</th>\n",
       "      <td>317970</td>\n",
       "      <td>2015-04-04 15:01:23</td>\n",
       "      <td>ads-bing</td>\n",
       "      <td>mobile</td>\n",
       "      <td>android</td>\n",
       "      <td>0</td>\n",
       "      <td>39</td>\n",
       "      <td>0</td>\n",
       "    </tr>\n",
       "    <tr>\n",
       "      <th>3</th>\n",
       "      <td>685636</td>\n",
       "      <td>2015-05-07 07:26:01</td>\n",
       "      <td>direct_traffic</td>\n",
       "      <td>mobile</td>\n",
       "      <td>iOS</td>\n",
       "      <td>1</td>\n",
       "      <td>59</td>\n",
       "      <td>0</td>\n",
       "    </tr>\n",
       "    <tr>\n",
       "      <th>4</th>\n",
       "      <td>820854</td>\n",
       "      <td>2015-05-24 11:04:40</td>\n",
       "      <td>ads_facebook</td>\n",
       "      <td>web</td>\n",
       "      <td>mac</td>\n",
       "      <td>0</td>\n",
       "      <td>39</td>\n",
       "      <td>0</td>\n",
       "    </tr>\n",
       "    <tr>\n",
       "      <th>...</th>\n",
       "      <td>...</td>\n",
       "      <td>...</td>\n",
       "      <td>...</td>\n",
       "      <td>...</td>\n",
       "      <td>...</td>\n",
       "      <td>...</td>\n",
       "      <td>...</td>\n",
       "      <td>...</td>\n",
       "    </tr>\n",
       "    <tr>\n",
       "      <th>316795</th>\n",
       "      <td>17427</td>\n",
       "      <td>2015-04-11 09:29:15</td>\n",
       "      <td>ads_facebook</td>\n",
       "      <td>web</td>\n",
       "      <td>windows</td>\n",
       "      <td>0</td>\n",
       "      <td>39</td>\n",
       "      <td>0</td>\n",
       "    </tr>\n",
       "    <tr>\n",
       "      <th>316796</th>\n",
       "      <td>687787</td>\n",
       "      <td>2015-03-16 23:31:55</td>\n",
       "      <td>direct_traffic</td>\n",
       "      <td>web</td>\n",
       "      <td>windows</td>\n",
       "      <td>0</td>\n",
       "      <td>39</td>\n",
       "      <td>0</td>\n",
       "    </tr>\n",
       "    <tr>\n",
       "      <th>316797</th>\n",
       "      <td>618863</td>\n",
       "      <td>2015-04-11 01:35:19</td>\n",
       "      <td>ads-google</td>\n",
       "      <td>web</td>\n",
       "      <td>mac</td>\n",
       "      <td>0</td>\n",
       "      <td>39</td>\n",
       "      <td>0</td>\n",
       "    </tr>\n",
       "    <tr>\n",
       "      <th>316798</th>\n",
       "      <td>154636</td>\n",
       "      <td>2015-05-14 05:46:42</td>\n",
       "      <td>friend_referral</td>\n",
       "      <td>mobile</td>\n",
       "      <td>android</td>\n",
       "      <td>0</td>\n",
       "      <td>39</td>\n",
       "      <td>0</td>\n",
       "    </tr>\n",
       "    <tr>\n",
       "      <th>316799</th>\n",
       "      <td>832372</td>\n",
       "      <td>2015-03-08 17:12:33</td>\n",
       "      <td>ads_facebook</td>\n",
       "      <td>mobile</td>\n",
       "      <td>android</td>\n",
       "      <td>1</td>\n",
       "      <td>59</td>\n",
       "      <td>0</td>\n",
       "    </tr>\n",
       "  </tbody>\n",
       "</table>\n",
       "<p>316435 rows × 8 columns</p>\n",
       "</div>"
      ],
      "text/plain": [
       "        user_id            timestamp           source  device  \\\n",
       "0        604839  2015-05-08 03:38:34     ads_facebook  mobile   \n",
       "1        624057  2015-05-10 21:08:46       seo-google  mobile   \n",
       "2        317970  2015-04-04 15:01:23         ads-bing  mobile   \n",
       "3        685636  2015-05-07 07:26:01   direct_traffic  mobile   \n",
       "4        820854  2015-05-24 11:04:40     ads_facebook     web   \n",
       "...         ...                  ...              ...     ...   \n",
       "316795    17427  2015-04-11 09:29:15     ads_facebook     web   \n",
       "316796   687787  2015-03-16 23:31:55   direct_traffic     web   \n",
       "316797   618863  2015-04-11 01:35:19       ads-google     web   \n",
       "316798   154636  2015-05-14 05:46:42  friend_referral  mobile   \n",
       "316799   832372  2015-03-08 17:12:33     ads_facebook  mobile   \n",
       "\n",
       "       operative_system  test  price  converted  \n",
       "0                   iOS     0     39          0  \n",
       "1               android     0     39          0  \n",
       "2               android     0     39          0  \n",
       "3                   iOS     1     59          0  \n",
       "4                   mac     0     39          0  \n",
       "...                 ...   ...    ...        ...  \n",
       "316795          windows     0     39          0  \n",
       "316796          windows     0     39          0  \n",
       "316797              mac     0     39          0  \n",
       "316798          android     0     39          0  \n",
       "316799          android     1     59          0  \n",
       "\n",
       "[316435 rows x 8 columns]"
      ]
     },
     "execution_count": 221,
     "metadata": {},
     "output_type": "execute_result"
    }
   ],
   "source": [
    "clean_df = test_df.loc[((test_df['test']==1)& (test_df['price']==59))|((test_df['test']==0)& (test_df['price']==39))]\n",
    "clean_df"
   ]
  },
  {
   "cell_type": "code",
   "execution_count": 225,
   "id": "be4bec81-89ed-4de7-abf2-813d698ee77d",
   "metadata": {},
   "outputs": [
    {
     "name": "stderr",
     "output_type": "stream",
     "text": [
      "/var/folders/zq/hqq8b43s3fj4rb11sgc943bw0000gn/T/ipykernel_14340/2523125033.py:1: SettingWithCopyWarning: \n",
      "A value is trying to be set on a copy of a slice from a DataFrame.\n",
      "Try using .loc[row_indexer,col_indexer] = value instead\n",
      "\n",
      "See the caveats in the documentation: https://pandas.pydata.org/pandas-docs/stable/user_guide/indexing.html#returning-a-view-versus-a-copy\n",
      "  clean_df['revenue'] = clean_df['price']*clean_df['converted']\n"
     ]
    }
   ],
   "source": [
    "clean_df['revenue'] = clean_df['price']*clean_df['converted']"
   ]
  },
  {
   "cell_type": "code",
   "execution_count": 222,
   "id": "8c42e5fb-c766-4b50-9c27-e85bef7e2698",
   "metadata": {},
   "outputs": [
    {
     "data": {
      "text/plain": [
       "TtestResult(statistic=9.044608417898376, pvalue=1.5119397664466364e-19, df=260426.2855934621)"
      ]
     },
     "execution_count": 222,
     "metadata": {},
     "output_type": "execute_result"
    }
   ],
   "source": [
    "stats.ttest_ind(clean_df.query('test==0')['converted'],clean_df.query('test==1')['converted'],equal_var=False)"
   ]
  },
  {
   "cell_type": "code",
   "execution_count": 226,
   "id": "e59c9b67-48a7-4b67-8ecc-b2868b65d6ab",
   "metadata": {},
   "outputs": [
    {
     "data": {
      "text/plain": [
       "TtestResult(statistic=-5.715224666463108, pvalue=1.0972577312420781e-08, df=186141.738219264)"
      ]
     },
     "execution_count": 226,
     "metadata": {},
     "output_type": "execute_result"
    }
   ],
   "source": [
    "stats.ttest_ind(clean_df.query('test==0')['revenue'],clean_df.query('test==1')['revenue'],equal_var=False)"
   ]
  },
  {
   "cell_type": "code",
   "execution_count": 228,
   "id": "8946242c-5002-4705-8501-6049e3611031",
   "metadata": {},
   "outputs": [
    {
     "data": {
      "text/html": [
       "<div>\n",
       "<style scoped>\n",
       "    .dataframe tbody tr th:only-of-type {\n",
       "        vertical-align: middle;\n",
       "    }\n",
       "\n",
       "    .dataframe tbody tr th {\n",
       "        vertical-align: top;\n",
       "    }\n",
       "\n",
       "    .dataframe thead th {\n",
       "        text-align: right;\n",
       "    }\n",
       "</style>\n",
       "<table border=\"1\" class=\"dataframe\">\n",
       "  <thead>\n",
       "    <tr style=\"text-align: right;\">\n",
       "      <th></th>\n",
       "      <th>user_id</th>\n",
       "      <th>timestamp</th>\n",
       "      <th>source</th>\n",
       "      <th>device</th>\n",
       "      <th>operative_system</th>\n",
       "      <th>test</th>\n",
       "      <th>price</th>\n",
       "      <th>converted</th>\n",
       "      <th>revenue</th>\n",
       "    </tr>\n",
       "  </thead>\n",
       "  <tbody>\n",
       "    <tr>\n",
       "      <th>0</th>\n",
       "      <td>604839</td>\n",
       "      <td>2015-05-08 03:38:34</td>\n",
       "      <td>ads_facebook</td>\n",
       "      <td>mobile</td>\n",
       "      <td>iOS</td>\n",
       "      <td>0</td>\n",
       "      <td>39</td>\n",
       "      <td>0</td>\n",
       "      <td>0</td>\n",
       "    </tr>\n",
       "    <tr>\n",
       "      <th>1</th>\n",
       "      <td>624057</td>\n",
       "      <td>2015-05-10 21:08:46</td>\n",
       "      <td>seo-google</td>\n",
       "      <td>mobile</td>\n",
       "      <td>android</td>\n",
       "      <td>0</td>\n",
       "      <td>39</td>\n",
       "      <td>0</td>\n",
       "      <td>0</td>\n",
       "    </tr>\n",
       "    <tr>\n",
       "      <th>2</th>\n",
       "      <td>317970</td>\n",
       "      <td>2015-04-04 15:01:23</td>\n",
       "      <td>ads-bing</td>\n",
       "      <td>mobile</td>\n",
       "      <td>android</td>\n",
       "      <td>0</td>\n",
       "      <td>39</td>\n",
       "      <td>0</td>\n",
       "      <td>0</td>\n",
       "    </tr>\n",
       "    <tr>\n",
       "      <th>3</th>\n",
       "      <td>685636</td>\n",
       "      <td>2015-05-07 07:26:01</td>\n",
       "      <td>direct_traffic</td>\n",
       "      <td>mobile</td>\n",
       "      <td>iOS</td>\n",
       "      <td>1</td>\n",
       "      <td>59</td>\n",
       "      <td>0</td>\n",
       "      <td>0</td>\n",
       "    </tr>\n",
       "    <tr>\n",
       "      <th>4</th>\n",
       "      <td>820854</td>\n",
       "      <td>2015-05-24 11:04:40</td>\n",
       "      <td>ads_facebook</td>\n",
       "      <td>web</td>\n",
       "      <td>mac</td>\n",
       "      <td>0</td>\n",
       "      <td>39</td>\n",
       "      <td>0</td>\n",
       "      <td>0</td>\n",
       "    </tr>\n",
       "  </tbody>\n",
       "</table>\n",
       "</div>"
      ],
      "text/plain": [
       "   user_id            timestamp          source  device operative_system  \\\n",
       "0   604839  2015-05-08 03:38:34    ads_facebook  mobile              iOS   \n",
       "1   624057  2015-05-10 21:08:46      seo-google  mobile          android   \n",
       "2   317970  2015-04-04 15:01:23        ads-bing  mobile          android   \n",
       "3   685636  2015-05-07 07:26:01  direct_traffic  mobile              iOS   \n",
       "4   820854  2015-05-24 11:04:40    ads_facebook     web              mac   \n",
       "\n",
       "   test  price  converted  revenue  \n",
       "0     0     39          0        0  \n",
       "1     0     39          0        0  \n",
       "2     0     39          0        0  \n",
       "3     1     59          0        0  \n",
       "4     0     39          0        0  "
      ]
     },
     "execution_count": 228,
     "metadata": {},
     "output_type": "execute_result"
    }
   ],
   "source": [
    "clean_df.head()"
   ]
  },
  {
   "cell_type": "code",
   "execution_count": 235,
   "id": "531dd0fd-0af1-45ad-8763-bdb7a8fe140b",
   "metadata": {},
   "outputs": [
    {
     "data": {
      "image/png": "[encoded data removed]",
      "text/plain": [
       "<Figure size 640x480 with 1 Axes>"
      ]
     },
     "metadata": {},
     "output_type": "display_data"
    }
   ],
   "source": [
    "sns.barplot(x='source', y='revenue', hue = 'test', data = clean_df)\n",
    "plt.title('avg revenue by source: test vs control')\n",
    "plt.xticks(rotation=45)\n",
    "plt.show()\n",
    "# the vertical bars (|) at the top of each bar represent error bars, which typically indicate the variability or uncertainty of the revenue values shown. \n",
    "# These error bars could represent standard deviation, standard error, or confidence intervals, depending on how the data was processed.\n",
    "# These error bars help assess whether differences between test and control groups are statistically significant.\n",
    "# If the error bars overlap considerably,\n",
    "# it suggests that the difference in revenue might not be statistically significant."
   ]
  },
  {
   "cell_type": "code",
   "execution_count": 236,
   "id": "f7a069fa-acf5-4726-9f7f-759e4c1dc0ba",
   "metadata": {},
   "outputs": [],
   "source": [
    "# clean_df.groupby(['test','source'])['revenue'].agg({'count', 'sum','mean'}).reset_index()"
   ]
  },
  {
   "cell_type": "code",
   "execution_count": 344,
   "id": "5c3cc78e-dc4e-4b26-bc4e-a20631a11943",
   "metadata": {},
   "outputs": [
    {
     "data": {
      "text/html": [
       "<div>\n",
       "<style scoped>\n",
       "    .dataframe tbody tr th:only-of-type {\n",
       "        vertical-align: middle;\n",
       "    }\n",
       "\n",
       "    .dataframe tbody tr th {\n",
       "        vertical-align: top;\n",
       "    }\n",
       "\n",
       "    .dataframe thead th {\n",
       "        text-align: right;\n",
       "    }\n",
       "</style>\n",
       "<table border=\"1\" class=\"dataframe\">\n",
       "  <thead>\n",
       "    <tr style=\"text-align: right;\">\n",
       "      <th>test</th>\n",
       "      <th>source</th>\n",
       "      <th>0</th>\n",
       "      <th>1</th>\n",
       "    </tr>\n",
       "  </thead>\n",
       "  <tbody>\n",
       "    <tr>\n",
       "      <th>0</th>\n",
       "      <td>ads-bing</td>\n",
       "      <td>7605</td>\n",
       "      <td>4661</td>\n",
       "    </tr>\n",
       "    <tr>\n",
       "      <th>1</th>\n",
       "      <td>ads-google</td>\n",
       "      <td>33306</td>\n",
       "      <td>24898</td>\n",
       "    </tr>\n",
       "    <tr>\n",
       "      <th>2</th>\n",
       "      <td>ads-yahoo</td>\n",
       "      <td>3159</td>\n",
       "      <td>1829</td>\n",
       "    </tr>\n",
       "    <tr>\n",
       "      <th>3</th>\n",
       "      <td>ads_facebook</td>\n",
       "      <td>31434</td>\n",
       "      <td>19175</td>\n",
       "    </tr>\n",
       "    <tr>\n",
       "      <th>4</th>\n",
       "      <td>ads_other</td>\n",
       "      <td>11583</td>\n",
       "      <td>7729</td>\n",
       "    </tr>\n",
       "    <tr>\n",
       "      <th>5</th>\n",
       "      <td>direct_traffic</td>\n",
       "      <td>20397</td>\n",
       "      <td>12862</td>\n",
       "    </tr>\n",
       "    <tr>\n",
       "      <th>6</th>\n",
       "      <td>friend_referral</td>\n",
       "      <td>21333</td>\n",
       "      <td>14927</td>\n",
       "    </tr>\n",
       "    <tr>\n",
       "      <th>7</th>\n",
       "      <td>seo-bing</td>\n",
       "      <td>1560</td>\n",
       "      <td>649</td>\n",
       "    </tr>\n",
       "    <tr>\n",
       "      <th>8</th>\n",
       "      <td>seo-google</td>\n",
       "      <td>10296</td>\n",
       "      <td>7611</td>\n",
       "    </tr>\n",
       "    <tr>\n",
       "      <th>9</th>\n",
       "      <td>seo-other</td>\n",
       "      <td>4017</td>\n",
       "      <td>2478</td>\n",
       "    </tr>\n",
       "    <tr>\n",
       "      <th>10</th>\n",
       "      <td>seo-yahoo</td>\n",
       "      <td>3315</td>\n",
       "      <td>1534</td>\n",
       "    </tr>\n",
       "    <tr>\n",
       "      <th>11</th>\n",
       "      <td>seo_facebook</td>\n",
       "      <td>9165</td>\n",
       "      <td>6195</td>\n",
       "    </tr>\n",
       "  </tbody>\n",
       "</table>\n",
       "</div>"
      ],
      "text/plain": [
       "test           source      0      1\n",
       "0            ads-bing   7605   4661\n",
       "1          ads-google  33306  24898\n",
       "2           ads-yahoo   3159   1829\n",
       "3        ads_facebook  31434  19175\n",
       "4           ads_other  11583   7729\n",
       "5      direct_traffic  20397  12862\n",
       "6     friend_referral  21333  14927\n",
       "7            seo-bing   1560    649\n",
       "8          seo-google  10296   7611\n",
       "9           seo-other   4017   2478\n",
       "10          seo-yahoo   3315   1534\n",
       "11       seo_facebook   9165   6195"
      ]
     },
     "execution_count": 344,
     "metadata": {},
     "output_type": "execute_result"
    }
   ],
   "source": [
    "sample = clean_df.groupby(['test','source'])['revenue'].sum().reset_index()\n",
    "wide = sample.pivot(columns = 'test',index = 'source', values = 'revenue').reset_index()\n",
    "wide "
   ]
  },
  {
   "cell_type": "code",
   "execution_count": 349,
   "id": "966ed606-2f1f-4af7-8144-dbc8a038ef8e",
   "metadata": {},
   "outputs": [
    {
     "data": {
      "text/html": [
       "<div>\n",
       "<style scoped>\n",
       "    .dataframe tbody tr th:only-of-type {\n",
       "        vertical-align: middle;\n",
       "    }\n",
       "\n",
       "    .dataframe tbody tr th {\n",
       "        vertical-align: top;\n",
       "    }\n",
       "\n",
       "    .dataframe thead th {\n",
       "        text-align: right;\n",
       "    }\n",
       "</style>\n",
       "<table border=\"1\" class=\"dataframe\">\n",
       "  <thead>\n",
       "    <tr style=\"text-align: right;\">\n",
       "      <th></th>\n",
       "      <th>source</th>\n",
       "      <th>test</th>\n",
       "      <th>revenue</th>\n",
       "    </tr>\n",
       "  </thead>\n",
       "  <tbody>\n",
       "    <tr>\n",
       "      <th>0</th>\n",
       "      <td>ads-bing</td>\n",
       "      <td>0</td>\n",
       "      <td>7605</td>\n",
       "    </tr>\n",
       "    <tr>\n",
       "      <th>1</th>\n",
       "      <td>ads-google</td>\n",
       "      <td>0</td>\n",
       "      <td>33306</td>\n",
       "    </tr>\n",
       "    <tr>\n",
       "      <th>2</th>\n",
       "      <td>ads-yahoo</td>\n",
       "      <td>0</td>\n",
       "      <td>3159</td>\n",
       "    </tr>\n",
       "    <tr>\n",
       "      <th>3</th>\n",
       "      <td>ads_facebook</td>\n",
       "      <td>0</td>\n",
       "      <td>31434</td>\n",
       "    </tr>\n",
       "    <tr>\n",
       "      <th>4</th>\n",
       "      <td>ads_other</td>\n",
       "      <td>0</td>\n",
       "      <td>11583</td>\n",
       "    </tr>\n",
       "    <tr>\n",
       "      <th>5</th>\n",
       "      <td>direct_traffic</td>\n",
       "      <td>0</td>\n",
       "      <td>20397</td>\n",
       "    </tr>\n",
       "    <tr>\n",
       "      <th>6</th>\n",
       "      <td>friend_referral</td>\n",
       "      <td>0</td>\n",
       "      <td>21333</td>\n",
       "    </tr>\n",
       "    <tr>\n",
       "      <th>7</th>\n",
       "      <td>seo-bing</td>\n",
       "      <td>0</td>\n",
       "      <td>1560</td>\n",
       "    </tr>\n",
       "    <tr>\n",
       "      <th>8</th>\n",
       "      <td>seo-google</td>\n",
       "      <td>0</td>\n",
       "      <td>10296</td>\n",
       "    </tr>\n",
       "    <tr>\n",
       "      <th>9</th>\n",
       "      <td>seo-other</td>\n",
       "      <td>0</td>\n",
       "      <td>4017</td>\n",
       "    </tr>\n",
       "    <tr>\n",
       "      <th>10</th>\n",
       "      <td>seo-yahoo</td>\n",
       "      <td>0</td>\n",
       "      <td>3315</td>\n",
       "    </tr>\n",
       "    <tr>\n",
       "      <th>11</th>\n",
       "      <td>seo_facebook</td>\n",
       "      <td>0</td>\n",
       "      <td>9165</td>\n",
       "    </tr>\n",
       "    <tr>\n",
       "      <th>12</th>\n",
       "      <td>ads-bing</td>\n",
       "      <td>1</td>\n",
       "      <td>4661</td>\n",
       "    </tr>\n",
       "    <tr>\n",
       "      <th>13</th>\n",
       "      <td>ads-google</td>\n",
       "      <td>1</td>\n",
       "      <td>24898</td>\n",
       "    </tr>\n",
       "    <tr>\n",
       "      <th>14</th>\n",
       "      <td>ads-yahoo</td>\n",
       "      <td>1</td>\n",
       "      <td>1829</td>\n",
       "    </tr>\n",
       "    <tr>\n",
       "      <th>15</th>\n",
       "      <td>ads_facebook</td>\n",
       "      <td>1</td>\n",
       "      <td>19175</td>\n",
       "    </tr>\n",
       "    <tr>\n",
       "      <th>16</th>\n",
       "      <td>ads_other</td>\n",
       "      <td>1</td>\n",
       "      <td>7729</td>\n",
       "    </tr>\n",
       "    <tr>\n",
       "      <th>17</th>\n",
       "      <td>direct_traffic</td>\n",
       "      <td>1</td>\n",
       "      <td>12862</td>\n",
       "    </tr>\n",
       "    <tr>\n",
       "      <th>18</th>\n",
       "      <td>friend_referral</td>\n",
       "      <td>1</td>\n",
       "      <td>14927</td>\n",
       "    </tr>\n",
       "    <tr>\n",
       "      <th>19</th>\n",
       "      <td>seo-bing</td>\n",
       "      <td>1</td>\n",
       "      <td>649</td>\n",
       "    </tr>\n",
       "    <tr>\n",
       "      <th>20</th>\n",
       "      <td>seo-google</td>\n",
       "      <td>1</td>\n",
       "      <td>7611</td>\n",
       "    </tr>\n",
       "    <tr>\n",
       "      <th>21</th>\n",
       "      <td>seo-other</td>\n",
       "      <td>1</td>\n",
       "      <td>2478</td>\n",
       "    </tr>\n",
       "    <tr>\n",
       "      <th>22</th>\n",
       "      <td>seo-yahoo</td>\n",
       "      <td>1</td>\n",
       "      <td>1534</td>\n",
       "    </tr>\n",
       "    <tr>\n",
       "      <th>23</th>\n",
       "      <td>seo_facebook</td>\n",
       "      <td>1</td>\n",
       "      <td>6195</td>\n",
       "    </tr>\n",
       "  </tbody>\n",
       "</table>\n",
       "</div>"
      ],
      "text/plain": [
       "             source test  revenue\n",
       "0          ads-bing    0     7605\n",
       "1        ads-google    0    33306\n",
       "2         ads-yahoo    0     3159\n",
       "3      ads_facebook    0    31434\n",
       "4         ads_other    0    11583\n",
       "5    direct_traffic    0    20397\n",
       "6   friend_referral    0    21333\n",
       "7          seo-bing    0     1560\n",
       "8        seo-google    0    10296\n",
       "9         seo-other    0     4017\n",
       "10        seo-yahoo    0     3315\n",
       "11     seo_facebook    0     9165\n",
       "12         ads-bing    1     4661\n",
       "13       ads-google    1    24898\n",
       "14        ads-yahoo    1     1829\n",
       "15     ads_facebook    1    19175\n",
       "16        ads_other    1     7729\n",
       "17   direct_traffic    1    12862\n",
       "18  friend_referral    1    14927\n",
       "19         seo-bing    1      649\n",
       "20       seo-google    1     7611\n",
       "21        seo-other    1     2478\n",
       "22        seo-yahoo    1     1534\n",
       "23     seo_facebook    1     6195"
      ]
     },
     "execution_count": 349,
     "metadata": {},
     "output_type": "execute_result"
    }
   ],
   "source": [
    "pd.melt(wide,id_vars = 'source', value_name = 'revenue')"
   ]
  },
  {
   "cell_type": "code",
   "execution_count": 224,
   "id": "9e49925b-ee17-4594-9b5c-cb4604601aec",
   "metadata": {},
   "outputs": [
    {
     "data": {
      "text/html": [
       "<div>\n",
       "<style scoped>\n",
       "    .dataframe tbody tr th:only-of-type {\n",
       "        vertical-align: middle;\n",
       "    }\n",
       "\n",
       "    .dataframe tbody tr th {\n",
       "        vertical-align: top;\n",
       "    }\n",
       "\n",
       "    .dataframe thead th {\n",
       "        text-align: right;\n",
       "    }\n",
       "</style>\n",
       "<table border=\"1\" class=\"dataframe\">\n",
       "  <thead>\n",
       "    <tr style=\"text-align: right;\">\n",
       "      <th></th>\n",
       "      <th>test</th>\n",
       "      <th>sum</th>\n",
       "      <th>mean</th>\n",
       "      <th>count</th>\n",
       "    </tr>\n",
       "  </thead>\n",
       "  <tbody>\n",
       "    <tr>\n",
       "      <th>0</th>\n",
       "      <td>0</td>\n",
       "      <td>4030</td>\n",
       "      <td>0.019900</td>\n",
       "      <td>202517</td>\n",
       "    </tr>\n",
       "    <tr>\n",
       "      <th>1</th>\n",
       "      <td>1</td>\n",
       "      <td>1772</td>\n",
       "      <td>0.015555</td>\n",
       "      <td>113918</td>\n",
       "    </tr>\n",
       "  </tbody>\n",
       "</table>\n",
       "</div>"
      ],
      "text/plain": [
       "   test   sum      mean   count\n",
       "0     0  4030  0.019900  202517\n",
       "1     1  1772  0.015555  113918"
      ]
     },
     "execution_count": 224,
     "metadata": {},
     "output_type": "execute_result"
    }
   ],
   "source": [
    "# agg_df = clean_df.groupby('test')['converted'].agg({'count', 'sum','mean'}).reset_index()\n",
    "# agg_df"
   ]
  },
  {
   "cell_type": "code",
   "execution_count": 239,
   "id": "a064f0d1-dfc3-450b-b3cf-080e8aba4904",
   "metadata": {},
   "outputs": [
    {
     "data": {
      "text/plain": [
       "([0, 1], [Text(0, 0, 'mobile'), Text(1, 0, 'web')])"
      ]
     },
     "execution_count": 239,
     "metadata": {},
     "output_type": "execute_result"
    },
    {
     "data": {
      "image/png": "[encoded data removed]",
      "text/plain": [
       "<Figure size 640x480 with 1 Axes>"
      ]
     },
     "metadata": {},
     "output_type": "display_data"
    }
   ],
   "source": [
    "sns.barplot(x='device', y='revenue', hue='test', data=clean_df)\n",
    "plt.title('avg revenue by device: test vs control')\n",
    "plt.xticks(rotation=45)\n",
    "# It appears that mobile users are less price sensitive. \n",
    "# This is typically very good as mobile is in most cases the channel that’s proportionally growing more between the two. \n",
    "# So, in the long run, the revenue gain from the price change could be even larger."
   ]
  },
  {
   "cell_type": "code",
   "execution_count": 240,
   "id": "c8e659cd-0c4a-4a4e-9dc0-74abdd5ebf4e",
   "metadata": {},
   "outputs": [
    {
     "data": {
      "text/plain": [
       "([0, 1, 2, 3, 4, 5],\n",
       " [Text(0, 0, 'iOS'),\n",
       "  Text(1, 0, 'android'),\n",
       "  Text(2, 0, 'mac'),\n",
       "  Text(3, 0, 'windows'),\n",
       "  Text(4, 0, 'other'),\n",
       "  Text(5, 0, 'linux')])"
      ]
     },
     "execution_count": 240,
     "metadata": {},
     "output_type": "execute_result"
    },
    {
     "data": {
      "image/png": "[encoded data removed]",
      "text/plain": [
       "<Figure size 640x480 with 1 Axes>"
      ]
     },
     "metadata": {},
     "output_type": "display_data"
    }
   ],
   "source": [
    "sns.barplot(x='operative_system', y='revenue', hue='test', data=clean_df)\n",
    "plt.title('avg revenue by os: test vs control')\n",
    "plt.xticks(rotation=45)\n",
    "# Not surprisingly, we can see that mac/iOS react better to the price increase. \n",
    "# Most likely, they are acting as a proxy for different user characteristics. \n",
    "# It would probably be a good idea to figure out how to get more of those users and target them more via,\n",
    "# for instance, ads or ad-hoc marketing campaigns."
   ]
  },
  {
   "cell_type": "code",
   "execution_count": 242,
   "id": "d92d6fed-2606-472a-a12d-95af2b08a95c",
   "metadata": {},
   "outputs": [
    {
     "data": {
      "text/html": [
       "<div>\n",
       "<style scoped>\n",
       "    .dataframe tbody tr th:only-of-type {\n",
       "        vertical-align: middle;\n",
       "    }\n",
       "\n",
       "    .dataframe tbody tr th {\n",
       "        vertical-align: top;\n",
       "    }\n",
       "\n",
       "    .dataframe thead th {\n",
       "        text-align: right;\n",
       "    }\n",
       "</style>\n",
       "<table border=\"1\" class=\"dataframe\">\n",
       "  <thead>\n",
       "    <tr style=\"text-align: right;\">\n",
       "      <th></th>\n",
       "      <th>user_id</th>\n",
       "      <th>timestamp</th>\n",
       "      <th>source</th>\n",
       "      <th>device</th>\n",
       "      <th>operative_system</th>\n",
       "      <th>test</th>\n",
       "      <th>price</th>\n",
       "      <th>converted</th>\n",
       "      <th>revenue</th>\n",
       "    </tr>\n",
       "  </thead>\n",
       "  <tbody>\n",
       "    <tr>\n",
       "      <th>0</th>\n",
       "      <td>604839</td>\n",
       "      <td>2015-05-08 03:38:34</td>\n",
       "      <td>ads_facebook</td>\n",
       "      <td>mobile</td>\n",
       "      <td>iOS</td>\n",
       "      <td>0</td>\n",
       "      <td>39</td>\n",
       "      <td>0</td>\n",
       "      <td>0</td>\n",
       "    </tr>\n",
       "    <tr>\n",
       "      <th>1</th>\n",
       "      <td>624057</td>\n",
       "      <td>2015-05-10 21:08:46</td>\n",
       "      <td>seo-google</td>\n",
       "      <td>mobile</td>\n",
       "      <td>android</td>\n",
       "      <td>0</td>\n",
       "      <td>39</td>\n",
       "      <td>0</td>\n",
       "      <td>0</td>\n",
       "    </tr>\n",
       "    <tr>\n",
       "      <th>2</th>\n",
       "      <td>317970</td>\n",
       "      <td>2015-04-04 15:01:23</td>\n",
       "      <td>ads-bing</td>\n",
       "      <td>mobile</td>\n",
       "      <td>android</td>\n",
       "      <td>0</td>\n",
       "      <td>39</td>\n",
       "      <td>0</td>\n",
       "      <td>0</td>\n",
       "    </tr>\n",
       "    <tr>\n",
       "      <th>3</th>\n",
       "      <td>685636</td>\n",
       "      <td>2015-05-07 07:26:01</td>\n",
       "      <td>direct_traffic</td>\n",
       "      <td>mobile</td>\n",
       "      <td>iOS</td>\n",
       "      <td>1</td>\n",
       "      <td>59</td>\n",
       "      <td>0</td>\n",
       "      <td>0</td>\n",
       "    </tr>\n",
       "    <tr>\n",
       "      <th>4</th>\n",
       "      <td>820854</td>\n",
       "      <td>2015-05-24 11:04:40</td>\n",
       "      <td>ads_facebook</td>\n",
       "      <td>web</td>\n",
       "      <td>mac</td>\n",
       "      <td>0</td>\n",
       "      <td>39</td>\n",
       "      <td>0</td>\n",
       "      <td>0</td>\n",
       "    </tr>\n",
       "    <tr>\n",
       "      <th>...</th>\n",
       "      <td>...</td>\n",
       "      <td>...</td>\n",
       "      <td>...</td>\n",
       "      <td>...</td>\n",
       "      <td>...</td>\n",
       "      <td>...</td>\n",
       "      <td>...</td>\n",
       "      <td>...</td>\n",
       "      <td>...</td>\n",
       "    </tr>\n",
       "    <tr>\n",
       "      <th>316795</th>\n",
       "      <td>17427</td>\n",
       "      <td>2015-04-11 09:29:15</td>\n",
       "      <td>ads_facebook</td>\n",
       "      <td>web</td>\n",
       "      <td>windows</td>\n",
       "      <td>0</td>\n",
       "      <td>39</td>\n",
       "      <td>0</td>\n",
       "      <td>0</td>\n",
       "    </tr>\n",
       "    <tr>\n",
       "      <th>316796</th>\n",
       "      <td>687787</td>\n",
       "      <td>2015-03-16 23:31:55</td>\n",
       "      <td>direct_traffic</td>\n",
       "      <td>web</td>\n",
       "      <td>windows</td>\n",
       "      <td>0</td>\n",
       "      <td>39</td>\n",
       "      <td>0</td>\n",
       "      <td>0</td>\n",
       "    </tr>\n",
       "    <tr>\n",
       "      <th>316797</th>\n",
       "      <td>618863</td>\n",
       "      <td>2015-04-11 01:35:19</td>\n",
       "      <td>ads-google</td>\n",
       "      <td>web</td>\n",
       "      <td>mac</td>\n",
       "      <td>0</td>\n",
       "      <td>39</td>\n",
       "      <td>0</td>\n",
       "      <td>0</td>\n",
       "    </tr>\n",
       "    <tr>\n",
       "      <th>316798</th>\n",
       "      <td>154636</td>\n",
       "      <td>2015-05-14 05:46:42</td>\n",
       "      <td>friend_referral</td>\n",
       "      <td>mobile</td>\n",
       "      <td>android</td>\n",
       "      <td>0</td>\n",
       "      <td>39</td>\n",
       "      <td>0</td>\n",
       "      <td>0</td>\n",
       "    </tr>\n",
       "    <tr>\n",
       "      <th>316799</th>\n",
       "      <td>832372</td>\n",
       "      <td>2015-03-08 17:12:33</td>\n",
       "      <td>ads_facebook</td>\n",
       "      <td>mobile</td>\n",
       "      <td>android</td>\n",
       "      <td>1</td>\n",
       "      <td>59</td>\n",
       "      <td>0</td>\n",
       "      <td>0</td>\n",
       "    </tr>\n",
       "  </tbody>\n",
       "</table>\n",
       "<p>312305 rows × 9 columns</p>\n",
       "</div>"
      ],
      "text/plain": [
       "        user_id            timestamp           source  device  \\\n",
       "0        604839  2015-05-08 03:38:34     ads_facebook  mobile   \n",
       "1        624057  2015-05-10 21:08:46       seo-google  mobile   \n",
       "2        317970  2015-04-04 15:01:23         ads-bing  mobile   \n",
       "3        685636  2015-05-07 07:26:01   direct_traffic  mobile   \n",
       "4        820854  2015-05-24 11:04:40     ads_facebook     web   \n",
       "...         ...                  ...              ...     ...   \n",
       "316795    17427  2015-04-11 09:29:15     ads_facebook     web   \n",
       "316796   687787  2015-03-16 23:31:55   direct_traffic     web   \n",
       "316797   618863  2015-04-11 01:35:19       ads-google     web   \n",
       "316798   154636  2015-05-14 05:46:42  friend_referral  mobile   \n",
       "316799   832372  2015-03-08 17:12:33     ads_facebook  mobile   \n",
       "\n",
       "       operative_system  test  price  converted  revenue  \n",
       "0                   iOS     0     39          0        0  \n",
       "1               android     0     39          0        0  \n",
       "2               android     0     39          0        0  \n",
       "3                   iOS     1     59          0        0  \n",
       "4                   mac     0     39          0        0  \n",
       "...                 ...   ...    ...        ...      ...  \n",
       "316795          windows     0     39          0        0  \n",
       "316796          windows     0     39          0        0  \n",
       "316797              mac     0     39          0        0  \n",
       "316798          android     0     39          0        0  \n",
       "316799          android     1     59          0        0  \n",
       "\n",
       "[312305 rows x 9 columns]"
      ]
     },
     "execution_count": 242,
     "metadata": {},
     "output_type": "execute_result"
    }
   ],
   "source": [
    "clean_df_v2 = clean_df.query('operative_system != \"linux\"')\n",
    "clean_df_v2"
   ]
  },
  {
   "cell_type": "code",
   "execution_count": 243,
   "id": "68cfa586-94af-443f-aeb3-a1c20058390b",
   "metadata": {},
   "outputs": [
    {
     "data": {
      "text/plain": [
       "TtestResult(statistic=-6.184240028400434, pvalue=6.253458285742887e-10, df=181667.22654265029)"
      ]
     },
     "execution_count": 243,
     "metadata": {},
     "output_type": "execute_result"
    }
   ],
   "source": [
    "stats.ttest_ind(clean_df_v2.query('test==0')['revenue'],clean_df_v2.query('test==1')['revenue'],equal_var=False)"
   ]
  },
  {
   "cell_type": "code",
   "execution_count": 246,
   "id": "b234652b-b586-4765-b945-9d0618af513e",
   "metadata": {},
   "outputs": [
    {
     "data": {
      "text/plain": [
       "(312305, 13)"
      ]
     },
     "execution_count": 246,
     "metadata": {},
     "output_type": "execute_result"
    }
   ],
   "source": [
    "#join the two datasets on user_id\n",
    "data=pd.merge(left=clean_df_v2, right=user_df, how='left', on='user_id')\n",
    "data.shape"
   ]
  },
  {
   "cell_type": "code",
   "execution_count": 251,
   "id": "5d1167de-25e8-410b-b902-589f0bb2f019",
   "metadata": {},
   "outputs": [],
   "source": [
    "top_city = data['city'].value_counts().reset_index().sort_values(by='count', ascending=False).head(10)"
   ]
  },
  {
   "cell_type": "code",
   "execution_count": 257,
   "id": "2f33c96b-6f05-414f-9a20-5a1bd062a9af",
   "metadata": {},
   "outputs": [
    {
     "data": {
      "text/plain": [
       "([0, 1, 2, 3, 4, 5, 6, 7, 8, 9],\n",
       " [Text(0, 0, 'New York'),\n",
       "  Text(1, 0, 'Chicago'),\n",
       "  Text(2, 0, 'Las Vegas'),\n",
       "  Text(3, 0, 'Jacksonville'),\n",
       "  Text(4, 0, 'Los Angeles'),\n",
       "  Text(5, 0, 'San Antonio'),\n",
       "  Text(6, 0, 'Philadelphia'),\n",
       "  Text(7, 0, 'Houston'),\n",
       "  Text(8, 0, 'Indianapolis'),\n",
       "  Text(9, 0, 'San Jose')])"
      ]
     },
     "execution_count": 257,
     "metadata": {},
     "output_type": "execute_result"
    },
    {
     "data": {
      "image/png": "[encoded data removed]",
      "text/plain": [
       "<Figure size 640x480 with 1 Axes>"
      ]
     },
     "metadata": {},
     "output_type": "display_data"
    }
   ],
   "source": [
    "sns.barplot(x='city', y = 'revenue', hue = 'test',data = data[data['city'].isin(top_city['city'])])\n",
    "plt.xticks(rotation = 45)"
   ]
  },
  {
   "cell_type": "code",
   "execution_count": 260,
   "id": "46ec0f4b-219e-41e4-8b29-4326da938aef",
   "metadata": {},
   "outputs": [
    {
     "data": {
      "text/plain": [
       "test\n",
       "0    0.019949\n",
       "1    0.015823\n",
       "Name: converted, dtype: float64"
      ]
     },
     "execution_count": 260,
     "metadata": {},
     "output_type": "execute_result"
    }
   ],
   "source": [
    "data.groupby('test')['converted'].mean()"
   ]
  },
  {
   "cell_type": "code",
   "execution_count": 261,
   "id": "e57c933a-5ca1-4342-a79f-6d15d2feed7c",
   "metadata": {},
   "outputs": [
    {
     "data": {
      "text/plain": [
       "-0.20682740989523285"
      ]
     },
     "execution_count": 261,
     "metadata": {},
     "output_type": "execute_result"
    }
   ],
   "source": [
    "0.015823/0.019949-1"
   ]
  },
  {
   "cell_type": "markdown",
   "id": "37ce5766-2caa-4cd5-9442-4c1be2fd4f97",
   "metadata": {},
   "source": [
    "# [Bonus] After how many days you would have stopped the test?\n"
   ]
  },
  {
   "cell_type": "code",
   "execution_count": 264,
   "id": "bb7d7f52-5fff-4c46-9eac-099f27381f43",
   "metadata": {},
   "outputs": [
    {
     "data": {
      "text/plain": [
       "0.019948780159051084"
      ]
     },
     "execution_count": 264,
     "metadata": {},
     "output_type": "execute_result"
    }
   ],
   "source": [
    "conversion_rate_control = clean_df_v2.query('test == 0')['converted'].mean()\n",
    "conversion_rate_control"
   ]
  },
  {
   "cell_type": "code",
   "execution_count": 265,
   "id": "655adca6-cad8-435d-8c6a-66fda1546669",
   "metadata": {},
   "outputs": [],
   "source": [
    "p1_and_p2 = sms.proportion_effectsize(conversion_rate_control, conversion_rate_control*39/59)\n"
   ]
  },
  {
   "cell_type": "code",
   "execution_count": 266,
   "id": "b4d7790d-c6fe-420d-a442-1ff25a682bd3",
   "metadata": {},
   "outputs": [],
   "source": [
    "sample_size = sms.NormalIndPower().solve_power(p1_and_p2, power=0.8,alpha=0.05)\n",
    "## It solves for one parameter in a power analysis equation, given the other inputs. "
   ]
  },
  {
   "cell_type": "code",
   "execution_count": 267,
   "id": "8dc80e1d-da83-4e15-a928-6a6ede2cf0a3",
   "metadata": {},
   "outputs": [
    {
     "data": {
      "text/plain": [
       "5534.884691425768"
      ]
     },
     "execution_count": 267,
     "metadata": {},
     "output_type": "execute_result"
    }
   ],
   "source": [
    "sample_size"
   ]
  },
  {
   "cell_type": "code",
   "execution_count": 270,
   "id": "56767946-04cc-4767-a6be-e81f359b4a40",
   "metadata": {},
   "outputs": [
    {
     "data": {
      "text/plain": [
       "5535"
      ]
     },
     "execution_count": 270,
     "metadata": {},
     "output_type": "execute_result"
    }
   ],
   "source": [
    "round(sample_size)"
   ]
  },
  {
   "cell_type": "code",
   "execution_count": 271,
   "id": "e0e314a9-9932-4948-bb6a-720abd1eec87",
   "metadata": {},
   "outputs": [
    {
     "data": {
      "text/html": [
       "<div>\n",
       "<style scoped>\n",
       "    .dataframe tbody tr th:only-of-type {\n",
       "        vertical-align: middle;\n",
       "    }\n",
       "\n",
       "    .dataframe tbody tr th {\n",
       "        vertical-align: top;\n",
       "    }\n",
       "\n",
       "    .dataframe thead th {\n",
       "        text-align: right;\n",
       "    }\n",
       "</style>\n",
       "<table border=\"1\" class=\"dataframe\">\n",
       "  <thead>\n",
       "    <tr style=\"text-align: right;\">\n",
       "      <th></th>\n",
       "      <th>user_id</th>\n",
       "      <th>timestamp</th>\n",
       "      <th>source</th>\n",
       "      <th>device</th>\n",
       "      <th>operative_system</th>\n",
       "      <th>test</th>\n",
       "      <th>price</th>\n",
       "      <th>converted</th>\n",
       "      <th>revenue</th>\n",
       "      <th>city</th>\n",
       "      <th>country</th>\n",
       "      <th>lat</th>\n",
       "      <th>long</th>\n",
       "    </tr>\n",
       "  </thead>\n",
       "  <tbody>\n",
       "    <tr>\n",
       "      <th>0</th>\n",
       "      <td>604839</td>\n",
       "      <td>2015-05-08 03:38:34</td>\n",
       "      <td>ads_facebook</td>\n",
       "      <td>mobile</td>\n",
       "      <td>iOS</td>\n",
       "      <td>0</td>\n",
       "      <td>39</td>\n",
       "      <td>0</td>\n",
       "      <td>0</td>\n",
       "      <td>Buffalo</td>\n",
       "      <td>USA</td>\n",
       "      <td>42.89</td>\n",
       "      <td>-78.86</td>\n",
       "    </tr>\n",
       "    <tr>\n",
       "      <th>1</th>\n",
       "      <td>624057</td>\n",
       "      <td>2015-05-10 21:08:46</td>\n",
       "      <td>seo-google</td>\n",
       "      <td>mobile</td>\n",
       "      <td>android</td>\n",
       "      <td>0</td>\n",
       "      <td>39</td>\n",
       "      <td>0</td>\n",
       "      <td>0</td>\n",
       "      <td>Lakeville</td>\n",
       "      <td>USA</td>\n",
       "      <td>44.68</td>\n",
       "      <td>-93.24</td>\n",
       "    </tr>\n",
       "    <tr>\n",
       "      <th>2</th>\n",
       "      <td>317970</td>\n",
       "      <td>2015-04-04 15:01:23</td>\n",
       "      <td>ads-bing</td>\n",
       "      <td>mobile</td>\n",
       "      <td>android</td>\n",
       "      <td>0</td>\n",
       "      <td>39</td>\n",
       "      <td>0</td>\n",
       "      <td>0</td>\n",
       "      <td>Parma</td>\n",
       "      <td>USA</td>\n",
       "      <td>41.38</td>\n",
       "      <td>-81.73</td>\n",
       "    </tr>\n",
       "    <tr>\n",
       "      <th>3</th>\n",
       "      <td>685636</td>\n",
       "      <td>2015-05-07 07:26:01</td>\n",
       "      <td>direct_traffic</td>\n",
       "      <td>mobile</td>\n",
       "      <td>iOS</td>\n",
       "      <td>1</td>\n",
       "      <td>59</td>\n",
       "      <td>0</td>\n",
       "      <td>0</td>\n",
       "      <td>Fayetteville</td>\n",
       "      <td>USA</td>\n",
       "      <td>35.07</td>\n",
       "      <td>-78.90</td>\n",
       "    </tr>\n",
       "    <tr>\n",
       "      <th>4</th>\n",
       "      <td>820854</td>\n",
       "      <td>2015-05-24 11:04:40</td>\n",
       "      <td>ads_facebook</td>\n",
       "      <td>web</td>\n",
       "      <td>mac</td>\n",
       "      <td>0</td>\n",
       "      <td>39</td>\n",
       "      <td>0</td>\n",
       "      <td>0</td>\n",
       "      <td>Fishers</td>\n",
       "      <td>USA</td>\n",
       "      <td>39.95</td>\n",
       "      <td>-86.02</td>\n",
       "    </tr>\n",
       "  </tbody>\n",
       "</table>\n",
       "</div>"
      ],
      "text/plain": [
       "   user_id            timestamp          source  device operative_system  \\\n",
       "0   604839  2015-05-08 03:38:34    ads_facebook  mobile              iOS   \n",
       "1   624057  2015-05-10 21:08:46      seo-google  mobile          android   \n",
       "2   317970  2015-04-04 15:01:23        ads-bing  mobile          android   \n",
       "3   685636  2015-05-07 07:26:01  direct_traffic  mobile              iOS   \n",
       "4   820854  2015-05-24 11:04:40    ads_facebook     web              mac   \n",
       "\n",
       "   test  price  converted  revenue          city country    lat   long  \n",
       "0     0     39          0        0       Buffalo     USA  42.89 -78.86  \n",
       "1     0     39          0        0     Lakeville     USA  44.68 -93.24  \n",
       "2     0     39          0        0         Parma     USA  41.38 -81.73  \n",
       "3     1     59          0        0  Fayetteville     USA  35.07 -78.90  \n",
       "4     0     39          0        0       Fishers     USA  39.95 -86.02  "
      ]
     },
     "execution_count": 271,
     "metadata": {},
     "output_type": "execute_result"
    }
   ],
   "source": [
    "data.head()"
   ]
  },
  {
   "cell_type": "code",
   "execution_count": 279,
   "id": "f0927aba-a9c7-4653-91cb-ff4ea98633b2",
   "metadata": {},
   "outputs": [
    {
     "data": {
      "text/plain": [
       "0         18\n",
       "1         18\n",
       "2         13\n",
       "3         18\n",
       "4         20\n",
       "          ..\n",
       "312300    14\n",
       "312301    11\n",
       "312302    14\n",
       "312303    19\n",
       "312304    09\n",
       "Name: timestamp, Length: 312305, dtype: object"
      ]
     },
     "execution_count": 279,
     "metadata": {},
     "output_type": "execute_result"
    }
   ],
   "source": [
    "pd.to_datetime(data.timestamp.str.split(' ').str[0]).dt.strftime('%W')"
   ]
  },
  {
   "cell_type": "code",
   "execution_count": 280,
   "id": "d2510998-39e2-4567-a67b-f5202dd7d2d2",
   "metadata": {},
   "outputs": [],
   "source": [
    "data['week_of_year'] = pd.to_datetime(data.timestamp.str.split(' ').str[0]).dt.strftime('%W')"
   ]
  },
  {
   "cell_type": "code",
   "execution_count": 283,
   "id": "9d192bdd-f100-4b3d-8ee6-4246a0bf8ad9",
   "metadata": {},
   "outputs": [
    {
     "data": {
      "text/plain": [
       "week_of_year\n",
       "09    24376\n",
       "10    23928\n",
       "11    24130\n",
       "12    24164\n",
       "13    23705\n",
       "14    24519\n",
       "15    23862\n",
       "16    23922\n",
       "17    24039\n",
       "18    24162\n",
       "19    23951\n",
       "20    23721\n",
       "21    23826\n",
       "Name: count, dtype: int64"
      ]
     },
     "execution_count": 283,
     "metadata": {},
     "output_type": "execute_result"
    }
   ],
   "source": [
    "users_week = data['week_of_year'].value_counts().sort_index()\n",
    "users_week "
   ]
  },
  {
   "cell_type": "code",
   "execution_count": 284,
   "id": "148d953a-f7ef-4984-b0b7-8b5f45403fa4",
   "metadata": {},
   "outputs": [
    {
     "data": {
      "text/plain": [
       "Index(['09', '10', '11', '12', '13', '14', '15', '16', '17', '18', '19', '20',\n",
       "       '21'],\n",
       "      dtype='object', name='week_of_year')"
      ]
     },
     "execution_count": 284,
     "metadata": {},
     "output_type": "execute_result"
    }
   ],
   "source": [
    "users_week.index"
   ]
  },
  {
   "cell_type": "code",
   "execution_count": 288,
   "id": "311befd1-82ec-4aa3-98da-25615301904f",
   "metadata": {},
   "outputs": [
    {
     "data": {
      "text/plain": [
       "24009.363636363636"
      ]
     },
     "execution_count": 288,
     "metadata": {},
     "output_type": "execute_result"
    }
   ],
   "source": [
    "users_week.drop(['09','21']).mean() # The drop() method works with index labels directly, so you don't need to reference users_week.index."
   ]
  },
  {
   "cell_type": "code",
   "execution_count": 290,
   "id": "f58c7ae0-d242-46d4-ae2e-66facbafbf28",
   "metadata": {},
   "outputs": [
    {
     "data": {
      "text/plain": [
       "0.11526512687414277"
      ]
     },
     "execution_count": 290,
     "metadata": {},
     "output_type": "execute_result"
    }
   ],
   "source": [
    "# allocation_pct*weekly_traffic*2 = sample size\n",
    "sample_size/(users_week.drop(['09','21']).mean() *2)"
   ]
  },
  {
   "cell_type": "markdown",
   "id": "3b1252f1-f2eb-49dc-b46b-fd8d03f118a3",
   "metadata": {},
   "source": [
    "# practice linear regression"
   ]
  },
  {
   "cell_type": "code",
   "execution_count": 306,
   "id": "7c6ee819-25c7-4d14-8cab-755ba75c3d6b",
   "metadata": {},
   "outputs": [
    {
     "data": {
      "text/html": [
       "<div>\n",
       "<style scoped>\n",
       "    .dataframe tbody tr th:only-of-type {\n",
       "        vertical-align: middle;\n",
       "    }\n",
       "\n",
       "    .dataframe tbody tr th {\n",
       "        vertical-align: top;\n",
       "    }\n",
       "\n",
       "    .dataframe thead th {\n",
       "        text-align: right;\n",
       "    }\n",
       "</style>\n",
       "<table border=\"1\" class=\"dataframe\">\n",
       "  <thead>\n",
       "    <tr style=\"text-align: right;\">\n",
       "      <th></th>\n",
       "      <th>user_id</th>\n",
       "      <th>timestamp</th>\n",
       "      <th>source</th>\n",
       "      <th>device</th>\n",
       "      <th>operative_system</th>\n",
       "      <th>test</th>\n",
       "      <th>price</th>\n",
       "      <th>converted</th>\n",
       "      <th>revenue</th>\n",
       "      <th>week</th>\n",
       "    </tr>\n",
       "  </thead>\n",
       "  <tbody>\n",
       "    <tr>\n",
       "      <th>0</th>\n",
       "      <td>604839</td>\n",
       "      <td>2015-05-08 03:38:34</td>\n",
       "      <td>ads_facebook</td>\n",
       "      <td>mobile</td>\n",
       "      <td>iOS</td>\n",
       "      <td>0</td>\n",
       "      <td>39</td>\n",
       "      <td>0</td>\n",
       "      <td>0</td>\n",
       "      <td>18</td>\n",
       "    </tr>\n",
       "    <tr>\n",
       "      <th>1</th>\n",
       "      <td>624057</td>\n",
       "      <td>2015-05-10 21:08:46</td>\n",
       "      <td>seo-google</td>\n",
       "      <td>mobile</td>\n",
       "      <td>android</td>\n",
       "      <td>0</td>\n",
       "      <td>39</td>\n",
       "      <td>0</td>\n",
       "      <td>0</td>\n",
       "      <td>18</td>\n",
       "    </tr>\n",
       "    <tr>\n",
       "      <th>2</th>\n",
       "      <td>317970</td>\n",
       "      <td>2015-04-04 15:01:23</td>\n",
       "      <td>ads-bing</td>\n",
       "      <td>mobile</td>\n",
       "      <td>android</td>\n",
       "      <td>0</td>\n",
       "      <td>39</td>\n",
       "      <td>0</td>\n",
       "      <td>0</td>\n",
       "      <td>13</td>\n",
       "    </tr>\n",
       "    <tr>\n",
       "      <th>3</th>\n",
       "      <td>685636</td>\n",
       "      <td>2015-05-07 07:26:01</td>\n",
       "      <td>direct_traffic</td>\n",
       "      <td>mobile</td>\n",
       "      <td>iOS</td>\n",
       "      <td>1</td>\n",
       "      <td>59</td>\n",
       "      <td>0</td>\n",
       "      <td>0</td>\n",
       "      <td>18</td>\n",
       "    </tr>\n",
       "    <tr>\n",
       "      <th>4</th>\n",
       "      <td>820854</td>\n",
       "      <td>2015-05-24 11:04:40</td>\n",
       "      <td>ads_facebook</td>\n",
       "      <td>web</td>\n",
       "      <td>mac</td>\n",
       "      <td>0</td>\n",
       "      <td>39</td>\n",
       "      <td>0</td>\n",
       "      <td>0</td>\n",
       "      <td>20</td>\n",
       "    </tr>\n",
       "  </tbody>\n",
       "</table>\n",
       "</div>"
      ],
      "text/plain": [
       "   user_id            timestamp          source  device operative_system  \\\n",
       "0   604839  2015-05-08 03:38:34    ads_facebook  mobile              iOS   \n",
       "1   624057  2015-05-10 21:08:46      seo-google  mobile          android   \n",
       "2   317970  2015-04-04 15:01:23        ads-bing  mobile          android   \n",
       "3   685636  2015-05-07 07:26:01  direct_traffic  mobile              iOS   \n",
       "4   820854  2015-05-24 11:04:40    ads_facebook     web              mac   \n",
       "\n",
       "   test  price  converted  revenue week  \n",
       "0     0     39          0        0   18  \n",
       "1     0     39          0        0   18  \n",
       "2     0     39          0        0   13  \n",
       "3     1     59          0        0   18  \n",
       "4     0     39          0        0   20  "
      ]
     },
     "execution_count": 306,
     "metadata": {},
     "output_type": "execute_result"
    }
   ],
   "source": [
    "clean_df_v2.head()"
   ]
  },
  {
   "cell_type": "code",
   "execution_count": 294,
   "id": "e23317c4-3372-45bf-a350-00f4e30ac137",
   "metadata": {},
   "outputs": [],
   "source": [
    "import statsmodels.api as sm"
   ]
  },
  {
   "cell_type": "code",
   "execution_count": 305,
   "id": "d8a8cc28-a53c-4f1f-85d3-da435c8aac4f",
   "metadata": {},
   "outputs": [
    {
     "name": "stderr",
     "output_type": "stream",
     "text": [
      "/var/folders/zq/hqq8b43s3fj4rb11sgc943bw0000gn/T/ipykernel_14340/2884043670.py:1: SettingWithCopyWarning: \n",
      "A value is trying to be set on a copy of a slice from a DataFrame.\n",
      "Try using .loc[row_indexer,col_indexer] = value instead\n",
      "\n",
      "See the caveats in the documentation: https://pandas.pydata.org/pandas-docs/stable/user_guide/indexing.html#returning-a-view-versus-a-copy\n",
      "  clean_df_v2['week'] = pd.to_datetime(clean_df_v2['timestamp'].str.split(' ').str[0]).dt.strftime('%W')\n"
     ]
    }
   ],
   "source": [
    "clean_df_v2['week'] = pd.to_datetime(clean_df_v2['timestamp'].str.split(' ').str[0]).dt.strftime('%W')"
   ]
  },
  {
   "cell_type": "code",
   "execution_count": 317,
   "id": "96706536-d75f-48d0-9f58-f1414b7679cb",
   "metadata": {},
   "outputs": [
    {
     "name": "stderr",
     "output_type": "stream",
     "text": [
      "/var/folders/zq/hqq8b43s3fj4rb11sgc943bw0000gn/T/ipykernel_14340/4000831514.py:1: SettingWithCopyWarning: \n",
      "A value is trying to be set on a copy of a slice from a DataFrame.\n",
      "Try using .loc[row_indexer,col_indexer] = value instead\n",
      "\n",
      "See the caveats in the documentation: https://pandas.pydata.org/pandas-docs/stable/user_guide/indexing.html#returning-a-view-versus-a-copy\n",
      "  clean_df_v2['week'] = clean_df_v2['week'].astype('int64')\n"
     ]
    }
   ],
   "source": [
    "clean_df_v2['week'] = clean_df_v2['week'].astype('int64')"
   ]
  },
  {
   "cell_type": "code",
   "execution_count": 318,
   "id": "88f44c00-826b-4498-bc70-536437abef99",
   "metadata": {},
   "outputs": [
    {
     "data": {
      "text/html": [
       "<div>\n",
       "<style scoped>\n",
       "    .dataframe tbody tr th:only-of-type {\n",
       "        vertical-align: middle;\n",
       "    }\n",
       "\n",
       "    .dataframe tbody tr th {\n",
       "        vertical-align: top;\n",
       "    }\n",
       "\n",
       "    .dataframe thead th {\n",
       "        text-align: right;\n",
       "    }\n",
       "</style>\n",
       "<table border=\"1\" class=\"dataframe\">\n",
       "  <thead>\n",
       "    <tr style=\"text-align: right;\">\n",
       "      <th></th>\n",
       "      <th>source</th>\n",
       "      <th>device</th>\n",
       "      <th>operative_system</th>\n",
       "      <th>test</th>\n",
       "      <th>converted</th>\n",
       "      <th>week</th>\n",
       "    </tr>\n",
       "  </thead>\n",
       "  <tbody>\n",
       "    <tr>\n",
       "      <th>0</th>\n",
       "      <td>ads_facebook</td>\n",
       "      <td>mobile</td>\n",
       "      <td>iOS</td>\n",
       "      <td>0</td>\n",
       "      <td>0</td>\n",
       "      <td>18</td>\n",
       "    </tr>\n",
       "    <tr>\n",
       "      <th>1</th>\n",
       "      <td>seo-google</td>\n",
       "      <td>mobile</td>\n",
       "      <td>android</td>\n",
       "      <td>0</td>\n",
       "      <td>0</td>\n",
       "      <td>18</td>\n",
       "    </tr>\n",
       "    <tr>\n",
       "      <th>2</th>\n",
       "      <td>ads-bing</td>\n",
       "      <td>mobile</td>\n",
       "      <td>android</td>\n",
       "      <td>0</td>\n",
       "      <td>0</td>\n",
       "      <td>13</td>\n",
       "    </tr>\n",
       "    <tr>\n",
       "      <th>3</th>\n",
       "      <td>direct_traffic</td>\n",
       "      <td>mobile</td>\n",
       "      <td>iOS</td>\n",
       "      <td>1</td>\n",
       "      <td>0</td>\n",
       "      <td>18</td>\n",
       "    </tr>\n",
       "    <tr>\n",
       "      <th>4</th>\n",
       "      <td>ads_facebook</td>\n",
       "      <td>web</td>\n",
       "      <td>mac</td>\n",
       "      <td>0</td>\n",
       "      <td>0</td>\n",
       "      <td>20</td>\n",
       "    </tr>\n",
       "  </tbody>\n",
       "</table>\n",
       "</div>"
      ],
      "text/plain": [
       "           source  device operative_system  test  converted  week\n",
       "0    ads_facebook  mobile              iOS     0          0    18\n",
       "1      seo-google  mobile          android     0          0    18\n",
       "2        ads-bing  mobile          android     0          0    13\n",
       "3  direct_traffic  mobile              iOS     1          0    18\n",
       "4    ads_facebook     web              mac     0          0    20"
      ]
     },
     "execution_count": 318,
     "metadata": {},
     "output_type": "execute_result"
    }
   ],
   "source": [
    "model_df = clean_df_v2.drop(columns =['user_id', 'timestamp','price','revenue'])\n",
    "model_df.head()"
   ]
  },
  {
   "cell_type": "code",
   "execution_count": 323,
   "id": "2f082adf-a088-4444-b99e-82167f79a857",
   "metadata": {},
   "outputs": [
    {
     "data": {
      "text/plain": [
       "source              ads-bing\n",
       "device                mobile\n",
       "operative_system     android\n",
       "dtype: object"
      ]
     },
     "execution_count": 323,
     "metadata": {},
     "output_type": "execute_result"
    }
   ],
   "source": [
    "categorical = model_df.select_dtypes(['object']).astype('category')\n",
    "categorical.apply(lambda x: x.cat.categories[0])"
   ]
  },
  {
   "cell_type": "code",
   "execution_count": null,
   "id": "5fbd4d7c-1233-41a6-b73a-d81d42bbc68b",
   "metadata": {},
   "outputs": [],
   "source": []
  },
  {
   "cell_type": "code",
   "execution_count": null,
   "id": "299b8cf9-8bf2-4c49-89e2-31faeff70682",
   "metadata": {},
   "outputs": [],
   "source": []
  },
  {
   "cell_type": "code",
   "execution_count": 335,
   "id": "9bf24c6d-b247-4f5f-a9ed-9a71ea23a47d",
   "metadata": {},
   "outputs": [
    {
     "data": {
      "text/html": [
       "<div>\n",
       "<style scoped>\n",
       "    .dataframe tbody tr th:only-of-type {\n",
       "        vertical-align: middle;\n",
       "    }\n",
       "\n",
       "    .dataframe tbody tr th {\n",
       "        vertical-align: top;\n",
       "    }\n",
       "\n",
       "    .dataframe thead th {\n",
       "        text-align: right;\n",
       "    }\n",
       "</style>\n",
       "<table border=\"1\" class=\"dataframe\">\n",
       "  <thead>\n",
       "    <tr style=\"text-align: right;\">\n",
       "      <th></th>\n",
       "      <th>test</th>\n",
       "      <th>converted</th>\n",
       "      <th>week</th>\n",
       "      <th>source_ads-google</th>\n",
       "      <th>source_ads-yahoo</th>\n",
       "      <th>source_ads_facebook</th>\n",
       "      <th>source_ads_other</th>\n",
       "      <th>source_direct_traffic</th>\n",
       "      <th>source_friend_referral</th>\n",
       "      <th>source_seo-bing</th>\n",
       "      <th>source_seo-google</th>\n",
       "      <th>source_seo-other</th>\n",
       "      <th>source_seo-yahoo</th>\n",
       "      <th>source_seo_facebook</th>\n",
       "      <th>device_web</th>\n",
       "      <th>operative_system_iOS</th>\n",
       "      <th>operative_system_mac</th>\n",
       "      <th>operative_system_other</th>\n",
       "      <th>operative_system_windows</th>\n",
       "    </tr>\n",
       "  </thead>\n",
       "  <tbody>\n",
       "    <tr>\n",
       "      <th>0</th>\n",
       "      <td>0</td>\n",
       "      <td>0</td>\n",
       "      <td>18</td>\n",
       "      <td>0.0</td>\n",
       "      <td>0.0</td>\n",
       "      <td>1.0</td>\n",
       "      <td>0.0</td>\n",
       "      <td>0.0</td>\n",
       "      <td>0.0</td>\n",
       "      <td>0.0</td>\n",
       "      <td>0.0</td>\n",
       "      <td>0.0</td>\n",
       "      <td>0.0</td>\n",
       "      <td>0.0</td>\n",
       "      <td>0.0</td>\n",
       "      <td>1.0</td>\n",
       "      <td>0.0</td>\n",
       "      <td>0.0</td>\n",
       "      <td>0.0</td>\n",
       "    </tr>\n",
       "    <tr>\n",
       "      <th>1</th>\n",
       "      <td>0</td>\n",
       "      <td>0</td>\n",
       "      <td>18</td>\n",
       "      <td>0.0</td>\n",
       "      <td>0.0</td>\n",
       "      <td>0.0</td>\n",
       "      <td>0.0</td>\n",
       "      <td>0.0</td>\n",
       "      <td>0.0</td>\n",
       "      <td>0.0</td>\n",
       "      <td>1.0</td>\n",
       "      <td>0.0</td>\n",
       "      <td>0.0</td>\n",
       "      <td>0.0</td>\n",
       "      <td>0.0</td>\n",
       "      <td>0.0</td>\n",
       "      <td>0.0</td>\n",
       "      <td>0.0</td>\n",
       "      <td>0.0</td>\n",
       "    </tr>\n",
       "    <tr>\n",
       "      <th>2</th>\n",
       "      <td>0</td>\n",
       "      <td>0</td>\n",
       "      <td>13</td>\n",
       "      <td>0.0</td>\n",
       "      <td>0.0</td>\n",
       "      <td>0.0</td>\n",
       "      <td>0.0</td>\n",
       "      <td>0.0</td>\n",
       "      <td>0.0</td>\n",
       "      <td>0.0</td>\n",
       "      <td>0.0</td>\n",
       "      <td>0.0</td>\n",
       "      <td>0.0</td>\n",
       "      <td>0.0</td>\n",
       "      <td>0.0</td>\n",
       "      <td>0.0</td>\n",
       "      <td>0.0</td>\n",
       "      <td>0.0</td>\n",
       "      <td>0.0</td>\n",
       "    </tr>\n",
       "    <tr>\n",
       "      <th>3</th>\n",
       "      <td>1</td>\n",
       "      <td>0</td>\n",
       "      <td>18</td>\n",
       "      <td>0.0</td>\n",
       "      <td>0.0</td>\n",
       "      <td>0.0</td>\n",
       "      <td>0.0</td>\n",
       "      <td>1.0</td>\n",
       "      <td>0.0</td>\n",
       "      <td>0.0</td>\n",
       "      <td>0.0</td>\n",
       "      <td>0.0</td>\n",
       "      <td>0.0</td>\n",
       "      <td>0.0</td>\n",
       "      <td>0.0</td>\n",
       "      <td>1.0</td>\n",
       "      <td>0.0</td>\n",
       "      <td>0.0</td>\n",
       "      <td>0.0</td>\n",
       "    </tr>\n",
       "    <tr>\n",
       "      <th>4</th>\n",
       "      <td>0</td>\n",
       "      <td>0</td>\n",
       "      <td>20</td>\n",
       "      <td>0.0</td>\n",
       "      <td>0.0</td>\n",
       "      <td>1.0</td>\n",
       "      <td>0.0</td>\n",
       "      <td>0.0</td>\n",
       "      <td>0.0</td>\n",
       "      <td>0.0</td>\n",
       "      <td>0.0</td>\n",
       "      <td>0.0</td>\n",
       "      <td>0.0</td>\n",
       "      <td>0.0</td>\n",
       "      <td>1.0</td>\n",
       "      <td>0.0</td>\n",
       "      <td>1.0</td>\n",
       "      <td>0.0</td>\n",
       "      <td>0.0</td>\n",
       "    </tr>\n",
       "  </tbody>\n",
       "</table>\n",
       "</div>"
      ],
      "text/plain": [
       "   test  converted  week  source_ads-google  source_ads-yahoo  \\\n",
       "0     0          0    18                0.0               0.0   \n",
       "1     0          0    18                0.0               0.0   \n",
       "2     0          0    13                0.0               0.0   \n",
       "3     1          0    18                0.0               0.0   \n",
       "4     0          0    20                0.0               0.0   \n",
       "\n",
       "   source_ads_facebook  source_ads_other  source_direct_traffic  \\\n",
       "0                  1.0               0.0                    0.0   \n",
       "1                  0.0               0.0                    0.0   \n",
       "2                  0.0               0.0                    0.0   \n",
       "3                  0.0               0.0                    1.0   \n",
       "4                  1.0               0.0                    0.0   \n",
       "\n",
       "   source_friend_referral  source_seo-bing  source_seo-google  \\\n",
       "0                     0.0              0.0                0.0   \n",
       "1                     0.0              0.0                1.0   \n",
       "2                     0.0              0.0                0.0   \n",
       "3                     0.0              0.0                0.0   \n",
       "4                     0.0              0.0                0.0   \n",
       "\n",
       "   source_seo-other  source_seo-yahoo  source_seo_facebook  device_web  \\\n",
       "0               0.0               0.0                  0.0         0.0   \n",
       "1               0.0               0.0                  0.0         0.0   \n",
       "2               0.0               0.0                  0.0         0.0   \n",
       "3               0.0               0.0                  0.0         0.0   \n",
       "4               0.0               0.0                  0.0         1.0   \n",
       "\n",
       "   operative_system_iOS  operative_system_mac  operative_system_other  \\\n",
       "0                   1.0                   0.0                     0.0   \n",
       "1                   0.0                   0.0                     0.0   \n",
       "2                   0.0                   0.0                     0.0   \n",
       "3                   1.0                   0.0                     0.0   \n",
       "4                   0.0                   1.0                     0.0   \n",
       "\n",
       "   operative_system_windows  \n",
       "0                       0.0  \n",
       "1                       0.0  \n",
       "2                       0.0  \n",
       "3                       0.0  \n",
       "4                       0.0  "
      ]
     },
     "execution_count": 335,
     "metadata": {},
     "output_type": "execute_result"
    }
   ],
   "source": [
    "df_dummies = pd.get_dummies(model_df, drop_first = True, dtype=float)\n",
    "df_dummies.head()"
   ]
  },
  {
   "cell_type": "code",
   "execution_count": 336,
   "id": "e61fa7b1-5994-46a5-9676-d26cb22e78a5",
   "metadata": {},
   "outputs": [],
   "source": [
    "train_cols = df_dummies.drop(columns = ['converted'], axis=1)"
   ]
  },
  {
   "cell_type": "code",
   "execution_count": 338,
   "id": "6a5fb45d-17dc-486b-aa30-0e4cf425e9f9",
   "metadata": {},
   "outputs": [
    {
     "name": "stdout",
     "output_type": "stream",
     "text": [
      "Warning: Maximum number of iterations has been exceeded.\n",
      "         Current function value: 0.096771\n",
      "         Iterations: 35\n"
     ]
    },
    {
     "name": "stderr",
     "output_type": "stream",
     "text": [
      "/Library/Frameworks/Python.framework/Versions/3.12/lib/python3.12/site-packages/statsmodels/base/model.py:607: ConvergenceWarning: Maximum Likelihood optimization failed to converge. Check mle_retvals\n",
      "  warnings.warn(\"Maximum Likelihood optimization failed to \"\n"
     ]
    }
   ],
   "source": [
    "logit = sm.Logit(df_dummies['converted'], train_cols)\n",
    "output = logit.fit()"
   ]
  },
  {
   "cell_type": "code",
   "execution_count": 339,
   "id": "deb18503-8e18-4b9e-8e4b-eecaed97debd",
   "metadata": {},
   "outputs": [
    {
     "data": {
      "text/html": [
       "<table class=\"simpletable\">\n",
       "<caption>Logit Regression Results</caption>\n",
       "<tr>\n",
       "  <th>Dep. Variable:</th>       <td>converted</td>    <th>  No. Observations:  </th>  <td>312305</td> \n",
       "</tr>\n",
       "<tr>\n",
       "  <th>Model:</th>                 <td>Logit</td>      <th>  Df Residuals:      </th>  <td>312287</td> \n",
       "</tr>\n",
       "<tr>\n",
       "  <th>Method:</th>                 <td>MLE</td>       <th>  Df Model:          </th>  <td>    17</td> \n",
       "</tr>\n",
       "<tr>\n",
       "  <th>Date:</th>            <td>Wed, 12 Mar 2025</td> <th>  Pseudo R-squ.:     </th> <td>-0.05163</td>\n",
       "</tr>\n",
       "<tr>\n",
       "  <th>Time:</th>                <td>10:16:43</td>     <th>  Log-Likelihood:    </th> <td> -30222.</td>\n",
       "</tr>\n",
       "<tr>\n",
       "  <th>converged:</th>             <td>False</td>      <th>  LL-Null:           </th> <td> -28738.</td>\n",
       "</tr>\n",
       "<tr>\n",
       "  <th>Covariance Type:</th>     <td>nonrobust</td>    <th>  LLR p-value:       </th>  <td> 1.000</td> \n",
       "</tr>\n",
       "</table>\n",
       "<table class=\"simpletable\">\n",
       "<tr>\n",
       "              <td></td>                <th>coef</th>     <th>std err</th>      <th>z</th>      <th>P>|z|</th>  <th>[0.025</th>    <th>0.975]</th>  \n",
       "</tr>\n",
       "<tr>\n",
       "  <th>test</th>                     <td>   -0.4662</td> <td>    0.028</td> <td>  -16.718</td> <td> 0.000</td> <td>   -0.521</td> <td>   -0.412</td>\n",
       "</tr>\n",
       "<tr>\n",
       "  <th>week</th>                     <td>   -0.1729</td> <td>    0.002</td> <td>  -78.418</td> <td> 0.000</td> <td>   -0.177</td> <td>   -0.169</td>\n",
       "</tr>\n",
       "<tr>\n",
       "  <th>source_ads-google</th>        <td>   -0.9994</td> <td>    0.038</td> <td>  -26.177</td> <td> 0.000</td> <td>   -1.074</td> <td>   -0.925</td>\n",
       "</tr>\n",
       "<tr>\n",
       "  <th>source_ads-yahoo</th>         <td>   -1.3926</td> <td>    0.099</td> <td>  -14.093</td> <td> 0.000</td> <td>   -1.586</td> <td>   -1.199</td>\n",
       "</tr>\n",
       "<tr>\n",
       "  <th>source_ads_facebook</th>      <td>   -1.0025</td> <td>    0.040</td> <td>  -25.318</td> <td> 0.000</td> <td>   -1.080</td> <td>   -0.925</td>\n",
       "</tr>\n",
       "<tr>\n",
       "  <th>source_ads_other</th>         <td>   -1.4130</td> <td>    0.055</td> <td>  -25.516</td> <td> 0.000</td> <td>   -1.522</td> <td>   -1.304</td>\n",
       "</tr>\n",
       "<tr>\n",
       "  <th>source_direct_traffic</th>    <td>   -1.5769</td> <td>    0.045</td> <td>  -35.091</td> <td> 0.000</td> <td>   -1.665</td> <td>   -1.489</td>\n",
       "</tr>\n",
       "<tr>\n",
       "  <th>source_friend_referral</th>   <td>   -0.3840</td> <td>    0.045</td> <td>   -8.606</td> <td> 0.000</td> <td>   -0.471</td> <td>   -0.297</td>\n",
       "</tr>\n",
       "<tr>\n",
       "  <th>source_seo-bing</th>          <td>   -0.8808</td> <td>    0.145</td> <td>   -6.080</td> <td> 0.000</td> <td>   -1.165</td> <td>   -0.597</td>\n",
       "</tr>\n",
       "<tr>\n",
       "  <th>source_seo-google</th>        <td>   -1.2440</td> <td>    0.057</td> <td>  -21.745</td> <td> 0.000</td> <td>   -1.356</td> <td>   -1.132</td>\n",
       "</tr>\n",
       "<tr>\n",
       "  <th>source_seo-other</th>         <td>   -1.3042</td> <td>    0.088</td> <td>  -14.802</td> <td> 0.000</td> <td>   -1.477</td> <td>   -1.131</td>\n",
       "</tr>\n",
       "<tr>\n",
       "  <th>source_seo-yahoo</th>         <td>   -1.2872</td> <td>    0.100</td> <td>  -12.898</td> <td> 0.000</td> <td>   -1.483</td> <td>   -1.092</td>\n",
       "</tr>\n",
       "<tr>\n",
       "  <th>source_seo_facebook</th>      <td>   -1.2743</td> <td>    0.061</td> <td>  -21.057</td> <td> 0.000</td> <td>   -1.393</td> <td>   -1.156</td>\n",
       "</tr>\n",
       "<tr>\n",
       "  <th>device_web</th>               <td>  -20.6322</td> <td> 2.08e+04</td> <td>   -0.001</td> <td> 0.999</td> <td>-4.08e+04</td> <td> 4.07e+04</td>\n",
       "</tr>\n",
       "<tr>\n",
       "  <th>operative_system_iOS</th>     <td>   -0.2460</td> <td>    0.030</td> <td>   -8.110</td> <td> 0.000</td> <td>   -0.305</td> <td>   -0.187</td>\n",
       "</tr>\n",
       "<tr>\n",
       "  <th>operative_system_mac</th>     <td>   20.4686</td> <td> 2.08e+04</td> <td>    0.001</td> <td> 0.999</td> <td>-4.07e+04</td> <td> 4.08e+04</td>\n",
       "</tr>\n",
       "<tr>\n",
       "  <th>operative_system_other</th>   <td>   -0.7695</td> <td>    0.073</td> <td>  -10.561</td> <td> 0.000</td> <td>   -0.912</td> <td>   -0.627</td>\n",
       "</tr>\n",
       "<tr>\n",
       "  <th>operative_system_windows</th> <td>   20.1138</td> <td> 2.08e+04</td> <td>    0.001</td> <td> 0.999</td> <td>-4.07e+04</td> <td> 4.08e+04</td>\n",
       "</tr>\n",
       "</table>"
      ],
      "text/latex": [
       "\\begin{center}\n",
       "\\begin{tabular}{lclc}\n",
       "\\toprule\n",
       "\\textbf{Dep. Variable:}             &    converted     & \\textbf{  No. Observations:  } &   312305    \\\\\n",
       "\\textbf{Model:}                     &      Logit       & \\textbf{  Df Residuals:      } &   312287    \\\\\n",
       "\\textbf{Method:}                    &       MLE        & \\textbf{  Df Model:          } &       17    \\\\\n",
       "\\textbf{Date:}                      & Wed, 12 Mar 2025 & \\textbf{  Pseudo R-squ.:     } &  -0.05163   \\\\\n",
       "\\textbf{Time:}                      &     10:16:43     & \\textbf{  Log-Likelihood:    } &   -30222.   \\\\\n",
       "\\textbf{converged:}                 &      False       & \\textbf{  LL-Null:           } &   -28738.   \\\\\n",
       "\\textbf{Covariance Type:}           &    nonrobust     & \\textbf{  LLR p-value:       } &    1.000    \\\\\n",
       "\\bottomrule\n",
       "\\end{tabular}\n",
       "\\begin{tabular}{lcccccc}\n",
       "                                    & \\textbf{coef} & \\textbf{std err} & \\textbf{z} & \\textbf{P$> |$z$|$} & \\textbf{[0.025} & \\textbf{0.975]}  \\\\\n",
       "\\midrule\n",
       "\\textbf{test}                       &      -0.4662  &        0.028     &   -16.718  &         0.000        &       -0.521    &       -0.412     \\\\\n",
       "\\textbf{week}                       &      -0.1729  &        0.002     &   -78.418  &         0.000        &       -0.177    &       -0.169     \\\\\n",
       "\\textbf{source\\_ads-google}         &      -0.9994  &        0.038     &   -26.177  &         0.000        &       -1.074    &       -0.925     \\\\\n",
       "\\textbf{source\\_ads-yahoo}          &      -1.3926  &        0.099     &   -14.093  &         0.000        &       -1.586    &       -1.199     \\\\\n",
       "\\textbf{source\\_ads\\_facebook}      &      -1.0025  &        0.040     &   -25.318  &         0.000        &       -1.080    &       -0.925     \\\\\n",
       "\\textbf{source\\_ads\\_other}         &      -1.4130  &        0.055     &   -25.516  &         0.000        &       -1.522    &       -1.304     \\\\\n",
       "\\textbf{source\\_direct\\_traffic}    &      -1.5769  &        0.045     &   -35.091  &         0.000        &       -1.665    &       -1.489     \\\\\n",
       "\\textbf{source\\_friend\\_referral}   &      -0.3840  &        0.045     &    -8.606  &         0.000        &       -0.471    &       -0.297     \\\\\n",
       "\\textbf{source\\_seo-bing}           &      -0.8808  &        0.145     &    -6.080  &         0.000        &       -1.165    &       -0.597     \\\\\n",
       "\\textbf{source\\_seo-google}         &      -1.2440  &        0.057     &   -21.745  &         0.000        &       -1.356    &       -1.132     \\\\\n",
       "\\textbf{source\\_seo-other}          &      -1.3042  &        0.088     &   -14.802  &         0.000        &       -1.477    &       -1.131     \\\\\n",
       "\\textbf{source\\_seo-yahoo}          &      -1.2872  &        0.100     &   -12.898  &         0.000        &       -1.483    &       -1.092     \\\\\n",
       "\\textbf{source\\_seo\\_facebook}      &      -1.2743  &        0.061     &   -21.057  &         0.000        &       -1.393    &       -1.156     \\\\\n",
       "\\textbf{device\\_web}                &     -20.6322  &     2.08e+04     &    -0.001  &         0.999        &    -4.08e+04    &     4.07e+04     \\\\\n",
       "\\textbf{operative\\_system\\_iOS}     &      -0.2460  &        0.030     &    -8.110  &         0.000        &       -0.305    &       -0.187     \\\\\n",
       "\\textbf{operative\\_system\\_mac}     &      20.4686  &     2.08e+04     &     0.001  &         0.999        &    -4.07e+04    &     4.08e+04     \\\\\n",
       "\\textbf{operative\\_system\\_other}   &      -0.7695  &        0.073     &   -10.561  &         0.000        &       -0.912    &       -0.627     \\\\\n",
       "\\textbf{operative\\_system\\_windows} &      20.1138  &     2.08e+04     &     0.001  &         0.999        &    -4.07e+04    &     4.08e+04     \\\\\n",
       "\\bottomrule\n",
       "\\end{tabular}\n",
       "%\\caption{Logit Regression Results}\n",
       "\\end{center}"
      ],
      "text/plain": [
       "<class 'statsmodels.iolib.summary.Summary'>\n",
       "\"\"\"\n",
       "                           Logit Regression Results                           \n",
       "==============================================================================\n",
       "Dep. Variable:              converted   No. Observations:               312305\n",
       "Model:                          Logit   Df Residuals:                   312287\n",
       "Method:                           MLE   Df Model:                           17\n",
       "Date:                Wed, 12 Mar 2025   Pseudo R-squ.:                -0.05163\n",
       "Time:                        10:16:43   Log-Likelihood:                -30222.\n",
       "converged:                      False   LL-Null:                       -28738.\n",
       "Covariance Type:            nonrobust   LLR p-value:                     1.000\n",
       "============================================================================================\n",
       "                               coef    std err          z      P>|z|      [0.025      0.975]\n",
       "--------------------------------------------------------------------------------------------\n",
       "test                        -0.4662      0.028    -16.718      0.000      -0.521      -0.412\n",
       "week                        -0.1729      0.002    -78.418      0.000      -0.177      -0.169\n",
       "source_ads-google           -0.9994      0.038    -26.177      0.000      -1.074      -0.925\n",
       "source_ads-yahoo            -1.3926      0.099    -14.093      0.000      -1.586      -1.199\n",
       "source_ads_facebook         -1.0025      0.040    -25.318      0.000      -1.080      -0.925\n",
       "source_ads_other            -1.4130      0.055    -25.516      0.000      -1.522      -1.304\n",
       "source_direct_traffic       -1.5769      0.045    -35.091      0.000      -1.665      -1.489\n",
       "source_friend_referral      -0.3840      0.045     -8.606      0.000      -0.471      -0.297\n",
       "source_seo-bing             -0.8808      0.145     -6.080      0.000      -1.165      -0.597\n",
       "source_seo-google           -1.2440      0.057    -21.745      0.000      -1.356      -1.132\n",
       "source_seo-other            -1.3042      0.088    -14.802      0.000      -1.477      -1.131\n",
       "source_seo-yahoo            -1.2872      0.100    -12.898      0.000      -1.483      -1.092\n",
       "source_seo_facebook         -1.2743      0.061    -21.057      0.000      -1.393      -1.156\n",
       "device_web                 -20.6322   2.08e+04     -0.001      0.999   -4.08e+04    4.07e+04\n",
       "operative_system_iOS        -0.2460      0.030     -8.110      0.000      -0.305      -0.187\n",
       "operative_system_mac        20.4686   2.08e+04      0.001      0.999   -4.07e+04    4.08e+04\n",
       "operative_system_other      -0.7695      0.073    -10.561      0.000      -0.912      -0.627\n",
       "operative_system_windows    20.1138   2.08e+04      0.001      0.999   -4.07e+04    4.08e+04\n",
       "============================================================================================\n",
       "\"\"\""
      ]
     },
     "execution_count": 339,
     "metadata": {},
     "output_type": "execute_result"
    }
   ],
   "source": [
    "output.summary()"
   ]
  },
  {
   "cell_type": "code",
   "execution_count": 5,
   "id": "842f83aa-f69a-42bb-99b4-5293aef7db8b",
   "metadata": {},
   "outputs": [
    {
     "data": {
      "text/html": [
       "<div>\n",
       "<style scoped>\n",
       "    .dataframe tbody tr th:only-of-type {\n",
       "        vertical-align: middle;\n",
       "    }\n",
       "\n",
       "    .dataframe tbody tr th {\n",
       "        vertical-align: top;\n",
       "    }\n",
       "\n",
       "    .dataframe thead th {\n",
       "        text-align: right;\n",
       "    }\n",
       "</style>\n",
       "<table border=\"1\" class=\"dataframe\">\n",
       "  <thead>\n",
       "    <tr style=\"text-align: right;\">\n",
       "      <th></th>\n",
       "      <th>user_id</th>\n",
       "      <th>source</th>\n",
       "      <th>device</th>\n",
       "      <th>operative_system</th>\n",
       "      <th>lat</th>\n",
       "      <th>long</th>\n",
       "      <th>weekday</th>\n",
       "      <th>yearweek</th>\n",
       "      <th>converted</th>\n",
       "    </tr>\n",
       "  </thead>\n",
       "  <tbody>\n",
       "    <tr>\n",
       "      <th>0</th>\n",
       "      <td>3</td>\n",
       "      <td>seo_facebook</td>\n",
       "      <td>web</td>\n",
       "      <td>mac</td>\n",
       "      <td>38.89</td>\n",
       "      <td>-94.81</td>\n",
       "      <td>Friday</td>\n",
       "      <td>16</td>\n",
       "      <td>0</td>\n",
       "    </tr>\n",
       "    <tr>\n",
       "      <th>1</th>\n",
       "      <td>9</td>\n",
       "      <td>seo-google</td>\n",
       "      <td>mobile</td>\n",
       "      <td>android</td>\n",
       "      <td>41.68</td>\n",
       "      <td>-72.94</td>\n",
       "      <td>Friday</td>\n",
       "      <td>18</td>\n",
       "      <td>0</td>\n",
       "    </tr>\n",
       "    <tr>\n",
       "      <th>2</th>\n",
       "      <td>14</td>\n",
       "      <td>friend_referral</td>\n",
       "      <td>mobile</td>\n",
       "      <td>iOS</td>\n",
       "      <td>39.74</td>\n",
       "      <td>-75.53</td>\n",
       "      <td>Saturday</td>\n",
       "      <td>13</td>\n",
       "      <td>0</td>\n",
       "    </tr>\n",
       "    <tr>\n",
       "      <th>3</th>\n",
       "      <td>16</td>\n",
       "      <td>ads-google</td>\n",
       "      <td>mobile</td>\n",
       "      <td>android</td>\n",
       "      <td>37.99</td>\n",
       "      <td>-121.80</td>\n",
       "      <td>Friday</td>\n",
       "      <td>21</td>\n",
       "      <td>0</td>\n",
       "    </tr>\n",
       "    <tr>\n",
       "      <th>4</th>\n",
       "      <td>19</td>\n",
       "      <td>ads-google</td>\n",
       "      <td>mobile</td>\n",
       "      <td>android</td>\n",
       "      <td>41.08</td>\n",
       "      <td>-81.52</td>\n",
       "      <td>Wednesday</td>\n",
       "      <td>14</td>\n",
       "      <td>0</td>\n",
       "    </tr>\n",
       "  </tbody>\n",
       "</table>\n",
       "</div>"
      ],
      "text/plain": [
       "   user_id           source  device operative_system    lat    long  \\\n",
       "0        3     seo_facebook     web              mac  38.89  -94.81   \n",
       "1        9       seo-google  mobile          android  41.68  -72.94   \n",
       "2       14  friend_referral  mobile              iOS  39.74  -75.53   \n",
       "3       16       ads-google  mobile          android  37.99 -121.80   \n",
       "4       19       ads-google  mobile          android  41.08  -81.52   \n",
       "\n",
       "     weekday  yearweek  converted  \n",
       "0     Friday        16          0  \n",
       "1     Friday        18          0  \n",
       "2   Saturday        13          0  \n",
       "3     Friday        21          0  \n",
       "4  Wednesday        14          0  "
      ]
     },
     "execution_count": 5,
     "metadata": {},
     "output_type": "execute_result"
    }
   ],
   "source": [
    "### exercise\n",
    "data = pd.read_csv('https://drive.google.com/uc?export=download&id=1H_-mi6NzeZt1PhcanHofcf3H6UiItmxO')\n",
    "data.head()"
   ]
  },
  {
   "cell_type": "code",
   "execution_count": 6,
   "id": "5d17eb82-6f07-4ad7-a7d2-1371b4864923",
   "metadata": {},
   "outputs": [
    {
     "data": {
      "text/html": [
       "<div>\n",
       "<style scoped>\n",
       "    .dataframe tbody tr th:only-of-type {\n",
       "        vertical-align: middle;\n",
       "    }\n",
       "\n",
       "    .dataframe tbody tr th {\n",
       "        vertical-align: top;\n",
       "    }\n",
       "\n",
       "    .dataframe thead th {\n",
       "        text-align: right;\n",
       "    }\n",
       "</style>\n",
       "<table border=\"1\" class=\"dataframe\">\n",
       "  <thead>\n",
       "    <tr style=\"text-align: right;\">\n",
       "      <th></th>\n",
       "      <th>user_id</th>\n",
       "      <th>lat</th>\n",
       "      <th>long</th>\n",
       "      <th>yearweek</th>\n",
       "      <th>converted</th>\n",
       "    </tr>\n",
       "  </thead>\n",
       "  <tbody>\n",
       "    <tr>\n",
       "      <th>count</th>\n",
       "      <td>275616.000000</td>\n",
       "      <td>275616.000000</td>\n",
       "      <td>275616.000000</td>\n",
       "      <td>275616.000000</td>\n",
       "      <td>275616.000000</td>\n",
       "    </tr>\n",
       "    <tr>\n",
       "      <th>mean</th>\n",
       "      <td>499245.801521</td>\n",
       "      <td>37.111680</td>\n",
       "      <td>-93.981772</td>\n",
       "      <td>15.986245</td>\n",
       "      <td>0.018210</td>\n",
       "    </tr>\n",
       "    <tr>\n",
       "      <th>std</th>\n",
       "      <td>288533.458944</td>\n",
       "      <td>5.209627</td>\n",
       "      <td>18.086486</td>\n",
       "      <td>3.740836</td>\n",
       "      <td>0.133711</td>\n",
       "    </tr>\n",
       "    <tr>\n",
       "      <th>min</th>\n",
       "      <td>3.000000</td>\n",
       "      <td>19.700000</td>\n",
       "      <td>-157.800000</td>\n",
       "      <td>10.000000</td>\n",
       "      <td>0.000000</td>\n",
       "    </tr>\n",
       "    <tr>\n",
       "      <th>25%</th>\n",
       "      <td>249544.500000</td>\n",
       "      <td>33.660000</td>\n",
       "      <td>-112.200000</td>\n",
       "      <td>13.000000</td>\n",
       "      <td>0.000000</td>\n",
       "    </tr>\n",
       "    <tr>\n",
       "      <th>50%</th>\n",
       "      <td>498861.000000</td>\n",
       "      <td>37.740000</td>\n",
       "      <td>-88.930000</td>\n",
       "      <td>16.000000</td>\n",
       "      <td>0.000000</td>\n",
       "    </tr>\n",
       "    <tr>\n",
       "      <th>75%</th>\n",
       "      <td>748856.500000</td>\n",
       "      <td>40.700000</td>\n",
       "      <td>-78.910000</td>\n",
       "      <td>19.000000</td>\n",
       "      <td>0.000000</td>\n",
       "    </tr>\n",
       "    <tr>\n",
       "      <th>max</th>\n",
       "      <td>999999.000000</td>\n",
       "      <td>61.180000</td>\n",
       "      <td>30.310000</td>\n",
       "      <td>22.000000</td>\n",
       "      <td>1.000000</td>\n",
       "    </tr>\n",
       "  </tbody>\n",
       "</table>\n",
       "</div>"
      ],
      "text/plain": [
       "             user_id            lat           long       yearweek  \\\n",
       "count  275616.000000  275616.000000  275616.000000  275616.000000   \n",
       "mean   499245.801521      37.111680     -93.981772      15.986245   \n",
       "std    288533.458944       5.209627      18.086486       3.740836   \n",
       "min         3.000000      19.700000    -157.800000      10.000000   \n",
       "25%    249544.500000      33.660000    -112.200000      13.000000   \n",
       "50%    498861.000000      37.740000     -88.930000      16.000000   \n",
       "75%    748856.500000      40.700000     -78.910000      19.000000   \n",
       "max    999999.000000      61.180000      30.310000      22.000000   \n",
       "\n",
       "           converted  \n",
       "count  275616.000000  \n",
       "mean        0.018210  \n",
       "std         0.133711  \n",
       "min         0.000000  \n",
       "25%         0.000000  \n",
       "50%         0.000000  \n",
       "75%         0.000000  \n",
       "max         1.000000  "
      ]
     },
     "execution_count": 6,
     "metadata": {},
     "output_type": "execute_result"
    }
   ],
   "source": [
    "data.describe()"
   ]
  },
  {
   "cell_type": "code",
   "execution_count": 7,
   "id": "d05869f4-c006-4a70-a698-8d1b28cc6dc3",
   "metadata": {},
   "outputs": [
    {
     "data": {
      "text/plain": [
       "0"
      ]
     },
     "execution_count": 7,
     "metadata": {},
     "output_type": "execute_result"
    }
   ],
   "source": [
    "data.isnull().sum().sum()"
   ]
  },
  {
   "cell_type": "code",
   "execution_count": 11,
   "id": "767fce68-e9fd-4119-be21-efc21a4127e7",
   "metadata": {},
   "outputs": [
    {
     "data": {
      "text/html": [
       "<div>\n",
       "<style scoped>\n",
       "    .dataframe tbody tr th:only-of-type {\n",
       "        vertical-align: middle;\n",
       "    }\n",
       "\n",
       "    .dataframe tbody tr th {\n",
       "        vertical-align: top;\n",
       "    }\n",
       "\n",
       "    .dataframe thead tr th {\n",
       "        text-align: left;\n",
       "    }\n",
       "</style>\n",
       "<table border=\"1\" class=\"dataframe\">\n",
       "  <thead>\n",
       "    <tr>\n",
       "      <th></th>\n",
       "      <th colspan=\"3\" halign=\"left\">user_id</th>\n",
       "    </tr>\n",
       "    <tr>\n",
       "      <th></th>\n",
       "      <th></th>\n",
       "      <th>count</th>\n",
       "      <th>nunique</th>\n",
       "    </tr>\n",
       "  </thead>\n",
       "  <tbody>\n",
       "    <tr>\n",
       "      <th>0</th>\n",
       "      <td>3</td>\n",
       "      <td>1</td>\n",
       "      <td>1</td>\n",
       "    </tr>\n",
       "    <tr>\n",
       "      <th>1</th>\n",
       "      <td>9</td>\n",
       "      <td>1</td>\n",
       "      <td>1</td>\n",
       "    </tr>\n",
       "    <tr>\n",
       "      <th>2</th>\n",
       "      <td>14</td>\n",
       "      <td>1</td>\n",
       "      <td>1</td>\n",
       "    </tr>\n",
       "    <tr>\n",
       "      <th>3</th>\n",
       "      <td>16</td>\n",
       "      <td>1</td>\n",
       "      <td>1</td>\n",
       "    </tr>\n",
       "    <tr>\n",
       "      <th>4</th>\n",
       "      <td>19</td>\n",
       "      <td>1</td>\n",
       "      <td>1</td>\n",
       "    </tr>\n",
       "    <tr>\n",
       "      <th>...</th>\n",
       "      <td>...</td>\n",
       "      <td>...</td>\n",
       "      <td>...</td>\n",
       "    </tr>\n",
       "    <tr>\n",
       "      <th>275611</th>\n",
       "      <td>999978</td>\n",
       "      <td>1</td>\n",
       "      <td>1</td>\n",
       "    </tr>\n",
       "    <tr>\n",
       "      <th>275612</th>\n",
       "      <td>999979</td>\n",
       "      <td>1</td>\n",
       "      <td>1</td>\n",
       "    </tr>\n",
       "    <tr>\n",
       "      <th>275613</th>\n",
       "      <td>999992</td>\n",
       "      <td>1</td>\n",
       "      <td>1</td>\n",
       "    </tr>\n",
       "    <tr>\n",
       "      <th>275614</th>\n",
       "      <td>999993</td>\n",
       "      <td>1</td>\n",
       "      <td>1</td>\n",
       "    </tr>\n",
       "    <tr>\n",
       "      <th>275615</th>\n",
       "      <td>999999</td>\n",
       "      <td>1</td>\n",
       "      <td>1</td>\n",
       "    </tr>\n",
       "  </tbody>\n",
       "</table>\n",
       "<p>275616 rows × 3 columns</p>\n",
       "</div>"
      ],
      "text/plain": [
       "       user_id              \n",
       "               count nunique\n",
       "0            3     1       1\n",
       "1            9     1       1\n",
       "2           14     1       1\n",
       "3           16     1       1\n",
       "4           19     1       1\n",
       "...        ...   ...     ...\n",
       "275611  999978     1       1\n",
       "275612  999979     1       1\n",
       "275613  999992     1       1\n",
       "275614  999993     1       1\n",
       "275615  999999     1       1\n",
       "\n",
       "[275616 rows x 3 columns]"
      ]
     },
     "execution_count": 11,
     "metadata": {},
     "output_type": "execute_result"
    }
   ],
   "source": [
    "data.groupby('user_id').agg({'user_id': ['count','nunique']}).reset_index()"
   ]
  },
  {
   "cell_type": "code",
   "execution_count": 12,
   "id": "4aaa7cdb-c71f-4380-8107-2cc983fc099f",
   "metadata": {},
   "outputs": [
    {
     "data": {
      "text/plain": [
       "Index(['user_id', 'source', 'device', 'operative_system', 'lat', 'long',\n",
       "       'weekday', 'yearweek', 'converted'],\n",
       "      dtype='object')"
      ]
     },
     "execution_count": 12,
     "metadata": {},
     "output_type": "execute_result"
    }
   ],
   "source": [
    "data.columns"
   ]
  },
  {
   "cell_type": "code",
   "execution_count": 27,
   "id": "9b5eb10f-1005-400a-88d6-9ee07ee7bc0c",
   "metadata": {},
   "outputs": [
    {
     "data": {
      "text/html": [
       "<div>\n",
       "<style scoped>\n",
       "    .dataframe tbody tr th:only-of-type {\n",
       "        vertical-align: middle;\n",
       "    }\n",
       "\n",
       "    .dataframe tbody tr th {\n",
       "        vertical-align: top;\n",
       "    }\n",
       "\n",
       "    .dataframe thead th {\n",
       "        text-align: right;\n",
       "    }\n",
       "</style>\n",
       "<table border=\"1\" class=\"dataframe\">\n",
       "  <thead>\n",
       "    <tr style=\"text-align: right;\">\n",
       "      <th></th>\n",
       "      <th>user_id</th>\n",
       "      <th>lat</th>\n",
       "      <th>long</th>\n",
       "      <th>yearweek</th>\n",
       "      <th>converted</th>\n",
       "      <th>source_ads-google</th>\n",
       "      <th>source_ads-yahoo</th>\n",
       "      <th>source_ads_facebook</th>\n",
       "      <th>source_ads_other</th>\n",
       "      <th>source_direct_traffic</th>\n",
       "      <th>...</th>\n",
       "      <th>operative_system_linux</th>\n",
       "      <th>operative_system_mac</th>\n",
       "      <th>operative_system_other</th>\n",
       "      <th>operative_system_windows</th>\n",
       "      <th>weekday_Monday</th>\n",
       "      <th>weekday_Saturday</th>\n",
       "      <th>weekday_Sunday</th>\n",
       "      <th>weekday_Thursday</th>\n",
       "      <th>weekday_Tuesday</th>\n",
       "      <th>weekday_Wednesday</th>\n",
       "    </tr>\n",
       "  </thead>\n",
       "  <tbody>\n",
       "    <tr>\n",
       "      <th>0</th>\n",
       "      <td>3</td>\n",
       "      <td>38.89</td>\n",
       "      <td>-94.81</td>\n",
       "      <td>16</td>\n",
       "      <td>0</td>\n",
       "      <td>0.0</td>\n",
       "      <td>0.0</td>\n",
       "      <td>0.0</td>\n",
       "      <td>0.0</td>\n",
       "      <td>0.0</td>\n",
       "      <td>...</td>\n",
       "      <td>0.0</td>\n",
       "      <td>1.0</td>\n",
       "      <td>0.0</td>\n",
       "      <td>0.0</td>\n",
       "      <td>0.0</td>\n",
       "      <td>0.0</td>\n",
       "      <td>0.0</td>\n",
       "      <td>0.0</td>\n",
       "      <td>0.0</td>\n",
       "      <td>0.0</td>\n",
       "    </tr>\n",
       "    <tr>\n",
       "      <th>1</th>\n",
       "      <td>9</td>\n",
       "      <td>41.68</td>\n",
       "      <td>-72.94</td>\n",
       "      <td>18</td>\n",
       "      <td>0</td>\n",
       "      <td>0.0</td>\n",
       "      <td>0.0</td>\n",
       "      <td>0.0</td>\n",
       "      <td>0.0</td>\n",
       "      <td>0.0</td>\n",
       "      <td>...</td>\n",
       "      <td>0.0</td>\n",
       "      <td>0.0</td>\n",
       "      <td>0.0</td>\n",
       "      <td>0.0</td>\n",
       "      <td>0.0</td>\n",
       "      <td>0.0</td>\n",
       "      <td>0.0</td>\n",
       "      <td>0.0</td>\n",
       "      <td>0.0</td>\n",
       "      <td>0.0</td>\n",
       "    </tr>\n",
       "    <tr>\n",
       "      <th>2</th>\n",
       "      <td>14</td>\n",
       "      <td>39.74</td>\n",
       "      <td>-75.53</td>\n",
       "      <td>13</td>\n",
       "      <td>0</td>\n",
       "      <td>0.0</td>\n",
       "      <td>0.0</td>\n",
       "      <td>0.0</td>\n",
       "      <td>0.0</td>\n",
       "      <td>0.0</td>\n",
       "      <td>...</td>\n",
       "      <td>0.0</td>\n",
       "      <td>0.0</td>\n",
       "      <td>0.0</td>\n",
       "      <td>0.0</td>\n",
       "      <td>0.0</td>\n",
       "      <td>1.0</td>\n",
       "      <td>0.0</td>\n",
       "      <td>0.0</td>\n",
       "      <td>0.0</td>\n",
       "      <td>0.0</td>\n",
       "    </tr>\n",
       "    <tr>\n",
       "      <th>3</th>\n",
       "      <td>16</td>\n",
       "      <td>37.99</td>\n",
       "      <td>-121.80</td>\n",
       "      <td>21</td>\n",
       "      <td>0</td>\n",
       "      <td>1.0</td>\n",
       "      <td>0.0</td>\n",
       "      <td>0.0</td>\n",
       "      <td>0.0</td>\n",
       "      <td>0.0</td>\n",
       "      <td>...</td>\n",
       "      <td>0.0</td>\n",
       "      <td>0.0</td>\n",
       "      <td>0.0</td>\n",
       "      <td>0.0</td>\n",
       "      <td>0.0</td>\n",
       "      <td>0.0</td>\n",
       "      <td>0.0</td>\n",
       "      <td>0.0</td>\n",
       "      <td>0.0</td>\n",
       "      <td>0.0</td>\n",
       "    </tr>\n",
       "    <tr>\n",
       "      <th>4</th>\n",
       "      <td>19</td>\n",
       "      <td>41.08</td>\n",
       "      <td>-81.52</td>\n",
       "      <td>14</td>\n",
       "      <td>0</td>\n",
       "      <td>1.0</td>\n",
       "      <td>0.0</td>\n",
       "      <td>0.0</td>\n",
       "      <td>0.0</td>\n",
       "      <td>0.0</td>\n",
       "      <td>...</td>\n",
       "      <td>0.0</td>\n",
       "      <td>0.0</td>\n",
       "      <td>0.0</td>\n",
       "      <td>0.0</td>\n",
       "      <td>0.0</td>\n",
       "      <td>0.0</td>\n",
       "      <td>0.0</td>\n",
       "      <td>0.0</td>\n",
       "      <td>0.0</td>\n",
       "      <td>1.0</td>\n",
       "    </tr>\n",
       "    <tr>\n",
       "      <th>...</th>\n",
       "      <td>...</td>\n",
       "      <td>...</td>\n",
       "      <td>...</td>\n",
       "      <td>...</td>\n",
       "      <td>...</td>\n",
       "      <td>...</td>\n",
       "      <td>...</td>\n",
       "      <td>...</td>\n",
       "      <td>...</td>\n",
       "      <td>...</td>\n",
       "      <td>...</td>\n",
       "      <td>...</td>\n",
       "      <td>...</td>\n",
       "      <td>...</td>\n",
       "      <td>...</td>\n",
       "      <td>...</td>\n",
       "      <td>...</td>\n",
       "      <td>...</td>\n",
       "      <td>...</td>\n",
       "      <td>...</td>\n",
       "      <td>...</td>\n",
       "    </tr>\n",
       "    <tr>\n",
       "      <th>275611</th>\n",
       "      <td>999978</td>\n",
       "      <td>39.78</td>\n",
       "      <td>-86.15</td>\n",
       "      <td>20</td>\n",
       "      <td>0</td>\n",
       "      <td>0.0</td>\n",
       "      <td>0.0</td>\n",
       "      <td>0.0</td>\n",
       "      <td>0.0</td>\n",
       "      <td>1.0</td>\n",
       "      <td>...</td>\n",
       "      <td>0.0</td>\n",
       "      <td>0.0</td>\n",
       "      <td>0.0</td>\n",
       "      <td>0.0</td>\n",
       "      <td>0.0</td>\n",
       "      <td>1.0</td>\n",
       "      <td>0.0</td>\n",
       "      <td>0.0</td>\n",
       "      <td>0.0</td>\n",
       "      <td>0.0</td>\n",
       "    </tr>\n",
       "    <tr>\n",
       "      <th>275612</th>\n",
       "      <td>999979</td>\n",
       "      <td>31.10</td>\n",
       "      <td>-97.72</td>\n",
       "      <td>19</td>\n",
       "      <td>0</td>\n",
       "      <td>0.0</td>\n",
       "      <td>0.0</td>\n",
       "      <td>0.0</td>\n",
       "      <td>0.0</td>\n",
       "      <td>1.0</td>\n",
       "      <td>...</td>\n",
       "      <td>0.0</td>\n",
       "      <td>0.0</td>\n",
       "      <td>0.0</td>\n",
       "      <td>1.0</td>\n",
       "      <td>0.0</td>\n",
       "      <td>0.0</td>\n",
       "      <td>0.0</td>\n",
       "      <td>0.0</td>\n",
       "      <td>0.0</td>\n",
       "      <td>0.0</td>\n",
       "    </tr>\n",
       "    <tr>\n",
       "      <th>275613</th>\n",
       "      <td>999992</td>\n",
       "      <td>40.77</td>\n",
       "      <td>-74.03</td>\n",
       "      <td>19</td>\n",
       "      <td>0</td>\n",
       "      <td>0.0</td>\n",
       "      <td>0.0</td>\n",
       "      <td>1.0</td>\n",
       "      <td>0.0</td>\n",
       "      <td>0.0</td>\n",
       "      <td>...</td>\n",
       "      <td>0.0</td>\n",
       "      <td>0.0</td>\n",
       "      <td>0.0</td>\n",
       "      <td>1.0</td>\n",
       "      <td>0.0</td>\n",
       "      <td>1.0</td>\n",
       "      <td>0.0</td>\n",
       "      <td>0.0</td>\n",
       "      <td>0.0</td>\n",
       "      <td>0.0</td>\n",
       "    </tr>\n",
       "    <tr>\n",
       "      <th>275614</th>\n",
       "      <td>999993</td>\n",
       "      <td>39.04</td>\n",
       "      <td>-95.69</td>\n",
       "      <td>11</td>\n",
       "      <td>0</td>\n",
       "      <td>0.0</td>\n",
       "      <td>0.0</td>\n",
       "      <td>1.0</td>\n",
       "      <td>0.0</td>\n",
       "      <td>0.0</td>\n",
       "      <td>...</td>\n",
       "      <td>0.0</td>\n",
       "      <td>0.0</td>\n",
       "      <td>0.0</td>\n",
       "      <td>1.0</td>\n",
       "      <td>0.0</td>\n",
       "      <td>0.0</td>\n",
       "      <td>0.0</td>\n",
       "      <td>0.0</td>\n",
       "      <td>0.0</td>\n",
       "      <td>1.0</td>\n",
       "    </tr>\n",
       "    <tr>\n",
       "      <th>275615</th>\n",
       "      <td>999999</td>\n",
       "      <td>38.89</td>\n",
       "      <td>-94.81</td>\n",
       "      <td>19</td>\n",
       "      <td>0</td>\n",
       "      <td>0.0</td>\n",
       "      <td>0.0</td>\n",
       "      <td>0.0</td>\n",
       "      <td>0.0</td>\n",
       "      <td>0.0</td>\n",
       "      <td>...</td>\n",
       "      <td>0.0</td>\n",
       "      <td>0.0</td>\n",
       "      <td>0.0</td>\n",
       "      <td>0.0</td>\n",
       "      <td>0.0</td>\n",
       "      <td>0.0</td>\n",
       "      <td>1.0</td>\n",
       "      <td>0.0</td>\n",
       "      <td>0.0</td>\n",
       "      <td>0.0</td>\n",
       "    </tr>\n",
       "  </tbody>\n",
       "</table>\n",
       "<p>275616 rows × 28 columns</p>\n",
       "</div>"
      ],
      "text/plain": [
       "        user_id    lat    long  yearweek  converted  source_ads-google  \\\n",
       "0             3  38.89  -94.81        16          0                0.0   \n",
       "1             9  41.68  -72.94        18          0                0.0   \n",
       "2            14  39.74  -75.53        13          0                0.0   \n",
       "3            16  37.99 -121.80        21          0                1.0   \n",
       "4            19  41.08  -81.52        14          0                1.0   \n",
       "...         ...    ...     ...       ...        ...                ...   \n",
       "275611   999978  39.78  -86.15        20          0                0.0   \n",
       "275612   999979  31.10  -97.72        19          0                0.0   \n",
       "275613   999992  40.77  -74.03        19          0                0.0   \n",
       "275614   999993  39.04  -95.69        11          0                0.0   \n",
       "275615   999999  38.89  -94.81        19          0                0.0   \n",
       "\n",
       "        source_ads-yahoo  source_ads_facebook  source_ads_other  \\\n",
       "0                    0.0                  0.0               0.0   \n",
       "1                    0.0                  0.0               0.0   \n",
       "2                    0.0                  0.0               0.0   \n",
       "3                    0.0                  0.0               0.0   \n",
       "4                    0.0                  0.0               0.0   \n",
       "...                  ...                  ...               ...   \n",
       "275611               0.0                  0.0               0.0   \n",
       "275612               0.0                  0.0               0.0   \n",
       "275613               0.0                  1.0               0.0   \n",
       "275614               0.0                  1.0               0.0   \n",
       "275615               0.0                  0.0               0.0   \n",
       "\n",
       "        source_direct_traffic  ...  operative_system_linux  \\\n",
       "0                         0.0  ...                     0.0   \n",
       "1                         0.0  ...                     0.0   \n",
       "2                         0.0  ...                     0.0   \n",
       "3                         0.0  ...                     0.0   \n",
       "4                         0.0  ...                     0.0   \n",
       "...                       ...  ...                     ...   \n",
       "275611                    1.0  ...                     0.0   \n",
       "275612                    1.0  ...                     0.0   \n",
       "275613                    0.0  ...                     0.0   \n",
       "275614                    0.0  ...                     0.0   \n",
       "275615                    0.0  ...                     0.0   \n",
       "\n",
       "        operative_system_mac  operative_system_other  \\\n",
       "0                        1.0                     0.0   \n",
       "1                        0.0                     0.0   \n",
       "2                        0.0                     0.0   \n",
       "3                        0.0                     0.0   \n",
       "4                        0.0                     0.0   \n",
       "...                      ...                     ...   \n",
       "275611                   0.0                     0.0   \n",
       "275612                   0.0                     0.0   \n",
       "275613                   0.0                     0.0   \n",
       "275614                   0.0                     0.0   \n",
       "275615                   0.0                     0.0   \n",
       "\n",
       "        operative_system_windows  weekday_Monday  weekday_Saturday  \\\n",
       "0                            0.0             0.0               0.0   \n",
       "1                            0.0             0.0               0.0   \n",
       "2                            0.0             0.0               1.0   \n",
       "3                            0.0             0.0               0.0   \n",
       "4                            0.0             0.0               0.0   \n",
       "...                          ...             ...               ...   \n",
       "275611                       0.0             0.0               1.0   \n",
       "275612                       1.0             0.0               0.0   \n",
       "275613                       1.0             0.0               1.0   \n",
       "275614                       1.0             0.0               0.0   \n",
       "275615                       0.0             0.0               0.0   \n",
       "\n",
       "        weekday_Sunday  weekday_Thursday  weekday_Tuesday  weekday_Wednesday  \n",
       "0                  0.0               0.0              0.0                0.0  \n",
       "1                  0.0               0.0              0.0                0.0  \n",
       "2                  0.0               0.0              0.0                0.0  \n",
       "3                  0.0               0.0              0.0                0.0  \n",
       "4                  0.0               0.0              0.0                1.0  \n",
       "...                ...               ...              ...                ...  \n",
       "275611             0.0               0.0              0.0                0.0  \n",
       "275612             0.0               0.0              0.0                0.0  \n",
       "275613             0.0               0.0              0.0                0.0  \n",
       "275614             0.0               0.0              0.0                1.0  \n",
       "275615             1.0               0.0              0.0                0.0  \n",
       "\n",
       "[275616 rows x 28 columns]"
      ]
     },
     "execution_count": 27,
     "metadata": {},
     "output_type": "execute_result"
    }
   ],
   "source": [
    "df_dummies = pd.get_dummies(data,dtype = float, drop_first = True)\n",
    "df_dummies"
   ]
  },
  {
   "cell_type": "code",
   "execution_count": 20,
   "id": "f00c9cd5-541f-46df-9f40-d188cdeffed4",
   "metadata": {},
   "outputs": [
    {
     "data": {
      "text/plain": [
       "source              ads-bing\n",
       "device                mobile\n",
       "operative_system     android\n",
       "weekday               Friday\n",
       "dtype: object"
      ]
     },
     "execution_count": 20,
     "metadata": {},
     "output_type": "execute_result"
    }
   ],
   "source": [
    "category = data.select_dtypes(['object']).astype('category')\n",
    "category.apply(lambda x: x.cat.categories[0])"
   ]
  },
  {
   "cell_type": "code",
   "execution_count": null,
   "id": "512f2395-c8f3-4acc-b26e-599657aa48a0",
   "metadata": {},
   "outputs": [],
   "source": []
  },
  {
   "cell_type": "code",
   "execution_count": 29,
   "id": "f28537ad-6f36-454f-a864-a536665a54f3",
   "metadata": {},
   "outputs": [],
   "source": [
    "x_const = sm.add_constant(df_dummies)"
   ]
  },
  {
   "cell_type": "code",
   "execution_count": 30,
   "id": "af87cb96-72b7-4a2e-9c34-9b43d91512cf",
   "metadata": {},
   "outputs": [
    {
     "data": {
      "text/html": [
       "<div>\n",
       "<style scoped>\n",
       "    .dataframe tbody tr th:only-of-type {\n",
       "        vertical-align: middle;\n",
       "    }\n",
       "\n",
       "    .dataframe tbody tr th {\n",
       "        vertical-align: top;\n",
       "    }\n",
       "\n",
       "    .dataframe thead th {\n",
       "        text-align: right;\n",
       "    }\n",
       "</style>\n",
       "<table border=\"1\" class=\"dataframe\">\n",
       "  <thead>\n",
       "    <tr style=\"text-align: right;\">\n",
       "      <th></th>\n",
       "      <th>const</th>\n",
       "      <th>lat</th>\n",
       "      <th>long</th>\n",
       "      <th>yearweek</th>\n",
       "      <th>source_ads-google</th>\n",
       "      <th>source_ads-yahoo</th>\n",
       "      <th>source_ads_facebook</th>\n",
       "      <th>source_ads_other</th>\n",
       "      <th>source_direct_traffic</th>\n",
       "      <th>source_friend_referral</th>\n",
       "      <th>...</th>\n",
       "      <th>operative_system_linux</th>\n",
       "      <th>operative_system_mac</th>\n",
       "      <th>operative_system_other</th>\n",
       "      <th>operative_system_windows</th>\n",
       "      <th>weekday_Monday</th>\n",
       "      <th>weekday_Saturday</th>\n",
       "      <th>weekday_Sunday</th>\n",
       "      <th>weekday_Thursday</th>\n",
       "      <th>weekday_Tuesday</th>\n",
       "      <th>weekday_Wednesday</th>\n",
       "    </tr>\n",
       "  </thead>\n",
       "  <tbody>\n",
       "    <tr>\n",
       "      <th>0</th>\n",
       "      <td>1.0</td>\n",
       "      <td>38.89</td>\n",
       "      <td>-94.81</td>\n",
       "      <td>16</td>\n",
       "      <td>0.0</td>\n",
       "      <td>0.0</td>\n",
       "      <td>0.0</td>\n",
       "      <td>0.0</td>\n",
       "      <td>0.0</td>\n",
       "      <td>0.0</td>\n",
       "      <td>...</td>\n",
       "      <td>0.0</td>\n",
       "      <td>1.0</td>\n",
       "      <td>0.0</td>\n",
       "      <td>0.0</td>\n",
       "      <td>0.0</td>\n",
       "      <td>0.0</td>\n",
       "      <td>0.0</td>\n",
       "      <td>0.0</td>\n",
       "      <td>0.0</td>\n",
       "      <td>0.0</td>\n",
       "    </tr>\n",
       "    <tr>\n",
       "      <th>1</th>\n",
       "      <td>1.0</td>\n",
       "      <td>41.68</td>\n",
       "      <td>-72.94</td>\n",
       "      <td>18</td>\n",
       "      <td>0.0</td>\n",
       "      <td>0.0</td>\n",
       "      <td>0.0</td>\n",
       "      <td>0.0</td>\n",
       "      <td>0.0</td>\n",
       "      <td>0.0</td>\n",
       "      <td>...</td>\n",
       "      <td>0.0</td>\n",
       "      <td>0.0</td>\n",
       "      <td>0.0</td>\n",
       "      <td>0.0</td>\n",
       "      <td>0.0</td>\n",
       "      <td>0.0</td>\n",
       "      <td>0.0</td>\n",
       "      <td>0.0</td>\n",
       "      <td>0.0</td>\n",
       "      <td>0.0</td>\n",
       "    </tr>\n",
       "    <tr>\n",
       "      <th>2</th>\n",
       "      <td>1.0</td>\n",
       "      <td>39.74</td>\n",
       "      <td>-75.53</td>\n",
       "      <td>13</td>\n",
       "      <td>0.0</td>\n",
       "      <td>0.0</td>\n",
       "      <td>0.0</td>\n",
       "      <td>0.0</td>\n",
       "      <td>0.0</td>\n",
       "      <td>1.0</td>\n",
       "      <td>...</td>\n",
       "      <td>0.0</td>\n",
       "      <td>0.0</td>\n",
       "      <td>0.0</td>\n",
       "      <td>0.0</td>\n",
       "      <td>0.0</td>\n",
       "      <td>1.0</td>\n",
       "      <td>0.0</td>\n",
       "      <td>0.0</td>\n",
       "      <td>0.0</td>\n",
       "      <td>0.0</td>\n",
       "    </tr>\n",
       "    <tr>\n",
       "      <th>3</th>\n",
       "      <td>1.0</td>\n",
       "      <td>37.99</td>\n",
       "      <td>-121.80</td>\n",
       "      <td>21</td>\n",
       "      <td>1.0</td>\n",
       "      <td>0.0</td>\n",
       "      <td>0.0</td>\n",
       "      <td>0.0</td>\n",
       "      <td>0.0</td>\n",
       "      <td>0.0</td>\n",
       "      <td>...</td>\n",
       "      <td>0.0</td>\n",
       "      <td>0.0</td>\n",
       "      <td>0.0</td>\n",
       "      <td>0.0</td>\n",
       "      <td>0.0</td>\n",
       "      <td>0.0</td>\n",
       "      <td>0.0</td>\n",
       "      <td>0.0</td>\n",
       "      <td>0.0</td>\n",
       "      <td>0.0</td>\n",
       "    </tr>\n",
       "    <tr>\n",
       "      <th>4</th>\n",
       "      <td>1.0</td>\n",
       "      <td>41.08</td>\n",
       "      <td>-81.52</td>\n",
       "      <td>14</td>\n",
       "      <td>1.0</td>\n",
       "      <td>0.0</td>\n",
       "      <td>0.0</td>\n",
       "      <td>0.0</td>\n",
       "      <td>0.0</td>\n",
       "      <td>0.0</td>\n",
       "      <td>...</td>\n",
       "      <td>0.0</td>\n",
       "      <td>0.0</td>\n",
       "      <td>0.0</td>\n",
       "      <td>0.0</td>\n",
       "      <td>0.0</td>\n",
       "      <td>0.0</td>\n",
       "      <td>0.0</td>\n",
       "      <td>0.0</td>\n",
       "      <td>0.0</td>\n",
       "      <td>1.0</td>\n",
       "    </tr>\n",
       "    <tr>\n",
       "      <th>...</th>\n",
       "      <td>...</td>\n",
       "      <td>...</td>\n",
       "      <td>...</td>\n",
       "      <td>...</td>\n",
       "      <td>...</td>\n",
       "      <td>...</td>\n",
       "      <td>...</td>\n",
       "      <td>...</td>\n",
       "      <td>...</td>\n",
       "      <td>...</td>\n",
       "      <td>...</td>\n",
       "      <td>...</td>\n",
       "      <td>...</td>\n",
       "      <td>...</td>\n",
       "      <td>...</td>\n",
       "      <td>...</td>\n",
       "      <td>...</td>\n",
       "      <td>...</td>\n",
       "      <td>...</td>\n",
       "      <td>...</td>\n",
       "      <td>...</td>\n",
       "    </tr>\n",
       "    <tr>\n",
       "      <th>275611</th>\n",
       "      <td>1.0</td>\n",
       "      <td>39.78</td>\n",
       "      <td>-86.15</td>\n",
       "      <td>20</td>\n",
       "      <td>0.0</td>\n",
       "      <td>0.0</td>\n",
       "      <td>0.0</td>\n",
       "      <td>0.0</td>\n",
       "      <td>1.0</td>\n",
       "      <td>0.0</td>\n",
       "      <td>...</td>\n",
       "      <td>0.0</td>\n",
       "      <td>0.0</td>\n",
       "      <td>0.0</td>\n",
       "      <td>0.0</td>\n",
       "      <td>0.0</td>\n",
       "      <td>1.0</td>\n",
       "      <td>0.0</td>\n",
       "      <td>0.0</td>\n",
       "      <td>0.0</td>\n",
       "      <td>0.0</td>\n",
       "    </tr>\n",
       "    <tr>\n",
       "      <th>275612</th>\n",
       "      <td>1.0</td>\n",
       "      <td>31.10</td>\n",
       "      <td>-97.72</td>\n",
       "      <td>19</td>\n",
       "      <td>0.0</td>\n",
       "      <td>0.0</td>\n",
       "      <td>0.0</td>\n",
       "      <td>0.0</td>\n",
       "      <td>1.0</td>\n",
       "      <td>0.0</td>\n",
       "      <td>...</td>\n",
       "      <td>0.0</td>\n",
       "      <td>0.0</td>\n",
       "      <td>0.0</td>\n",
       "      <td>1.0</td>\n",
       "      <td>0.0</td>\n",
       "      <td>0.0</td>\n",
       "      <td>0.0</td>\n",
       "      <td>0.0</td>\n",
       "      <td>0.0</td>\n",
       "      <td>0.0</td>\n",
       "    </tr>\n",
       "    <tr>\n",
       "      <th>275613</th>\n",
       "      <td>1.0</td>\n",
       "      <td>40.77</td>\n",
       "      <td>-74.03</td>\n",
       "      <td>19</td>\n",
       "      <td>0.0</td>\n",
       "      <td>0.0</td>\n",
       "      <td>1.0</td>\n",
       "      <td>0.0</td>\n",
       "      <td>0.0</td>\n",
       "      <td>0.0</td>\n",
       "      <td>...</td>\n",
       "      <td>0.0</td>\n",
       "      <td>0.0</td>\n",
       "      <td>0.0</td>\n",
       "      <td>1.0</td>\n",
       "      <td>0.0</td>\n",
       "      <td>1.0</td>\n",
       "      <td>0.0</td>\n",
       "      <td>0.0</td>\n",
       "      <td>0.0</td>\n",
       "      <td>0.0</td>\n",
       "    </tr>\n",
       "    <tr>\n",
       "      <th>275614</th>\n",
       "      <td>1.0</td>\n",
       "      <td>39.04</td>\n",
       "      <td>-95.69</td>\n",
       "      <td>11</td>\n",
       "      <td>0.0</td>\n",
       "      <td>0.0</td>\n",
       "      <td>1.0</td>\n",
       "      <td>0.0</td>\n",
       "      <td>0.0</td>\n",
       "      <td>0.0</td>\n",
       "      <td>...</td>\n",
       "      <td>0.0</td>\n",
       "      <td>0.0</td>\n",
       "      <td>0.0</td>\n",
       "      <td>1.0</td>\n",
       "      <td>0.0</td>\n",
       "      <td>0.0</td>\n",
       "      <td>0.0</td>\n",
       "      <td>0.0</td>\n",
       "      <td>0.0</td>\n",
       "      <td>1.0</td>\n",
       "    </tr>\n",
       "    <tr>\n",
       "      <th>275615</th>\n",
       "      <td>1.0</td>\n",
       "      <td>38.89</td>\n",
       "      <td>-94.81</td>\n",
       "      <td>19</td>\n",
       "      <td>0.0</td>\n",
       "      <td>0.0</td>\n",
       "      <td>0.0</td>\n",
       "      <td>0.0</td>\n",
       "      <td>0.0</td>\n",
       "      <td>0.0</td>\n",
       "      <td>...</td>\n",
       "      <td>0.0</td>\n",
       "      <td>0.0</td>\n",
       "      <td>0.0</td>\n",
       "      <td>0.0</td>\n",
       "      <td>0.0</td>\n",
       "      <td>0.0</td>\n",
       "      <td>1.0</td>\n",
       "      <td>0.0</td>\n",
       "      <td>0.0</td>\n",
       "      <td>0.0</td>\n",
       "    </tr>\n",
       "  </tbody>\n",
       "</table>\n",
       "<p>275616 rows × 27 columns</p>\n",
       "</div>"
      ],
      "text/plain": [
       "        const    lat    long  yearweek  source_ads-google  source_ads-yahoo  \\\n",
       "0         1.0  38.89  -94.81        16                0.0               0.0   \n",
       "1         1.0  41.68  -72.94        18                0.0               0.0   \n",
       "2         1.0  39.74  -75.53        13                0.0               0.0   \n",
       "3         1.0  37.99 -121.80        21                1.0               0.0   \n",
       "4         1.0  41.08  -81.52        14                1.0               0.0   \n",
       "...       ...    ...     ...       ...                ...               ...   \n",
       "275611    1.0  39.78  -86.15        20                0.0               0.0   \n",
       "275612    1.0  31.10  -97.72        19                0.0               0.0   \n",
       "275613    1.0  40.77  -74.03        19                0.0               0.0   \n",
       "275614    1.0  39.04  -95.69        11                0.0               0.0   \n",
       "275615    1.0  38.89  -94.81        19                0.0               0.0   \n",
       "\n",
       "        source_ads_facebook  source_ads_other  source_direct_traffic  \\\n",
       "0                       0.0               0.0                    0.0   \n",
       "1                       0.0               0.0                    0.0   \n",
       "2                       0.0               0.0                    0.0   \n",
       "3                       0.0               0.0                    0.0   \n",
       "4                       0.0               0.0                    0.0   \n",
       "...                     ...               ...                    ...   \n",
       "275611                  0.0               0.0                    1.0   \n",
       "275612                  0.0               0.0                    1.0   \n",
       "275613                  1.0               0.0                    0.0   \n",
       "275614                  1.0               0.0                    0.0   \n",
       "275615                  0.0               0.0                    0.0   \n",
       "\n",
       "        source_friend_referral  ...  operative_system_linux  \\\n",
       "0                          0.0  ...                     0.0   \n",
       "1                          0.0  ...                     0.0   \n",
       "2                          1.0  ...                     0.0   \n",
       "3                          0.0  ...                     0.0   \n",
       "4                          0.0  ...                     0.0   \n",
       "...                        ...  ...                     ...   \n",
       "275611                     0.0  ...                     0.0   \n",
       "275612                     0.0  ...                     0.0   \n",
       "275613                     0.0  ...                     0.0   \n",
       "275614                     0.0  ...                     0.0   \n",
       "275615                     0.0  ...                     0.0   \n",
       "\n",
       "        operative_system_mac  operative_system_other  \\\n",
       "0                        1.0                     0.0   \n",
       "1                        0.0                     0.0   \n",
       "2                        0.0                     0.0   \n",
       "3                        0.0                     0.0   \n",
       "4                        0.0                     0.0   \n",
       "...                      ...                     ...   \n",
       "275611                   0.0                     0.0   \n",
       "275612                   0.0                     0.0   \n",
       "275613                   0.0                     0.0   \n",
       "275614                   0.0                     0.0   \n",
       "275615                   0.0                     0.0   \n",
       "\n",
       "        operative_system_windows  weekday_Monday  weekday_Saturday  \\\n",
       "0                            0.0             0.0               0.0   \n",
       "1                            0.0             0.0               0.0   \n",
       "2                            0.0             0.0               1.0   \n",
       "3                            0.0             0.0               0.0   \n",
       "4                            0.0             0.0               0.0   \n",
       "...                          ...             ...               ...   \n",
       "275611                       0.0             0.0               1.0   \n",
       "275612                       1.0             0.0               0.0   \n",
       "275613                       1.0             0.0               1.0   \n",
       "275614                       1.0             0.0               0.0   \n",
       "275615                       0.0             0.0               0.0   \n",
       "\n",
       "        weekday_Sunday  weekday_Thursday  weekday_Tuesday  weekday_Wednesday  \n",
       "0                  0.0               0.0              0.0                0.0  \n",
       "1                  0.0               0.0              0.0                0.0  \n",
       "2                  0.0               0.0              0.0                0.0  \n",
       "3                  0.0               0.0              0.0                0.0  \n",
       "4                  0.0               0.0              0.0                1.0  \n",
       "...                ...               ...              ...                ...  \n",
       "275611             0.0               0.0              0.0                0.0  \n",
       "275612             0.0               0.0              0.0                0.0  \n",
       "275613             0.0               0.0              0.0                0.0  \n",
       "275614             0.0               0.0              0.0                1.0  \n",
       "275615             1.0               0.0              0.0                0.0  \n",
       "\n",
       "[275616 rows x 27 columns]"
      ]
     },
     "execution_count": 30,
     "metadata": {},
     "output_type": "execute_result"
    }
   ],
   "source": [
    "train_cols = x_const.drop(columns=['user_id', 'converted'])\n",
    "train_cols"
   ]
  },
  {
   "cell_type": "code",
   "execution_count": 31,
   "id": "e018bf7b-a446-48e0-afef-a08025693c55",
   "metadata": {},
   "outputs": [
    {
     "name": "stdout",
     "output_type": "stream",
     "text": [
      "Warning: Maximum number of iterations has been exceeded.\n",
      "         Current function value: 0.089555\n",
      "         Iterations: 35\n"
     ]
    },
    {
     "name": "stderr",
     "output_type": "stream",
     "text": [
      "/Library/Frameworks/Python.framework/Versions/3.12/lib/python3.12/site-packages/statsmodels/base/model.py:607: ConvergenceWarning: Maximum Likelihood optimization failed to converge. Check mle_retvals\n",
      "  warnings.warn(\"Maximum Likelihood optimization failed to \"\n"
     ]
    }
   ],
   "source": [
    "import statsmodels.api as sm\n",
    "\n",
    "model = sm.Logit(df_dummies['converted'], train_cols).fit()"
   ]
  },
  {
   "cell_type": "code",
   "execution_count": 33,
   "id": "baa21cf9-e0f4-4b37-b49a-c7eda5f04cba",
   "metadata": {},
   "outputs": [
    {
     "data": {
      "text/html": [
       "<table class=\"simpletable\">\n",
       "<caption>Logit Regression Results</caption>\n",
       "<tr>\n",
       "  <th>Dep. Variable:</th>       <td>converted</td>    <th>  No. Observations:  </th>   <td>275616</td>  \n",
       "</tr>\n",
       "<tr>\n",
       "  <th>Model:</th>                 <td>Logit</td>      <th>  Df Residuals:      </th>   <td>275589</td>  \n",
       "</tr>\n",
       "<tr>\n",
       "  <th>Method:</th>                 <td>MLE</td>       <th>  Df Model:          </th>   <td>    26</td>  \n",
       "</tr>\n",
       "<tr>\n",
       "  <th>Date:</th>            <td>Sat, 29 Mar 2025</td> <th>  Pseudo R-squ.:     </th>   <td>0.01576</td> \n",
       "</tr>\n",
       "<tr>\n",
       "  <th>Time:</th>                <td>12:13:20</td>     <th>  Log-Likelihood:    </th>  <td> -24683.</td> \n",
       "</tr>\n",
       "<tr>\n",
       "  <th>converged:</th>             <td>False</td>      <th>  LL-Null:           </th>  <td> -25078.</td> \n",
       "</tr>\n",
       "<tr>\n",
       "  <th>Covariance Type:</th>     <td>nonrobust</td>    <th>  LLR p-value:       </th> <td>7.181e-150</td>\n",
       "</tr>\n",
       "</table>\n",
       "<table class=\"simpletable\">\n",
       "<tr>\n",
       "              <td></td>                <th>coef</th>     <th>std err</th>      <th>z</th>      <th>P>|z|</th>  <th>[0.025</th>    <th>0.975]</th>  \n",
       "</tr>\n",
       "<tr>\n",
       "  <th>const</th>                    <td>   -4.3965</td> <td>    0.167</td> <td>  -26.345</td> <td> 0.000</td> <td>   -4.724</td> <td>   -4.069</td>\n",
       "</tr>\n",
       "<tr>\n",
       "  <th>lat</th>                      <td>   -0.0053</td> <td>    0.003</td> <td>   -1.922</td> <td> 0.055</td> <td>   -0.011</td> <td>    0.000</td>\n",
       "</tr>\n",
       "<tr>\n",
       "  <th>long</th>                     <td>   -0.0001</td> <td>    0.001</td> <td>   -0.131</td> <td> 0.896</td> <td>   -0.002</td> <td>    0.001</td>\n",
       "</tr>\n",
       "<tr>\n",
       "  <th>yearweek</th>                 <td>   -0.0007</td> <td>    0.004</td> <td>   -0.192</td> <td> 0.848</td> <td>   -0.008</td> <td>    0.007</td>\n",
       "</tr>\n",
       "<tr>\n",
       "  <th>source_ads-google</th>        <td>    0.5870</td> <td>    0.072</td> <td>    8.154</td> <td> 0.000</td> <td>    0.446</td> <td>    0.728</td>\n",
       "</tr>\n",
       "<tr>\n",
       "  <th>source_ads-yahoo</th>         <td>    0.2003</td> <td>    0.122</td> <td>    1.645</td> <td> 0.100</td> <td>   -0.038</td> <td>    0.439</td>\n",
       "</tr>\n",
       "<tr>\n",
       "  <th>source_ads_facebook</th>      <td>    0.5774</td> <td>    0.073</td> <td>    7.935</td> <td> 0.000</td> <td>    0.435</td> <td>    0.720</td>\n",
       "</tr>\n",
       "<tr>\n",
       "  <th>source_ads_other</th>         <td>    0.1865</td> <td>    0.083</td> <td>    2.236</td> <td> 0.025</td> <td>    0.023</td> <td>    0.350</td>\n",
       "</tr>\n",
       "<tr>\n",
       "  <th>source_direct_traffic</th>    <td>    0.0156</td> <td>    0.076</td> <td>    0.204</td> <td> 0.839</td> <td>   -0.134</td> <td>    0.165</td>\n",
       "</tr>\n",
       "<tr>\n",
       "  <th>source_friend_referral</th>   <td>    1.1773</td> <td>    0.076</td> <td>   15.485</td> <td> 0.000</td> <td>    1.028</td> <td>    1.326</td>\n",
       "</tr>\n",
       "<tr>\n",
       "  <th>source_seo-bing</th>          <td>    0.5738</td> <td>    0.173</td> <td>    3.322</td> <td> 0.001</td> <td>    0.235</td> <td>    0.912</td>\n",
       "</tr>\n",
       "<tr>\n",
       "  <th>source_seo-google</th>        <td>    0.3568</td> <td>    0.085</td> <td>    4.199</td> <td> 0.000</td> <td>    0.190</td> <td>    0.523</td>\n",
       "</tr>\n",
       "<tr>\n",
       "  <th>source_seo-other</th>         <td>    0.2877</td> <td>    0.110</td> <td>    2.604</td> <td> 0.009</td> <td>    0.071</td> <td>    0.504</td>\n",
       "</tr>\n",
       "<tr>\n",
       "  <th>source_seo-yahoo</th>         <td>    0.3360</td> <td>    0.121</td> <td>    2.787</td> <td> 0.005</td> <td>    0.100</td> <td>    0.572</td>\n",
       "</tr>\n",
       "<tr>\n",
       "  <th>source_seo_facebook</th>      <td>    0.2902</td> <td>    0.088</td> <td>    3.302</td> <td> 0.001</td> <td>    0.118</td> <td>    0.462</td>\n",
       "</tr>\n",
       "<tr>\n",
       "  <th>device_web</th>               <td>  -14.8074</td> <td> 1475.881</td> <td>   -0.010</td> <td> 0.992</td> <td>-2907.481</td> <td> 2877.866</td>\n",
       "</tr>\n",
       "<tr>\n",
       "  <th>operative_system_iOS</th>     <td>    0.4075</td> <td>    0.040</td> <td>   10.170</td> <td> 0.000</td> <td>    0.329</td> <td>    0.486</td>\n",
       "</tr>\n",
       "<tr>\n",
       "  <th>operative_system_linux</th>   <td>   14.2006</td> <td> 1475.881</td> <td>    0.010</td> <td> 0.992</td> <td>-2878.473</td> <td> 2906.874</td>\n",
       "</tr>\n",
       "<tr>\n",
       "  <th>operative_system_mac</th>     <td>   15.3036</td> <td> 1475.881</td> <td>    0.010</td> <td> 0.992</td> <td>-2877.370</td> <td> 2907.977</td>\n",
       "</tr>\n",
       "<tr>\n",
       "  <th>operative_system_other</th>   <td>   -0.1701</td> <td>    0.083</td> <td>   -2.051</td> <td> 0.040</td> <td>   -0.333</td> <td>   -0.008</td>\n",
       "</tr>\n",
       "<tr>\n",
       "  <th>operative_system_windows</th> <td>   14.9281</td> <td> 1475.881</td> <td>    0.010</td> <td> 0.992</td> <td>-2877.745</td> <td> 2907.602</td>\n",
       "</tr>\n",
       "<tr>\n",
       "  <th>weekday_Monday</th>           <td>   -0.0502</td> <td>    0.064</td> <td>   -0.780</td> <td> 0.435</td> <td>   -0.176</td> <td>    0.076</td>\n",
       "</tr>\n",
       "<tr>\n",
       "  <th>weekday_Saturday</th>         <td>   -0.0301</td> <td>    0.040</td> <td>   -0.761</td> <td> 0.447</td> <td>   -0.107</td> <td>    0.047</td>\n",
       "</tr>\n",
       "<tr>\n",
       "  <th>weekday_Sunday</th>           <td>    0.0056</td> <td>    0.043</td> <td>    0.132</td> <td> 0.895</td> <td>   -0.078</td> <td>    0.089</td>\n",
       "</tr>\n",
       "<tr>\n",
       "  <th>weekday_Thursday</th>         <td>   -0.0193</td> <td>    0.049</td> <td>   -0.393</td> <td> 0.694</td> <td>   -0.116</td> <td>    0.077</td>\n",
       "</tr>\n",
       "<tr>\n",
       "  <th>weekday_Tuesday</th>          <td>   -0.1426</td> <td>    0.066</td> <td>   -2.156</td> <td> 0.031</td> <td>   -0.272</td> <td>   -0.013</td>\n",
       "</tr>\n",
       "<tr>\n",
       "  <th>weekday_Wednesday</th>        <td>   -0.0475</td> <td>    0.065</td> <td>   -0.732</td> <td> 0.464</td> <td>   -0.175</td> <td>    0.080</td>\n",
       "</tr>\n",
       "</table>"
      ],
      "text/latex": [
       "\\begin{center}\n",
       "\\begin{tabular}{lclc}\n",
       "\\toprule\n",
       "\\textbf{Dep. Variable:}             &    converted     & \\textbf{  No. Observations:  } &   275616    \\\\\n",
       "\\textbf{Model:}                     &      Logit       & \\textbf{  Df Residuals:      } &   275589    \\\\\n",
       "\\textbf{Method:}                    &       MLE        & \\textbf{  Df Model:          } &       26    \\\\\n",
       "\\textbf{Date:}                      & Sat, 29 Mar 2025 & \\textbf{  Pseudo R-squ.:     } &  0.01576    \\\\\n",
       "\\textbf{Time:}                      &     12:13:20     & \\textbf{  Log-Likelihood:    } &   -24683.   \\\\\n",
       "\\textbf{converged:}                 &      False       & \\textbf{  LL-Null:           } &   -25078.   \\\\\n",
       "\\textbf{Covariance Type:}           &    nonrobust     & \\textbf{  LLR p-value:       } & 7.181e-150  \\\\\n",
       "\\bottomrule\n",
       "\\end{tabular}\n",
       "\\begin{tabular}{lcccccc}\n",
       "                                    & \\textbf{coef} & \\textbf{std err} & \\textbf{z} & \\textbf{P$> |$z$|$} & \\textbf{[0.025} & \\textbf{0.975]}  \\\\\n",
       "\\midrule\n",
       "\\textbf{const}                      &      -4.3965  &        0.167     &   -26.345  &         0.000        &       -4.724    &       -4.069     \\\\\n",
       "\\textbf{lat}                        &      -0.0053  &        0.003     &    -1.922  &         0.055        &       -0.011    &        0.000     \\\\\n",
       "\\textbf{long}                       &      -0.0001  &        0.001     &    -0.131  &         0.896        &       -0.002    &        0.001     \\\\\n",
       "\\textbf{yearweek}                   &      -0.0007  &        0.004     &    -0.192  &         0.848        &       -0.008    &        0.007     \\\\\n",
       "\\textbf{source\\_ads-google}         &       0.5870  &        0.072     &     8.154  &         0.000        &        0.446    &        0.728     \\\\\n",
       "\\textbf{source\\_ads-yahoo}          &       0.2003  &        0.122     &     1.645  &         0.100        &       -0.038    &        0.439     \\\\\n",
       "\\textbf{source\\_ads\\_facebook}      &       0.5774  &        0.073     &     7.935  &         0.000        &        0.435    &        0.720     \\\\\n",
       "\\textbf{source\\_ads\\_other}         &       0.1865  &        0.083     &     2.236  &         0.025        &        0.023    &        0.350     \\\\\n",
       "\\textbf{source\\_direct\\_traffic}    &       0.0156  &        0.076     &     0.204  &         0.839        &       -0.134    &        0.165     \\\\\n",
       "\\textbf{source\\_friend\\_referral}   &       1.1773  &        0.076     &    15.485  &         0.000        &        1.028    &        1.326     \\\\\n",
       "\\textbf{source\\_seo-bing}           &       0.5738  &        0.173     &     3.322  &         0.001        &        0.235    &        0.912     \\\\\n",
       "\\textbf{source\\_seo-google}         &       0.3568  &        0.085     &     4.199  &         0.000        &        0.190    &        0.523     \\\\\n",
       "\\textbf{source\\_seo-other}          &       0.2877  &        0.110     &     2.604  &         0.009        &        0.071    &        0.504     \\\\\n",
       "\\textbf{source\\_seo-yahoo}          &       0.3360  &        0.121     &     2.787  &         0.005        &        0.100    &        0.572     \\\\\n",
       "\\textbf{source\\_seo\\_facebook}      &       0.2902  &        0.088     &     3.302  &         0.001        &        0.118    &        0.462     \\\\\n",
       "\\textbf{device\\_web}                &     -14.8074  &     1475.881     &    -0.010  &         0.992        &    -2907.481    &     2877.866     \\\\\n",
       "\\textbf{operative\\_system\\_iOS}     &       0.4075  &        0.040     &    10.170  &         0.000        &        0.329    &        0.486     \\\\\n",
       "\\textbf{operative\\_system\\_linux}   &      14.2006  &     1475.881     &     0.010  &         0.992        &    -2878.473    &     2906.874     \\\\\n",
       "\\textbf{operative\\_system\\_mac}     &      15.3036  &     1475.881     &     0.010  &         0.992        &    -2877.370    &     2907.977     \\\\\n",
       "\\textbf{operative\\_system\\_other}   &      -0.1701  &        0.083     &    -2.051  &         0.040        &       -0.333    &       -0.008     \\\\\n",
       "\\textbf{operative\\_system\\_windows} &      14.9281  &     1475.881     &     0.010  &         0.992        &    -2877.745    &     2907.602     \\\\\n",
       "\\textbf{weekday\\_Monday}            &      -0.0502  &        0.064     &    -0.780  &         0.435        &       -0.176    &        0.076     \\\\\n",
       "\\textbf{weekday\\_Saturday}          &      -0.0301  &        0.040     &    -0.761  &         0.447        &       -0.107    &        0.047     \\\\\n",
       "\\textbf{weekday\\_Sunday}            &       0.0056  &        0.043     &     0.132  &         0.895        &       -0.078    &        0.089     \\\\\n",
       "\\textbf{weekday\\_Thursday}          &      -0.0193  &        0.049     &    -0.393  &         0.694        &       -0.116    &        0.077     \\\\\n",
       "\\textbf{weekday\\_Tuesday}           &      -0.1426  &        0.066     &    -2.156  &         0.031        &       -0.272    &       -0.013     \\\\\n",
       "\\textbf{weekday\\_Wednesday}         &      -0.0475  &        0.065     &    -0.732  &         0.464        &       -0.175    &        0.080     \\\\\n",
       "\\bottomrule\n",
       "\\end{tabular}\n",
       "%\\caption{Logit Regression Results}\n",
       "\\end{center}"
      ],
      "text/plain": [
       "<class 'statsmodels.iolib.summary.Summary'>\n",
       "\"\"\"\n",
       "                           Logit Regression Results                           \n",
       "==============================================================================\n",
       "Dep. Variable:              converted   No. Observations:               275616\n",
       "Model:                          Logit   Df Residuals:                   275589\n",
       "Method:                           MLE   Df Model:                           26\n",
       "Date:                Sat, 29 Mar 2025   Pseudo R-squ.:                 0.01576\n",
       "Time:                        12:13:20   Log-Likelihood:                -24683.\n",
       "converged:                      False   LL-Null:                       -25078.\n",
       "Covariance Type:            nonrobust   LLR p-value:                7.181e-150\n",
       "============================================================================================\n",
       "                               coef    std err          z      P>|z|      [0.025      0.975]\n",
       "--------------------------------------------------------------------------------------------\n",
       "const                       -4.3965      0.167    -26.345      0.000      -4.724      -4.069\n",
       "lat                         -0.0053      0.003     -1.922      0.055      -0.011       0.000\n",
       "long                        -0.0001      0.001     -0.131      0.896      -0.002       0.001\n",
       "yearweek                    -0.0007      0.004     -0.192      0.848      -0.008       0.007\n",
       "source_ads-google            0.5870      0.072      8.154      0.000       0.446       0.728\n",
       "source_ads-yahoo             0.2003      0.122      1.645      0.100      -0.038       0.439\n",
       "source_ads_facebook          0.5774      0.073      7.935      0.000       0.435       0.720\n",
       "source_ads_other             0.1865      0.083      2.236      0.025       0.023       0.350\n",
       "source_direct_traffic        0.0156      0.076      0.204      0.839      -0.134       0.165\n",
       "source_friend_referral       1.1773      0.076     15.485      0.000       1.028       1.326\n",
       "source_seo-bing              0.5738      0.173      3.322      0.001       0.235       0.912\n",
       "source_seo-google            0.3568      0.085      4.199      0.000       0.190       0.523\n",
       "source_seo-other             0.2877      0.110      2.604      0.009       0.071       0.504\n",
       "source_seo-yahoo             0.3360      0.121      2.787      0.005       0.100       0.572\n",
       "source_seo_facebook          0.2902      0.088      3.302      0.001       0.118       0.462\n",
       "device_web                 -14.8074   1475.881     -0.010      0.992   -2907.481    2877.866\n",
       "operative_system_iOS         0.4075      0.040     10.170      0.000       0.329       0.486\n",
       "operative_system_linux      14.2006   1475.881      0.010      0.992   -2878.473    2906.874\n",
       "operative_system_mac        15.3036   1475.881      0.010      0.992   -2877.370    2907.977\n",
       "operative_system_other      -0.1701      0.083     -2.051      0.040      -0.333      -0.008\n",
       "operative_system_windows    14.9281   1475.881      0.010      0.992   -2877.745    2907.602\n",
       "weekday_Monday              -0.0502      0.064     -0.780      0.435      -0.176       0.076\n",
       "weekday_Saturday            -0.0301      0.040     -0.761      0.447      -0.107       0.047\n",
       "weekday_Sunday               0.0056      0.043      0.132      0.895      -0.078       0.089\n",
       "weekday_Thursday            -0.0193      0.049     -0.393      0.694      -0.116       0.077\n",
       "weekday_Tuesday             -0.1426      0.066     -2.156      0.031      -0.272      -0.013\n",
       "weekday_Wednesday           -0.0475      0.065     -0.732      0.464      -0.175       0.080\n",
       "============================================================================================\n",
       "\"\"\""
      ]
     },
     "execution_count": 33,
     "metadata": {},
     "output_type": "execute_result"
    }
   ],
   "source": [
    "model.summary()"
   ]
  },
  {
   "cell_type": "code",
   "execution_count": null,
   "id": "68fbddeb-6453-436b-b811-d5d74b91dab4",
   "metadata": {},
   "outputs": [],
   "source": [
    "# source              ads-bing\n",
    "# device                mobile\n",
    "# operative_system     android\n",
    "# weekday               Friday"
   ]
  },
  {
   "cell_type": "code",
   "execution_count": 34,
   "id": "5c202cb2-2899-4862-8c33-3753a2f8227a",
   "metadata": {},
   "outputs": [
    {
     "name": "stdout",
     "output_type": "stream",
     "text": [
      "                          coefficients           SE          z       p_values\n",
      "const                        -4.396478     0.166878 -26.345393  5.795859e-153\n",
      "lat                          -0.005322     0.002769  -1.922325   5.456484e-02\n",
      "long                         -0.000105     0.000801  -0.130846   8.958970e-01\n",
      "yearweek                     -0.000733     0.003815  -0.192131   8.476392e-01\n",
      "source_ads-google             0.587048     0.071997   8.153815   3.526214e-16\n",
      "source_ads-yahoo              0.200297     0.121795   1.644549   1.000630e-01\n",
      "source_ads_facebook           0.577427     0.072771   7.934887   2.106867e-15\n",
      "source_ads_other              0.186548     0.083446   2.235554   2.538101e-02\n",
      "source_direct_traffic         0.015560     0.076422   0.203602   8.386642e-01\n",
      "source_friend_referral        1.177324     0.076029  15.485168   4.369187e-54\n",
      "source_seo-bing               0.573768     0.172699   3.322358   8.926001e-04\n",
      "source_seo-google             0.356839     0.084992   4.198522   2.686632e-05\n",
      "source_seo-other              0.287656     0.110455   2.604279   9.206769e-03\n",
      "source_seo-yahoo              0.336031     0.120564   2.787161   5.317208e-03\n",
      "source_seo_facebook           0.290202     0.087897   3.301591   9.613820e-04\n",
      "device_web                  -14.807365  1475.880952  -0.010033   9.919950e-01\n",
      "operative_system_iOS          0.407467     0.040065  10.170269   2.691656e-24\n",
      "operative_system_linux       14.200631  1475.880964   0.009622   9.923230e-01\n",
      "operative_system_mac         15.303583  1475.880953   0.010369   9.917268e-01\n",
      "operative_system_other       -0.170116     0.082942  -2.051019   4.026514e-02\n",
      "operative_system_windows     14.928059  1475.880953   0.010115   9.919298e-01\n",
      "weekday_Monday               -0.050199     0.064316  -0.780497   4.350984e-01\n",
      "weekday_Saturday             -0.030058     0.039502  -0.760937   4.466947e-01\n",
      "weekday_Sunday                0.005611     0.042587   0.131748   8.951837e-01\n",
      "weekday_Thursday             -0.019327     0.049150  -0.393232   6.941485e-01\n",
      "weekday_Tuesday              -0.142648     0.066179  -2.155503   3.112250e-02\n",
      "weekday_Wednesday            -0.047478     0.064867  -0.731922   4.642161e-01\n"
     ]
    }
   ],
   "source": [
    "output_table = pd.DataFrame(dict(coefficients = model.params, SE = model.bse, z = model.tvalues, p_values = model.pvalues))\n",
    "#get coefficients and pvalues\n",
    "print(output_table)"
   ]
  },
  {
   "cell_type": "code",
   "execution_count": 36,
   "id": "0a5e5a2c-d544-4e03-81fb-ecda03f9beef",
   "metadata": {},
   "outputs": [
    {
     "data": {
      "text/html": [
       "<div>\n",
       "<style scoped>\n",
       "    .dataframe tbody tr th:only-of-type {\n",
       "        vertical-align: middle;\n",
       "    }\n",
       "\n",
       "    .dataframe tbody tr th {\n",
       "        vertical-align: top;\n",
       "    }\n",
       "\n",
       "    .dataframe thead th {\n",
       "        text-align: right;\n",
       "    }\n",
       "</style>\n",
       "<table border=\"1\" class=\"dataframe\">\n",
       "  <thead>\n",
       "    <tr style=\"text-align: right;\">\n",
       "      <th></th>\n",
       "      <th>coefficients</th>\n",
       "      <th>SE</th>\n",
       "      <th>z</th>\n",
       "      <th>p_values</th>\n",
       "    </tr>\n",
       "  </thead>\n",
       "  <tbody>\n",
       "    <tr>\n",
       "      <th>source_friend_referral</th>\n",
       "      <td>1.177324</td>\n",
       "      <td>0.076029</td>\n",
       "      <td>15.485168</td>\n",
       "      <td>4.369187e-54</td>\n",
       "    </tr>\n",
       "    <tr>\n",
       "      <th>source_ads-google</th>\n",
       "      <td>0.587048</td>\n",
       "      <td>0.071997</td>\n",
       "      <td>8.153815</td>\n",
       "      <td>3.526214e-16</td>\n",
       "    </tr>\n",
       "    <tr>\n",
       "      <th>source_ads_facebook</th>\n",
       "      <td>0.577427</td>\n",
       "      <td>0.072771</td>\n",
       "      <td>7.934887</td>\n",
       "      <td>2.106867e-15</td>\n",
       "    </tr>\n",
       "    <tr>\n",
       "      <th>source_seo-bing</th>\n",
       "      <td>0.573768</td>\n",
       "      <td>0.172699</td>\n",
       "      <td>3.322358</td>\n",
       "      <td>8.926001e-04</td>\n",
       "    </tr>\n",
       "    <tr>\n",
       "      <th>operative_system_iOS</th>\n",
       "      <td>0.407467</td>\n",
       "      <td>0.040065</td>\n",
       "      <td>10.170269</td>\n",
       "      <td>2.691656e-24</td>\n",
       "    </tr>\n",
       "    <tr>\n",
       "      <th>source_seo-google</th>\n",
       "      <td>0.356839</td>\n",
       "      <td>0.084992</td>\n",
       "      <td>4.198522</td>\n",
       "      <td>2.686632e-05</td>\n",
       "    </tr>\n",
       "    <tr>\n",
       "      <th>source_seo-yahoo</th>\n",
       "      <td>0.336031</td>\n",
       "      <td>0.120564</td>\n",
       "      <td>2.787161</td>\n",
       "      <td>5.317208e-03</td>\n",
       "    </tr>\n",
       "    <tr>\n",
       "      <th>source_seo_facebook</th>\n",
       "      <td>0.290202</td>\n",
       "      <td>0.087897</td>\n",
       "      <td>3.301591</td>\n",
       "      <td>9.613820e-04</td>\n",
       "    </tr>\n",
       "    <tr>\n",
       "      <th>source_seo-other</th>\n",
       "      <td>0.287656</td>\n",
       "      <td>0.110455</td>\n",
       "      <td>2.604279</td>\n",
       "      <td>9.206769e-03</td>\n",
       "    </tr>\n",
       "    <tr>\n",
       "      <th>source_ads_other</th>\n",
       "      <td>0.186548</td>\n",
       "      <td>0.083446</td>\n",
       "      <td>2.235554</td>\n",
       "      <td>2.538101e-02</td>\n",
       "    </tr>\n",
       "    <tr>\n",
       "      <th>weekday_Tuesday</th>\n",
       "      <td>-0.142648</td>\n",
       "      <td>0.066179</td>\n",
       "      <td>-2.155503</td>\n",
       "      <td>3.112250e-02</td>\n",
       "    </tr>\n",
       "    <tr>\n",
       "      <th>operative_system_other</th>\n",
       "      <td>-0.170116</td>\n",
       "      <td>0.082942</td>\n",
       "      <td>-2.051019</td>\n",
       "      <td>4.026514e-02</td>\n",
       "    </tr>\n",
       "    <tr>\n",
       "      <th>const</th>\n",
       "      <td>-4.396478</td>\n",
       "      <td>0.166878</td>\n",
       "      <td>-26.345393</td>\n",
       "      <td>5.795859e-153</td>\n",
       "    </tr>\n",
       "  </tbody>\n",
       "</table>\n",
       "</div>"
      ],
      "text/plain": [
       "                        coefficients        SE          z       p_values\n",
       "source_friend_referral      1.177324  0.076029  15.485168   4.369187e-54\n",
       "source_ads-google           0.587048  0.071997   8.153815   3.526214e-16\n",
       "source_ads_facebook         0.577427  0.072771   7.934887   2.106867e-15\n",
       "source_seo-bing             0.573768  0.172699   3.322358   8.926001e-04\n",
       "operative_system_iOS        0.407467  0.040065  10.170269   2.691656e-24\n",
       "source_seo-google           0.356839  0.084992   4.198522   2.686632e-05\n",
       "source_seo-yahoo            0.336031  0.120564   2.787161   5.317208e-03\n",
       "source_seo_facebook         0.290202  0.087897   3.301591   9.613820e-04\n",
       "source_seo-other            0.287656  0.110455   2.604279   9.206769e-03\n",
       "source_ads_other            0.186548  0.083446   2.235554   2.538101e-02\n",
       "weekday_Tuesday            -0.142648  0.066179  -2.155503   3.112250e-02\n",
       "operative_system_other     -0.170116  0.082942  -2.051019   4.026514e-02\n",
       "const                      -4.396478  0.166878 -26.345393  5.795859e-153"
      ]
     },
     "execution_count": 36,
     "metadata": {},
     "output_type": "execute_result"
    }
   ],
   "source": [
    "output_table[output_table['p_values']<0.05].sort_values(by = 'coefficients', ascending = False)"
   ]
  },
  {
   "cell_type": "code",
   "execution_count": null,
   "id": "ae15996d-9dbb-4e58-9cae-adb78a85951e",
   "metadata": {},
   "outputs": [],
   "source": [
    "For each user, determine their country based on the IP address"
   ]
  }
 ],
 "metadata": {
  "kernelspec": {
   "display_name": "Python 3 (ipykernel)",
   "language": "python",
   "name": "python3"
  },
  "language_info": {
   "codemirror_mode": {
    "name": "ipython",
    "version": 3
   },
   "file_extension": ".py",
   "mimetype": "text/x-python",
   "name": "python",
   "nbconvert_exporter": "python",
   "pygments_lexer": "ipython3",
   "version": "3.12.4"
  }
 },
 "nbformat": 4,
 "nbformat_minor": 5
}
