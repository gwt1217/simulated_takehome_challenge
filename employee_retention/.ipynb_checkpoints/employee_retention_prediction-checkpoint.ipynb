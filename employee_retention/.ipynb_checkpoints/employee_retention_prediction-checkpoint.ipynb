{
 "cells": [
  {
   "cell_type": "markdown",
   "id": "e8f176f9-81de-4b4b-b1e2-2141cb4b4936",
   "metadata": {},
   "source": [
    "# the project goal is to predict employee retention and understand its main drivers. "
   ]
  },
  {
   "cell_type": "markdown",
   "id": "77d9b07e-7406-47b0-ac0c-c9f19bffa699",
   "metadata": {},
   "source": [
    "## Assume, for each company, that the headcount starts from zero on 2011/01/23. Estimate employee headcount, for each company on each day, from 2011/01/24 to 2015/12/13. That is, if by 2012/03/02 2000 people have joined company 1 and 1000 of them have already quit, then company headcount on 2012/03/02 for company 1 would be 1000. You should create a table with 3 columns: day, employee_headcount, company_id"
   ]
  },
  {
   "cell_type": "code",
   "execution_count": 188,
   "id": "3528863f-42ca-4ac2-a9fa-7f0d4070823c",
   "metadata": {},
   "outputs": [],
   "source": [
    "import pandas as pd\n",
    "import numpy as np\n",
    "from datetime import datetime, timedelta\n",
    "import matplotlib.pyplot as plt\n",
    "import seaborn as sns\n",
    "from sklearn.model_selection import train_test_split\n",
    "from sklearn.ensemble import RandomForestClassifier\n",
    "from sklearn.metrics import confusion_matrix\n",
    "from sklearn.metrics import classification_report\n",
    "from sklearn.inspection import PartialDependenceDisplay\n",
    "from sklearn.inspection import partial_dependence"
   ]
  },
  {
   "cell_type": "code",
   "execution_count": 120,
   "id": "471286f2-e91b-448a-a982-eac134ec40a0",
   "metadata": {},
   "outputs": [
    {
     "data": {
      "text/html": [
       "<div>\n",
       "<style scoped>\n",
       "    .dataframe tbody tr th:only-of-type {\n",
       "        vertical-align: middle;\n",
       "    }\n",
       "\n",
       "    .dataframe tbody tr th {\n",
       "        vertical-align: top;\n",
       "    }\n",
       "\n",
       "    .dataframe thead th {\n",
       "        text-align: right;\n",
       "    }\n",
       "</style>\n",
       "<table border=\"1\" class=\"dataframe\">\n",
       "  <thead>\n",
       "    <tr style=\"text-align: right;\">\n",
       "      <th></th>\n",
       "      <th>employee_id</th>\n",
       "      <th>company_id</th>\n",
       "      <th>dept</th>\n",
       "      <th>seniority</th>\n",
       "      <th>salary</th>\n",
       "      <th>join_date</th>\n",
       "      <th>quit_date</th>\n",
       "    </tr>\n",
       "  </thead>\n",
       "  <tbody>\n",
       "    <tr>\n",
       "      <th>0</th>\n",
       "      <td>13021.0</td>\n",
       "      <td>7</td>\n",
       "      <td>customer_service</td>\n",
       "      <td>28</td>\n",
       "      <td>89000.0</td>\n",
       "      <td>2014-03-24</td>\n",
       "      <td>2015-10-30</td>\n",
       "    </tr>\n",
       "    <tr>\n",
       "      <th>1</th>\n",
       "      <td>825355.0</td>\n",
       "      <td>7</td>\n",
       "      <td>marketing</td>\n",
       "      <td>20</td>\n",
       "      <td>183000.0</td>\n",
       "      <td>2013-04-29</td>\n",
       "      <td>2014-04-04</td>\n",
       "    </tr>\n",
       "    <tr>\n",
       "      <th>2</th>\n",
       "      <td>927315.0</td>\n",
       "      <td>4</td>\n",
       "      <td>marketing</td>\n",
       "      <td>14</td>\n",
       "      <td>101000.0</td>\n",
       "      <td>2014-10-13</td>\n",
       "      <td>NaN</td>\n",
       "    </tr>\n",
       "    <tr>\n",
       "      <th>3</th>\n",
       "      <td>662910.0</td>\n",
       "      <td>7</td>\n",
       "      <td>customer_service</td>\n",
       "      <td>20</td>\n",
       "      <td>115000.0</td>\n",
       "      <td>2012-05-14</td>\n",
       "      <td>2013-06-07</td>\n",
       "    </tr>\n",
       "    <tr>\n",
       "      <th>4</th>\n",
       "      <td>256971.0</td>\n",
       "      <td>2</td>\n",
       "      <td>data_science</td>\n",
       "      <td>23</td>\n",
       "      <td>276000.0</td>\n",
       "      <td>2011-10-17</td>\n",
       "      <td>2014-08-22</td>\n",
       "    </tr>\n",
       "  </tbody>\n",
       "</table>\n",
       "</div>"
      ],
      "text/plain": [
       "   employee_id  company_id              dept  seniority    salary   join_date  \\\n",
       "0      13021.0           7  customer_service         28   89000.0  2014-03-24   \n",
       "1     825355.0           7         marketing         20  183000.0  2013-04-29   \n",
       "2     927315.0           4         marketing         14  101000.0  2014-10-13   \n",
       "3     662910.0           7  customer_service         20  115000.0  2012-05-14   \n",
       "4     256971.0           2      data_science         23  276000.0  2011-10-17   \n",
       "\n",
       "    quit_date  \n",
       "0  2015-10-30  \n",
       "1  2014-04-04  \n",
       "2         NaN  \n",
       "3  2013-06-07  \n",
       "4  2014-08-22  "
      ]
     },
     "execution_count": 120,
     "metadata": {},
     "output_type": "execute_result"
    }
   ],
   "source": [
    "df = pd.read_csv('employee_retention.csv')\n",
    "df.head()"
   ]
  },
  {
   "cell_type": "code",
   "execution_count": 121,
   "id": "11f6e197-42b8-41d5-a38f-e6410c379eee",
   "metadata": {},
   "outputs": [
    {
     "data": {
      "text/plain": [
       "employee_id    float64\n",
       "company_id       int64\n",
       "dept            object\n",
       "seniority        int64\n",
       "salary         float64\n",
       "join_date       object\n",
       "quit_date       object\n",
       "dtype: object"
      ]
     },
     "execution_count": 121,
     "metadata": {},
     "output_type": "execute_result"
    }
   ],
   "source": [
    "df.dtypes # need to convert to datetime format"
   ]
  },
  {
   "cell_type": "code",
   "execution_count": 122,
   "id": "820e49c9-1d73-47be-86b3-b56676bbb014",
   "metadata": {},
   "outputs": [],
   "source": [
    "df['join_date'] = pd.to_datetime(df['join_date'])\n",
    "df['quit_date'] = pd.to_datetime(df['quit_date'])"
   ]
  },
  {
   "cell_type": "code",
   "execution_count": 6,
   "id": "50ffb311-245e-4467-89d4-814933e7d360",
   "metadata": {},
   "outputs": [
    {
     "data": {
      "text/plain": [
       "employee_id           float64\n",
       "company_id              int64\n",
       "dept                   object\n",
       "seniority               int64\n",
       "salary                float64\n",
       "join_date      datetime64[ns]\n",
       "quit_date      datetime64[ns]\n",
       "dtype: object"
      ]
     },
     "execution_count": 6,
     "metadata": {},
     "output_type": "execute_result"
    }
   ],
   "source": [
    "df.dtypes"
   ]
  },
  {
   "cell_type": "code",
   "execution_count": 7,
   "id": "466372ad-9a9f-4430-9d5a-1d674d77bf33",
   "metadata": {},
   "outputs": [
    {
     "data": {
      "text/html": [
       "<div>\n",
       "<style scoped>\n",
       "    .dataframe tbody tr th:only-of-type {\n",
       "        vertical-align: middle;\n",
       "    }\n",
       "\n",
       "    .dataframe tbody tr th {\n",
       "        vertical-align: top;\n",
       "    }\n",
       "\n",
       "    .dataframe thead th {\n",
       "        text-align: right;\n",
       "    }\n",
       "</style>\n",
       "<table border=\"1\" class=\"dataframe\">\n",
       "  <thead>\n",
       "    <tr style=\"text-align: right;\">\n",
       "      <th></th>\n",
       "      <th>employee_id</th>\n",
       "      <th>company_id</th>\n",
       "      <th>dept</th>\n",
       "      <th>seniority</th>\n",
       "      <th>salary</th>\n",
       "      <th>join_date</th>\n",
       "      <th>quit_date</th>\n",
       "    </tr>\n",
       "  </thead>\n",
       "  <tbody>\n",
       "    <tr>\n",
       "      <th>count</th>\n",
       "      <td>24702.000000</td>\n",
       "      <td>24702.000000</td>\n",
       "      <td>24702</td>\n",
       "      <td>24702.000000</td>\n",
       "      <td>24702.000000</td>\n",
       "      <td>24702</td>\n",
       "      <td>13510</td>\n",
       "    </tr>\n",
       "    <tr>\n",
       "      <th>unique</th>\n",
       "      <td>NaN</td>\n",
       "      <td>NaN</td>\n",
       "      <td>6</td>\n",
       "      <td>NaN</td>\n",
       "      <td>NaN</td>\n",
       "      <td>NaN</td>\n",
       "      <td>NaN</td>\n",
       "    </tr>\n",
       "    <tr>\n",
       "      <th>top</th>\n",
       "      <td>NaN</td>\n",
       "      <td>NaN</td>\n",
       "      <td>customer_service</td>\n",
       "      <td>NaN</td>\n",
       "      <td>NaN</td>\n",
       "      <td>NaN</td>\n",
       "      <td>NaN</td>\n",
       "    </tr>\n",
       "    <tr>\n",
       "      <th>freq</th>\n",
       "      <td>NaN</td>\n",
       "      <td>NaN</td>\n",
       "      <td>9180</td>\n",
       "      <td>NaN</td>\n",
       "      <td>NaN</td>\n",
       "      <td>NaN</td>\n",
       "      <td>NaN</td>\n",
       "    </tr>\n",
       "    <tr>\n",
       "      <th>mean</th>\n",
       "      <td>501604.403530</td>\n",
       "      <td>3.426969</td>\n",
       "      <td>NaN</td>\n",
       "      <td>14.127803</td>\n",
       "      <td>138183.345478</td>\n",
       "      <td>2013-06-29 09:39:37.556473344</td>\n",
       "      <td>2014-05-02 17:43:38.327165184</td>\n",
       "    </tr>\n",
       "    <tr>\n",
       "      <th>min</th>\n",
       "      <td>36.000000</td>\n",
       "      <td>1.000000</td>\n",
       "      <td>NaN</td>\n",
       "      <td>1.000000</td>\n",
       "      <td>17000.000000</td>\n",
       "      <td>2011-01-24 00:00:00</td>\n",
       "      <td>2011-10-13 00:00:00</td>\n",
       "    </tr>\n",
       "    <tr>\n",
       "      <th>25%</th>\n",
       "      <td>250133.750000</td>\n",
       "      <td>1.000000</td>\n",
       "      <td>NaN</td>\n",
       "      <td>7.000000</td>\n",
       "      <td>79000.000000</td>\n",
       "      <td>2012-04-09 00:00:00</td>\n",
       "      <td>2013-06-28 00:00:00</td>\n",
       "    </tr>\n",
       "    <tr>\n",
       "      <th>50%</th>\n",
       "      <td>500793.000000</td>\n",
       "      <td>2.000000</td>\n",
       "      <td>NaN</td>\n",
       "      <td>14.000000</td>\n",
       "      <td>123000.000000</td>\n",
       "      <td>2013-06-24 00:00:00</td>\n",
       "      <td>2014-06-20 00:00:00</td>\n",
       "    </tr>\n",
       "    <tr>\n",
       "      <th>75%</th>\n",
       "      <td>753137.250000</td>\n",
       "      <td>5.000000</td>\n",
       "      <td>NaN</td>\n",
       "      <td>21.000000</td>\n",
       "      <td>187000.000000</td>\n",
       "      <td>2014-09-17 00:00:00</td>\n",
       "      <td>2015-03-27 00:00:00</td>\n",
       "    </tr>\n",
       "    <tr>\n",
       "      <th>max</th>\n",
       "      <td>999969.000000</td>\n",
       "      <td>12.000000</td>\n",
       "      <td>NaN</td>\n",
       "      <td>99.000000</td>\n",
       "      <td>408000.000000</td>\n",
       "      <td>2015-12-10 00:00:00</td>\n",
       "      <td>2015-12-09 00:00:00</td>\n",
       "    </tr>\n",
       "    <tr>\n",
       "      <th>std</th>\n",
       "      <td>288909.026101</td>\n",
       "      <td>2.700011</td>\n",
       "      <td>NaN</td>\n",
       "      <td>8.089520</td>\n",
       "      <td>76058.184573</td>\n",
       "      <td>NaN</td>\n",
       "      <td>NaN</td>\n",
       "    </tr>\n",
       "  </tbody>\n",
       "</table>\n",
       "</div>"
      ],
      "text/plain": [
       "          employee_id    company_id              dept     seniority  \\\n",
       "count    24702.000000  24702.000000             24702  24702.000000   \n",
       "unique            NaN           NaN                 6           NaN   \n",
       "top               NaN           NaN  customer_service           NaN   \n",
       "freq              NaN           NaN              9180           NaN   \n",
       "mean    501604.403530      3.426969               NaN     14.127803   \n",
       "min         36.000000      1.000000               NaN      1.000000   \n",
       "25%     250133.750000      1.000000               NaN      7.000000   \n",
       "50%     500793.000000      2.000000               NaN     14.000000   \n",
       "75%     753137.250000      5.000000               NaN     21.000000   \n",
       "max     999969.000000     12.000000               NaN     99.000000   \n",
       "std     288909.026101      2.700011               NaN      8.089520   \n",
       "\n",
       "               salary                      join_date  \\\n",
       "count    24702.000000                          24702   \n",
       "unique            NaN                            NaN   \n",
       "top               NaN                            NaN   \n",
       "freq              NaN                            NaN   \n",
       "mean    138183.345478  2013-06-29 09:39:37.556473344   \n",
       "min      17000.000000            2011-01-24 00:00:00   \n",
       "25%      79000.000000            2012-04-09 00:00:00   \n",
       "50%     123000.000000            2013-06-24 00:00:00   \n",
       "75%     187000.000000            2014-09-17 00:00:00   \n",
       "max     408000.000000            2015-12-10 00:00:00   \n",
       "std      76058.184573                            NaN   \n",
       "\n",
       "                            quit_date  \n",
       "count                           13510  \n",
       "unique                            NaN  \n",
       "top                               NaN  \n",
       "freq                              NaN  \n",
       "mean    2014-05-02 17:43:38.327165184  \n",
       "min               2011-10-13 00:00:00  \n",
       "25%               2013-06-28 00:00:00  \n",
       "50%               2014-06-20 00:00:00  \n",
       "75%               2015-03-27 00:00:00  \n",
       "max               2015-12-09 00:00:00  \n",
       "std                               NaN  "
      ]
     },
     "execution_count": 7,
     "metadata": {},
     "output_type": "execute_result"
    }
   ],
   "source": [
    "df.describe(include='all')"
   ]
  },
  {
   "cell_type": "code",
   "execution_count": 128,
   "id": "8c1e73f7-ebfd-40c5-8891-8b0e9cddd51b",
   "metadata": {},
   "outputs": [
    {
     "data": {
      "text/html": [
       "<div>\n",
       "<style scoped>\n",
       "    .dataframe tbody tr th:only-of-type {\n",
       "        vertical-align: middle;\n",
       "    }\n",
       "\n",
       "    .dataframe tbody tr th {\n",
       "        vertical-align: top;\n",
       "    }\n",
       "\n",
       "    .dataframe thead th {\n",
       "        text-align: right;\n",
       "    }\n",
       "</style>\n",
       "<table border=\"1\" class=\"dataframe\">\n",
       "  <thead>\n",
       "    <tr style=\"text-align: right;\">\n",
       "      <th></th>\n",
       "      <th>employee_id</th>\n",
       "      <th>company_id</th>\n",
       "      <th>dept</th>\n",
       "      <th>seniority</th>\n",
       "      <th>salary</th>\n",
       "      <th>join_date</th>\n",
       "      <th>quit_date</th>\n",
       "      <th>churn</th>\n",
       "      <th>tenure</th>\n",
       "    </tr>\n",
       "  </thead>\n",
       "  <tbody>\n",
       "    <tr>\n",
       "      <th>24700</th>\n",
       "      <td>97289.0</td>\n",
       "      <td>10</td>\n",
       "      <td>engineer</td>\n",
       "      <td>98</td>\n",
       "      <td>266000.0</td>\n",
       "      <td>2011-12-13</td>\n",
       "      <td>2015-01-09</td>\n",
       "      <td>1</td>\n",
       "      <td>3.076712</td>\n",
       "    </tr>\n",
       "    <tr>\n",
       "      <th>24701</th>\n",
       "      <td>604052.0</td>\n",
       "      <td>1</td>\n",
       "      <td>marketing</td>\n",
       "      <td>99</td>\n",
       "      <td>185000.0</td>\n",
       "      <td>2011-07-26</td>\n",
       "      <td>2013-12-06</td>\n",
       "      <td>1</td>\n",
       "      <td>2.367123</td>\n",
       "    </tr>\n",
       "  </tbody>\n",
       "</table>\n",
       "</div>"
      ],
      "text/plain": [
       "       employee_id  company_id       dept  seniority    salary  join_date  \\\n",
       "24700      97289.0          10   engineer         98  266000.0 2011-12-13   \n",
       "24701     604052.0           1  marketing         99  185000.0 2011-07-26   \n",
       "\n",
       "       quit_date  churn    tenure  \n",
       "24700 2015-01-09      1  3.076712  \n",
       "24701 2013-12-06      1  2.367123  "
      ]
     },
     "execution_count": 128,
     "metadata": {},
     "output_type": "execute_result"
    }
   ],
   "source": [
    "# seniority==99 is wrong\n",
    "df.query('seniority>50') # something wrong need to fix, for first Q, keep these two records"
   ]
  },
  {
   "cell_type": "code",
   "execution_count": 8,
   "id": "8cac4d6e-f1b7-4c48-b34f-f15aee37c441",
   "metadata": {},
   "outputs": [
    {
     "data": {
      "text/plain": [
       "(24702, 7)"
      ]
     },
     "execution_count": 8,
     "metadata": {},
     "output_type": "execute_result"
    }
   ],
   "source": [
    "df.shape"
   ]
  },
  {
   "cell_type": "code",
   "execution_count": 9,
   "id": "a34e03a0-756b-4919-86ee-2fd255dfaed7",
   "metadata": {},
   "outputs": [
    {
     "data": {
      "text/plain": [
       "24702"
      ]
     },
     "execution_count": 9,
     "metadata": {},
     "output_type": "execute_result"
    }
   ],
   "source": [
    "df['employee_id'].nunique()# no duplicates"
   ]
  },
  {
   "cell_type": "code",
   "execution_count": 15,
   "id": "39c583df-19ff-4180-b178-09d493983ff6",
   "metadata": {},
   "outputs": [
    {
     "data": {
      "text/html": [
       "<div>\n",
       "<style scoped>\n",
       "    .dataframe tbody tr th:only-of-type {\n",
       "        vertical-align: middle;\n",
       "    }\n",
       "\n",
       "    .dataframe tbody tr th {\n",
       "        vertical-align: top;\n",
       "    }\n",
       "\n",
       "    .dataframe thead th {\n",
       "        text-align: right;\n",
       "    }\n",
       "</style>\n",
       "<table border=\"1\" class=\"dataframe\">\n",
       "  <thead>\n",
       "    <tr style=\"text-align: right;\">\n",
       "      <th></th>\n",
       "      <th>company_id</th>\n",
       "      <th>join_date</th>\n",
       "      <th>cnt</th>\n",
       "    </tr>\n",
       "  </thead>\n",
       "  <tbody>\n",
       "    <tr>\n",
       "      <th>0</th>\n",
       "      <td>1</td>\n",
       "      <td>2011-01-24</td>\n",
       "      <td>25</td>\n",
       "    </tr>\n",
       "    <tr>\n",
       "      <th>1</th>\n",
       "      <td>1</td>\n",
       "      <td>2011-01-25</td>\n",
       "      <td>2</td>\n",
       "    </tr>\n",
       "    <tr>\n",
       "      <th>2</th>\n",
       "      <td>1</td>\n",
       "      <td>2011-01-26</td>\n",
       "      <td>2</td>\n",
       "    </tr>\n",
       "    <tr>\n",
       "      <th>3</th>\n",
       "      <td>1</td>\n",
       "      <td>2011-01-31</td>\n",
       "      <td>30</td>\n",
       "    </tr>\n",
       "    <tr>\n",
       "      <th>4</th>\n",
       "      <td>1</td>\n",
       "      <td>2011-02-01</td>\n",
       "      <td>7</td>\n",
       "    </tr>\n",
       "  </tbody>\n",
       "</table>\n",
       "</div>"
      ],
      "text/plain": [
       "   company_id  join_date  cnt\n",
       "0           1 2011-01-24   25\n",
       "1           1 2011-01-25    2\n",
       "2           1 2011-01-26    2\n",
       "3           1 2011-01-31   30\n",
       "4           1 2011-02-01    7"
      ]
     },
     "execution_count": 15,
     "metadata": {},
     "output_type": "execute_result"
    }
   ],
   "source": [
    "join_df = df.groupby(['company_id','join_date'])['employee_id'].count().reset_index(name='cnt')\\\n",
    ".sort_values(by=['company_id','join_date'])\n",
    "join_df.head()"
   ]
  },
  {
   "cell_type": "code",
   "execution_count": 22,
   "id": "2cf76422-2135-484d-a4c3-17d17e082ac0",
   "metadata": {},
   "outputs": [
    {
     "data": {
      "text/plain": [
       "(5130, 4)"
      ]
     },
     "execution_count": 22,
     "metadata": {},
     "output_type": "execute_result"
    }
   ],
   "source": [
    "join_df['tot_ppl']=join_df.groupby('company_id')['cnt'].cumsum()\n",
    "join_df.shape"
   ]
  },
  {
   "cell_type": "code",
   "execution_count": 46,
   "id": "331024fc-33fa-4abc-baae-ce442a4b3a62",
   "metadata": {},
   "outputs": [
    {
     "data": {
      "text/html": [
       "<div>\n",
       "<style scoped>\n",
       "    .dataframe tbody tr th:only-of-type {\n",
       "        vertical-align: middle;\n",
       "    }\n",
       "\n",
       "    .dataframe tbody tr th {\n",
       "        vertical-align: top;\n",
       "    }\n",
       "\n",
       "    .dataframe thead th {\n",
       "        text-align: right;\n",
       "    }\n",
       "</style>\n",
       "<table border=\"1\" class=\"dataframe\">\n",
       "  <thead>\n",
       "    <tr style=\"text-align: right;\">\n",
       "      <th></th>\n",
       "      <th>company_id</th>\n",
       "      <th>join_date</th>\n",
       "      <th>cnt</th>\n",
       "      <th>tot_ppl</th>\n",
       "    </tr>\n",
       "  </thead>\n",
       "  <tbody>\n",
       "    <tr>\n",
       "      <th>0</th>\n",
       "      <td>1</td>\n",
       "      <td>2011-01-24</td>\n",
       "      <td>25</td>\n",
       "      <td>25</td>\n",
       "    </tr>\n",
       "    <tr>\n",
       "      <th>1</th>\n",
       "      <td>1</td>\n",
       "      <td>2011-01-25</td>\n",
       "      <td>2</td>\n",
       "      <td>27</td>\n",
       "    </tr>\n",
       "    <tr>\n",
       "      <th>2</th>\n",
       "      <td>1</td>\n",
       "      <td>2011-01-26</td>\n",
       "      <td>2</td>\n",
       "      <td>29</td>\n",
       "    </tr>\n",
       "    <tr>\n",
       "      <th>3</th>\n",
       "      <td>1</td>\n",
       "      <td>2011-01-31</td>\n",
       "      <td>30</td>\n",
       "      <td>59</td>\n",
       "    </tr>\n",
       "    <tr>\n",
       "      <th>4</th>\n",
       "      <td>1</td>\n",
       "      <td>2011-02-01</td>\n",
       "      <td>7</td>\n",
       "      <td>66</td>\n",
       "    </tr>\n",
       "  </tbody>\n",
       "</table>\n",
       "</div>"
      ],
      "text/plain": [
       "   company_id  join_date  cnt  tot_ppl\n",
       "0           1 2011-01-24   25       25\n",
       "1           1 2011-01-25    2       27\n",
       "2           1 2011-01-26    2       29\n",
       "3           1 2011-01-31   30       59\n",
       "4           1 2011-02-01    7       66"
      ]
     },
     "execution_count": 46,
     "metadata": {},
     "output_type": "execute_result"
    }
   ],
   "source": [
    "join_df.head()"
   ]
  },
  {
   "cell_type": "code",
   "execution_count": 44,
   "id": "ce8211b1-b19b-47e7-aa88-c90b4af71cfd",
   "metadata": {},
   "outputs": [],
   "source": [
    "dates = [(datetime(2011, 1, 24) + timedelta(days=i)).strftime('%Y-%m-%d') for i in range((datetime(2015, 12, 13) - datetime(2011, 1, 24)).days + 1)]"
   ]
  },
  {
   "cell_type": "code",
   "execution_count": 45,
   "id": "5ecf5179-8b0e-4705-afe3-620cb9bd8100",
   "metadata": {},
   "outputs": [
    {
     "data": {
      "text/plain": [
       "21420"
      ]
     },
     "execution_count": 45,
     "metadata": {},
     "output_type": "execute_result"
    }
   ],
   "source": [
    "len(dates)*12 # rows for base table, i.e not every day new hire will join"
   ]
  },
  {
   "cell_type": "code",
   "execution_count": null,
   "id": "516de98c-f4b6-48a5-a6a6-a83cac3dce99",
   "metadata": {},
   "outputs": [],
   "source": []
  },
  {
   "cell_type": "code",
   "execution_count": 36,
   "id": "6617294b-dc84-410d-b88b-cc911bb5a571",
   "metadata": {},
   "outputs": [
    {
     "data": {
      "text/html": [
       "<div>\n",
       "<style scoped>\n",
       "    .dataframe tbody tr th:only-of-type {\n",
       "        vertical-align: middle;\n",
       "    }\n",
       "\n",
       "    .dataframe tbody tr th {\n",
       "        vertical-align: top;\n",
       "    }\n",
       "\n",
       "    .dataframe thead th {\n",
       "        text-align: right;\n",
       "    }\n",
       "</style>\n",
       "<table border=\"1\" class=\"dataframe\">\n",
       "  <thead>\n",
       "    <tr style=\"text-align: right;\">\n",
       "      <th></th>\n",
       "      <th>day</th>\n",
       "    </tr>\n",
       "  </thead>\n",
       "  <tbody>\n",
       "    <tr>\n",
       "      <th>0</th>\n",
       "      <td>2011-01-24</td>\n",
       "    </tr>\n",
       "    <tr>\n",
       "      <th>1</th>\n",
       "      <td>2011-01-25</td>\n",
       "    </tr>\n",
       "    <tr>\n",
       "      <th>2</th>\n",
       "      <td>2011-01-26</td>\n",
       "    </tr>\n",
       "    <tr>\n",
       "      <th>3</th>\n",
       "      <td>2011-01-27</td>\n",
       "    </tr>\n",
       "    <tr>\n",
       "      <th>4</th>\n",
       "      <td>2011-01-28</td>\n",
       "    </tr>\n",
       "  </tbody>\n",
       "</table>\n",
       "</div>"
      ],
      "text/plain": [
       "          day\n",
       "0  2011-01-24\n",
       "1  2011-01-25\n",
       "2  2011-01-26\n",
       "3  2011-01-27\n",
       "4  2011-01-28"
      ]
     },
     "execution_count": 36,
     "metadata": {},
     "output_type": "execute_result"
    }
   ],
   "source": [
    "dates_df = pd.DataFrame(dates,columns=['day'])\n",
    "dates_df.head()"
   ]
  },
  {
   "cell_type": "code",
   "execution_count": 27,
   "id": "5f6ced4c-599e-4d6b-9cb8-e9e79fd4c75e",
   "metadata": {},
   "outputs": [
    {
     "data": {
      "text/plain": [
       "array([ 1,  2,  3,  4,  5,  6,  7,  8,  9, 10, 11, 12])"
      ]
     },
     "execution_count": 27,
     "metadata": {},
     "output_type": "execute_result"
    }
   ],
   "source": [
    "join_df.company_id.unique()"
   ]
  },
  {
   "cell_type": "code",
   "execution_count": 40,
   "id": "02b098ee-793d-43bf-bfff-fe43cb9a1748",
   "metadata": {},
   "outputs": [
    {
     "data": {
      "text/html": [
       "<div>\n",
       "<style scoped>\n",
       "    .dataframe tbody tr th:only-of-type {\n",
       "        vertical-align: middle;\n",
       "    }\n",
       "\n",
       "    .dataframe tbody tr th {\n",
       "        vertical-align: top;\n",
       "    }\n",
       "\n",
       "    .dataframe thead th {\n",
       "        text-align: right;\n",
       "    }\n",
       "</style>\n",
       "<table border=\"1\" class=\"dataframe\">\n",
       "  <thead>\n",
       "    <tr style=\"text-align: right;\">\n",
       "      <th></th>\n",
       "      <th>company_id</th>\n",
       "    </tr>\n",
       "  </thead>\n",
       "  <tbody>\n",
       "    <tr>\n",
       "      <th>0</th>\n",
       "      <td>1</td>\n",
       "    </tr>\n",
       "    <tr>\n",
       "      <th>1</th>\n",
       "      <td>2</td>\n",
       "    </tr>\n",
       "    <tr>\n",
       "      <th>2</th>\n",
       "      <td>3</td>\n",
       "    </tr>\n",
       "    <tr>\n",
       "      <th>3</th>\n",
       "      <td>4</td>\n",
       "    </tr>\n",
       "    <tr>\n",
       "      <th>4</th>\n",
       "      <td>5</td>\n",
       "    </tr>\n",
       "  </tbody>\n",
       "</table>\n",
       "</div>"
      ],
      "text/plain": [
       "   company_id\n",
       "0           1\n",
       "1           2\n",
       "2           3\n",
       "3           4\n",
       "4           5"
      ]
     },
     "execution_count": 40,
     "metadata": {},
     "output_type": "execute_result"
    }
   ],
   "source": [
    "company_df = pd.DataFrame(join_df.company_id.unique(),columns=['company_id'])\n",
    "company_df.head()"
   ]
  },
  {
   "cell_type": "code",
   "execution_count": 42,
   "id": "62114b8a-8161-4390-aadb-4d2a9b303a45",
   "metadata": {},
   "outputs": [
    {
     "data": {
      "text/html": [
       "<div>\n",
       "<style scoped>\n",
       "    .dataframe tbody tr th:only-of-type {\n",
       "        vertical-align: middle;\n",
       "    }\n",
       "\n",
       "    .dataframe tbody tr th {\n",
       "        vertical-align: top;\n",
       "    }\n",
       "\n",
       "    .dataframe thead th {\n",
       "        text-align: right;\n",
       "    }\n",
       "</style>\n",
       "<table border=\"1\" class=\"dataframe\">\n",
       "  <thead>\n",
       "    <tr style=\"text-align: right;\">\n",
       "      <th></th>\n",
       "      <th>day</th>\n",
       "      <th>company_id</th>\n",
       "    </tr>\n",
       "  </thead>\n",
       "  <tbody>\n",
       "    <tr>\n",
       "      <th>0</th>\n",
       "      <td>2011-01-24</td>\n",
       "      <td>1</td>\n",
       "    </tr>\n",
       "    <tr>\n",
       "      <th>1</th>\n",
       "      <td>2011-01-24</td>\n",
       "      <td>2</td>\n",
       "    </tr>\n",
       "    <tr>\n",
       "      <th>2</th>\n",
       "      <td>2011-01-24</td>\n",
       "      <td>3</td>\n",
       "    </tr>\n",
       "    <tr>\n",
       "      <th>3</th>\n",
       "      <td>2011-01-24</td>\n",
       "      <td>4</td>\n",
       "    </tr>\n",
       "    <tr>\n",
       "      <th>4</th>\n",
       "      <td>2011-01-24</td>\n",
       "      <td>5</td>\n",
       "    </tr>\n",
       "  </tbody>\n",
       "</table>\n",
       "</div>"
      ],
      "text/plain": [
       "          day  company_id\n",
       "0  2011-01-24           1\n",
       "1  2011-01-24           2\n",
       "2  2011-01-24           3\n",
       "3  2011-01-24           4\n",
       "4  2011-01-24           5"
      ]
     },
     "execution_count": 42,
     "metadata": {},
     "output_type": "execute_result"
    }
   ],
   "source": [
    "base_df = dates_df.merge(company_df, how='cross')\n",
    "base_df.head()"
   ]
  },
  {
   "cell_type": "code",
   "execution_count": 47,
   "id": "2535eed4-dec4-4a16-9f3e-2218ebaff1fc",
   "metadata": {},
   "outputs": [],
   "source": [
    "base_df['day']=pd.to_datetime(base_df['day'])"
   ]
  },
  {
   "cell_type": "code",
   "execution_count": 48,
   "id": "2b151278-35d5-4735-b814-8c553492dfc0",
   "metadata": {},
   "outputs": [
    {
     "data": {
      "text/plain": [
       "day           datetime64[ns]\n",
       "company_id             int64\n",
       "dtype: object"
      ]
     },
     "execution_count": 48,
     "metadata": {},
     "output_type": "execute_result"
    }
   ],
   "source": [
    "base_df.dtypes"
   ]
  },
  {
   "cell_type": "code",
   "execution_count": 43,
   "id": "9e47f073-d852-4801-b68b-f926f87b8c07",
   "metadata": {},
   "outputs": [
    {
     "data": {
      "text/plain": [
       "(21420, 2)"
      ]
     },
     "execution_count": 43,
     "metadata": {},
     "output_type": "execute_result"
    }
   ],
   "source": [
    "base_df.shape"
   ]
  },
  {
   "cell_type": "code",
   "execution_count": null,
   "id": "156702ce-b538-4088-8b40-33ac4539d88d",
   "metadata": {},
   "outputs": [],
   "source": []
  },
  {
   "cell_type": "code",
   "execution_count": 56,
   "id": "f530874e-7791-4174-914b-9937df0bb3a8",
   "metadata": {},
   "outputs": [
    {
     "data": {
      "text/html": [
       "<div>\n",
       "<style scoped>\n",
       "    .dataframe tbody tr th:only-of-type {\n",
       "        vertical-align: middle;\n",
       "    }\n",
       "\n",
       "    .dataframe tbody tr th {\n",
       "        vertical-align: top;\n",
       "    }\n",
       "\n",
       "    .dataframe thead th {\n",
       "        text-align: right;\n",
       "    }\n",
       "</style>\n",
       "<table border=\"1\" class=\"dataframe\">\n",
       "  <thead>\n",
       "    <tr style=\"text-align: right;\">\n",
       "      <th></th>\n",
       "      <th>day</th>\n",
       "      <th>company_id</th>\n",
       "      <th>join_date</th>\n",
       "      <th>cnt</th>\n",
       "      <th>tot_ppl</th>\n",
       "    </tr>\n",
       "  </thead>\n",
       "  <tbody>\n",
       "    <tr>\n",
       "      <th>0</th>\n",
       "      <td>2011-01-24</td>\n",
       "      <td>1</td>\n",
       "      <td>2011-01-24</td>\n",
       "      <td>25.0</td>\n",
       "      <td>25.0</td>\n",
       "    </tr>\n",
       "    <tr>\n",
       "      <th>1</th>\n",
       "      <td>2011-01-24</td>\n",
       "      <td>2</td>\n",
       "      <td>2011-01-24</td>\n",
       "      <td>17.0</td>\n",
       "      <td>17.0</td>\n",
       "    </tr>\n",
       "    <tr>\n",
       "      <th>2</th>\n",
       "      <td>2011-01-24</td>\n",
       "      <td>3</td>\n",
       "      <td>2011-01-24</td>\n",
       "      <td>9.0</td>\n",
       "      <td>9.0</td>\n",
       "    </tr>\n",
       "    <tr>\n",
       "      <th>3</th>\n",
       "      <td>2011-01-24</td>\n",
       "      <td>4</td>\n",
       "      <td>2011-01-24</td>\n",
       "      <td>12.0</td>\n",
       "      <td>12.0</td>\n",
       "    </tr>\n",
       "    <tr>\n",
       "      <th>4</th>\n",
       "      <td>2011-01-24</td>\n",
       "      <td>5</td>\n",
       "      <td>2011-01-24</td>\n",
       "      <td>5.0</td>\n",
       "      <td>5.0</td>\n",
       "    </tr>\n",
       "  </tbody>\n",
       "</table>\n",
       "</div>"
      ],
      "text/plain": [
       "         day  company_id  join_date   cnt  tot_ppl\n",
       "0 2011-01-24           1 2011-01-24  25.0     25.0\n",
       "1 2011-01-24           2 2011-01-24  17.0     17.0\n",
       "2 2011-01-24           3 2011-01-24   9.0      9.0\n",
       "3 2011-01-24           4 2011-01-24  12.0     12.0\n",
       "4 2011-01-24           5 2011-01-24   5.0      5.0"
      ]
     },
     "execution_count": 56,
     "metadata": {},
     "output_type": "execute_result"
    }
   ],
   "source": [
    "final_df = base_df.merge(join_df, how ='left',left_on=['day','company_id'], right_on = ['join_date','company_id'])\n",
    "final_df.head()"
   ]
  },
  {
   "cell_type": "code",
   "execution_count": 57,
   "id": "584e1b2c-d086-49f2-8f3d-0490ab3b99ca",
   "metadata": {},
   "outputs": [
    {
     "data": {
      "text/html": [
       "<div>\n",
       "<style scoped>\n",
       "    .dataframe tbody tr th:only-of-type {\n",
       "        vertical-align: middle;\n",
       "    }\n",
       "\n",
       "    .dataframe tbody tr th {\n",
       "        vertical-align: top;\n",
       "    }\n",
       "\n",
       "    .dataframe thead th {\n",
       "        text-align: right;\n",
       "    }\n",
       "</style>\n",
       "<table border=\"1\" class=\"dataframe\">\n",
       "  <thead>\n",
       "    <tr style=\"text-align: right;\">\n",
       "      <th></th>\n",
       "      <th>day</th>\n",
       "      <th>company_id</th>\n",
       "      <th>join_date</th>\n",
       "      <th>cnt</th>\n",
       "      <th>tot_ppl</th>\n",
       "    </tr>\n",
       "  </thead>\n",
       "  <tbody>\n",
       "    <tr>\n",
       "      <th>21415</th>\n",
       "      <td>2015-12-13</td>\n",
       "      <td>8</td>\n",
       "      <td>NaT</td>\n",
       "      <td>NaN</td>\n",
       "      <td>NaN</td>\n",
       "    </tr>\n",
       "    <tr>\n",
       "      <th>21416</th>\n",
       "      <td>2015-12-13</td>\n",
       "      <td>9</td>\n",
       "      <td>NaT</td>\n",
       "      <td>NaN</td>\n",
       "      <td>NaN</td>\n",
       "    </tr>\n",
       "    <tr>\n",
       "      <th>21417</th>\n",
       "      <td>2015-12-13</td>\n",
       "      <td>10</td>\n",
       "      <td>NaT</td>\n",
       "      <td>NaN</td>\n",
       "      <td>NaN</td>\n",
       "    </tr>\n",
       "    <tr>\n",
       "      <th>21418</th>\n",
       "      <td>2015-12-13</td>\n",
       "      <td>11</td>\n",
       "      <td>NaT</td>\n",
       "      <td>NaN</td>\n",
       "      <td>NaN</td>\n",
       "    </tr>\n",
       "    <tr>\n",
       "      <th>21419</th>\n",
       "      <td>2015-12-13</td>\n",
       "      <td>12</td>\n",
       "      <td>NaT</td>\n",
       "      <td>NaN</td>\n",
       "      <td>NaN</td>\n",
       "    </tr>\n",
       "  </tbody>\n",
       "</table>\n",
       "</div>"
      ],
      "text/plain": [
       "             day  company_id join_date  cnt  tot_ppl\n",
       "21415 2015-12-13           8       NaT  NaN      NaN\n",
       "21416 2015-12-13           9       NaT  NaN      NaN\n",
       "21417 2015-12-13          10       NaT  NaN      NaN\n",
       "21418 2015-12-13          11       NaT  NaN      NaN\n",
       "21419 2015-12-13          12       NaT  NaN      NaN"
      ]
     },
     "execution_count": 57,
     "metadata": {},
     "output_type": "execute_result"
    }
   ],
   "source": [
    "final_df.tail()"
   ]
  },
  {
   "cell_type": "code",
   "execution_count": 59,
   "id": "9f3ceea9-222a-413a-bc3e-0e46f0cf0e74",
   "metadata": {},
   "outputs": [],
   "source": [
    "final_df.sort_values(by=['company_id','day'],inplace=True)"
   ]
  },
  {
   "cell_type": "code",
   "execution_count": 61,
   "id": "1716f3dc-f915-4d64-bd3b-460125512838",
   "metadata": {},
   "outputs": [],
   "source": [
    "final_df['tot_ppl']=  final_df.groupby('company_id')['tot_ppl'].ffill()"
   ]
  },
  {
   "cell_type": "code",
   "execution_count": 68,
   "id": "9863b867-3e2c-48a6-a81a-95826cdd516e",
   "metadata": {},
   "outputs": [
    {
     "data": {
      "text/html": [
       "<div>\n",
       "<style scoped>\n",
       "    .dataframe tbody tr th:only-of-type {\n",
       "        vertical-align: middle;\n",
       "    }\n",
       "\n",
       "    .dataframe tbody tr th {\n",
       "        vertical-align: top;\n",
       "    }\n",
       "\n",
       "    .dataframe thead th {\n",
       "        text-align: right;\n",
       "    }\n",
       "</style>\n",
       "<table border=\"1\" class=\"dataframe\">\n",
       "  <thead>\n",
       "    <tr style=\"text-align: right;\">\n",
       "      <th></th>\n",
       "      <th>day</th>\n",
       "      <th>company_id</th>\n",
       "      <th>join_date</th>\n",
       "      <th>cnt</th>\n",
       "      <th>tot_ppl</th>\n",
       "    </tr>\n",
       "  </thead>\n",
       "  <tbody>\n",
       "    <tr>\n",
       "      <th>count</th>\n",
       "      <td>21420</td>\n",
       "      <td>21420.000000</td>\n",
       "      <td>5130</td>\n",
       "      <td>5130.000000</td>\n",
       "      <td>21335.000000</td>\n",
       "    </tr>\n",
       "    <tr>\n",
       "      <th>mean</th>\n",
       "      <td>2013-07-04 00:00:00</td>\n",
       "      <td>6.500000</td>\n",
       "      <td>2013-07-04 18:02:06.315789568</td>\n",
       "      <td>4.815205</td>\n",
       "      <td>1039.252543</td>\n",
       "    </tr>\n",
       "    <tr>\n",
       "      <th>min</th>\n",
       "      <td>2011-01-24 00:00:00</td>\n",
       "      <td>1.000000</td>\n",
       "      <td>2011-01-24 00:00:00</td>\n",
       "      <td>1.000000</td>\n",
       "      <td>1.000000</td>\n",
       "    </tr>\n",
       "    <tr>\n",
       "      <th>25%</th>\n",
       "      <td>2012-04-14 00:00:00</td>\n",
       "      <td>3.750000</td>\n",
       "      <td>2012-04-16 06:00:00</td>\n",
       "      <td>1.000000</td>\n",
       "      <td>160.000000</td>\n",
       "    </tr>\n",
       "    <tr>\n",
       "      <th>50%</th>\n",
       "      <td>2013-07-04 00:00:00</td>\n",
       "      <td>6.500000</td>\n",
       "      <td>2013-07-08 00:00:00</td>\n",
       "      <td>2.000000</td>\n",
       "      <td>628.000000</td>\n",
       "    </tr>\n",
       "    <tr>\n",
       "      <th>75%</th>\n",
       "      <td>2014-09-23 00:00:00</td>\n",
       "      <td>9.250000</td>\n",
       "      <td>2014-09-22 00:00:00</td>\n",
       "      <td>5.000000</td>\n",
       "      <td>1191.500000</td>\n",
       "    </tr>\n",
       "    <tr>\n",
       "      <th>max</th>\n",
       "      <td>2015-12-13 00:00:00</td>\n",
       "      <td>12.000000</td>\n",
       "      <td>2015-12-10 00:00:00</td>\n",
       "      <td>44.000000</td>\n",
       "      <td>8486.000000</td>\n",
       "    </tr>\n",
       "    <tr>\n",
       "      <th>std</th>\n",
       "      <td>NaN</td>\n",
       "      <td>3.452133</td>\n",
       "      <td>NaN</td>\n",
       "      <td>6.452955</td>\n",
       "      <td>1427.199445</td>\n",
       "    </tr>\n",
       "  </tbody>\n",
       "</table>\n",
       "</div>"
      ],
      "text/plain": [
       "                       day    company_id                      join_date  \\\n",
       "count                21420  21420.000000                           5130   \n",
       "mean   2013-07-04 00:00:00      6.500000  2013-07-04 18:02:06.315789568   \n",
       "min    2011-01-24 00:00:00      1.000000            2011-01-24 00:00:00   \n",
       "25%    2012-04-14 00:00:00      3.750000            2012-04-16 06:00:00   \n",
       "50%    2013-07-04 00:00:00      6.500000            2013-07-08 00:00:00   \n",
       "75%    2014-09-23 00:00:00      9.250000            2014-09-22 00:00:00   \n",
       "max    2015-12-13 00:00:00     12.000000            2015-12-10 00:00:00   \n",
       "std                    NaN      3.452133                            NaN   \n",
       "\n",
       "               cnt       tot_ppl  \n",
       "count  5130.000000  21335.000000  \n",
       "mean      4.815205   1039.252543  \n",
       "min       1.000000      1.000000  \n",
       "25%       1.000000    160.000000  \n",
       "50%       2.000000    628.000000  \n",
       "75%       5.000000   1191.500000  \n",
       "max      44.000000   8486.000000  \n",
       "std       6.452955   1427.199445  "
      ]
     },
     "execution_count": 68,
     "metadata": {},
     "output_type": "execute_result"
    }
   ],
   "source": [
    "final_df.describe(include='all')"
   ]
  },
  {
   "cell_type": "code",
   "execution_count": 70,
   "id": "a4c7e5db-9991-45f3-b8bb-b6d3722708e8",
   "metadata": {},
   "outputs": [],
   "source": [
    "final_df['tot_ppl']= final_df['tot_ppl'].fillna(0)"
   ]
  },
  {
   "cell_type": "code",
   "execution_count": 71,
   "id": "6d569156-5ce4-45f6-91c4-503047405e56",
   "metadata": {},
   "outputs": [
    {
     "data": {
      "text/html": [
       "<div>\n",
       "<style scoped>\n",
       "    .dataframe tbody tr th:only-of-type {\n",
       "        vertical-align: middle;\n",
       "    }\n",
       "\n",
       "    .dataframe tbody tr th {\n",
       "        vertical-align: top;\n",
       "    }\n",
       "\n",
       "    .dataframe thead th {\n",
       "        text-align: right;\n",
       "    }\n",
       "</style>\n",
       "<table border=\"1\" class=\"dataframe\">\n",
       "  <thead>\n",
       "    <tr style=\"text-align: right;\">\n",
       "      <th></th>\n",
       "      <th>day</th>\n",
       "      <th>company_id</th>\n",
       "      <th>join_date</th>\n",
       "      <th>cnt</th>\n",
       "      <th>tot_ppl</th>\n",
       "    </tr>\n",
       "  </thead>\n",
       "  <tbody>\n",
       "    <tr>\n",
       "      <th>count</th>\n",
       "      <td>21420</td>\n",
       "      <td>21420.000000</td>\n",
       "      <td>5130</td>\n",
       "      <td>5130.000000</td>\n",
       "      <td>21420.000000</td>\n",
       "    </tr>\n",
       "    <tr>\n",
       "      <th>mean</th>\n",
       "      <td>2013-07-04 00:00:00</td>\n",
       "      <td>6.500000</td>\n",
       "      <td>2013-07-04 18:02:06.315789568</td>\n",
       "      <td>4.815205</td>\n",
       "      <td>1035.128525</td>\n",
       "    </tr>\n",
       "    <tr>\n",
       "      <th>min</th>\n",
       "      <td>2011-01-24 00:00:00</td>\n",
       "      <td>1.000000</td>\n",
       "      <td>2011-01-24 00:00:00</td>\n",
       "      <td>1.000000</td>\n",
       "      <td>0.000000</td>\n",
       "    </tr>\n",
       "    <tr>\n",
       "      <th>25%</th>\n",
       "      <td>2012-04-14 00:00:00</td>\n",
       "      <td>3.750000</td>\n",
       "      <td>2012-04-16 06:00:00</td>\n",
       "      <td>1.000000</td>\n",
       "      <td>154.000000</td>\n",
       "    </tr>\n",
       "    <tr>\n",
       "      <th>50%</th>\n",
       "      <td>2013-07-04 00:00:00</td>\n",
       "      <td>6.500000</td>\n",
       "      <td>2013-07-08 00:00:00</td>\n",
       "      <td>2.000000</td>\n",
       "      <td>624.000000</td>\n",
       "    </tr>\n",
       "    <tr>\n",
       "      <th>75%</th>\n",
       "      <td>2014-09-23 00:00:00</td>\n",
       "      <td>9.250000</td>\n",
       "      <td>2014-09-22 00:00:00</td>\n",
       "      <td>5.000000</td>\n",
       "      <td>1188.500000</td>\n",
       "    </tr>\n",
       "    <tr>\n",
       "      <th>max</th>\n",
       "      <td>2015-12-13 00:00:00</td>\n",
       "      <td>12.000000</td>\n",
       "      <td>2015-12-10 00:00:00</td>\n",
       "      <td>44.000000</td>\n",
       "      <td>8486.000000</td>\n",
       "    </tr>\n",
       "    <tr>\n",
       "      <th>std</th>\n",
       "      <td>NaN</td>\n",
       "      <td>3.452133</td>\n",
       "      <td>NaN</td>\n",
       "      <td>6.452955</td>\n",
       "      <td>1425.862559</td>\n",
       "    </tr>\n",
       "  </tbody>\n",
       "</table>\n",
       "</div>"
      ],
      "text/plain": [
       "                       day    company_id                      join_date  \\\n",
       "count                21420  21420.000000                           5130   \n",
       "mean   2013-07-04 00:00:00      6.500000  2013-07-04 18:02:06.315789568   \n",
       "min    2011-01-24 00:00:00      1.000000            2011-01-24 00:00:00   \n",
       "25%    2012-04-14 00:00:00      3.750000            2012-04-16 06:00:00   \n",
       "50%    2013-07-04 00:00:00      6.500000            2013-07-08 00:00:00   \n",
       "75%    2014-09-23 00:00:00      9.250000            2014-09-22 00:00:00   \n",
       "max    2015-12-13 00:00:00     12.000000            2015-12-10 00:00:00   \n",
       "std                    NaN      3.452133                            NaN   \n",
       "\n",
       "               cnt       tot_ppl  \n",
       "count  5130.000000  21420.000000  \n",
       "mean      4.815205   1035.128525  \n",
       "min       1.000000      0.000000  \n",
       "25%       1.000000    154.000000  \n",
       "50%       2.000000    624.000000  \n",
       "75%       5.000000   1188.500000  \n",
       "max      44.000000   8486.000000  \n",
       "std       6.452955   1425.862559  "
      ]
     },
     "execution_count": 71,
     "metadata": {},
     "output_type": "execute_result"
    }
   ],
   "source": [
    "final_df.describe(include='all')"
   ]
  },
  {
   "cell_type": "code",
   "execution_count": 72,
   "id": "776151f1-5cfd-41c1-9e4b-59cbd3491c24",
   "metadata": {},
   "outputs": [
    {
     "data": {
      "text/html": [
       "<div>\n",
       "<style scoped>\n",
       "    .dataframe tbody tr th:only-of-type {\n",
       "        vertical-align: middle;\n",
       "    }\n",
       "\n",
       "    .dataframe tbody tr th {\n",
       "        vertical-align: top;\n",
       "    }\n",
       "\n",
       "    .dataframe thead th {\n",
       "        text-align: right;\n",
       "    }\n",
       "</style>\n",
       "<table border=\"1\" class=\"dataframe\">\n",
       "  <thead>\n",
       "    <tr style=\"text-align: right;\">\n",
       "      <th></th>\n",
       "      <th>company_id</th>\n",
       "      <th>quit_date</th>\n",
       "      <th>quit_cnt</th>\n",
       "    </tr>\n",
       "  </thead>\n",
       "  <tbody>\n",
       "    <tr>\n",
       "      <th>0</th>\n",
       "      <td>1</td>\n",
       "      <td>2011-10-21</td>\n",
       "      <td>1</td>\n",
       "    </tr>\n",
       "    <tr>\n",
       "      <th>1</th>\n",
       "      <td>1</td>\n",
       "      <td>2011-11-11</td>\n",
       "      <td>1</td>\n",
       "    </tr>\n",
       "    <tr>\n",
       "      <th>2</th>\n",
       "      <td>1</td>\n",
       "      <td>2011-11-22</td>\n",
       "      <td>1</td>\n",
       "    </tr>\n",
       "    <tr>\n",
       "      <th>3</th>\n",
       "      <td>1</td>\n",
       "      <td>2011-11-25</td>\n",
       "      <td>1</td>\n",
       "    </tr>\n",
       "    <tr>\n",
       "      <th>4</th>\n",
       "      <td>1</td>\n",
       "      <td>2011-12-09</td>\n",
       "      <td>1</td>\n",
       "    </tr>\n",
       "  </tbody>\n",
       "</table>\n",
       "</div>"
      ],
      "text/plain": [
       "   company_id  quit_date  quit_cnt\n",
       "0           1 2011-10-21         1\n",
       "1           1 2011-11-11         1\n",
       "2           1 2011-11-22         1\n",
       "3           1 2011-11-25         1\n",
       "4           1 2011-12-09         1"
      ]
     },
     "execution_count": 72,
     "metadata": {},
     "output_type": "execute_result"
    }
   ],
   "source": [
    "quit_df = df.groupby(['company_id','quit_date'])['employee_id'].count().reset_index(name='quit_cnt')\\\n",
    ".sort_values(by=['company_id','quit_date'])\n",
    "quit_df.head()"
   ]
  },
  {
   "cell_type": "code",
   "execution_count": 73,
   "id": "88d790f8-b768-45e3-aeb3-ab2ee333527f",
   "metadata": {},
   "outputs": [
    {
     "data": {
      "text/html": [
       "<div>\n",
       "<style scoped>\n",
       "    .dataframe tbody tr th:only-of-type {\n",
       "        vertical-align: middle;\n",
       "    }\n",
       "\n",
       "    .dataframe tbody tr th {\n",
       "        vertical-align: top;\n",
       "    }\n",
       "\n",
       "    .dataframe thead th {\n",
       "        text-align: right;\n",
       "    }\n",
       "</style>\n",
       "<table border=\"1\" class=\"dataframe\">\n",
       "  <thead>\n",
       "    <tr style=\"text-align: right;\">\n",
       "      <th></th>\n",
       "      <th>company_id</th>\n",
       "      <th>quit_date</th>\n",
       "      <th>quit_cnt</th>\n",
       "      <th>quit_total_ppl</th>\n",
       "    </tr>\n",
       "  </thead>\n",
       "  <tbody>\n",
       "    <tr>\n",
       "      <th>0</th>\n",
       "      <td>1</td>\n",
       "      <td>2011-10-21</td>\n",
       "      <td>1</td>\n",
       "      <td>1</td>\n",
       "    </tr>\n",
       "    <tr>\n",
       "      <th>1</th>\n",
       "      <td>1</td>\n",
       "      <td>2011-11-11</td>\n",
       "      <td>1</td>\n",
       "      <td>2</td>\n",
       "    </tr>\n",
       "    <tr>\n",
       "      <th>2</th>\n",
       "      <td>1</td>\n",
       "      <td>2011-11-22</td>\n",
       "      <td>1</td>\n",
       "      <td>3</td>\n",
       "    </tr>\n",
       "    <tr>\n",
       "      <th>3</th>\n",
       "      <td>1</td>\n",
       "      <td>2011-11-25</td>\n",
       "      <td>1</td>\n",
       "      <td>4</td>\n",
       "    </tr>\n",
       "    <tr>\n",
       "      <th>4</th>\n",
       "      <td>1</td>\n",
       "      <td>2011-12-09</td>\n",
       "      <td>1</td>\n",
       "      <td>5</td>\n",
       "    </tr>\n",
       "  </tbody>\n",
       "</table>\n",
       "</div>"
      ],
      "text/plain": [
       "   company_id  quit_date  quit_cnt  quit_total_ppl\n",
       "0           1 2011-10-21         1               1\n",
       "1           1 2011-11-11         1               2\n",
       "2           1 2011-11-22         1               3\n",
       "3           1 2011-11-25         1               4\n",
       "4           1 2011-12-09         1               5"
      ]
     },
     "execution_count": 73,
     "metadata": {},
     "output_type": "execute_result"
    }
   ],
   "source": [
    "quit_df['quit_total_ppl']=quit_df.groupby('company_id')['quit_cnt'].cumsum()\n",
    "quit_df.head()"
   ]
  },
  {
   "cell_type": "code",
   "execution_count": 74,
   "id": "876fd702-8b81-44d2-9825-1ec841ca61c4",
   "metadata": {},
   "outputs": [
    {
     "data": {
      "text/html": [
       "<div>\n",
       "<style scoped>\n",
       "    .dataframe tbody tr th:only-of-type {\n",
       "        vertical-align: middle;\n",
       "    }\n",
       "\n",
       "    .dataframe tbody tr th {\n",
       "        vertical-align: top;\n",
       "    }\n",
       "\n",
       "    .dataframe thead th {\n",
       "        text-align: right;\n",
       "    }\n",
       "</style>\n",
       "<table border=\"1\" class=\"dataframe\">\n",
       "  <thead>\n",
       "    <tr style=\"text-align: right;\">\n",
       "      <th></th>\n",
       "      <th>day</th>\n",
       "      <th>company_id</th>\n",
       "      <th>join_date</th>\n",
       "      <th>cnt</th>\n",
       "      <th>tot_ppl</th>\n",
       "      <th>quit_date</th>\n",
       "      <th>quit_cnt</th>\n",
       "      <th>quit_total_ppl</th>\n",
       "    </tr>\n",
       "  </thead>\n",
       "  <tbody>\n",
       "    <tr>\n",
       "      <th>0</th>\n",
       "      <td>2011-01-24</td>\n",
       "      <td>1</td>\n",
       "      <td>2011-01-24</td>\n",
       "      <td>25.0</td>\n",
       "      <td>25.0</td>\n",
       "      <td>NaT</td>\n",
       "      <td>NaN</td>\n",
       "      <td>NaN</td>\n",
       "    </tr>\n",
       "    <tr>\n",
       "      <th>1</th>\n",
       "      <td>2011-01-25</td>\n",
       "      <td>1</td>\n",
       "      <td>2011-01-25</td>\n",
       "      <td>2.0</td>\n",
       "      <td>27.0</td>\n",
       "      <td>NaT</td>\n",
       "      <td>NaN</td>\n",
       "      <td>NaN</td>\n",
       "    </tr>\n",
       "    <tr>\n",
       "      <th>2</th>\n",
       "      <td>2011-01-26</td>\n",
       "      <td>1</td>\n",
       "      <td>2011-01-26</td>\n",
       "      <td>2.0</td>\n",
       "      <td>29.0</td>\n",
       "      <td>NaT</td>\n",
       "      <td>NaN</td>\n",
       "      <td>NaN</td>\n",
       "    </tr>\n",
       "    <tr>\n",
       "      <th>3</th>\n",
       "      <td>2011-01-27</td>\n",
       "      <td>1</td>\n",
       "      <td>NaT</td>\n",
       "      <td>NaN</td>\n",
       "      <td>29.0</td>\n",
       "      <td>NaT</td>\n",
       "      <td>NaN</td>\n",
       "      <td>NaN</td>\n",
       "    </tr>\n",
       "    <tr>\n",
       "      <th>4</th>\n",
       "      <td>2011-01-28</td>\n",
       "      <td>1</td>\n",
       "      <td>NaT</td>\n",
       "      <td>NaN</td>\n",
       "      <td>29.0</td>\n",
       "      <td>NaT</td>\n",
       "      <td>NaN</td>\n",
       "      <td>NaN</td>\n",
       "    </tr>\n",
       "  </tbody>\n",
       "</table>\n",
       "</div>"
      ],
      "text/plain": [
       "         day  company_id  join_date   cnt  tot_ppl quit_date  quit_cnt  \\\n",
       "0 2011-01-24           1 2011-01-24  25.0     25.0       NaT       NaN   \n",
       "1 2011-01-25           1 2011-01-25   2.0     27.0       NaT       NaN   \n",
       "2 2011-01-26           1 2011-01-26   2.0     29.0       NaT       NaN   \n",
       "3 2011-01-27           1        NaT   NaN     29.0       NaT       NaN   \n",
       "4 2011-01-28           1        NaT   NaN     29.0       NaT       NaN   \n",
       "\n",
       "   quit_total_ppl  \n",
       "0             NaN  \n",
       "1             NaN  \n",
       "2             NaN  \n",
       "3             NaN  \n",
       "4             NaN  "
      ]
     },
     "execution_count": 74,
     "metadata": {},
     "output_type": "execute_result"
    }
   ],
   "source": [
    "final_df_v2 = final_df.merge(quit_df, how='left', left_on=['company_id','day'], right_on=['company_id','quit_date'])\n",
    "final_df_v2.head()"
   ]
  },
  {
   "cell_type": "code",
   "execution_count": 78,
   "id": "65d36847-4d48-4172-bb9f-3efbe5631a5f",
   "metadata": {},
   "outputs": [],
   "source": [
    "final_df_v2['quit_total_ppl'] = final_df_v2.groupby('company_id')['quit_total_ppl'].ffill()"
   ]
  },
  {
   "cell_type": "code",
   "execution_count": 79,
   "id": "a2784fe8-e136-4dd9-aed9-32000a031904",
   "metadata": {},
   "outputs": [
    {
     "data": {
      "text/html": [
       "<div>\n",
       "<style scoped>\n",
       "    .dataframe tbody tr th:only-of-type {\n",
       "        vertical-align: middle;\n",
       "    }\n",
       "\n",
       "    .dataframe tbody tr th {\n",
       "        vertical-align: top;\n",
       "    }\n",
       "\n",
       "    .dataframe thead th {\n",
       "        text-align: right;\n",
       "    }\n",
       "</style>\n",
       "<table border=\"1\" class=\"dataframe\">\n",
       "  <thead>\n",
       "    <tr style=\"text-align: right;\">\n",
       "      <th></th>\n",
       "      <th>day</th>\n",
       "      <th>company_id</th>\n",
       "      <th>join_date</th>\n",
       "      <th>cnt</th>\n",
       "      <th>tot_ppl</th>\n",
       "      <th>quit_date</th>\n",
       "      <th>quit_cnt</th>\n",
       "      <th>quit_total_ppl</th>\n",
       "    </tr>\n",
       "  </thead>\n",
       "  <tbody>\n",
       "    <tr>\n",
       "      <th>count</th>\n",
       "      <td>21420</td>\n",
       "      <td>21420.000000</td>\n",
       "      <td>5130</td>\n",
       "      <td>5130.000000</td>\n",
       "      <td>21420.000000</td>\n",
       "      <td>2724</td>\n",
       "      <td>2724.000000</td>\n",
       "      <td>17306.000000</td>\n",
       "    </tr>\n",
       "    <tr>\n",
       "      <th>mean</th>\n",
       "      <td>2013-07-04 00:00:00</td>\n",
       "      <td>6.500000</td>\n",
       "      <td>2013-07-04 18:02:06.315789568</td>\n",
       "      <td>4.815205</td>\n",
       "      <td>1035.128525</td>\n",
       "      <td>2014-01-29 16:44:56.035242240</td>\n",
       "      <td>4.959618</td>\n",
       "      <td>460.789957</td>\n",
       "    </tr>\n",
       "    <tr>\n",
       "      <th>min</th>\n",
       "      <td>2011-01-24 00:00:00</td>\n",
       "      <td>1.000000</td>\n",
       "      <td>2011-01-24 00:00:00</td>\n",
       "      <td>1.000000</td>\n",
       "      <td>0.000000</td>\n",
       "      <td>2011-10-13 00:00:00</td>\n",
       "      <td>1.000000</td>\n",
       "      <td>1.000000</td>\n",
       "    </tr>\n",
       "    <tr>\n",
       "      <th>25%</th>\n",
       "      <td>2012-04-14 00:00:00</td>\n",
       "      <td>3.750000</td>\n",
       "      <td>2012-04-16 06:00:00</td>\n",
       "      <td>1.000000</td>\n",
       "      <td>154.000000</td>\n",
       "      <td>2013-02-18 18:00:00</td>\n",
       "      <td>1.000000</td>\n",
       "      <td>41.000000</td>\n",
       "    </tr>\n",
       "    <tr>\n",
       "      <th>50%</th>\n",
       "      <td>2013-07-04 00:00:00</td>\n",
       "      <td>6.500000</td>\n",
       "      <td>2013-07-08 00:00:00</td>\n",
       "      <td>2.000000</td>\n",
       "      <td>624.000000</td>\n",
       "      <td>2014-02-14 00:00:00</td>\n",
       "      <td>3.000000</td>\n",
       "      <td>242.000000</td>\n",
       "    </tr>\n",
       "    <tr>\n",
       "      <th>75%</th>\n",
       "      <td>2014-09-23 00:00:00</td>\n",
       "      <td>9.250000</td>\n",
       "      <td>2014-09-22 00:00:00</td>\n",
       "      <td>5.000000</td>\n",
       "      <td>1188.500000</td>\n",
       "      <td>2015-01-22 00:00:00</td>\n",
       "      <td>6.000000</td>\n",
       "      <td>552.000000</td>\n",
       "    </tr>\n",
       "    <tr>\n",
       "      <th>max</th>\n",
       "      <td>2015-12-13 00:00:00</td>\n",
       "      <td>12.000000</td>\n",
       "      <td>2015-12-10 00:00:00</td>\n",
       "      <td>44.000000</td>\n",
       "      <td>8486.000000</td>\n",
       "      <td>2015-12-09 00:00:00</td>\n",
       "      <td>38.000000</td>\n",
       "      <td>4621.000000</td>\n",
       "    </tr>\n",
       "    <tr>\n",
       "      <th>std</th>\n",
       "      <td>NaN</td>\n",
       "      <td>3.452133</td>\n",
       "      <td>NaN</td>\n",
       "      <td>6.452955</td>\n",
       "      <td>1425.862559</td>\n",
       "      <td>NaN</td>\n",
       "      <td>6.089598</td>\n",
       "      <td>695.751301</td>\n",
       "    </tr>\n",
       "  </tbody>\n",
       "</table>\n",
       "</div>"
      ],
      "text/plain": [
       "                       day    company_id                      join_date  \\\n",
       "count                21420  21420.000000                           5130   \n",
       "mean   2013-07-04 00:00:00      6.500000  2013-07-04 18:02:06.315789568   \n",
       "min    2011-01-24 00:00:00      1.000000            2011-01-24 00:00:00   \n",
       "25%    2012-04-14 00:00:00      3.750000            2012-04-16 06:00:00   \n",
       "50%    2013-07-04 00:00:00      6.500000            2013-07-08 00:00:00   \n",
       "75%    2014-09-23 00:00:00      9.250000            2014-09-22 00:00:00   \n",
       "max    2015-12-13 00:00:00     12.000000            2015-12-10 00:00:00   \n",
       "std                    NaN      3.452133                            NaN   \n",
       "\n",
       "               cnt       tot_ppl                      quit_date     quit_cnt  \\\n",
       "count  5130.000000  21420.000000                           2724  2724.000000   \n",
       "mean      4.815205   1035.128525  2014-01-29 16:44:56.035242240     4.959618   \n",
       "min       1.000000      0.000000            2011-10-13 00:00:00     1.000000   \n",
       "25%       1.000000    154.000000            2013-02-18 18:00:00     1.000000   \n",
       "50%       2.000000    624.000000            2014-02-14 00:00:00     3.000000   \n",
       "75%       5.000000   1188.500000            2015-01-22 00:00:00     6.000000   \n",
       "max      44.000000   8486.000000            2015-12-09 00:00:00    38.000000   \n",
       "std       6.452955   1425.862559                            NaN     6.089598   \n",
       "\n",
       "       quit_total_ppl  \n",
       "count    17306.000000  \n",
       "mean       460.789957  \n",
       "min          1.000000  \n",
       "25%         41.000000  \n",
       "50%        242.000000  \n",
       "75%        552.000000  \n",
       "max       4621.000000  \n",
       "std        695.751301  "
      ]
     },
     "execution_count": 79,
     "metadata": {},
     "output_type": "execute_result"
    }
   ],
   "source": [
    "final_df_v2.describe(include='all')"
   ]
  },
  {
   "cell_type": "code",
   "execution_count": 83,
   "id": "decb752d-9b2c-4415-ae66-7a65dae2dd20",
   "metadata": {},
   "outputs": [],
   "source": [
    "final_df_v2['quit_total_ppl']=final_df_v2['quit_total_ppl'].fillna(0)"
   ]
  },
  {
   "cell_type": "code",
   "execution_count": 84,
   "id": "c1a8aa08-2df1-4d1c-bf67-02147c31c6e8",
   "metadata": {},
   "outputs": [
    {
     "data": {
      "text/html": [
       "<div>\n",
       "<style scoped>\n",
       "    .dataframe tbody tr th:only-of-type {\n",
       "        vertical-align: middle;\n",
       "    }\n",
       "\n",
       "    .dataframe tbody tr th {\n",
       "        vertical-align: top;\n",
       "    }\n",
       "\n",
       "    .dataframe thead th {\n",
       "        text-align: right;\n",
       "    }\n",
       "</style>\n",
       "<table border=\"1\" class=\"dataframe\">\n",
       "  <thead>\n",
       "    <tr style=\"text-align: right;\">\n",
       "      <th></th>\n",
       "      <th>day</th>\n",
       "      <th>company_id</th>\n",
       "      <th>join_date</th>\n",
       "      <th>cnt</th>\n",
       "      <th>tot_ppl</th>\n",
       "      <th>quit_date</th>\n",
       "      <th>quit_cnt</th>\n",
       "      <th>quit_total_ppl</th>\n",
       "    </tr>\n",
       "  </thead>\n",
       "  <tbody>\n",
       "    <tr>\n",
       "      <th>0</th>\n",
       "      <td>2011-01-24</td>\n",
       "      <td>1</td>\n",
       "      <td>2011-01-24</td>\n",
       "      <td>25.0</td>\n",
       "      <td>25.0</td>\n",
       "      <td>NaT</td>\n",
       "      <td>NaN</td>\n",
       "      <td>0.0</td>\n",
       "    </tr>\n",
       "    <tr>\n",
       "      <th>1</th>\n",
       "      <td>2011-01-25</td>\n",
       "      <td>1</td>\n",
       "      <td>2011-01-25</td>\n",
       "      <td>2.0</td>\n",
       "      <td>27.0</td>\n",
       "      <td>NaT</td>\n",
       "      <td>NaN</td>\n",
       "      <td>0.0</td>\n",
       "    </tr>\n",
       "    <tr>\n",
       "      <th>2</th>\n",
       "      <td>2011-01-26</td>\n",
       "      <td>1</td>\n",
       "      <td>2011-01-26</td>\n",
       "      <td>2.0</td>\n",
       "      <td>29.0</td>\n",
       "      <td>NaT</td>\n",
       "      <td>NaN</td>\n",
       "      <td>0.0</td>\n",
       "    </tr>\n",
       "    <tr>\n",
       "      <th>3</th>\n",
       "      <td>2011-01-27</td>\n",
       "      <td>1</td>\n",
       "      <td>NaT</td>\n",
       "      <td>NaN</td>\n",
       "      <td>29.0</td>\n",
       "      <td>NaT</td>\n",
       "      <td>NaN</td>\n",
       "      <td>0.0</td>\n",
       "    </tr>\n",
       "    <tr>\n",
       "      <th>4</th>\n",
       "      <td>2011-01-28</td>\n",
       "      <td>1</td>\n",
       "      <td>NaT</td>\n",
       "      <td>NaN</td>\n",
       "      <td>29.0</td>\n",
       "      <td>NaT</td>\n",
       "      <td>NaN</td>\n",
       "      <td>0.0</td>\n",
       "    </tr>\n",
       "  </tbody>\n",
       "</table>\n",
       "</div>"
      ],
      "text/plain": [
       "         day  company_id  join_date   cnt  tot_ppl quit_date  quit_cnt  \\\n",
       "0 2011-01-24           1 2011-01-24  25.0     25.0       NaT       NaN   \n",
       "1 2011-01-25           1 2011-01-25   2.0     27.0       NaT       NaN   \n",
       "2 2011-01-26           1 2011-01-26   2.0     29.0       NaT       NaN   \n",
       "3 2011-01-27           1        NaT   NaN     29.0       NaT       NaN   \n",
       "4 2011-01-28           1        NaT   NaN     29.0       NaT       NaN   \n",
       "\n",
       "   quit_total_ppl  \n",
       "0             0.0  \n",
       "1             0.0  \n",
       "2             0.0  \n",
       "3             0.0  \n",
       "4             0.0  "
      ]
     },
     "execution_count": 84,
     "metadata": {},
     "output_type": "execute_result"
    }
   ],
   "source": [
    "final_df_v2.head()"
   ]
  },
  {
   "cell_type": "code",
   "execution_count": 85,
   "id": "20aa9eff-7585-43e3-9aa8-ff168f66d315",
   "metadata": {},
   "outputs": [
    {
     "data": {
      "text/html": [
       "<div>\n",
       "<style scoped>\n",
       "    .dataframe tbody tr th:only-of-type {\n",
       "        vertical-align: middle;\n",
       "    }\n",
       "\n",
       "    .dataframe tbody tr th {\n",
       "        vertical-align: top;\n",
       "    }\n",
       "\n",
       "    .dataframe thead th {\n",
       "        text-align: right;\n",
       "    }\n",
       "</style>\n",
       "<table border=\"1\" class=\"dataframe\">\n",
       "  <thead>\n",
       "    <tr style=\"text-align: right;\">\n",
       "      <th></th>\n",
       "      <th>day</th>\n",
       "      <th>company_id</th>\n",
       "      <th>join_date</th>\n",
       "      <th>cnt</th>\n",
       "      <th>tot_ppl</th>\n",
       "      <th>quit_date</th>\n",
       "      <th>quit_cnt</th>\n",
       "      <th>quit_total_ppl</th>\n",
       "      <th>employee_headcount</th>\n",
       "    </tr>\n",
       "  </thead>\n",
       "  <tbody>\n",
       "    <tr>\n",
       "      <th>0</th>\n",
       "      <td>2011-01-24</td>\n",
       "      <td>1</td>\n",
       "      <td>2011-01-24</td>\n",
       "      <td>25.0</td>\n",
       "      <td>25.0</td>\n",
       "      <td>NaT</td>\n",
       "      <td>NaN</td>\n",
       "      <td>0.0</td>\n",
       "      <td>25.0</td>\n",
       "    </tr>\n",
       "    <tr>\n",
       "      <th>1</th>\n",
       "      <td>2011-01-25</td>\n",
       "      <td>1</td>\n",
       "      <td>2011-01-25</td>\n",
       "      <td>2.0</td>\n",
       "      <td>27.0</td>\n",
       "      <td>NaT</td>\n",
       "      <td>NaN</td>\n",
       "      <td>0.0</td>\n",
       "      <td>27.0</td>\n",
       "    </tr>\n",
       "    <tr>\n",
       "      <th>2</th>\n",
       "      <td>2011-01-26</td>\n",
       "      <td>1</td>\n",
       "      <td>2011-01-26</td>\n",
       "      <td>2.0</td>\n",
       "      <td>29.0</td>\n",
       "      <td>NaT</td>\n",
       "      <td>NaN</td>\n",
       "      <td>0.0</td>\n",
       "      <td>29.0</td>\n",
       "    </tr>\n",
       "    <tr>\n",
       "      <th>3</th>\n",
       "      <td>2011-01-27</td>\n",
       "      <td>1</td>\n",
       "      <td>NaT</td>\n",
       "      <td>NaN</td>\n",
       "      <td>29.0</td>\n",
       "      <td>NaT</td>\n",
       "      <td>NaN</td>\n",
       "      <td>0.0</td>\n",
       "      <td>29.0</td>\n",
       "    </tr>\n",
       "    <tr>\n",
       "      <th>4</th>\n",
       "      <td>2011-01-28</td>\n",
       "      <td>1</td>\n",
       "      <td>NaT</td>\n",
       "      <td>NaN</td>\n",
       "      <td>29.0</td>\n",
       "      <td>NaT</td>\n",
       "      <td>NaN</td>\n",
       "      <td>0.0</td>\n",
       "      <td>29.0</td>\n",
       "    </tr>\n",
       "  </tbody>\n",
       "</table>\n",
       "</div>"
      ],
      "text/plain": [
       "         day  company_id  join_date   cnt  tot_ppl quit_date  quit_cnt  \\\n",
       "0 2011-01-24           1 2011-01-24  25.0     25.0       NaT       NaN   \n",
       "1 2011-01-25           1 2011-01-25   2.0     27.0       NaT       NaN   \n",
       "2 2011-01-26           1 2011-01-26   2.0     29.0       NaT       NaN   \n",
       "3 2011-01-27           1        NaT   NaN     29.0       NaT       NaN   \n",
       "4 2011-01-28           1        NaT   NaN     29.0       NaT       NaN   \n",
       "\n",
       "   quit_total_ppl  employee_headcount  \n",
       "0             0.0                25.0  \n",
       "1             0.0                27.0  \n",
       "2             0.0                29.0  \n",
       "3             0.0                29.0  \n",
       "4             0.0                29.0  "
      ]
     },
     "execution_count": 85,
     "metadata": {},
     "output_type": "execute_result"
    }
   ],
   "source": [
    "final_df_v2['employee_headcount']=final_df_v2['tot_ppl']-final_df_v2['quit_total_ppl']\n",
    "final_df_v2.head()"
   ]
  },
  {
   "cell_type": "code",
   "execution_count": 219,
   "id": "da5e9d3b-6f6f-44c1-acd9-4f4ca9c18c44",
   "metadata": {},
   "outputs": [
    {
     "data": {
      "text/html": [
       "<div>\n",
       "<style scoped>\n",
       "    .dataframe tbody tr th:only-of-type {\n",
       "        vertical-align: middle;\n",
       "    }\n",
       "\n",
       "    .dataframe tbody tr th {\n",
       "        vertical-align: top;\n",
       "    }\n",
       "\n",
       "    .dataframe thead th {\n",
       "        text-align: right;\n",
       "    }\n",
       "</style>\n",
       "<table border=\"1\" class=\"dataframe\">\n",
       "  <thead>\n",
       "    <tr style=\"text-align: right;\">\n",
       "      <th></th>\n",
       "      <th>day</th>\n",
       "      <th>employee_headcount</th>\n",
       "      <th>company_id</th>\n",
       "    </tr>\n",
       "  </thead>\n",
       "  <tbody>\n",
       "    <tr>\n",
       "      <th>0</th>\n",
       "      <td>2011-01-24</td>\n",
       "      <td>25.0</td>\n",
       "      <td>1</td>\n",
       "    </tr>\n",
       "    <tr>\n",
       "      <th>1</th>\n",
       "      <td>2011-01-25</td>\n",
       "      <td>27.0</td>\n",
       "      <td>1</td>\n",
       "    </tr>\n",
       "    <tr>\n",
       "      <th>2</th>\n",
       "      <td>2011-01-26</td>\n",
       "      <td>29.0</td>\n",
       "      <td>1</td>\n",
       "    </tr>\n",
       "    <tr>\n",
       "      <th>3</th>\n",
       "      <td>2011-01-27</td>\n",
       "      <td>29.0</td>\n",
       "      <td>1</td>\n",
       "    </tr>\n",
       "    <tr>\n",
       "      <th>4</th>\n",
       "      <td>2011-01-28</td>\n",
       "      <td>29.0</td>\n",
       "      <td>1</td>\n",
       "    </tr>\n",
       "    <tr>\n",
       "      <th>5</th>\n",
       "      <td>2011-01-29</td>\n",
       "      <td>29.0</td>\n",
       "      <td>1</td>\n",
       "    </tr>\n",
       "    <tr>\n",
       "      <th>6</th>\n",
       "      <td>2011-01-30</td>\n",
       "      <td>29.0</td>\n",
       "      <td>1</td>\n",
       "    </tr>\n",
       "    <tr>\n",
       "      <th>7</th>\n",
       "      <td>2011-01-31</td>\n",
       "      <td>59.0</td>\n",
       "      <td>1</td>\n",
       "    </tr>\n",
       "    <tr>\n",
       "      <th>8</th>\n",
       "      <td>2011-02-01</td>\n",
       "      <td>66.0</td>\n",
       "      <td>1</td>\n",
       "    </tr>\n",
       "    <tr>\n",
       "      <th>9</th>\n",
       "      <td>2011-02-02</td>\n",
       "      <td>67.0</td>\n",
       "      <td>1</td>\n",
       "    </tr>\n",
       "    <tr>\n",
       "      <th>10</th>\n",
       "      <td>2011-02-03</td>\n",
       "      <td>67.0</td>\n",
       "      <td>1</td>\n",
       "    </tr>\n",
       "    <tr>\n",
       "      <th>11</th>\n",
       "      <td>2011-02-04</td>\n",
       "      <td>67.0</td>\n",
       "      <td>1</td>\n",
       "    </tr>\n",
       "    <tr>\n",
       "      <th>12</th>\n",
       "      <td>2011-02-05</td>\n",
       "      <td>67.0</td>\n",
       "      <td>1</td>\n",
       "    </tr>\n",
       "    <tr>\n",
       "      <th>13</th>\n",
       "      <td>2011-02-06</td>\n",
       "      <td>67.0</td>\n",
       "      <td>1</td>\n",
       "    </tr>\n",
       "    <tr>\n",
       "      <th>14</th>\n",
       "      <td>2011-02-07</td>\n",
       "      <td>99.0</td>\n",
       "      <td>1</td>\n",
       "    </tr>\n",
       "    <tr>\n",
       "      <th>15</th>\n",
       "      <td>2011-02-08</td>\n",
       "      <td>102.0</td>\n",
       "      <td>1</td>\n",
       "    </tr>\n",
       "    <tr>\n",
       "      <th>16</th>\n",
       "      <td>2011-02-09</td>\n",
       "      <td>104.0</td>\n",
       "      <td>1</td>\n",
       "    </tr>\n",
       "    <tr>\n",
       "      <th>17</th>\n",
       "      <td>2011-02-10</td>\n",
       "      <td>104.0</td>\n",
       "      <td>1</td>\n",
       "    </tr>\n",
       "    <tr>\n",
       "      <th>18</th>\n",
       "      <td>2011-02-11</td>\n",
       "      <td>104.0</td>\n",
       "      <td>1</td>\n",
       "    </tr>\n",
       "    <tr>\n",
       "      <th>19</th>\n",
       "      <td>2011-02-12</td>\n",
       "      <td>104.0</td>\n",
       "      <td>1</td>\n",
       "    </tr>\n",
       "  </tbody>\n",
       "</table>\n",
       "</div>"
      ],
      "text/plain": [
       "          day  employee_headcount  company_id\n",
       "0  2011-01-24                25.0           1\n",
       "1  2011-01-25                27.0           1\n",
       "2  2011-01-26                29.0           1\n",
       "3  2011-01-27                29.0           1\n",
       "4  2011-01-28                29.0           1\n",
       "5  2011-01-29                29.0           1\n",
       "6  2011-01-30                29.0           1\n",
       "7  2011-01-31                59.0           1\n",
       "8  2011-02-01                66.0           1\n",
       "9  2011-02-02                67.0           1\n",
       "10 2011-02-03                67.0           1\n",
       "11 2011-02-04                67.0           1\n",
       "12 2011-02-05                67.0           1\n",
       "13 2011-02-06                67.0           1\n",
       "14 2011-02-07                99.0           1\n",
       "15 2011-02-08               102.0           1\n",
       "16 2011-02-09               104.0           1\n",
       "17 2011-02-10               104.0           1\n",
       "18 2011-02-11               104.0           1\n",
       "19 2011-02-12               104.0           1"
      ]
     },
     "execution_count": 219,
     "metadata": {},
     "output_type": "execute_result"
    }
   ],
   "source": [
    "final_df_v3 = final_df_v2[['day','employee_headcount','company_id']]\n",
    "final_df_v3.head(20)"
   ]
  },
  {
   "cell_type": "code",
   "execution_count": 221,
   "id": "da2745fd-b7a4-46ee-923c-070436c4f9d3",
   "metadata": {},
   "outputs": [
    {
     "data": {
      "text/plain": [
       "DatetimeIndex(['2011-01-24', '2011-01-25', '2011-01-26', '2011-01-27',\n",
       "               '2011-01-28', '2011-01-29', '2011-01-30', '2011-01-31',\n",
       "               '2011-02-01', '2011-02-02',\n",
       "               ...\n",
       "               '2015-12-04', '2015-12-05', '2015-12-06', '2015-12-07',\n",
       "               '2015-12-08', '2015-12-09', '2015-12-10', '2015-12-11',\n",
       "               '2015-12-12', '2015-12-13'],\n",
       "              dtype='datetime64[ns]', length=1785, freq='D')"
      ]
     },
     "execution_count": 221,
     "metadata": {},
     "output_type": "execute_result"
    }
   ],
   "source": [
    "## alternative apporach:\n",
    "unique_dates = pd.date_range(start='2011/01/24', end='2015/12/13')\n",
    "unique_dates"
   ]
  },
  {
   "cell_type": "code",
   "execution_count": null,
   "id": "544cbec2-58a6-47c8-92ef-b4ac925a20c2",
   "metadata": {},
   "outputs": [],
   "source": []
  },
  {
   "cell_type": "markdown",
   "id": "a5b1648a-ae7c-4701-a0df-9e1498fc42a9",
   "metadata": {},
   "source": [
    "## What are the main factors that drive employee churn? Do they make sense? Explain your findings"
   ]
  },
  {
   "cell_type": "code",
   "execution_count": null,
   "id": "56e319e9-ca9b-4d41-b31a-24f413db31d6",
   "metadata": {},
   "outputs": [],
   "source": [
    "# create useful features \n",
    "# employee_headcount\n",
    "# tenure (in years)"
   ]
  },
  {
   "cell_type": "code",
   "execution_count": 114,
   "id": "81ed03a6-944f-453c-b7b7-35f54d58b03d",
   "metadata": {},
   "outputs": [
    {
     "data": {
      "text/plain": [
       "Index(['employee_id', 'company_id', 'dept', 'seniority', 'salary', 'join_date',\n",
       "       'quit_date'],\n",
       "      dtype='object')"
      ]
     },
     "execution_count": 114,
     "metadata": {},
     "output_type": "execute_result"
    }
   ],
   "source": [
    "df.columns"
   ]
  },
  {
   "cell_type": "code",
   "execution_count": 123,
   "id": "5f173479-abe2-484b-972b-15646063d6ea",
   "metadata": {},
   "outputs": [
    {
     "data": {
      "text/html": [
       "<div>\n",
       "<style scoped>\n",
       "    .dataframe tbody tr th:only-of-type {\n",
       "        vertical-align: middle;\n",
       "    }\n",
       "\n",
       "    .dataframe tbody tr th {\n",
       "        vertical-align: top;\n",
       "    }\n",
       "\n",
       "    .dataframe thead th {\n",
       "        text-align: right;\n",
       "    }\n",
       "</style>\n",
       "<table border=\"1\" class=\"dataframe\">\n",
       "  <thead>\n",
       "    <tr style=\"text-align: right;\">\n",
       "      <th></th>\n",
       "      <th>employee_id</th>\n",
       "      <th>company_id</th>\n",
       "      <th>dept</th>\n",
       "      <th>seniority</th>\n",
       "      <th>salary</th>\n",
       "      <th>join_date</th>\n",
       "      <th>quit_date</th>\n",
       "      <th>churn</th>\n",
       "    </tr>\n",
       "  </thead>\n",
       "  <tbody>\n",
       "    <tr>\n",
       "      <th>0</th>\n",
       "      <td>13021.0</td>\n",
       "      <td>7</td>\n",
       "      <td>customer_service</td>\n",
       "      <td>28</td>\n",
       "      <td>89000.0</td>\n",
       "      <td>2014-03-24</td>\n",
       "      <td>2015-10-30</td>\n",
       "      <td>1</td>\n",
       "    </tr>\n",
       "    <tr>\n",
       "      <th>1</th>\n",
       "      <td>825355.0</td>\n",
       "      <td>7</td>\n",
       "      <td>marketing</td>\n",
       "      <td>20</td>\n",
       "      <td>183000.0</td>\n",
       "      <td>2013-04-29</td>\n",
       "      <td>2014-04-04</td>\n",
       "      <td>1</td>\n",
       "    </tr>\n",
       "    <tr>\n",
       "      <th>2</th>\n",
       "      <td>927315.0</td>\n",
       "      <td>4</td>\n",
       "      <td>marketing</td>\n",
       "      <td>14</td>\n",
       "      <td>101000.0</td>\n",
       "      <td>2014-10-13</td>\n",
       "      <td>NaT</td>\n",
       "      <td>0</td>\n",
       "    </tr>\n",
       "    <tr>\n",
       "      <th>3</th>\n",
       "      <td>662910.0</td>\n",
       "      <td>7</td>\n",
       "      <td>customer_service</td>\n",
       "      <td>20</td>\n",
       "      <td>115000.0</td>\n",
       "      <td>2012-05-14</td>\n",
       "      <td>2013-06-07</td>\n",
       "      <td>1</td>\n",
       "    </tr>\n",
       "    <tr>\n",
       "      <th>4</th>\n",
       "      <td>256971.0</td>\n",
       "      <td>2</td>\n",
       "      <td>data_science</td>\n",
       "      <td>23</td>\n",
       "      <td>276000.0</td>\n",
       "      <td>2011-10-17</td>\n",
       "      <td>2014-08-22</td>\n",
       "      <td>1</td>\n",
       "    </tr>\n",
       "  </tbody>\n",
       "</table>\n",
       "</div>"
      ],
      "text/plain": [
       "   employee_id  company_id              dept  seniority    salary  join_date  \\\n",
       "0      13021.0           7  customer_service         28   89000.0 2014-03-24   \n",
       "1     825355.0           7         marketing         20  183000.0 2013-04-29   \n",
       "2     927315.0           4         marketing         14  101000.0 2014-10-13   \n",
       "3     662910.0           7  customer_service         20  115000.0 2012-05-14   \n",
       "4     256971.0           2      data_science         23  276000.0 2011-10-17   \n",
       "\n",
       "   quit_date  churn  \n",
       "0 2015-10-30      1  \n",
       "1 2014-04-04      1  \n",
       "2        NaT      0  \n",
       "3 2013-06-07      1  \n",
       "4 2014-08-22      1  "
      ]
     },
     "execution_count": 123,
     "metadata": {},
     "output_type": "execute_result"
    }
   ],
   "source": [
    "df['churn']=np.where(df['quit_date'].isnull(),0,1)\n",
    "df.head()"
   ]
  },
  {
   "cell_type": "code",
   "execution_count": 124,
   "id": "57897bba-4bc2-4c5f-b2ae-147dd3dc9ea7",
   "metadata": {},
   "outputs": [],
   "source": [
    "df['quit_date'] = df['quit_date'].fillna(datetime(2015,12,13)) # fill NA quit date with most recent date"
   ]
  },
  {
   "cell_type": "code",
   "execution_count": 125,
   "id": "cb0df28b-0a0c-4920-b9f4-23497d388586",
   "metadata": {},
   "outputs": [],
   "source": [
    "df['tenure']=((df['quit_date']-df['join_date']).dt.days)/365"
   ]
  },
  {
   "cell_type": "code",
   "execution_count": 126,
   "id": "ad275e72-e655-4cff-bfb4-807cfe012e5c",
   "metadata": {},
   "outputs": [
    {
     "data": {
      "text/html": [
       "<div>\n",
       "<style scoped>\n",
       "    .dataframe tbody tr th:only-of-type {\n",
       "        vertical-align: middle;\n",
       "    }\n",
       "\n",
       "    .dataframe tbody tr th {\n",
       "        vertical-align: top;\n",
       "    }\n",
       "\n",
       "    .dataframe thead th {\n",
       "        text-align: right;\n",
       "    }\n",
       "</style>\n",
       "<table border=\"1\" class=\"dataframe\">\n",
       "  <thead>\n",
       "    <tr style=\"text-align: right;\">\n",
       "      <th></th>\n",
       "      <th>employee_id</th>\n",
       "      <th>company_id</th>\n",
       "      <th>dept</th>\n",
       "      <th>seniority</th>\n",
       "      <th>salary</th>\n",
       "      <th>join_date</th>\n",
       "      <th>quit_date</th>\n",
       "      <th>churn</th>\n",
       "      <th>tenure</th>\n",
       "    </tr>\n",
       "  </thead>\n",
       "  <tbody>\n",
       "    <tr>\n",
       "      <th>0</th>\n",
       "      <td>13021.0</td>\n",
       "      <td>7</td>\n",
       "      <td>customer_service</td>\n",
       "      <td>28</td>\n",
       "      <td>89000.0</td>\n",
       "      <td>2014-03-24</td>\n",
       "      <td>2015-10-30</td>\n",
       "      <td>1</td>\n",
       "      <td>1.602740</td>\n",
       "    </tr>\n",
       "    <tr>\n",
       "      <th>1</th>\n",
       "      <td>825355.0</td>\n",
       "      <td>7</td>\n",
       "      <td>marketing</td>\n",
       "      <td>20</td>\n",
       "      <td>183000.0</td>\n",
       "      <td>2013-04-29</td>\n",
       "      <td>2014-04-04</td>\n",
       "      <td>1</td>\n",
       "      <td>0.931507</td>\n",
       "    </tr>\n",
       "    <tr>\n",
       "      <th>2</th>\n",
       "      <td>927315.0</td>\n",
       "      <td>4</td>\n",
       "      <td>marketing</td>\n",
       "      <td>14</td>\n",
       "      <td>101000.0</td>\n",
       "      <td>2014-10-13</td>\n",
       "      <td>2015-12-13</td>\n",
       "      <td>0</td>\n",
       "      <td>1.167123</td>\n",
       "    </tr>\n",
       "    <tr>\n",
       "      <th>3</th>\n",
       "      <td>662910.0</td>\n",
       "      <td>7</td>\n",
       "      <td>customer_service</td>\n",
       "      <td>20</td>\n",
       "      <td>115000.0</td>\n",
       "      <td>2012-05-14</td>\n",
       "      <td>2013-06-07</td>\n",
       "      <td>1</td>\n",
       "      <td>1.065753</td>\n",
       "    </tr>\n",
       "    <tr>\n",
       "      <th>4</th>\n",
       "      <td>256971.0</td>\n",
       "      <td>2</td>\n",
       "      <td>data_science</td>\n",
       "      <td>23</td>\n",
       "      <td>276000.0</td>\n",
       "      <td>2011-10-17</td>\n",
       "      <td>2014-08-22</td>\n",
       "      <td>1</td>\n",
       "      <td>2.849315</td>\n",
       "    </tr>\n",
       "  </tbody>\n",
       "</table>\n",
       "</div>"
      ],
      "text/plain": [
       "   employee_id  company_id              dept  seniority    salary  join_date  \\\n",
       "0      13021.0           7  customer_service         28   89000.0 2014-03-24   \n",
       "1     825355.0           7         marketing         20  183000.0 2013-04-29   \n",
       "2     927315.0           4         marketing         14  101000.0 2014-10-13   \n",
       "3     662910.0           7  customer_service         20  115000.0 2012-05-14   \n",
       "4     256971.0           2      data_science         23  276000.0 2011-10-17   \n",
       "\n",
       "   quit_date  churn    tenure  \n",
       "0 2015-10-30      1  1.602740  \n",
       "1 2014-04-04      1  0.931507  \n",
       "2 2015-12-13      0  1.167123  \n",
       "3 2013-06-07      1  1.065753  \n",
       "4 2014-08-22      1  2.849315  "
      ]
     },
     "execution_count": 126,
     "metadata": {},
     "output_type": "execute_result"
    }
   ],
   "source": [
    "df.head()"
   ]
  },
  {
   "cell_type": "code",
   "execution_count": 104,
   "id": "fddbb615-6c67-4bc1-9721-98f471887bc5",
   "metadata": {},
   "outputs": [
    {
     "data": {
      "text/plain": [
       "Text(0.5, 1.0, 'avg hc by comany')"
      ]
     },
     "execution_count": 104,
     "metadata": {},
     "output_type": "execute_result"
    },
    {
     "data": {
      "image/png": "[encoded data removed]",
      "text/plain": [
       "<Figure size 640x480 with 1 Axes>"
      ]
     },
     "metadata": {},
     "output_type": "display_data"
    }
   ],
   "source": [
    "sns.barplot(data=final_df_v3,x='company_id',y='employee_headcount')\n",
    "plt.title('avg hc by comany')"
   ]
  },
  {
   "cell_type": "code",
   "execution_count": 105,
   "id": "feec4454-c68e-4f41-bfbb-58838f3dfdf3",
   "metadata": {},
   "outputs": [
    {
     "data": {
      "text/plain": [
       "Text(0.5, 1.0, 'hc by day for company_id =1')"
      ]
     },
     "execution_count": 105,
     "metadata": {},
     "output_type": "execute_result"
    },
    {
     "data": {
      "image/png": "[encoded data removed]",
      "text/plain": [
       "<Figure size 640x480 with 1 Axes>"
      ]
     },
     "metadata": {},
     "output_type": "display_data"
    }
   ],
   "source": [
    "sns.lineplot(data=final_df_v3.query('company_id==1'),x='day',y='employee_headcount')\n",
    "plt.title('hc by day for company_id =1') "
   ]
  },
  {
   "cell_type": "code",
   "execution_count": 127,
   "id": "4cd060a6-3210-433c-b7e6-4495766b3802",
   "metadata": {},
   "outputs": [
    {
     "data": {
      "text/html": [
       "<div>\n",
       "<style scoped>\n",
       "    .dataframe tbody tr th:only-of-type {\n",
       "        vertical-align: middle;\n",
       "    }\n",
       "\n",
       "    .dataframe tbody tr th {\n",
       "        vertical-align: top;\n",
       "    }\n",
       "\n",
       "    .dataframe thead th {\n",
       "        text-align: right;\n",
       "    }\n",
       "</style>\n",
       "<table border=\"1\" class=\"dataframe\">\n",
       "  <thead>\n",
       "    <tr style=\"text-align: right;\">\n",
       "      <th></th>\n",
       "      <th>employee_id</th>\n",
       "      <th>company_id</th>\n",
       "      <th>dept</th>\n",
       "      <th>seniority</th>\n",
       "      <th>salary</th>\n",
       "      <th>join_date</th>\n",
       "      <th>quit_date</th>\n",
       "      <th>churn</th>\n",
       "      <th>tenure</th>\n",
       "      <th>day</th>\n",
       "      <th>employee_headcount</th>\n",
       "    </tr>\n",
       "  </thead>\n",
       "  <tbody>\n",
       "    <tr>\n",
       "      <th>0</th>\n",
       "      <td>13021.0</td>\n",
       "      <td>7</td>\n",
       "      <td>customer_service</td>\n",
       "      <td>28</td>\n",
       "      <td>89000.0</td>\n",
       "      <td>2014-03-24</td>\n",
       "      <td>2015-10-30</td>\n",
       "      <td>1</td>\n",
       "      <td>1.602740</td>\n",
       "      <td>2015-10-30</td>\n",
       "      <td>532.0</td>\n",
       "    </tr>\n",
       "    <tr>\n",
       "      <th>1</th>\n",
       "      <td>825355.0</td>\n",
       "      <td>7</td>\n",
       "      <td>marketing</td>\n",
       "      <td>20</td>\n",
       "      <td>183000.0</td>\n",
       "      <td>2013-04-29</td>\n",
       "      <td>2014-04-04</td>\n",
       "      <td>1</td>\n",
       "      <td>0.931507</td>\n",
       "      <td>2014-04-04</td>\n",
       "      <td>523.0</td>\n",
       "    </tr>\n",
       "    <tr>\n",
       "      <th>2</th>\n",
       "      <td>927315.0</td>\n",
       "      <td>4</td>\n",
       "      <td>marketing</td>\n",
       "      <td>14</td>\n",
       "      <td>101000.0</td>\n",
       "      <td>2014-10-13</td>\n",
       "      <td>2015-12-13</td>\n",
       "      <td>0</td>\n",
       "      <td>1.167123</td>\n",
       "      <td>2015-12-13</td>\n",
       "      <td>909.0</td>\n",
       "    </tr>\n",
       "    <tr>\n",
       "      <th>3</th>\n",
       "      <td>662910.0</td>\n",
       "      <td>7</td>\n",
       "      <td>customer_service</td>\n",
       "      <td>20</td>\n",
       "      <td>115000.0</td>\n",
       "      <td>2012-05-14</td>\n",
       "      <td>2013-06-07</td>\n",
       "      <td>1</td>\n",
       "      <td>1.065753</td>\n",
       "      <td>2013-06-07</td>\n",
       "      <td>468.0</td>\n",
       "    </tr>\n",
       "    <tr>\n",
       "      <th>4</th>\n",
       "      <td>256971.0</td>\n",
       "      <td>2</td>\n",
       "      <td>data_science</td>\n",
       "      <td>23</td>\n",
       "      <td>276000.0</td>\n",
       "      <td>2011-10-17</td>\n",
       "      <td>2014-08-22</td>\n",
       "      <td>1</td>\n",
       "      <td>2.849315</td>\n",
       "      <td>2014-08-22</td>\n",
       "      <td>1855.0</td>\n",
       "    </tr>\n",
       "  </tbody>\n",
       "</table>\n",
       "</div>"
      ],
      "text/plain": [
       "   employee_id  company_id              dept  seniority    salary  join_date  \\\n",
       "0      13021.0           7  customer_service         28   89000.0 2014-03-24   \n",
       "1     825355.0           7         marketing         20  183000.0 2013-04-29   \n",
       "2     927315.0           4         marketing         14  101000.0 2014-10-13   \n",
       "3     662910.0           7  customer_service         20  115000.0 2012-05-14   \n",
       "4     256971.0           2      data_science         23  276000.0 2011-10-17   \n",
       "\n",
       "   quit_date  churn    tenure        day  employee_headcount  \n",
       "0 2015-10-30      1  1.602740 2015-10-30               532.0  \n",
       "1 2014-04-04      1  0.931507 2014-04-04               523.0  \n",
       "2 2015-12-13      0  1.167123 2015-12-13               909.0  \n",
       "3 2013-06-07      1  1.065753 2013-06-07               468.0  \n",
       "4 2014-08-22      1  2.849315 2014-08-22              1855.0  "
      ]
     },
     "execution_count": 127,
     "metadata": {},
     "output_type": "execute_result"
    }
   ],
   "source": [
    "# hc grows by yr so I link quit days's hc to ppl, if ppl is still employed, use 2014/12/13's hc\n",
    "df_v2 = df.merge(final_df_v3, how='left',left_on=['company_id','quit_date'],right_on=['company_id','day'])\n",
    "df_v2.head()"
   ]
  },
  {
   "cell_type": "code",
   "execution_count": 131,
   "id": "6358b1c0-d123-4429-8980-ea9adbd654e2",
   "metadata": {},
   "outputs": [
    {
     "data": {
      "text/plain": [
       "np.int64(0)"
      ]
     },
     "execution_count": 131,
     "metadata": {},
     "output_type": "execute_result"
    }
   ],
   "source": [
    "(df_v2.tenure<0).sum()"
   ]
  },
  {
   "cell_type": "code",
   "execution_count": null,
   "id": "1c503395-903a-4ab5-bd12-c03cb10a5f26",
   "metadata": {},
   "outputs": [],
   "source": []
  },
  {
   "cell_type": "code",
   "execution_count": 132,
   "id": "3d90a4a6-3d96-466b-bbd6-da7e9a3d9fc1",
   "metadata": {},
   "outputs": [
    {
     "data": {
      "text/html": [
       "<div>\n",
       "<style scoped>\n",
       "    .dataframe tbody tr th:only-of-type {\n",
       "        vertical-align: middle;\n",
       "    }\n",
       "\n",
       "    .dataframe tbody tr th {\n",
       "        vertical-align: top;\n",
       "    }\n",
       "\n",
       "    .dataframe thead th {\n",
       "        text-align: right;\n",
       "    }\n",
       "</style>\n",
       "<table border=\"1\" class=\"dataframe\">\n",
       "  <thead>\n",
       "    <tr style=\"text-align: right;\">\n",
       "      <th></th>\n",
       "      <th>employee_id</th>\n",
       "      <th>company_id</th>\n",
       "      <th>dept</th>\n",
       "      <th>seniority</th>\n",
       "      <th>salary</th>\n",
       "      <th>join_date</th>\n",
       "      <th>quit_date</th>\n",
       "      <th>churn</th>\n",
       "      <th>tenure</th>\n",
       "      <th>day</th>\n",
       "      <th>employee_headcount</th>\n",
       "    </tr>\n",
       "  </thead>\n",
       "  <tbody>\n",
       "    <tr>\n",
       "      <th>24700</th>\n",
       "      <td>97289.0</td>\n",
       "      <td>10</td>\n",
       "      <td>engineer</td>\n",
       "      <td>98</td>\n",
       "      <td>266000.0</td>\n",
       "      <td>2011-12-13</td>\n",
       "      <td>2015-01-09</td>\n",
       "      <td>1</td>\n",
       "      <td>3.076712</td>\n",
       "      <td>2015-01-09</td>\n",
       "      <td>384.0</td>\n",
       "    </tr>\n",
       "    <tr>\n",
       "      <th>24701</th>\n",
       "      <td>604052.0</td>\n",
       "      <td>1</td>\n",
       "      <td>marketing</td>\n",
       "      <td>99</td>\n",
       "      <td>185000.0</td>\n",
       "      <td>2011-07-26</td>\n",
       "      <td>2013-12-06</td>\n",
       "      <td>1</td>\n",
       "      <td>2.367123</td>\n",
       "      <td>2013-12-06</td>\n",
       "      <td>3386.0</td>\n",
       "    </tr>\n",
       "  </tbody>\n",
       "</table>\n",
       "</div>"
      ],
      "text/plain": [
       "       employee_id  company_id       dept  seniority    salary  join_date  \\\n",
       "24700      97289.0          10   engineer         98  266000.0 2011-12-13   \n",
       "24701     604052.0           1  marketing         99  185000.0 2011-07-26   \n",
       "\n",
       "       quit_date  churn    tenure        day  employee_headcount  \n",
       "24700 2015-01-09      1  3.076712 2015-01-09               384.0  \n",
       "24701 2013-12-06      1  2.367123 2013-12-06              3386.0  "
      ]
     },
     "execution_count": 132,
     "metadata": {},
     "output_type": "execute_result"
    }
   ],
   "source": [
    "# remove two outliers\n",
    "df_v2.query('seniority>50')"
   ]
  },
  {
   "cell_type": "code",
   "execution_count": 134,
   "id": "8b4cb17c-80ea-45ef-8a51-413d1b655065",
   "metadata": {},
   "outputs": [
    {
     "data": {
      "text/html": [
       "<div>\n",
       "<style scoped>\n",
       "    .dataframe tbody tr th:only-of-type {\n",
       "        vertical-align: middle;\n",
       "    }\n",
       "\n",
       "    .dataframe tbody tr th {\n",
       "        vertical-align: top;\n",
       "    }\n",
       "\n",
       "    .dataframe thead th {\n",
       "        text-align: right;\n",
       "    }\n",
       "</style>\n",
       "<table border=\"1\" class=\"dataframe\">\n",
       "  <thead>\n",
       "    <tr style=\"text-align: right;\">\n",
       "      <th></th>\n",
       "      <th>employee_id</th>\n",
       "      <th>company_id</th>\n",
       "      <th>dept</th>\n",
       "      <th>seniority</th>\n",
       "      <th>salary</th>\n",
       "      <th>join_date</th>\n",
       "      <th>quit_date</th>\n",
       "      <th>churn</th>\n",
       "      <th>tenure</th>\n",
       "      <th>day</th>\n",
       "      <th>employee_headcount</th>\n",
       "    </tr>\n",
       "  </thead>\n",
       "  <tbody>\n",
       "    <tr>\n",
       "      <th>0</th>\n",
       "      <td>13021.0</td>\n",
       "      <td>7</td>\n",
       "      <td>customer_service</td>\n",
       "      <td>28</td>\n",
       "      <td>89000.0</td>\n",
       "      <td>2014-03-24</td>\n",
       "      <td>2015-10-30</td>\n",
       "      <td>1</td>\n",
       "      <td>1.602740</td>\n",
       "      <td>2015-10-30</td>\n",
       "      <td>532.0</td>\n",
       "    </tr>\n",
       "    <tr>\n",
       "      <th>1</th>\n",
       "      <td>825355.0</td>\n",
       "      <td>7</td>\n",
       "      <td>marketing</td>\n",
       "      <td>20</td>\n",
       "      <td>183000.0</td>\n",
       "      <td>2013-04-29</td>\n",
       "      <td>2014-04-04</td>\n",
       "      <td>1</td>\n",
       "      <td>0.931507</td>\n",
       "      <td>2014-04-04</td>\n",
       "      <td>523.0</td>\n",
       "    </tr>\n",
       "    <tr>\n",
       "      <th>2</th>\n",
       "      <td>927315.0</td>\n",
       "      <td>4</td>\n",
       "      <td>marketing</td>\n",
       "      <td>14</td>\n",
       "      <td>101000.0</td>\n",
       "      <td>2014-10-13</td>\n",
       "      <td>2015-12-13</td>\n",
       "      <td>0</td>\n",
       "      <td>1.167123</td>\n",
       "      <td>2015-12-13</td>\n",
       "      <td>909.0</td>\n",
       "    </tr>\n",
       "    <tr>\n",
       "      <th>3</th>\n",
       "      <td>662910.0</td>\n",
       "      <td>7</td>\n",
       "      <td>customer_service</td>\n",
       "      <td>20</td>\n",
       "      <td>115000.0</td>\n",
       "      <td>2012-05-14</td>\n",
       "      <td>2013-06-07</td>\n",
       "      <td>1</td>\n",
       "      <td>1.065753</td>\n",
       "      <td>2013-06-07</td>\n",
       "      <td>468.0</td>\n",
       "    </tr>\n",
       "    <tr>\n",
       "      <th>4</th>\n",
       "      <td>256971.0</td>\n",
       "      <td>2</td>\n",
       "      <td>data_science</td>\n",
       "      <td>23</td>\n",
       "      <td>276000.0</td>\n",
       "      <td>2011-10-17</td>\n",
       "      <td>2014-08-22</td>\n",
       "      <td>1</td>\n",
       "      <td>2.849315</td>\n",
       "      <td>2014-08-22</td>\n",
       "      <td>1855.0</td>\n",
       "    </tr>\n",
       "  </tbody>\n",
       "</table>\n",
       "</div>"
      ],
      "text/plain": [
       "   employee_id  company_id              dept  seniority    salary  join_date  \\\n",
       "0      13021.0           7  customer_service         28   89000.0 2014-03-24   \n",
       "1     825355.0           7         marketing         20  183000.0 2013-04-29   \n",
       "2     927315.0           4         marketing         14  101000.0 2014-10-13   \n",
       "3     662910.0           7  customer_service         20  115000.0 2012-05-14   \n",
       "4     256971.0           2      data_science         23  276000.0 2011-10-17   \n",
       "\n",
       "   quit_date  churn    tenure        day  employee_headcount  \n",
       "0 2015-10-30      1  1.602740 2015-10-30               532.0  \n",
       "1 2014-04-04      1  0.931507 2014-04-04               523.0  \n",
       "2 2015-12-13      0  1.167123 2015-12-13               909.0  \n",
       "3 2013-06-07      1  1.065753 2013-06-07               468.0  \n",
       "4 2014-08-22      1  2.849315 2014-08-22              1855.0  "
      ]
     },
     "execution_count": 134,
     "metadata": {},
     "output_type": "execute_result"
    }
   ],
   "source": [
    "df_v3 = df_v2.query('seniority<=50')\n",
    "df_v3.head()"
   ]
  },
  {
   "cell_type": "code",
   "execution_count": 135,
   "id": "fbafcca3-5b97-431f-bbe2-1f06a09d4572",
   "metadata": {},
   "outputs": [
    {
     "data": {
      "text/plain": [
       "(24700, 11)"
      ]
     },
     "execution_count": 135,
     "metadata": {},
     "output_type": "execute_result"
    }
   ],
   "source": [
    "df_v3.shape"
   ]
  },
  {
   "cell_type": "code",
   "execution_count": 141,
   "id": "d6af3e69-a891-4044-95f4-506cc599b5a1",
   "metadata": {},
   "outputs": [
    {
     "data": {
      "text/plain": [
       "Text(0.5, 1.0, 'avg churn rate by company')"
      ]
     },
     "execution_count": 141,
     "metadata": {},
     "output_type": "execute_result"
    },
    {
     "data": {
      "image/png": "[encoded data removed]",
      "text/plain": [
       "<Figure size 640x480 with 1 Axes>"
      ]
     },
     "metadata": {},
     "output_type": "display_data"
    }
   ],
   "source": [
    "sns.barplot(df_v3, x='company_id',y='churn')\n",
    "plt.title('avg churn rate by company')\n",
    "# why company_id ==1 has a much higher churn rate"
   ]
  },
  {
   "cell_type": "code",
   "execution_count": 142,
   "id": "bd8f6d9b-91b7-485c-989d-56cdc336e3dc",
   "metadata": {},
   "outputs": [
    {
     "data": {
      "text/plain": [
       "Text(0.5, 1.0, 'avg churn rate by dept')"
      ]
     },
     "execution_count": 142,
     "metadata": {},
     "output_type": "execute_result"
    },
    {
     "data": {
      "image/png": "[encoded data removed]",
      "text/plain": [
       "<Figure size 640x480 with 1 Axes>"
      ]
     },
     "metadata": {},
     "output_type": "display_data"
    }
   ],
   "source": [
    "sns.barplot(df_v3, x='dept',y='churn')\n",
    "plt.title('avg churn rate by dept') # churn rate is constant by dept"
   ]
  },
  {
   "cell_type": "code",
   "execution_count": 144,
   "id": "c64b4593-d6e0-4fc6-ad66-7ffc44c13553",
   "metadata": {},
   "outputs": [
    {
     "data": {
      "text/plain": [
       "Index(['employee_id', 'company_id', 'dept', 'seniority', 'salary', 'join_date',\n",
       "       'quit_date', 'churn', 'tenure', 'day', 'employee_headcount'],\n",
       "      dtype='object')"
      ]
     },
     "execution_count": 144,
     "metadata": {},
     "output_type": "execute_result"
    }
   ],
   "source": [
    "df_v3.columns"
   ]
  },
  {
   "cell_type": "code",
   "execution_count": 190,
   "id": "a8525d8d-8b12-4731-9e1f-c78d87a4ac00",
   "metadata": {},
   "outputs": [
    {
     "data": {
      "text/html": [
       "<div>\n",
       "<style scoped>\n",
       "    .dataframe tbody tr th:only-of-type {\n",
       "        vertical-align: middle;\n",
       "    }\n",
       "\n",
       "    .dataframe tbody tr th {\n",
       "        vertical-align: top;\n",
       "    }\n",
       "\n",
       "    .dataframe thead th {\n",
       "        text-align: right;\n",
       "    }\n",
       "</style>\n",
       "<table border=\"1\" class=\"dataframe\">\n",
       "  <thead>\n",
       "    <tr style=\"text-align: right;\">\n",
       "      <th></th>\n",
       "      <th>dept</th>\n",
       "      <th>seniority</th>\n",
       "      <th>salary</th>\n",
       "      <th>churn</th>\n",
       "      <th>tenure</th>\n",
       "      <th>employee_headcount</th>\n",
       "    </tr>\n",
       "  </thead>\n",
       "  <tbody>\n",
       "    <tr>\n",
       "      <th>0</th>\n",
       "      <td>customer_service</td>\n",
       "      <td>28</td>\n",
       "      <td>89000.0</td>\n",
       "      <td>1</td>\n",
       "      <td>1.602740</td>\n",
       "      <td>532.0</td>\n",
       "    </tr>\n",
       "    <tr>\n",
       "      <th>1</th>\n",
       "      <td>marketing</td>\n",
       "      <td>20</td>\n",
       "      <td>183000.0</td>\n",
       "      <td>1</td>\n",
       "      <td>0.931507</td>\n",
       "      <td>523.0</td>\n",
       "    </tr>\n",
       "    <tr>\n",
       "      <th>2</th>\n",
       "      <td>marketing</td>\n",
       "      <td>14</td>\n",
       "      <td>101000.0</td>\n",
       "      <td>0</td>\n",
       "      <td>1.167123</td>\n",
       "      <td>909.0</td>\n",
       "    </tr>\n",
       "    <tr>\n",
       "      <th>3</th>\n",
       "      <td>customer_service</td>\n",
       "      <td>20</td>\n",
       "      <td>115000.0</td>\n",
       "      <td>1</td>\n",
       "      <td>1.065753</td>\n",
       "      <td>468.0</td>\n",
       "    </tr>\n",
       "    <tr>\n",
       "      <th>4</th>\n",
       "      <td>data_science</td>\n",
       "      <td>23</td>\n",
       "      <td>276000.0</td>\n",
       "      <td>1</td>\n",
       "      <td>2.849315</td>\n",
       "      <td>1855.0</td>\n",
       "    </tr>\n",
       "  </tbody>\n",
       "</table>\n",
       "</div>"
      ],
      "text/plain": [
       "               dept  seniority    salary  churn    tenure  employee_headcount\n",
       "0  customer_service         28   89000.0      1  1.602740               532.0\n",
       "1         marketing         20  183000.0      1  0.931507               523.0\n",
       "2         marketing         14  101000.0      0  1.167123               909.0\n",
       "3  customer_service         20  115000.0      1  1.065753               468.0\n",
       "4      data_science         23  276000.0      1  2.849315              1855.0"
      ]
     },
     "execution_count": 190,
     "metadata": {},
     "output_type": "execute_result"
    }
   ],
   "source": [
    "model_df = df_v3.drop(columns=['employee_id', 'join_date','quit_date','day','company_id'])\n",
    "model_df.head()"
   ]
  },
  {
   "cell_type": "code",
   "execution_count": 153,
   "id": "8ae1fced-c7b6-4976-8a14-bd63e107d126",
   "metadata": {},
   "outputs": [],
   "source": [
    "# model_df['company_id'] = model_df.company_id.astype('object')"
   ]
  },
  {
   "cell_type": "code",
   "execution_count": 154,
   "id": "2ab14366-f822-4135-8f29-c01ff233541b",
   "metadata": {},
   "outputs": [
    {
     "data": {
      "text/html": [
       "<div>\n",
       "<style scoped>\n",
       "    .dataframe tbody tr th:only-of-type {\n",
       "        vertical-align: middle;\n",
       "    }\n",
       "\n",
       "    .dataframe tbody tr th {\n",
       "        vertical-align: top;\n",
       "    }\n",
       "\n",
       "    .dataframe thead th {\n",
       "        text-align: right;\n",
       "    }\n",
       "</style>\n",
       "<table border=\"1\" class=\"dataframe\">\n",
       "  <thead>\n",
       "    <tr style=\"text-align: right;\">\n",
       "      <th></th>\n",
       "      <th>seniority</th>\n",
       "      <th>salary</th>\n",
       "      <th>churn</th>\n",
       "      <th>tenure</th>\n",
       "      <th>employee_headcount</th>\n",
       "    </tr>\n",
       "  </thead>\n",
       "  <tbody>\n",
       "    <tr>\n",
       "      <th>seniority</th>\n",
       "      <td>1.000000</td>\n",
       "      <td>0.561011</td>\n",
       "      <td>-0.000274</td>\n",
       "      <td>-0.000236</td>\n",
       "      <td>0.006886</td>\n",
       "    </tr>\n",
       "    <tr>\n",
       "      <th>salary</th>\n",
       "      <td>0.561011</td>\n",
       "      <td>1.000000</td>\n",
       "      <td>-0.036649</td>\n",
       "      <td>0.053798</td>\n",
       "      <td>0.179203</td>\n",
       "    </tr>\n",
       "    <tr>\n",
       "      <th>churn</th>\n",
       "      <td>-0.000274</td>\n",
       "      <td>-0.036649</td>\n",
       "      <td>1.000000</td>\n",
       "      <td>0.118938</td>\n",
       "      <td>-0.103509</td>\n",
       "    </tr>\n",
       "    <tr>\n",
       "      <th>tenure</th>\n",
       "      <td>-0.000236</td>\n",
       "      <td>0.053798</td>\n",
       "      <td>0.118938</td>\n",
       "      <td>1.000000</td>\n",
       "      <td>0.041682</td>\n",
       "    </tr>\n",
       "    <tr>\n",
       "      <th>employee_headcount</th>\n",
       "      <td>0.006886</td>\n",
       "      <td>0.179203</td>\n",
       "      <td>-0.103509</td>\n",
       "      <td>0.041682</td>\n",
       "      <td>1.000000</td>\n",
       "    </tr>\n",
       "  </tbody>\n",
       "</table>\n",
       "</div>"
      ],
      "text/plain": [
       "                    seniority    salary     churn    tenure  \\\n",
       "seniority            1.000000  0.561011 -0.000274 -0.000236   \n",
       "salary               0.561011  1.000000 -0.036649  0.053798   \n",
       "churn               -0.000274 -0.036649  1.000000  0.118938   \n",
       "tenure              -0.000236  0.053798  0.118938  1.000000   \n",
       "employee_headcount   0.006886  0.179203 -0.103509  0.041682   \n",
       "\n",
       "                    employee_headcount  \n",
       "seniority                     0.006886  \n",
       "salary                        0.179203  \n",
       "churn                        -0.103509  \n",
       "tenure                        0.041682  \n",
       "employee_headcount            1.000000  "
      ]
     },
     "execution_count": 154,
     "metadata": {},
     "output_type": "execute_result"
    }
   ],
   "source": [
    "# calculate corr\n",
    "num_df = model_df.select_dtypes(include='number')\n",
    "num_df.corr() # mid corr between senioririty and salary"
   ]
  },
  {
   "cell_type": "code",
   "execution_count": 191,
   "id": "d8e65e92-768a-4a16-9376-ec1040c3d323",
   "metadata": {},
   "outputs": [],
   "source": [
    "df_dummy = pd.get_dummies(model_df,dtype=float)"
   ]
  },
  {
   "cell_type": "code",
   "execution_count": 192,
   "id": "7e2340da-3bd3-49c5-aae6-210ef6f93b9c",
   "metadata": {},
   "outputs": [
    {
     "data": {
      "text/html": [
       "<div>\n",
       "<style scoped>\n",
       "    .dataframe tbody tr th:only-of-type {\n",
       "        vertical-align: middle;\n",
       "    }\n",
       "\n",
       "    .dataframe tbody tr th {\n",
       "        vertical-align: top;\n",
       "    }\n",
       "\n",
       "    .dataframe thead th {\n",
       "        text-align: right;\n",
       "    }\n",
       "</style>\n",
       "<table border=\"1\" class=\"dataframe\">\n",
       "  <thead>\n",
       "    <tr style=\"text-align: right;\">\n",
       "      <th></th>\n",
       "      <th>seniority</th>\n",
       "      <th>salary</th>\n",
       "      <th>churn</th>\n",
       "      <th>tenure</th>\n",
       "      <th>employee_headcount</th>\n",
       "      <th>dept_customer_service</th>\n",
       "      <th>dept_data_science</th>\n",
       "      <th>dept_design</th>\n",
       "      <th>dept_engineer</th>\n",
       "      <th>dept_marketing</th>\n",
       "      <th>dept_sales</th>\n",
       "    </tr>\n",
       "  </thead>\n",
       "  <tbody>\n",
       "    <tr>\n",
       "      <th>0</th>\n",
       "      <td>28</td>\n",
       "      <td>89000.0</td>\n",
       "      <td>1</td>\n",
       "      <td>1.602740</td>\n",
       "      <td>532.0</td>\n",
       "      <td>1.0</td>\n",
       "      <td>0.0</td>\n",
       "      <td>0.0</td>\n",
       "      <td>0.0</td>\n",
       "      <td>0.0</td>\n",
       "      <td>0.0</td>\n",
       "    </tr>\n",
       "    <tr>\n",
       "      <th>1</th>\n",
       "      <td>20</td>\n",
       "      <td>183000.0</td>\n",
       "      <td>1</td>\n",
       "      <td>0.931507</td>\n",
       "      <td>523.0</td>\n",
       "      <td>0.0</td>\n",
       "      <td>0.0</td>\n",
       "      <td>0.0</td>\n",
       "      <td>0.0</td>\n",
       "      <td>1.0</td>\n",
       "      <td>0.0</td>\n",
       "    </tr>\n",
       "    <tr>\n",
       "      <th>2</th>\n",
       "      <td>14</td>\n",
       "      <td>101000.0</td>\n",
       "      <td>0</td>\n",
       "      <td>1.167123</td>\n",
       "      <td>909.0</td>\n",
       "      <td>0.0</td>\n",
       "      <td>0.0</td>\n",
       "      <td>0.0</td>\n",
       "      <td>0.0</td>\n",
       "      <td>1.0</td>\n",
       "      <td>0.0</td>\n",
       "    </tr>\n",
       "    <tr>\n",
       "      <th>3</th>\n",
       "      <td>20</td>\n",
       "      <td>115000.0</td>\n",
       "      <td>1</td>\n",
       "      <td>1.065753</td>\n",
       "      <td>468.0</td>\n",
       "      <td>1.0</td>\n",
       "      <td>0.0</td>\n",
       "      <td>0.0</td>\n",
       "      <td>0.0</td>\n",
       "      <td>0.0</td>\n",
       "      <td>0.0</td>\n",
       "    </tr>\n",
       "    <tr>\n",
       "      <th>4</th>\n",
       "      <td>23</td>\n",
       "      <td>276000.0</td>\n",
       "      <td>1</td>\n",
       "      <td>2.849315</td>\n",
       "      <td>1855.0</td>\n",
       "      <td>0.0</td>\n",
       "      <td>1.0</td>\n",
       "      <td>0.0</td>\n",
       "      <td>0.0</td>\n",
       "      <td>0.0</td>\n",
       "      <td>0.0</td>\n",
       "    </tr>\n",
       "  </tbody>\n",
       "</table>\n",
       "</div>"
      ],
      "text/plain": [
       "   seniority    salary  churn    tenure  employee_headcount  \\\n",
       "0         28   89000.0      1  1.602740               532.0   \n",
       "1         20  183000.0      1  0.931507               523.0   \n",
       "2         14  101000.0      0  1.167123               909.0   \n",
       "3         20  115000.0      1  1.065753               468.0   \n",
       "4         23  276000.0      1  2.849315              1855.0   \n",
       "\n",
       "   dept_customer_service  dept_data_science  dept_design  dept_engineer  \\\n",
       "0                    1.0                0.0          0.0            0.0   \n",
       "1                    0.0                0.0          0.0            0.0   \n",
       "2                    0.0                0.0          0.0            0.0   \n",
       "3                    1.0                0.0          0.0            0.0   \n",
       "4                    0.0                1.0          0.0            0.0   \n",
       "\n",
       "   dept_marketing  dept_sales  \n",
       "0             0.0         0.0  \n",
       "1             1.0         0.0  \n",
       "2             1.0         0.0  \n",
       "3             0.0         0.0  \n",
       "4             0.0         0.0  "
      ]
     },
     "execution_count": 192,
     "metadata": {},
     "output_type": "execute_result"
    }
   ],
   "source": [
    "df_dummy.head()"
   ]
  },
  {
   "cell_type": "code",
   "execution_count": 163,
   "id": "56632fd6-d034-4d3a-a84a-e4d031c2d275",
   "metadata": {},
   "outputs": [
    {
     "data": {
      "text/plain": [
       "churn\n",
       "0    11192\n",
       "1    13508\n",
       "Name: churn, dtype: int64"
      ]
     },
     "execution_count": 163,
     "metadata": {},
     "output_type": "execute_result"
    }
   ],
   "source": [
    "df_dummy.groupby('churn')['churn'].count()"
   ]
  },
  {
   "cell_type": "markdown",
   "id": "00cc0380-1fb5-4452-aa11-6c743fbcb0d5",
   "metadata": {},
   "source": [
    "### build RF model"
   ]
  },
  {
   "cell_type": "code",
   "execution_count": null,
   "id": "25ca9689-493b-4ea6-945b-3b963ca8adc7",
   "metadata": {},
   "outputs": [],
   "source": []
  },
  {
   "cell_type": "code",
   "execution_count": 193,
   "id": "e227a890-7ac1-4d28-adef-28f96d4e253f",
   "metadata": {},
   "outputs": [],
   "source": [
    "X_train, X_test, y_train, y_test = train_test_split(df_dummy.drop(columns = ['churn']),df_dummy['churn'], test_size = 0.3,random_state = 42)"
   ]
  },
  {
   "cell_type": "code",
   "execution_count": 194,
   "id": "4761f0c1-bac4-4935-b140-551225a87103",
   "metadata": {},
   "outputs": [],
   "source": [
    "rf = RandomForestClassifier(n_estimators=100, max_features=3, oob_score=True).fit(X_train,y_train)"
   ]
  },
  {
   "cell_type": "code",
   "execution_count": 195,
   "id": "f7232452-dff1-4c6f-92ff-4c89e48fc904",
   "metadata": {},
   "outputs": [
    {
     "data": {
      "text/plain": [
       "0.9165413533834587"
      ]
     },
     "execution_count": 195,
     "metadata": {},
     "output_type": "execute_result"
    }
   ],
   "source": [
    "rf.oob_score_"
   ]
  },
  {
   "cell_type": "code",
   "execution_count": 196,
   "id": "095a8650-8c46-48ed-a1a1-2ae1d416c55f",
   "metadata": {},
   "outputs": [
    {
     "data": {
      "text/html": [
       "<div>\n",
       "<style scoped>\n",
       "    .dataframe tbody tr th:only-of-type {\n",
       "        vertical-align: middle;\n",
       "    }\n",
       "\n",
       "    .dataframe tbody tr th {\n",
       "        vertical-align: top;\n",
       "    }\n",
       "\n",
       "    .dataframe thead th {\n",
       "        text-align: right;\n",
       "    }\n",
       "</style>\n",
       "<table border=\"1\" class=\"dataframe\">\n",
       "  <thead>\n",
       "    <tr style=\"text-align: right;\">\n",
       "      <th></th>\n",
       "      <th>0</th>\n",
       "      <th>1</th>\n",
       "    </tr>\n",
       "  </thead>\n",
       "  <tbody>\n",
       "    <tr>\n",
       "      <th>0</th>\n",
       "      <td>7007</td>\n",
       "      <td>883</td>\n",
       "    </tr>\n",
       "    <tr>\n",
       "      <th>1</th>\n",
       "      <td>560</td>\n",
       "      <td>8840</td>\n",
       "    </tr>\n",
       "  </tbody>\n",
       "</table>\n",
       "</div>"
      ],
      "text/plain": [
       "      0     1\n",
       "0  7007   883\n",
       "1   560  8840"
      ]
     },
     "execution_count": 196,
     "metadata": {},
     "output_type": "execute_result"
    }
   ],
   "source": [
    "pd.DataFrame(confusion_matrix(y_train, rf.oob_decision_function_[:,1].round(), labels=[0, 1]))"
   ]
  },
  {
   "cell_type": "code",
   "execution_count": 197,
   "id": "dd991a58-a7f0-4fdb-ba0b-f11265d3f1c7",
   "metadata": {},
   "outputs": [
    {
     "data": {
      "text/plain": [
       "array([0.83333333, 1.        , 0.97222222, ..., 1.        , 0.86842105,\n",
       "       0.6       ], shape=(17290,))"
      ]
     },
     "execution_count": 197,
     "metadata": {},
     "output_type": "execute_result"
    }
   ],
   "source": [
    "rf.oob_decision_function_[:,1]"
   ]
  },
  {
   "cell_type": "code",
   "execution_count": 198,
   "id": "77400f49-5439-4c1c-a9f0-4a795bad4c3e",
   "metadata": {},
   "outputs": [
    {
     "name": "stdout",
     "output_type": "stream",
     "text": [
      "Test accuracy is 0.9133603238866397 \n",
      " Test Set Confusion Matrix \n",
      "       0     1\n",
      "0  2886   416\n",
      "1   226  3882\n"
     ]
    }
   ],
   "source": [
    "#and let's print test accuracy and confusion matrix\n",
    "print(\n",
    "\"Test accuracy is\", rf.score(X_test,y_test), \n",
    "\"\\n\", \n",
    "\"Test Set Confusion Matrix\", \n",
    "\"\\n\",\n",
    "pd.DataFrame(confusion_matrix(y_test, rf.predict(X_test), labels=[0, 1]))\n",
    ")"
   ]
  },
  {
   "cell_type": "code",
   "execution_count": 199,
   "id": "eba806a4-5771-4bb5-9e25-b58f841b6fe1",
   "metadata": {},
   "outputs": [
    {
     "data": {
      "text/plain": [
       "0.903210795718939"
      ]
     },
     "execution_count": 199,
     "metadata": {},
     "output_type": "execute_result"
    }
   ],
   "source": [
    "3882/(3882+416)"
   ]
  },
  {
   "cell_type": "code",
   "execution_count": 200,
   "id": "43bbc65d-abcf-4b80-bece-01d1fd75bfa5",
   "metadata": {},
   "outputs": [
    {
     "name": "stdout",
     "output_type": "stream",
     "text": [
      "              precision    recall  f1-score   support\n",
      "\n",
      "           0       0.93      0.87      0.90      3302\n",
      "           1       0.90      0.94      0.92      4108\n",
      "\n",
      "    accuracy                           0.91      7410\n",
      "   macro avg       0.92      0.91      0.91      7410\n",
      "weighted avg       0.91      0.91      0.91      7410\n",
      "\n"
     ]
    }
   ],
   "source": [
    "print(classification_report(y_test,rf.predict(X_test)))"
   ]
  },
  {
   "cell_type": "markdown",
   "id": "e5a67923-71de-4742-8b5f-dd09056be2b9",
   "metadata": {},
   "source": [
    "### feature importance"
   ]
  },
  {
   "cell_type": "code",
   "execution_count": 206,
   "id": "8e7b1eab-d205-4fbd-b733-a1198bc5c343",
   "metadata": {},
   "outputs": [
    {
     "data": {
      "image/png": "[encoded data removed]",
      "text/plain": [
       "<Figure size 640x480 with 1 Axes>"
      ]
     },
     "metadata": {},
     "output_type": "display_data"
    }
   ],
   "source": [
    "\n",
    "feat_importances = pd.Series(rf.feature_importances_, index=X_train.columns)\n",
    "feat_importances.sort_values().plot(kind='barh')\n",
    "plt.show()"
   ]
  },
  {
   "cell_type": "code",
   "execution_count": 215,
   "id": "694ba1e2-1ac8-4b04-b4e3-00e3388f4c7e",
   "metadata": {},
   "outputs": [
    {
     "data": {
      "text/plain": [
       "<Axes: xlabel='employee_headcount', ylabel='Count'>"
      ]
     },
     "execution_count": 215,
     "metadata": {},
     "output_type": "execute_result"
    },
    {
     "data": {
      "image/png": "[encoded data removed]",
      "text/plain": [
       "<Figure size 640x480 with 1 Axes>"
      ]
     },
     "metadata": {},
     "output_type": "display_data"
    }
   ],
   "source": [
    "sns.histplot(model_df, x='employee_headcount')"
   ]
  },
  {
   "cell_type": "code",
   "execution_count": 216,
   "id": "4966e6a8-557e-4105-87d7-eff70ae611ca",
   "metadata": {},
   "outputs": [
    {
     "data": {
      "text/plain": [
       "<Axes: xlabel='tenure', ylabel='Count'>"
      ]
     },
     "execution_count": 216,
     "metadata": {},
     "output_type": "execute_result"
    },
    {
     "data": {
      "image/png": "[encoded data removed]",
      "text/plain": [
       "<Figure size 640x480 with 1 Axes>"
      ]
     },
     "metadata": {},
     "output_type": "display_data"
    }
   ],
   "source": [
    "sns.histplot(model_df, x='tenure')"
   ]
  },
  {
   "cell_type": "code",
   "execution_count": 217,
   "id": "d55c5c46-0f48-4067-9852-d6dc566560d8",
   "metadata": {},
   "outputs": [
    {
     "data": {
      "text/plain": [
       "<Axes: xlabel='seniority', ylabel='Count'>"
      ]
     },
     "execution_count": 217,
     "metadata": {},
     "output_type": "execute_result"
    },
    {
     "data": {
      "image/png": "[encoded data removed]",
      "text/plain": [
       "<Figure size 640x480 with 1 Axes>"
      ]
     },
     "metadata": {},
     "output_type": "display_data"
    }
   ],
   "source": [
    "sns.histplot(model_df, x='seniority')"
   ]
  },
  {
   "cell_type": "code",
   "execution_count": 214,
   "id": "53e921fe",
   "metadata": {},
   "outputs": [
    {
     "data": {
      "text/plain": [
       "count    24700.000000\n",
       "mean      1909.088907\n",
       "std       1346.797413\n",
       "min          3.000000\n",
       "25%        693.000000\n",
       "50%       1441.000000\n",
       "75%       3667.000000\n",
       "max       3885.000000\n",
       "Name: employee_headcount, dtype: float64"
      ]
     },
     "execution_count": 214,
     "metadata": {},
     "output_type": "execute_result"
    }
   ],
   "source": [
    "model_df['employee_headcount'].describe()"
   ]
  },
  {
   "cell_type": "code",
   "execution_count": 210,
   "id": "16bbb33c-eca3-467b-a04e-c1b460c01c3c",
   "metadata": {},
   "outputs": [
    {
     "data": {
      "image/png": "[encoded data removed]",
      "text/plain": [
       "<Figure size 640x480 with 2 Axes>"
      ]
     },
     "metadata": {},
     "output_type": "display_data"
    },
    {
     "data": {
      "image/png": "[encoded data removed]",
      "text/plain": [
       "<Figure size 640x480 with 2 Axes>"
      ]
     },
     "metadata": {},
     "output_type": "display_data"
    },
    {
     "data": {
      "image/png": "[encoded data removed]",
      "text/plain": [
       "<Figure size 640x480 with 2 Axes>"
      ]
     },
     "metadata": {},
     "output_type": "display_data"
    },
    {
     "data": {
      "image/png": "[encoded data removed]",
      "text/plain": [
       "<Figure size 640x480 with 2 Axes>"
      ]
     },
     "metadata": {},
     "output_type": "display_data"
    },
    {
     "data": {
      "image/png": "[encoded data removed]",
      "text/plain": [
       "<Figure size 640x480 with 2 Axes>"
      ]
     },
     "metadata": {},
     "output_type": "display_data"
    },
    {
     "data": {
      "image/png": "[encoded data removed]",
      "text/plain": [
       "<Figure size 640x480 with 2 Axes>"
      ]
     },
     "metadata": {},
     "output_type": "display_data"
    },
    {
     "data": {
      "image/png": "[encoded data removed]",
      "text/plain": [
       "<Figure size 640x480 with 2 Axes>"
      ]
     },
     "metadata": {},
     "output_type": "display_data"
    },
    {
     "data": {
      "image/png": "[encoded data removed]",
      "text/plain": [
       "<Figure size 640x480 with 2 Axes>"
      ]
     },
     "metadata": {},
     "output_type": "display_data"
    },
    {
     "data": {
      "image/png": "[encoded data removed]",
      "text/plain": [
       "<Figure size 640x480 with 2 Axes>"
      ]
     },
     "metadata": {},
     "output_type": "display_data"
    },
    {
     "data": {
      "image/png": "[encoded data removed]",
      "text/plain": [
       "<Figure size 640x480 with 2 Axes>"
      ]
     },
     "metadata": {},
     "output_type": "display_data"
    }
   ],
   "source": [
    "i=0\n",
    "while(i<len(feat_importances)):\n",
    "    #plot the results\n",
    "    display = PartialDependenceDisplay.from_estimator(rf, X_train, [i, ])\n",
    "    plt.show()\n",
    "    #closing right after opening for the for loop to work in the markdown\n",
    "    # plt.close()\n",
    "    i=i+1"
   ]
  },
  {
   "cell_type": "code",
   "execution_count": null,
   "id": "54eb4df5-cf81-4220-be20-193206db896d",
   "metadata": {},
   "outputs": [],
   "source": [
    "# seniority: 3 yr of exp, 5-8 yr of experience tend to quit more, after 10 yr of work, their willingness to quit decreases -> \n",
    "# early career ppl tend to move a lot \n",
    "# salary: ppl with 100K-250K salary tend to quit more -> middle salary tend to quit \n",
    "    #  Probably because employees with high salaries are happy there and employees with low salaries are not that marketable, \n",
    "    # so they have a harder time finding a new job. \n",
    "# tenure: ppl w/ ~ 1 yr or 2 yr tenure tend to quit, pp w/ 1.5 yr tenure have least prob of quitting \n",
    "    #you often get stocks/bonus after 1 yr so it makes sense to wait\n",
    "# hc: when company size > 3000, ppl tend to quit more -> big company politics?\n"
   ]
  },
  {
   "cell_type": "markdown",
   "id": "dd2269a6-ad2e-4def-8493-847a510abc56",
   "metadata": {},
   "source": [
    "## If you could add to this data set just one variable that could help explain employee churn, what would that be?"
   ]
  },
  {
   "cell_type": "code",
   "execution_count": null,
   "id": "a90944c0-0d6a-4eb1-80f1-abf9133d4859",
   "metadata": {},
   "outputs": [],
   "source": [
    "# job title for each employee, is it IC or MGR, my hypothesis lower job titles, more willingness to move"
   ]
  }
 ],
 "metadata": {
  "kernelspec": {
   "display_name": "myenv",
   "language": "python",
   "name": "myenv"
  },
  "language_info": {
   "codemirror_mode": {
    "name": "ipython",
    "version": 3
   },
   "file_extension": ".py",
   "mimetype": "text/x-python",
   "name": "python",
   "nbconvert_exporter": "python",
   "pygments_lexer": "ipython3",
   "version": "3.12.4"
  }
 },
 "nbformat": 4,
 "nbformat_minor": 5
}
